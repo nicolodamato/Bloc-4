{
  "nbformat": 4,
  "nbformat_minor": 0,
  "metadata": {
    "colab": {
      "provenance": []
    },
    "kernelspec": {
      "name": "python3",
      "display_name": "Python 3"
    },
    "language_info": {
      "name": "python"
    }
  },
  "cells": [
    {
      "cell_type": "markdown",
      "source": [
        "# Orange SPAM detector\n",
        "\n",
        "One of the main pain point that AT\\&T users are facing is constant exposure to SPAM messages.\n",
        "\n",
        "AT\\&T has been able to manually flag spam messages for a time, but they are looking for an automated way of detecting spams to protect their users.\n",
        "\n",
        "Your goal is to build a spam detector, that can automatically flag spams as they come based sollely on the sms' content.\n",
        "\n",
        "## Summary\n",
        "\n",
        "- PREPROCESSING\n",
        "\n",
        "- MODELS : \n",
        "  - Simple RNN\n",
        "  - GRU\n",
        "  - LSTM\n",
        "\n",
        "- CLASSIFICATION EVALUATION\n",
        "\n",
        "- TRANSFERT LEARNING"
      ],
      "metadata": {
        "id": "Muk3hKo-6hGf"
      }
    },
    {
      "cell_type": "code",
      "execution_count": 33,
      "metadata": {
        "id": "rsGwwLXftUPo"
      },
      "outputs": [],
      "source": [
        "# Import Tensorflow & Pathlib librairies\n",
        "import tensorflow as tf \n",
        "import pathlib \n",
        "import pandas as pd \n",
        "import os\n",
        "import io\n",
        "import warnings\n",
        "warnings.filterwarnings('ignore')"
      ]
    },
    {
      "cell_type": "code",
      "source": [
        "from google.colab import drive\n",
        "drive.mount('/content/drive')"
      ],
      "metadata": {
        "id": "U6WJxIXsxNXU",
        "colab": {
          "base_uri": "https://localhost:8080/"
        },
        "outputId": "841c93df-d6c5-4e46-cbd7-4b0dc3043713"
      },
      "execution_count": 34,
      "outputs": [
        {
          "output_type": "stream",
          "name": "stdout",
          "text": [
            "Drive already mounted at /content/drive; to attempt to forcibly remount, call drive.mount(\"/content/drive\", force_remount=True).\n"
          ]
        }
      ]
    },
    {
      "cell_type": "code",
      "source": [
        "# Import dataset with Pandas \n",
        "dataset = pd.read_csv(\"spam.csv\", error_bad_lines=False, encoding = \"ISO-8859-1\")\n",
        "dataset.head()"
      ],
      "metadata": {
        "colab": {
          "base_uri": "https://localhost:8080/",
          "height": 206
        },
        "id": "JrnSF8C7tiIb",
        "outputId": "50684f7e-53da-4d9d-80f6-d39bad0dd97a"
      },
      "execution_count": 35,
      "outputs": [
        {
          "output_type": "execute_result",
          "data": {
            "text/plain": [
              "     v1                                                 v2 Unnamed: 2  \\\n",
              "0   ham  Go until jurong point, crazy.. Available only ...        NaN   \n",
              "1   ham                      Ok lar... Joking wif u oni...        NaN   \n",
              "2  spam  Free entry in 2 a wkly comp to win FA Cup fina...        NaN   \n",
              "3   ham  U dun say so early hor... U c already then say...        NaN   \n",
              "4   ham  Nah I don't think he goes to usf, he lives aro...        NaN   \n",
              "\n",
              "  Unnamed: 3 Unnamed: 4  \n",
              "0        NaN        NaN  \n",
              "1        NaN        NaN  \n",
              "2        NaN        NaN  \n",
              "3        NaN        NaN  \n",
              "4        NaN        NaN  "
            ],
            "text/html": [
              "\n",
              "  <div id=\"df-cebaf36a-5369-4917-9c10-36837e840a47\">\n",
              "    <div class=\"colab-df-container\">\n",
              "      <div>\n",
              "<style scoped>\n",
              "    .dataframe tbody tr th:only-of-type {\n",
              "        vertical-align: middle;\n",
              "    }\n",
              "\n",
              "    .dataframe tbody tr th {\n",
              "        vertical-align: top;\n",
              "    }\n",
              "\n",
              "    .dataframe thead th {\n",
              "        text-align: right;\n",
              "    }\n",
              "</style>\n",
              "<table border=\"1\" class=\"dataframe\">\n",
              "  <thead>\n",
              "    <tr style=\"text-align: right;\">\n",
              "      <th></th>\n",
              "      <th>v1</th>\n",
              "      <th>v2</th>\n",
              "      <th>Unnamed: 2</th>\n",
              "      <th>Unnamed: 3</th>\n",
              "      <th>Unnamed: 4</th>\n",
              "    </tr>\n",
              "  </thead>\n",
              "  <tbody>\n",
              "    <tr>\n",
              "      <th>0</th>\n",
              "      <td>ham</td>\n",
              "      <td>Go until jurong point, crazy.. Available only ...</td>\n",
              "      <td>NaN</td>\n",
              "      <td>NaN</td>\n",
              "      <td>NaN</td>\n",
              "    </tr>\n",
              "    <tr>\n",
              "      <th>1</th>\n",
              "      <td>ham</td>\n",
              "      <td>Ok lar... Joking wif u oni...</td>\n",
              "      <td>NaN</td>\n",
              "      <td>NaN</td>\n",
              "      <td>NaN</td>\n",
              "    </tr>\n",
              "    <tr>\n",
              "      <th>2</th>\n",
              "      <td>spam</td>\n",
              "      <td>Free entry in 2 a wkly comp to win FA Cup fina...</td>\n",
              "      <td>NaN</td>\n",
              "      <td>NaN</td>\n",
              "      <td>NaN</td>\n",
              "    </tr>\n",
              "    <tr>\n",
              "      <th>3</th>\n",
              "      <td>ham</td>\n",
              "      <td>U dun say so early hor... U c already then say...</td>\n",
              "      <td>NaN</td>\n",
              "      <td>NaN</td>\n",
              "      <td>NaN</td>\n",
              "    </tr>\n",
              "    <tr>\n",
              "      <th>4</th>\n",
              "      <td>ham</td>\n",
              "      <td>Nah I don't think he goes to usf, he lives aro...</td>\n",
              "      <td>NaN</td>\n",
              "      <td>NaN</td>\n",
              "      <td>NaN</td>\n",
              "    </tr>\n",
              "  </tbody>\n",
              "</table>\n",
              "</div>\n",
              "      <button class=\"colab-df-convert\" onclick=\"convertToInteractive('df-cebaf36a-5369-4917-9c10-36837e840a47')\"\n",
              "              title=\"Convert this dataframe to an interactive table.\"\n",
              "              style=\"display:none;\">\n",
              "        \n",
              "  <svg xmlns=\"http://www.w3.org/2000/svg\" height=\"24px\"viewBox=\"0 0 24 24\"\n",
              "       width=\"24px\">\n",
              "    <path d=\"M0 0h24v24H0V0z\" fill=\"none\"/>\n",
              "    <path d=\"M18.56 5.44l.94 2.06.94-2.06 2.06-.94-2.06-.94-.94-2.06-.94 2.06-2.06.94zm-11 1L8.5 8.5l.94-2.06 2.06-.94-2.06-.94L8.5 2.5l-.94 2.06-2.06.94zm10 10l.94 2.06.94-2.06 2.06-.94-2.06-.94-.94-2.06-.94 2.06-2.06.94z\"/><path d=\"M17.41 7.96l-1.37-1.37c-.4-.4-.92-.59-1.43-.59-.52 0-1.04.2-1.43.59L10.3 9.45l-7.72 7.72c-.78.78-.78 2.05 0 2.83L4 21.41c.39.39.9.59 1.41.59.51 0 1.02-.2 1.41-.59l7.78-7.78 2.81-2.81c.8-.78.8-2.07 0-2.86zM5.41 20L4 18.59l7.72-7.72 1.47 1.35L5.41 20z\"/>\n",
              "  </svg>\n",
              "      </button>\n",
              "      \n",
              "  <style>\n",
              "    .colab-df-container {\n",
              "      display:flex;\n",
              "      flex-wrap:wrap;\n",
              "      gap: 12px;\n",
              "    }\n",
              "\n",
              "    .colab-df-convert {\n",
              "      background-color: #E8F0FE;\n",
              "      border: none;\n",
              "      border-radius: 50%;\n",
              "      cursor: pointer;\n",
              "      display: none;\n",
              "      fill: #1967D2;\n",
              "      height: 32px;\n",
              "      padding: 0 0 0 0;\n",
              "      width: 32px;\n",
              "    }\n",
              "\n",
              "    .colab-df-convert:hover {\n",
              "      background-color: #E2EBFA;\n",
              "      box-shadow: 0px 1px 2px rgba(60, 64, 67, 0.3), 0px 1px 3px 1px rgba(60, 64, 67, 0.15);\n",
              "      fill: #174EA6;\n",
              "    }\n",
              "\n",
              "    [theme=dark] .colab-df-convert {\n",
              "      background-color: #3B4455;\n",
              "      fill: #D2E3FC;\n",
              "    }\n",
              "\n",
              "    [theme=dark] .colab-df-convert:hover {\n",
              "      background-color: #434B5C;\n",
              "      box-shadow: 0px 1px 3px 1px rgba(0, 0, 0, 0.15);\n",
              "      filter: drop-shadow(0px 1px 2px rgba(0, 0, 0, 0.3));\n",
              "      fill: #FFFFFF;\n",
              "    }\n",
              "  </style>\n",
              "\n",
              "      <script>\n",
              "        const buttonEl =\n",
              "          document.querySelector('#df-cebaf36a-5369-4917-9c10-36837e840a47 button.colab-df-convert');\n",
              "        buttonEl.style.display =\n",
              "          google.colab.kernel.accessAllowed ? 'block' : 'none';\n",
              "\n",
              "        async function convertToInteractive(key) {\n",
              "          const element = document.querySelector('#df-cebaf36a-5369-4917-9c10-36837e840a47');\n",
              "          const dataTable =\n",
              "            await google.colab.kernel.invokeFunction('convertToInteractive',\n",
              "                                                     [key], {});\n",
              "          if (!dataTable) return;\n",
              "\n",
              "          const docLinkHtml = 'Like what you see? Visit the ' +\n",
              "            '<a target=\"_blank\" href=https://colab.research.google.com/notebooks/data_table.ipynb>data table notebook</a>'\n",
              "            + ' to learn more about interactive tables.';\n",
              "          element.innerHTML = '';\n",
              "          dataTable['output_type'] = 'display_data';\n",
              "          await google.colab.output.renderOutput(dataTable, element);\n",
              "          const docLink = document.createElement('div');\n",
              "          docLink.innerHTML = docLinkHtml;\n",
              "          element.appendChild(docLink);\n",
              "        }\n",
              "      </script>\n",
              "    </div>\n",
              "  </div>\n",
              "  "
            ]
          },
          "metadata": {},
          "execution_count": 35
        }
      ]
    },
    {
      "cell_type": "code",
      "source": [
        "# Show the total number of rows, the dataset description and the number of missing values\n",
        "\n",
        "print(\"Number of rows : {}\".format(dataset.shape[0]))\n",
        "print()\n",
        "\n",
        "print(\"Percentage of missing values: \")\n",
        "display(100*dataset.isnull().sum()/dataset.shape[0])\n",
        "\n",
        "dataset.describe(include=\"all\")"
      ],
      "metadata": {
        "id": "HpYS-oC46XRH",
        "colab": {
          "base_uri": "https://localhost:8080/",
          "height": 331
        },
        "outputId": "42635545-06d8-4d00-bf36-3a888ad6d42d"
      },
      "execution_count": 36,
      "outputs": [
        {
          "output_type": "stream",
          "name": "stdout",
          "text": [
            "Number of rows : 5572\n",
            "\n",
            "Percentage of missing values: \n"
          ]
        },
        {
          "output_type": "display_data",
          "data": {
            "text/plain": [
              "v1             0.000000\n",
              "v2             0.000000\n",
              "Unnamed: 2    99.102656\n",
              "Unnamed: 3    99.784637\n",
              "Unnamed: 4    99.892319\n",
              "dtype: float64"
            ]
          },
          "metadata": {}
        },
        {
          "output_type": "execute_result",
          "data": {
            "text/plain": [
              "          v1                      v2  \\\n",
              "count   5572                    5572   \n",
              "unique     2                    5169   \n",
              "top      ham  Sorry, I'll call later   \n",
              "freq    4825                      30   \n",
              "\n",
              "                                               Unnamed: 2  \\\n",
              "count                                                  50   \n",
              "unique                                                 43   \n",
              "top      bt not his girlfrnd... G o o d n i g h t . . .@\"   \n",
              "freq                                                    3   \n",
              "\n",
              "                   Unnamed: 3 Unnamed: 4  \n",
              "count                      12          6  \n",
              "unique                     10          5  \n",
              "top      MK17 92H. 450Ppw 16\"    GNT:-)\"  \n",
              "freq                        2          2  "
            ],
            "text/html": [
              "\n",
              "  <div id=\"df-52f0e595-c5a0-47a4-8a7e-5e809628c2e9\">\n",
              "    <div class=\"colab-df-container\">\n",
              "      <div>\n",
              "<style scoped>\n",
              "    .dataframe tbody tr th:only-of-type {\n",
              "        vertical-align: middle;\n",
              "    }\n",
              "\n",
              "    .dataframe tbody tr th {\n",
              "        vertical-align: top;\n",
              "    }\n",
              "\n",
              "    .dataframe thead th {\n",
              "        text-align: right;\n",
              "    }\n",
              "</style>\n",
              "<table border=\"1\" class=\"dataframe\">\n",
              "  <thead>\n",
              "    <tr style=\"text-align: right;\">\n",
              "      <th></th>\n",
              "      <th>v1</th>\n",
              "      <th>v2</th>\n",
              "      <th>Unnamed: 2</th>\n",
              "      <th>Unnamed: 3</th>\n",
              "      <th>Unnamed: 4</th>\n",
              "    </tr>\n",
              "  </thead>\n",
              "  <tbody>\n",
              "    <tr>\n",
              "      <th>count</th>\n",
              "      <td>5572</td>\n",
              "      <td>5572</td>\n",
              "      <td>50</td>\n",
              "      <td>12</td>\n",
              "      <td>6</td>\n",
              "    </tr>\n",
              "    <tr>\n",
              "      <th>unique</th>\n",
              "      <td>2</td>\n",
              "      <td>5169</td>\n",
              "      <td>43</td>\n",
              "      <td>10</td>\n",
              "      <td>5</td>\n",
              "    </tr>\n",
              "    <tr>\n",
              "      <th>top</th>\n",
              "      <td>ham</td>\n",
              "      <td>Sorry, I'll call later</td>\n",
              "      <td>bt not his girlfrnd... G o o d n i g h t . . .@\"</td>\n",
              "      <td>MK17 92H. 450Ppw 16\"</td>\n",
              "      <td>GNT:-)\"</td>\n",
              "    </tr>\n",
              "    <tr>\n",
              "      <th>freq</th>\n",
              "      <td>4825</td>\n",
              "      <td>30</td>\n",
              "      <td>3</td>\n",
              "      <td>2</td>\n",
              "      <td>2</td>\n",
              "    </tr>\n",
              "  </tbody>\n",
              "</table>\n",
              "</div>\n",
              "      <button class=\"colab-df-convert\" onclick=\"convertToInteractive('df-52f0e595-c5a0-47a4-8a7e-5e809628c2e9')\"\n",
              "              title=\"Convert this dataframe to an interactive table.\"\n",
              "              style=\"display:none;\">\n",
              "        \n",
              "  <svg xmlns=\"http://www.w3.org/2000/svg\" height=\"24px\"viewBox=\"0 0 24 24\"\n",
              "       width=\"24px\">\n",
              "    <path d=\"M0 0h24v24H0V0z\" fill=\"none\"/>\n",
              "    <path d=\"M18.56 5.44l.94 2.06.94-2.06 2.06-.94-2.06-.94-.94-2.06-.94 2.06-2.06.94zm-11 1L8.5 8.5l.94-2.06 2.06-.94-2.06-.94L8.5 2.5l-.94 2.06-2.06.94zm10 10l.94 2.06.94-2.06 2.06-.94-2.06-.94-.94-2.06-.94 2.06-2.06.94z\"/><path d=\"M17.41 7.96l-1.37-1.37c-.4-.4-.92-.59-1.43-.59-.52 0-1.04.2-1.43.59L10.3 9.45l-7.72 7.72c-.78.78-.78 2.05 0 2.83L4 21.41c.39.39.9.59 1.41.59.51 0 1.02-.2 1.41-.59l7.78-7.78 2.81-2.81c.8-.78.8-2.07 0-2.86zM5.41 20L4 18.59l7.72-7.72 1.47 1.35L5.41 20z\"/>\n",
              "  </svg>\n",
              "      </button>\n",
              "      \n",
              "  <style>\n",
              "    .colab-df-container {\n",
              "      display:flex;\n",
              "      flex-wrap:wrap;\n",
              "      gap: 12px;\n",
              "    }\n",
              "\n",
              "    .colab-df-convert {\n",
              "      background-color: #E8F0FE;\n",
              "      border: none;\n",
              "      border-radius: 50%;\n",
              "      cursor: pointer;\n",
              "      display: none;\n",
              "      fill: #1967D2;\n",
              "      height: 32px;\n",
              "      padding: 0 0 0 0;\n",
              "      width: 32px;\n",
              "    }\n",
              "\n",
              "    .colab-df-convert:hover {\n",
              "      background-color: #E2EBFA;\n",
              "      box-shadow: 0px 1px 2px rgba(60, 64, 67, 0.3), 0px 1px 3px 1px rgba(60, 64, 67, 0.15);\n",
              "      fill: #174EA6;\n",
              "    }\n",
              "\n",
              "    [theme=dark] .colab-df-convert {\n",
              "      background-color: #3B4455;\n",
              "      fill: #D2E3FC;\n",
              "    }\n",
              "\n",
              "    [theme=dark] .colab-df-convert:hover {\n",
              "      background-color: #434B5C;\n",
              "      box-shadow: 0px 1px 3px 1px rgba(0, 0, 0, 0.15);\n",
              "      filter: drop-shadow(0px 1px 2px rgba(0, 0, 0, 0.3));\n",
              "      fill: #FFFFFF;\n",
              "    }\n",
              "  </style>\n",
              "\n",
              "      <script>\n",
              "        const buttonEl =\n",
              "          document.querySelector('#df-52f0e595-c5a0-47a4-8a7e-5e809628c2e9 button.colab-df-convert');\n",
              "        buttonEl.style.display =\n",
              "          google.colab.kernel.accessAllowed ? 'block' : 'none';\n",
              "\n",
              "        async function convertToInteractive(key) {\n",
              "          const element = document.querySelector('#df-52f0e595-c5a0-47a4-8a7e-5e809628c2e9');\n",
              "          const dataTable =\n",
              "            await google.colab.kernel.invokeFunction('convertToInteractive',\n",
              "                                                     [key], {});\n",
              "          if (!dataTable) return;\n",
              "\n",
              "          const docLinkHtml = 'Like what you see? Visit the ' +\n",
              "            '<a target=\"_blank\" href=https://colab.research.google.com/notebooks/data_table.ipynb>data table notebook</a>'\n",
              "            + ' to learn more about interactive tables.';\n",
              "          element.innerHTML = '';\n",
              "          dataTable['output_type'] = 'display_data';\n",
              "          await google.colab.output.renderOutput(dataTable, element);\n",
              "          const docLink = document.createElement('div');\n",
              "          docLink.innerHTML = docLinkHtml;\n",
              "          element.appendChild(docLink);\n",
              "        }\n",
              "      </script>\n",
              "    </div>\n",
              "  </div>\n",
              "  "
            ]
          },
          "metadata": {},
          "execution_count": 36
        }
      ]
    },
    {
      "cell_type": "code",
      "source": [
        "# show the distribution between the classes to predict\n",
        "dataset.v1.groupby(dataset.v1).count()"
      ],
      "metadata": {
        "id": "QqQqvGYbGSEk",
        "colab": {
          "base_uri": "https://localhost:8080/"
        },
        "outputId": "f1816963-b757-4df7-a3f8-3245003bded3"
      },
      "execution_count": 37,
      "outputs": [
        {
          "output_type": "execute_result",
          "data": {
            "text/plain": [
              "v1\n",
              "ham     4825\n",
              "spam     747\n",
              "Name: v1, dtype: int64"
            ]
          },
          "metadata": {},
          "execution_count": 37
        }
      ]
    },
    {
      "cell_type": "code",
      "source": [
        "# Let's take the columns we're interested in\n",
        "dataset = dataset.loc[:,[\"v1\", \"v2\"]]\n",
        "dataset.head()"
      ],
      "metadata": {
        "id": "rut0wDhL3vKA",
        "colab": {
          "base_uri": "https://localhost:8080/",
          "height": 206
        },
        "outputId": "c3605e18-64e4-4b31-b372-971de25f7e8d"
      },
      "execution_count": 38,
      "outputs": [
        {
          "output_type": "execute_result",
          "data": {
            "text/plain": [
              "     v1                                                 v2\n",
              "0   ham  Go until jurong point, crazy.. Available only ...\n",
              "1   ham                      Ok lar... Joking wif u oni...\n",
              "2  spam  Free entry in 2 a wkly comp to win FA Cup fina...\n",
              "3   ham  U dun say so early hor... U c already then say...\n",
              "4   ham  Nah I don't think he goes to usf, he lives aro..."
            ],
            "text/html": [
              "\n",
              "  <div id=\"df-2229edae-83aa-4b68-a81f-79f96fa53368\">\n",
              "    <div class=\"colab-df-container\">\n",
              "      <div>\n",
              "<style scoped>\n",
              "    .dataframe tbody tr th:only-of-type {\n",
              "        vertical-align: middle;\n",
              "    }\n",
              "\n",
              "    .dataframe tbody tr th {\n",
              "        vertical-align: top;\n",
              "    }\n",
              "\n",
              "    .dataframe thead th {\n",
              "        text-align: right;\n",
              "    }\n",
              "</style>\n",
              "<table border=\"1\" class=\"dataframe\">\n",
              "  <thead>\n",
              "    <tr style=\"text-align: right;\">\n",
              "      <th></th>\n",
              "      <th>v1</th>\n",
              "      <th>v2</th>\n",
              "    </tr>\n",
              "  </thead>\n",
              "  <tbody>\n",
              "    <tr>\n",
              "      <th>0</th>\n",
              "      <td>ham</td>\n",
              "      <td>Go until jurong point, crazy.. Available only ...</td>\n",
              "    </tr>\n",
              "    <tr>\n",
              "      <th>1</th>\n",
              "      <td>ham</td>\n",
              "      <td>Ok lar... Joking wif u oni...</td>\n",
              "    </tr>\n",
              "    <tr>\n",
              "      <th>2</th>\n",
              "      <td>spam</td>\n",
              "      <td>Free entry in 2 a wkly comp to win FA Cup fina...</td>\n",
              "    </tr>\n",
              "    <tr>\n",
              "      <th>3</th>\n",
              "      <td>ham</td>\n",
              "      <td>U dun say so early hor... U c already then say...</td>\n",
              "    </tr>\n",
              "    <tr>\n",
              "      <th>4</th>\n",
              "      <td>ham</td>\n",
              "      <td>Nah I don't think he goes to usf, he lives aro...</td>\n",
              "    </tr>\n",
              "  </tbody>\n",
              "</table>\n",
              "</div>\n",
              "      <button class=\"colab-df-convert\" onclick=\"convertToInteractive('df-2229edae-83aa-4b68-a81f-79f96fa53368')\"\n",
              "              title=\"Convert this dataframe to an interactive table.\"\n",
              "              style=\"display:none;\">\n",
              "        \n",
              "  <svg xmlns=\"http://www.w3.org/2000/svg\" height=\"24px\"viewBox=\"0 0 24 24\"\n",
              "       width=\"24px\">\n",
              "    <path d=\"M0 0h24v24H0V0z\" fill=\"none\"/>\n",
              "    <path d=\"M18.56 5.44l.94 2.06.94-2.06 2.06-.94-2.06-.94-.94-2.06-.94 2.06-2.06.94zm-11 1L8.5 8.5l.94-2.06 2.06-.94-2.06-.94L8.5 2.5l-.94 2.06-2.06.94zm10 10l.94 2.06.94-2.06 2.06-.94-2.06-.94-.94-2.06-.94 2.06-2.06.94z\"/><path d=\"M17.41 7.96l-1.37-1.37c-.4-.4-.92-.59-1.43-.59-.52 0-1.04.2-1.43.59L10.3 9.45l-7.72 7.72c-.78.78-.78 2.05 0 2.83L4 21.41c.39.39.9.59 1.41.59.51 0 1.02-.2 1.41-.59l7.78-7.78 2.81-2.81c.8-.78.8-2.07 0-2.86zM5.41 20L4 18.59l7.72-7.72 1.47 1.35L5.41 20z\"/>\n",
              "  </svg>\n",
              "      </button>\n",
              "      \n",
              "  <style>\n",
              "    .colab-df-container {\n",
              "      display:flex;\n",
              "      flex-wrap:wrap;\n",
              "      gap: 12px;\n",
              "    }\n",
              "\n",
              "    .colab-df-convert {\n",
              "      background-color: #E8F0FE;\n",
              "      border: none;\n",
              "      border-radius: 50%;\n",
              "      cursor: pointer;\n",
              "      display: none;\n",
              "      fill: #1967D2;\n",
              "      height: 32px;\n",
              "      padding: 0 0 0 0;\n",
              "      width: 32px;\n",
              "    }\n",
              "\n",
              "    .colab-df-convert:hover {\n",
              "      background-color: #E2EBFA;\n",
              "      box-shadow: 0px 1px 2px rgba(60, 64, 67, 0.3), 0px 1px 3px 1px rgba(60, 64, 67, 0.15);\n",
              "      fill: #174EA6;\n",
              "    }\n",
              "\n",
              "    [theme=dark] .colab-df-convert {\n",
              "      background-color: #3B4455;\n",
              "      fill: #D2E3FC;\n",
              "    }\n",
              "\n",
              "    [theme=dark] .colab-df-convert:hover {\n",
              "      background-color: #434B5C;\n",
              "      box-shadow: 0px 1px 3px 1px rgba(0, 0, 0, 0.15);\n",
              "      filter: drop-shadow(0px 1px 2px rgba(0, 0, 0, 0.3));\n",
              "      fill: #FFFFFF;\n",
              "    }\n",
              "  </style>\n",
              "\n",
              "      <script>\n",
              "        const buttonEl =\n",
              "          document.querySelector('#df-2229edae-83aa-4b68-a81f-79f96fa53368 button.colab-df-convert');\n",
              "        buttonEl.style.display =\n",
              "          google.colab.kernel.accessAllowed ? 'block' : 'none';\n",
              "\n",
              "        async function convertToInteractive(key) {\n",
              "          const element = document.querySelector('#df-2229edae-83aa-4b68-a81f-79f96fa53368');\n",
              "          const dataTable =\n",
              "            await google.colab.kernel.invokeFunction('convertToInteractive',\n",
              "                                                     [key], {});\n",
              "          if (!dataTable) return;\n",
              "\n",
              "          const docLinkHtml = 'Like what you see? Visit the ' +\n",
              "            '<a target=\"_blank\" href=https://colab.research.google.com/notebooks/data_table.ipynb>data table notebook</a>'\n",
              "            + ' to learn more about interactive tables.';\n",
              "          element.innerHTML = '';\n",
              "          dataTable['output_type'] = 'display_data';\n",
              "          await google.colab.output.renderOutput(dataTable, element);\n",
              "          const docLink = document.createElement('div');\n",
              "          docLink.innerHTML = docLinkHtml;\n",
              "          element.appendChild(docLink);\n",
              "        }\n",
              "      </script>\n",
              "    </div>\n",
              "  </div>\n",
              "  "
            ]
          },
          "metadata": {},
          "execution_count": 38
        }
      ]
    },
    {
      "cell_type": "code",
      "source": [
        "# transform target names in numerical classes\n",
        "dataset['v1_transformed'] = dataset.v1.apply(lambda x : 0 if x == 'ham' else 1)\n",
        "dataset.head()"
      ],
      "metadata": {
        "id": "IbVpgWajECHi",
        "colab": {
          "base_uri": "https://localhost:8080/",
          "height": 206
        },
        "outputId": "8516d2d6-5474-4aec-8cb0-3fce04484859"
      },
      "execution_count": 39,
      "outputs": [
        {
          "output_type": "execute_result",
          "data": {
            "text/plain": [
              "     v1                                                 v2  v1_transformed\n",
              "0   ham  Go until jurong point, crazy.. Available only ...               0\n",
              "1   ham                      Ok lar... Joking wif u oni...               0\n",
              "2  spam  Free entry in 2 a wkly comp to win FA Cup fina...               1\n",
              "3   ham  U dun say so early hor... U c already then say...               0\n",
              "4   ham  Nah I don't think he goes to usf, he lives aro...               0"
            ],
            "text/html": [
              "\n",
              "  <div id=\"df-a2c7d5ce-f249-4ee2-aa11-ed250efd8342\">\n",
              "    <div class=\"colab-df-container\">\n",
              "      <div>\n",
              "<style scoped>\n",
              "    .dataframe tbody tr th:only-of-type {\n",
              "        vertical-align: middle;\n",
              "    }\n",
              "\n",
              "    .dataframe tbody tr th {\n",
              "        vertical-align: top;\n",
              "    }\n",
              "\n",
              "    .dataframe thead th {\n",
              "        text-align: right;\n",
              "    }\n",
              "</style>\n",
              "<table border=\"1\" class=\"dataframe\">\n",
              "  <thead>\n",
              "    <tr style=\"text-align: right;\">\n",
              "      <th></th>\n",
              "      <th>v1</th>\n",
              "      <th>v2</th>\n",
              "      <th>v1_transformed</th>\n",
              "    </tr>\n",
              "  </thead>\n",
              "  <tbody>\n",
              "    <tr>\n",
              "      <th>0</th>\n",
              "      <td>ham</td>\n",
              "      <td>Go until jurong point, crazy.. Available only ...</td>\n",
              "      <td>0</td>\n",
              "    </tr>\n",
              "    <tr>\n",
              "      <th>1</th>\n",
              "      <td>ham</td>\n",
              "      <td>Ok lar... Joking wif u oni...</td>\n",
              "      <td>0</td>\n",
              "    </tr>\n",
              "    <tr>\n",
              "      <th>2</th>\n",
              "      <td>spam</td>\n",
              "      <td>Free entry in 2 a wkly comp to win FA Cup fina...</td>\n",
              "      <td>1</td>\n",
              "    </tr>\n",
              "    <tr>\n",
              "      <th>3</th>\n",
              "      <td>ham</td>\n",
              "      <td>U dun say so early hor... U c already then say...</td>\n",
              "      <td>0</td>\n",
              "    </tr>\n",
              "    <tr>\n",
              "      <th>4</th>\n",
              "      <td>ham</td>\n",
              "      <td>Nah I don't think he goes to usf, he lives aro...</td>\n",
              "      <td>0</td>\n",
              "    </tr>\n",
              "  </tbody>\n",
              "</table>\n",
              "</div>\n",
              "      <button class=\"colab-df-convert\" onclick=\"convertToInteractive('df-a2c7d5ce-f249-4ee2-aa11-ed250efd8342')\"\n",
              "              title=\"Convert this dataframe to an interactive table.\"\n",
              "              style=\"display:none;\">\n",
              "        \n",
              "  <svg xmlns=\"http://www.w3.org/2000/svg\" height=\"24px\"viewBox=\"0 0 24 24\"\n",
              "       width=\"24px\">\n",
              "    <path d=\"M0 0h24v24H0V0z\" fill=\"none\"/>\n",
              "    <path d=\"M18.56 5.44l.94 2.06.94-2.06 2.06-.94-2.06-.94-.94-2.06-.94 2.06-2.06.94zm-11 1L8.5 8.5l.94-2.06 2.06-.94-2.06-.94L8.5 2.5l-.94 2.06-2.06.94zm10 10l.94 2.06.94-2.06 2.06-.94-2.06-.94-.94-2.06-.94 2.06-2.06.94z\"/><path d=\"M17.41 7.96l-1.37-1.37c-.4-.4-.92-.59-1.43-.59-.52 0-1.04.2-1.43.59L10.3 9.45l-7.72 7.72c-.78.78-.78 2.05 0 2.83L4 21.41c.39.39.9.59 1.41.59.51 0 1.02-.2 1.41-.59l7.78-7.78 2.81-2.81c.8-.78.8-2.07 0-2.86zM5.41 20L4 18.59l7.72-7.72 1.47 1.35L5.41 20z\"/>\n",
              "  </svg>\n",
              "      </button>\n",
              "      \n",
              "  <style>\n",
              "    .colab-df-container {\n",
              "      display:flex;\n",
              "      flex-wrap:wrap;\n",
              "      gap: 12px;\n",
              "    }\n",
              "\n",
              "    .colab-df-convert {\n",
              "      background-color: #E8F0FE;\n",
              "      border: none;\n",
              "      border-radius: 50%;\n",
              "      cursor: pointer;\n",
              "      display: none;\n",
              "      fill: #1967D2;\n",
              "      height: 32px;\n",
              "      padding: 0 0 0 0;\n",
              "      width: 32px;\n",
              "    }\n",
              "\n",
              "    .colab-df-convert:hover {\n",
              "      background-color: #E2EBFA;\n",
              "      box-shadow: 0px 1px 2px rgba(60, 64, 67, 0.3), 0px 1px 3px 1px rgba(60, 64, 67, 0.15);\n",
              "      fill: #174EA6;\n",
              "    }\n",
              "\n",
              "    [theme=dark] .colab-df-convert {\n",
              "      background-color: #3B4455;\n",
              "      fill: #D2E3FC;\n",
              "    }\n",
              "\n",
              "    [theme=dark] .colab-df-convert:hover {\n",
              "      background-color: #434B5C;\n",
              "      box-shadow: 0px 1px 3px 1px rgba(0, 0, 0, 0.15);\n",
              "      filter: drop-shadow(0px 1px 2px rgba(0, 0, 0, 0.3));\n",
              "      fill: #FFFFFF;\n",
              "    }\n",
              "  </style>\n",
              "\n",
              "      <script>\n",
              "        const buttonEl =\n",
              "          document.querySelector('#df-a2c7d5ce-f249-4ee2-aa11-ed250efd8342 button.colab-df-convert');\n",
              "        buttonEl.style.display =\n",
              "          google.colab.kernel.accessAllowed ? 'block' : 'none';\n",
              "\n",
              "        async function convertToInteractive(key) {\n",
              "          const element = document.querySelector('#df-a2c7d5ce-f249-4ee2-aa11-ed250efd8342');\n",
              "          const dataTable =\n",
              "            await google.colab.kernel.invokeFunction('convertToInteractive',\n",
              "                                                     [key], {});\n",
              "          if (!dataTable) return;\n",
              "\n",
              "          const docLinkHtml = 'Like what you see? Visit the ' +\n",
              "            '<a target=\"_blank\" href=https://colab.research.google.com/notebooks/data_table.ipynb>data table notebook</a>'\n",
              "            + ' to learn more about interactive tables.';\n",
              "          element.innerHTML = '';\n",
              "          dataTable['output_type'] = 'display_data';\n",
              "          await google.colab.output.renderOutput(dataTable, element);\n",
              "          const docLink = document.createElement('div');\n",
              "          docLink.innerHTML = docLinkHtml;\n",
              "          element.appendChild(docLink);\n",
              "        }\n",
              "      </script>\n",
              "    </div>\n",
              "  </div>\n",
              "  "
            ]
          },
          "metadata": {},
          "execution_count": 39
        }
      ]
    },
    {
      "cell_type": "code",
      "source": [
        "# download all language elements related to the English language\n",
        "!python -m spacy download en_core_web_sm -q"
      ],
      "metadata": {
        "id": "EsEBpbsu7DjL",
        "colab": {
          "base_uri": "https://localhost:8080/"
        },
        "outputId": "22919fe6-4e51-43e3-8335-9e174677ae82"
      },
      "execution_count": 40,
      "outputs": [
        {
          "output_type": "stream",
          "name": "stdout",
          "text": [
            "/usr/local/lib/python3.8/dist-packages/torch/cuda/__init__.py:497: UserWarning: Can't initialize NVML\n",
            "  warnings.warn(\"Can't initialize NVML\")\n",
            "2023-01-14 09:57:59.108696: E tensorflow/stream_executor/cuda/cuda_driver.cc:271] failed call to cuInit: CUDA_ERROR_NO_DEVICE: no CUDA-capable device is detected\n",
            "\u001b[2K     \u001b[90m━━━━━━━━━━━━━━━━━━━━━━━━━━━━━━━━━━━━━━━━\u001b[0m \u001b[32m12.8/12.8 MB\u001b[0m \u001b[31m78.3 MB/s\u001b[0m eta \u001b[36m0:00:00\u001b[0m\n",
            "\u001b[?25h\u001b[38;5;2m✔ Download and installation successful\u001b[0m\n",
            "You can now load the package via spacy.load('en_core_web_sm')\n"
          ]
        }
      ]
    },
    {
      "cell_type": "code",
      "source": [
        "# Import Spacy and english initialisation\n",
        "import en_core_web_sm\n",
        "nlp = en_core_web_sm.load()"
      ],
      "metadata": {
        "id": "WPPp2Y6N9C_B"
      },
      "execution_count": 41,
      "outputs": []
    },
    {
      "cell_type": "code",
      "source": [
        "# Import Stop words to remove useless words\n",
        "from spacy.lang.en.stop_words import STOP_WORDS"
      ],
      "metadata": {
        "id": "n4wGRJgm-6qV"
      },
      "execution_count": 42,
      "outputs": []
    },
    {
      "cell_type": "code",
      "source": [
        "# use the command str.isalnum to remove all characters from strings that aren't alphanumeric, except for whitespaces \n",
        "dataset[\"v2_clean\"] = dataset[\"v2\"].apply(lambda x:''.join(ch for ch in x if ch.isalnum() or ch==\" \"))\n",
        "\n",
        "# use str.replace, str.lower and str.strip to replace double whitespaces with single whitespaces, convert all characters to lowercase and trim starting and finishing whitespaces.\n",
        "dataset[\"v2_clean\"] = dataset[\"v2_clean\"].apply(lambda x: x.replace(\" +\",\" \").lower().strip())\n",
        "\n",
        "# use spacy to replace all tokens in your texts with lemma_ and remove all the stop words.\n",
        "dataset[\"v2_clean\"] = dataset[\"v2_clean\"].apply(lambda x: \" \".join([token.lemma_ for token in nlp(x) if (token.lemma_ not in STOP_WORDS) & (token.text not in STOP_WORDS)]))\n",
        "\n",
        "dataset.head()\n"
      ],
      "metadata": {
        "id": "Oz7EG4Sv_IG_",
        "colab": {
          "base_uri": "https://localhost:8080/",
          "height": 250
        },
        "outputId": "10c479d0-ff10-4812-8433-fbb93f731677"
      },
      "execution_count": 43,
      "outputs": [
        {
          "output_type": "execute_result",
          "data": {
            "text/plain": [
              "     v1                                                 v2  v1_transformed  \\\n",
              "0   ham  Go until jurong point, crazy.. Available only ...               0   \n",
              "1   ham                      Ok lar... Joking wif u oni...               0   \n",
              "2  spam  Free entry in 2 a wkly comp to win FA Cup fina...               1   \n",
              "3   ham  U dun say so early hor... U c already then say...               0   \n",
              "4   ham  Nah I don't think he goes to usf, he lives aro...               0   \n",
              "\n",
              "                                            v2_clean  \n",
              "0  jurong point crazy available bugis n great wor...  \n",
              "1                            ok lar joking wif u oni  \n",
              "2  free entry 2 wkly comp win fa cup final tkts 2...  \n",
              "3                                u dun early hor u c  \n",
              "4                                 nah think usf live  "
            ],
            "text/html": [
              "\n",
              "  <div id=\"df-183abfdb-7d23-4002-9b2f-d85ec4a32247\">\n",
              "    <div class=\"colab-df-container\">\n",
              "      <div>\n",
              "<style scoped>\n",
              "    .dataframe tbody tr th:only-of-type {\n",
              "        vertical-align: middle;\n",
              "    }\n",
              "\n",
              "    .dataframe tbody tr th {\n",
              "        vertical-align: top;\n",
              "    }\n",
              "\n",
              "    .dataframe thead th {\n",
              "        text-align: right;\n",
              "    }\n",
              "</style>\n",
              "<table border=\"1\" class=\"dataframe\">\n",
              "  <thead>\n",
              "    <tr style=\"text-align: right;\">\n",
              "      <th></th>\n",
              "      <th>v1</th>\n",
              "      <th>v2</th>\n",
              "      <th>v1_transformed</th>\n",
              "      <th>v2_clean</th>\n",
              "    </tr>\n",
              "  </thead>\n",
              "  <tbody>\n",
              "    <tr>\n",
              "      <th>0</th>\n",
              "      <td>ham</td>\n",
              "      <td>Go until jurong point, crazy.. Available only ...</td>\n",
              "      <td>0</td>\n",
              "      <td>jurong point crazy available bugis n great wor...</td>\n",
              "    </tr>\n",
              "    <tr>\n",
              "      <th>1</th>\n",
              "      <td>ham</td>\n",
              "      <td>Ok lar... Joking wif u oni...</td>\n",
              "      <td>0</td>\n",
              "      <td>ok lar joking wif u oni</td>\n",
              "    </tr>\n",
              "    <tr>\n",
              "      <th>2</th>\n",
              "      <td>spam</td>\n",
              "      <td>Free entry in 2 a wkly comp to win FA Cup fina...</td>\n",
              "      <td>1</td>\n",
              "      <td>free entry 2 wkly comp win fa cup final tkts 2...</td>\n",
              "    </tr>\n",
              "    <tr>\n",
              "      <th>3</th>\n",
              "      <td>ham</td>\n",
              "      <td>U dun say so early hor... U c already then say...</td>\n",
              "      <td>0</td>\n",
              "      <td>u dun early hor u c</td>\n",
              "    </tr>\n",
              "    <tr>\n",
              "      <th>4</th>\n",
              "      <td>ham</td>\n",
              "      <td>Nah I don't think he goes to usf, he lives aro...</td>\n",
              "      <td>0</td>\n",
              "      <td>nah think usf live</td>\n",
              "    </tr>\n",
              "  </tbody>\n",
              "</table>\n",
              "</div>\n",
              "      <button class=\"colab-df-convert\" onclick=\"convertToInteractive('df-183abfdb-7d23-4002-9b2f-d85ec4a32247')\"\n",
              "              title=\"Convert this dataframe to an interactive table.\"\n",
              "              style=\"display:none;\">\n",
              "        \n",
              "  <svg xmlns=\"http://www.w3.org/2000/svg\" height=\"24px\"viewBox=\"0 0 24 24\"\n",
              "       width=\"24px\">\n",
              "    <path d=\"M0 0h24v24H0V0z\" fill=\"none\"/>\n",
              "    <path d=\"M18.56 5.44l.94 2.06.94-2.06 2.06-.94-2.06-.94-.94-2.06-.94 2.06-2.06.94zm-11 1L8.5 8.5l.94-2.06 2.06-.94-2.06-.94L8.5 2.5l-.94 2.06-2.06.94zm10 10l.94 2.06.94-2.06 2.06-.94-2.06-.94-.94-2.06-.94 2.06-2.06.94z\"/><path d=\"M17.41 7.96l-1.37-1.37c-.4-.4-.92-.59-1.43-.59-.52 0-1.04.2-1.43.59L10.3 9.45l-7.72 7.72c-.78.78-.78 2.05 0 2.83L4 21.41c.39.39.9.59 1.41.59.51 0 1.02-.2 1.41-.59l7.78-7.78 2.81-2.81c.8-.78.8-2.07 0-2.86zM5.41 20L4 18.59l7.72-7.72 1.47 1.35L5.41 20z\"/>\n",
              "  </svg>\n",
              "      </button>\n",
              "      \n",
              "  <style>\n",
              "    .colab-df-container {\n",
              "      display:flex;\n",
              "      flex-wrap:wrap;\n",
              "      gap: 12px;\n",
              "    }\n",
              "\n",
              "    .colab-df-convert {\n",
              "      background-color: #E8F0FE;\n",
              "      border: none;\n",
              "      border-radius: 50%;\n",
              "      cursor: pointer;\n",
              "      display: none;\n",
              "      fill: #1967D2;\n",
              "      height: 32px;\n",
              "      padding: 0 0 0 0;\n",
              "      width: 32px;\n",
              "    }\n",
              "\n",
              "    .colab-df-convert:hover {\n",
              "      background-color: #E2EBFA;\n",
              "      box-shadow: 0px 1px 2px rgba(60, 64, 67, 0.3), 0px 1px 3px 1px rgba(60, 64, 67, 0.15);\n",
              "      fill: #174EA6;\n",
              "    }\n",
              "\n",
              "    [theme=dark] .colab-df-convert {\n",
              "      background-color: #3B4455;\n",
              "      fill: #D2E3FC;\n",
              "    }\n",
              "\n",
              "    [theme=dark] .colab-df-convert:hover {\n",
              "      background-color: #434B5C;\n",
              "      box-shadow: 0px 1px 3px 1px rgba(0, 0, 0, 0.15);\n",
              "      filter: drop-shadow(0px 1px 2px rgba(0, 0, 0, 0.3));\n",
              "      fill: #FFFFFF;\n",
              "    }\n",
              "  </style>\n",
              "\n",
              "      <script>\n",
              "        const buttonEl =\n",
              "          document.querySelector('#df-183abfdb-7d23-4002-9b2f-d85ec4a32247 button.colab-df-convert');\n",
              "        buttonEl.style.display =\n",
              "          google.colab.kernel.accessAllowed ? 'block' : 'none';\n",
              "\n",
              "        async function convertToInteractive(key) {\n",
              "          const element = document.querySelector('#df-183abfdb-7d23-4002-9b2f-d85ec4a32247');\n",
              "          const dataTable =\n",
              "            await google.colab.kernel.invokeFunction('convertToInteractive',\n",
              "                                                     [key], {});\n",
              "          if (!dataTable) return;\n",
              "\n",
              "          const docLinkHtml = 'Like what you see? Visit the ' +\n",
              "            '<a target=\"_blank\" href=https://colab.research.google.com/notebooks/data_table.ipynb>data table notebook</a>'\n",
              "            + ' to learn more about interactive tables.';\n",
              "          element.innerHTML = '';\n",
              "          dataTable['output_type'] = 'display_data';\n",
              "          await google.colab.output.renderOutput(dataTable, element);\n",
              "          const docLink = document.createElement('div');\n",
              "          docLink.innerHTML = docLinkHtml;\n",
              "          element.appendChild(docLink);\n",
              "        }\n",
              "      </script>\n",
              "    </div>\n",
              "  </div>\n",
              "  "
            ]
          },
          "metadata": {},
          "execution_count": 43
        }
      ]
    },
    {
      "cell_type": "code",
      "source": [
        "# instanciate the tokenizer and fit it on text\n",
        "import numpy as np\n",
        "tokenizer = tf.keras.preprocessing.text.Tokenizer(num_words=1000) # keep only the 1000 most common words\n",
        "tokenizer.fit_on_texts(dataset[\"v2_clean\"])\n",
        "dataset[\"v2_encoded\"] = tokenizer.texts_to_sequences(dataset.v2_clean)\n",
        "\n",
        "# create a new column showing the lenght of each sentence \n",
        "dataset[\"len_v2\"] = dataset[\"v2_encoded\"].apply(lambda x: len(x))\n",
        "dataset = dataset[dataset[\"len_v2\"]!=0]\n",
        "\n",
        "# display the first 5 rows of the new dataset\n",
        "dataset.head()"
      ],
      "metadata": {
        "id": "mkZgZdW3_35T",
        "colab": {
          "base_uri": "https://localhost:8080/",
          "height": 320
        },
        "outputId": "e8811cc1-ec78-4be9-9d3a-c7e6f9687181"
      },
      "execution_count": 44,
      "outputs": [
        {
          "output_type": "execute_result",
          "data": {
            "text/plain": [
              "     v1                                                 v2  v1_transformed  \\\n",
              "0   ham  Go until jurong point, crazy.. Available only ...               0   \n",
              "1   ham                      Ok lar... Joking wif u oni...               0   \n",
              "2  spam  Free entry in 2 a wkly comp to win FA Cup fina...               1   \n",
              "3   ham  U dun say so early hor... U c already then say...               0   \n",
              "4   ham  Nah I don't think he goes to usf, he lives aro...               0   \n",
              "\n",
              "                                            v2_clean  \\\n",
              "0  jurong point crazy available bugis n great wor...   \n",
              "1                            ok lar joking wif u oni   \n",
              "2  free entry 2 wkly comp win fa cup final tkts 2...   \n",
              "3                                u dun early hor u c   \n",
              "4                                 nah think usf live   \n",
              "\n",
              "                                          v2_encoded  len_v2  \n",
              "0  [230, 444, 460, 943, 35, 51, 204, 944, 79, 945...      11  \n",
              "1                                   [9, 193, 289, 1]       4  \n",
              "2  [11, 300, 3, 532, 655, 33, 849, 420, 20, 157, ...      13  \n",
              "3                               [1, 124, 149, 1, 84]       5  \n",
              "4                                [705, 22, 656, 127]       4  "
            ],
            "text/html": [
              "\n",
              "  <div id=\"df-bb8e104a-b8b0-494f-9575-5b23265ced4d\">\n",
              "    <div class=\"colab-df-container\">\n",
              "      <div>\n",
              "<style scoped>\n",
              "    .dataframe tbody tr th:only-of-type {\n",
              "        vertical-align: middle;\n",
              "    }\n",
              "\n",
              "    .dataframe tbody tr th {\n",
              "        vertical-align: top;\n",
              "    }\n",
              "\n",
              "    .dataframe thead th {\n",
              "        text-align: right;\n",
              "    }\n",
              "</style>\n",
              "<table border=\"1\" class=\"dataframe\">\n",
              "  <thead>\n",
              "    <tr style=\"text-align: right;\">\n",
              "      <th></th>\n",
              "      <th>v1</th>\n",
              "      <th>v2</th>\n",
              "      <th>v1_transformed</th>\n",
              "      <th>v2_clean</th>\n",
              "      <th>v2_encoded</th>\n",
              "      <th>len_v2</th>\n",
              "    </tr>\n",
              "  </thead>\n",
              "  <tbody>\n",
              "    <tr>\n",
              "      <th>0</th>\n",
              "      <td>ham</td>\n",
              "      <td>Go until jurong point, crazy.. Available only ...</td>\n",
              "      <td>0</td>\n",
              "      <td>jurong point crazy available bugis n great wor...</td>\n",
              "      <td>[230, 444, 460, 943, 35, 51, 204, 944, 79, 945...</td>\n",
              "      <td>11</td>\n",
              "    </tr>\n",
              "    <tr>\n",
              "      <th>1</th>\n",
              "      <td>ham</td>\n",
              "      <td>Ok lar... Joking wif u oni...</td>\n",
              "      <td>0</td>\n",
              "      <td>ok lar joking wif u oni</td>\n",
              "      <td>[9, 193, 289, 1]</td>\n",
              "      <td>4</td>\n",
              "    </tr>\n",
              "    <tr>\n",
              "      <th>2</th>\n",
              "      <td>spam</td>\n",
              "      <td>Free entry in 2 a wkly comp to win FA Cup fina...</td>\n",
              "      <td>1</td>\n",
              "      <td>free entry 2 wkly comp win fa cup final tkts 2...</td>\n",
              "      <td>[11, 300, 3, 532, 655, 33, 849, 420, 20, 157, ...</td>\n",
              "      <td>13</td>\n",
              "    </tr>\n",
              "    <tr>\n",
              "      <th>3</th>\n",
              "      <td>ham</td>\n",
              "      <td>U dun say so early hor... U c already then say...</td>\n",
              "      <td>0</td>\n",
              "      <td>u dun early hor u c</td>\n",
              "      <td>[1, 124, 149, 1, 84]</td>\n",
              "      <td>5</td>\n",
              "    </tr>\n",
              "    <tr>\n",
              "      <th>4</th>\n",
              "      <td>ham</td>\n",
              "      <td>Nah I don't think he goes to usf, he lives aro...</td>\n",
              "      <td>0</td>\n",
              "      <td>nah think usf live</td>\n",
              "      <td>[705, 22, 656, 127]</td>\n",
              "      <td>4</td>\n",
              "    </tr>\n",
              "  </tbody>\n",
              "</table>\n",
              "</div>\n",
              "      <button class=\"colab-df-convert\" onclick=\"convertToInteractive('df-bb8e104a-b8b0-494f-9575-5b23265ced4d')\"\n",
              "              title=\"Convert this dataframe to an interactive table.\"\n",
              "              style=\"display:none;\">\n",
              "        \n",
              "  <svg xmlns=\"http://www.w3.org/2000/svg\" height=\"24px\"viewBox=\"0 0 24 24\"\n",
              "       width=\"24px\">\n",
              "    <path d=\"M0 0h24v24H0V0z\" fill=\"none\"/>\n",
              "    <path d=\"M18.56 5.44l.94 2.06.94-2.06 2.06-.94-2.06-.94-.94-2.06-.94 2.06-2.06.94zm-11 1L8.5 8.5l.94-2.06 2.06-.94-2.06-.94L8.5 2.5l-.94 2.06-2.06.94zm10 10l.94 2.06.94-2.06 2.06-.94-2.06-.94-.94-2.06-.94 2.06-2.06.94z\"/><path d=\"M17.41 7.96l-1.37-1.37c-.4-.4-.92-.59-1.43-.59-.52 0-1.04.2-1.43.59L10.3 9.45l-7.72 7.72c-.78.78-.78 2.05 0 2.83L4 21.41c.39.39.9.59 1.41.59.51 0 1.02-.2 1.41-.59l7.78-7.78 2.81-2.81c.8-.78.8-2.07 0-2.86zM5.41 20L4 18.59l7.72-7.72 1.47 1.35L5.41 20z\"/>\n",
              "  </svg>\n",
              "      </button>\n",
              "      \n",
              "  <style>\n",
              "    .colab-df-container {\n",
              "      display:flex;\n",
              "      flex-wrap:wrap;\n",
              "      gap: 12px;\n",
              "    }\n",
              "\n",
              "    .colab-df-convert {\n",
              "      background-color: #E8F0FE;\n",
              "      border: none;\n",
              "      border-radius: 50%;\n",
              "      cursor: pointer;\n",
              "      display: none;\n",
              "      fill: #1967D2;\n",
              "      height: 32px;\n",
              "      padding: 0 0 0 0;\n",
              "      width: 32px;\n",
              "    }\n",
              "\n",
              "    .colab-df-convert:hover {\n",
              "      background-color: #E2EBFA;\n",
              "      box-shadow: 0px 1px 2px rgba(60, 64, 67, 0.3), 0px 1px 3px 1px rgba(60, 64, 67, 0.15);\n",
              "      fill: #174EA6;\n",
              "    }\n",
              "\n",
              "    [theme=dark] .colab-df-convert {\n",
              "      background-color: #3B4455;\n",
              "      fill: #D2E3FC;\n",
              "    }\n",
              "\n",
              "    [theme=dark] .colab-df-convert:hover {\n",
              "      background-color: #434B5C;\n",
              "      box-shadow: 0px 1px 3px 1px rgba(0, 0, 0, 0.15);\n",
              "      filter: drop-shadow(0px 1px 2px rgba(0, 0, 0, 0.3));\n",
              "      fill: #FFFFFF;\n",
              "    }\n",
              "  </style>\n",
              "\n",
              "      <script>\n",
              "        const buttonEl =\n",
              "          document.querySelector('#df-bb8e104a-b8b0-494f-9575-5b23265ced4d button.colab-df-convert');\n",
              "        buttonEl.style.display =\n",
              "          google.colab.kernel.accessAllowed ? 'block' : 'none';\n",
              "\n",
              "        async function convertToInteractive(key) {\n",
              "          const element = document.querySelector('#df-bb8e104a-b8b0-494f-9575-5b23265ced4d');\n",
              "          const dataTable =\n",
              "            await google.colab.kernel.invokeFunction('convertToInteractive',\n",
              "                                                     [key], {});\n",
              "          if (!dataTable) return;\n",
              "\n",
              "          const docLinkHtml = 'Like what you see? Visit the ' +\n",
              "            '<a target=\"_blank\" href=https://colab.research.google.com/notebooks/data_table.ipynb>data table notebook</a>'\n",
              "            + ' to learn more about interactive tables.';\n",
              "          element.innerHTML = '';\n",
              "          dataTable['output_type'] = 'display_data';\n",
              "          await google.colab.output.renderOutput(dataTable, element);\n",
              "          const docLink = document.createElement('div');\n",
              "          docLink.innerHTML = docLinkHtml;\n",
              "          element.appendChild(docLink);\n",
              "        }\n",
              "      </script>\n",
              "    </div>\n",
              "  </div>\n",
              "  "
            ]
          },
          "metadata": {},
          "execution_count": 44
        }
      ]
    },
    {
      "cell_type": "code",
      "source": [
        "# add zero padding at the end of the sequences so they all have equal lenght\n",
        "v2_pad = tf.keras.preprocessing.sequence.pad_sequences(dataset.v2_encoded, padding=\"post\")"
      ],
      "metadata": {
        "id": "-ORkBtokCFNa"
      },
      "execution_count": 45,
      "outputs": []
    },
    {
      "cell_type": "code",
      "source": [
        "# create the tensor dataset\n",
        "full_ds = tf.data.Dataset.from_tensor_slices((v2_pad, dataset.v1_transformed.values))"
      ],
      "metadata": {
        "id": "H3fTO5SjCbCr"
      },
      "execution_count": 46,
      "outputs": []
    },
    {
      "cell_type": "code",
      "source": [
        "# Train Test Split\n",
        "TAKE_SIZE = int(0.7*dataset.shape[0])\n",
        "\n",
        "# use .shuffle only on the train set, and .batch on both sets to organise them by batches of 64 observations\n",
        "train_data = full_ds.take(TAKE_SIZE).shuffle(TAKE_SIZE)\n",
        "train_data = train_data.batch(64)\n",
        "\n",
        "test_data = full_ds.skip(TAKE_SIZE)\n",
        "test_data = test_data.batch(64)"
      ],
      "metadata": {
        "id": "mPxI4lkACwSt"
      },
      "execution_count": 47,
      "outputs": []
    },
    {
      "cell_type": "code",
      "source": [
        " # Take a look of one batch \n",
        "for v2, v1 in train_data.take(1):\n",
        "  print(v2, v1)"
      ],
      "metadata": {
        "id": "PCuxwE1YC0Gb",
        "colab": {
          "base_uri": "https://localhost:8080/"
        },
        "outputId": "fda73057-27f8-4822-acf0-65a0818f4a77"
      },
      "execution_count": 48,
      "outputs": [
        {
          "output_type": "stream",
          "name": "stdout",
          "text": [
            "tf.Tensor(\n",
            "[[ 17  44   0 ...   0   0   0]\n",
            " [ 11  77   0 ...   0   0   0]\n",
            " [106   0   0 ...   0   0   0]\n",
            " ...\n",
            " [  5 920   0 ...   0   0   0]\n",
            " [  9   0   0 ...   0   0   0]\n",
            " [  9  27   0 ...   0   0   0]], shape=(64, 47), dtype=int32) tf.Tensor(\n",
            "[0 1 0 0 0 0 0 0 0 0 0 0 0 0 0 0 0 0 0 0 1 1 0 0 0 0 0 1 0 1 0 0 0 0 0 0 0\n",
            " 0 0 0 0 0 0 0 0 0 0 0 0 0 0 0 0 0 0 0 0 0 0 0 1 0 0 0], shape=(64,), dtype=int64)\n"
          ]
        }
      ]
    },
    {
      "cell_type": "markdown",
      "source": [
        "# Simple RNN"
      ],
      "metadata": {
        "id": "X2OKUEz5Ilhb"
      }
    },
    {
      "cell_type": "code",
      "source": [
        "# Let's try with Simple RNN method\n",
        "from tensorflow.keras.layers import Embedding, SimpleRNN, Dense, GRU, LSTM\n",
        "\n",
        "# vocab size is the lenght of \n",
        "vocab_size = len(tokenizer.word_index)\n",
        "model = tf.keras.Sequential([\n",
        "                  # Word Embedding layer           \n",
        "                  Embedding(vocab_size, 64,name=\"embedding\"),\n",
        "                  # Gobal average pooling\n",
        "                  SimpleRNN(units=64, return_sequences=True), # maintains the sequential nature\n",
        "                  SimpleRNN(units=32, return_sequences=False), # returns the last output\n",
        "                  # Dense layers once the data is flat\n",
        "                  Dense(16, activation='relu'),\n",
        "                  Dense(8, activation='relu'),\n",
        "\n",
        "                  # output layer with as many neurons as the number of classes\n",
        "                  # for the target variable and softmax activation\n",
        "                  Dense(1, activation=\"sigmoid\")\n",
        "])"
      ],
      "metadata": {
        "id": "WlOfNx6xDS39"
      },
      "execution_count": 49,
      "outputs": []
    },
    {
      "cell_type": "code",
      "source": [
        "model.summary()"
      ],
      "metadata": {
        "id": "Pd36dSIvJAYM",
        "colab": {
          "base_uri": "https://localhost:8080/"
        },
        "outputId": "8e44b9c4-debe-49a3-93a8-9cd5f2863700"
      },
      "execution_count": 50,
      "outputs": [
        {
          "output_type": "stream",
          "name": "stdout",
          "text": [
            "Model: \"sequential_2\"\n",
            "_________________________________________________________________\n",
            " Layer (type)                Output Shape              Param #   \n",
            "=================================================================\n",
            " embedding (Embedding)       (None, None, 64)          524032    \n",
            "                                                                 \n",
            " simple_rnn_2 (SimpleRNN)    (None, None, 64)          8256      \n",
            "                                                                 \n",
            " simple_rnn_3 (SimpleRNN)    (None, 32)                3104      \n",
            "                                                                 \n",
            " dense_6 (Dense)             (None, 16)                528       \n",
            "                                                                 \n",
            " dense_7 (Dense)             (None, 8)                 136       \n",
            "                                                                 \n",
            " dense_8 (Dense)             (None, 1)                 9         \n",
            "                                                                 \n",
            "=================================================================\n",
            "Total params: 536,065\n",
            "Trainable params: 536,065\n",
            "Non-trainable params: 0\n",
            "_________________________________________________________________\n"
          ]
        }
      ]
    },
    {
      "cell_type": "code",
      "source": [
        "# instanciate the optimizer and compile the model\n",
        "optimizer= tf.keras.optimizers.Adam()\n",
        "\n",
        "model.compile(optimizer=optimizer,\n",
        "              loss=tf.keras.losses.BinaryCrossentropy(),\n",
        "              metrics=[tf.keras.metrics.BinaryAccuracy()])"
      ],
      "metadata": {
        "id": "xwTFVNfSJCur"
      },
      "execution_count": 51,
      "outputs": []
    },
    {
      "cell_type": "code",
      "source": [
        "(dataset[\"v1_transformed\"]-1).value_counts()"
      ],
      "metadata": {
        "id": "C_DY0mUiJvH8",
        "colab": {
          "base_uri": "https://localhost:8080/"
        },
        "outputId": "2b9c14fd-2c1c-49b5-df3b-8f3b65e94134"
      },
      "execution_count": 52,
      "outputs": [
        {
          "output_type": "execute_result",
          "data": {
            "text/plain": [
              "-1    4667\n",
              " 0     745\n",
              "Name: v1_transformed, dtype: int64"
            ]
          },
          "metadata": {},
          "execution_count": 52
        }
      ]
    },
    {
      "cell_type": "code",
      "source": [
        "# create a dictionnary variable that assigns to each value of the target variable a weight \n",
        "# that is inversely proportionnal to their frequency in the dataset\n",
        "weights = 1/(dataset.v1_transformed).value_counts()\n",
        "weights = weights * len(dataset)/2\n",
        "weights = {index : values for index , values in zip(weights.index,weights.values)}\n",
        "weights"
      ],
      "metadata": {
        "id": "3v3OL7Q2J-g5",
        "colab": {
          "base_uri": "https://localhost:8080/"
        },
        "outputId": "98a5ef3b-fa30-4a2c-be84-2d3ad9634ba4"
      },
      "execution_count": 53,
      "outputs": [
        {
          "output_type": "execute_result",
          "data": {
            "text/plain": [
              "{0: 0.5798157274480394, 1: 3.632214765100671}"
            ]
          },
          "metadata": {},
          "execution_count": 53
        }
      ]
    },
    {
      "cell_type": "code",
      "source": [
        "# Model training \n",
        "history = model.fit(train_data,\n",
        "                    epochs=100, \n",
        "                    validation_data=test_data,\n",
        "                    class_weight=weights)"
      ],
      "metadata": {
        "id": "5iWrVH1UKZUx",
        "colab": {
          "base_uri": "https://localhost:8080/"
        },
        "outputId": "3fdf0abe-6c4c-436b-fecb-ddec2835675d"
      },
      "execution_count": 54,
      "outputs": [
        {
          "output_type": "stream",
          "name": "stdout",
          "text": [
            "Epoch 1/100\n",
            "60/60 [==============================] - 4s 36ms/step - loss: 0.3737 - binary_accuracy: 0.9007 - val_loss: 0.1739 - val_binary_accuracy: 0.9667\n",
            "Epoch 2/100\n",
            "60/60 [==============================] - 2s 31ms/step - loss: 0.1728 - binary_accuracy: 0.9707 - val_loss: 0.1792 - val_binary_accuracy: 0.9514\n",
            "Epoch 3/100\n",
            "60/60 [==============================] - 2s 32ms/step - loss: 0.1485 - binary_accuracy: 0.9725 - val_loss: 0.3518 - val_binary_accuracy: 0.9181\n",
            "Epoch 4/100\n",
            "60/60 [==============================] - 2s 31ms/step - loss: 0.2159 - binary_accuracy: 0.9591 - val_loss: 0.1677 - val_binary_accuracy: 0.9606\n",
            "Epoch 5/100\n",
            "60/60 [==============================] - 2s 31ms/step - loss: 0.1627 - binary_accuracy: 0.9533 - val_loss: 0.1163 - val_binary_accuracy: 0.9557\n",
            "Epoch 6/100\n",
            "60/60 [==============================] - 2s 31ms/step - loss: 0.1440 - binary_accuracy: 0.9712 - val_loss: 0.3524 - val_binary_accuracy: 0.8947\n",
            "Epoch 7/100\n",
            "60/60 [==============================] - 2s 32ms/step - loss: 0.0982 - binary_accuracy: 0.9820 - val_loss: 0.2079 - val_binary_accuracy: 0.9464\n",
            "Epoch 8/100\n",
            "60/60 [==============================] - 2s 31ms/step - loss: 0.0790 - binary_accuracy: 0.9873 - val_loss: 0.1359 - val_binary_accuracy: 0.9674\n",
            "Epoch 9/100\n",
            "60/60 [==============================] - 2s 31ms/step - loss: 0.0955 - binary_accuracy: 0.9797 - val_loss: 0.1147 - val_binary_accuracy: 0.9729\n",
            "Epoch 10/100\n",
            "60/60 [==============================] - 2s 31ms/step - loss: 0.0763 - binary_accuracy: 0.9868 - val_loss: 0.2094 - val_binary_accuracy: 0.9520\n",
            "Epoch 11/100\n",
            "60/60 [==============================] - 2s 32ms/step - loss: 0.0749 - binary_accuracy: 0.9889 - val_loss: 0.1216 - val_binary_accuracy: 0.9711\n",
            "Epoch 12/100\n",
            "60/60 [==============================] - 2s 31ms/step - loss: 0.0571 - binary_accuracy: 0.9884 - val_loss: 0.1410 - val_binary_accuracy: 0.9600\n",
            "Epoch 13/100\n",
            "60/60 [==============================] - 2s 31ms/step - loss: 0.0680 - binary_accuracy: 0.9828 - val_loss: 0.1269 - val_binary_accuracy: 0.9680\n",
            "Epoch 14/100\n",
            "60/60 [==============================] - 2s 31ms/step - loss: 0.0663 - binary_accuracy: 0.9784 - val_loss: 0.2389 - val_binary_accuracy: 0.9353\n",
            "Epoch 15/100\n",
            "60/60 [==============================] - 2s 32ms/step - loss: 0.0781 - binary_accuracy: 0.9728 - val_loss: 0.2263 - val_binary_accuracy: 0.9421\n",
            "Epoch 16/100\n",
            "60/60 [==============================] - 2s 31ms/step - loss: 0.1546 - binary_accuracy: 0.9525 - val_loss: 0.2697 - val_binary_accuracy: 0.9236\n",
            "Epoch 17/100\n",
            "60/60 [==============================] - 2s 32ms/step - loss: 0.1001 - binary_accuracy: 0.9718 - val_loss: 0.1142 - val_binary_accuracy: 0.9680\n",
            "Epoch 18/100\n",
            "60/60 [==============================] - 2s 32ms/step - loss: 0.0679 - binary_accuracy: 0.9850 - val_loss: 0.1401 - val_binary_accuracy: 0.9587\n",
            "Epoch 19/100\n",
            "60/60 [==============================] - 2s 32ms/step - loss: 0.0388 - binary_accuracy: 0.9913 - val_loss: 0.1542 - val_binary_accuracy: 0.9618\n",
            "Epoch 20/100\n",
            "60/60 [==============================] - 2s 32ms/step - loss: 0.0299 - binary_accuracy: 0.9947 - val_loss: 0.1511 - val_binary_accuracy: 0.9661\n",
            "Epoch 21/100\n",
            "60/60 [==============================] - 2s 31ms/step - loss: 0.0249 - binary_accuracy: 0.9955 - val_loss: 0.1450 - val_binary_accuracy: 0.9686\n",
            "Epoch 22/100\n",
            "60/60 [==============================] - 2s 31ms/step - loss: 0.0269 - binary_accuracy: 0.9952 - val_loss: 0.2561 - val_binary_accuracy: 0.9452\n",
            "Epoch 23/100\n",
            "60/60 [==============================] - 2s 32ms/step - loss: 0.0299 - binary_accuracy: 0.9929 - val_loss: 0.1287 - val_binary_accuracy: 0.9674\n",
            "Epoch 24/100\n",
            "60/60 [==============================] - 2s 32ms/step - loss: 0.0372 - binary_accuracy: 0.9931 - val_loss: 0.1280 - val_binary_accuracy: 0.9711\n",
            "Epoch 25/100\n",
            "60/60 [==============================] - 2s 32ms/step - loss: 0.0242 - binary_accuracy: 0.9952 - val_loss: 0.2963 - val_binary_accuracy: 0.9403\n",
            "Epoch 26/100\n",
            "60/60 [==============================] - 2s 31ms/step - loss: 0.0486 - binary_accuracy: 0.9879 - val_loss: 0.1816 - val_binary_accuracy: 0.9550\n",
            "Epoch 27/100\n",
            "60/60 [==============================] - 2s 32ms/step - loss: 0.0212 - binary_accuracy: 0.9955 - val_loss: 0.2155 - val_binary_accuracy: 0.9563\n",
            "Epoch 28/100\n",
            "60/60 [==============================] - 2s 32ms/step - loss: 0.0175 - binary_accuracy: 0.9966 - val_loss: 0.1892 - val_binary_accuracy: 0.9624\n",
            "Epoch 29/100\n",
            "60/60 [==============================] - 2s 32ms/step - loss: 0.0173 - binary_accuracy: 0.9947 - val_loss: 0.1523 - val_binary_accuracy: 0.9704\n",
            "Epoch 30/100\n",
            "60/60 [==============================] - 2s 31ms/step - loss: 0.0312 - binary_accuracy: 0.9931 - val_loss: 0.1698 - val_binary_accuracy: 0.9631\n",
            "Epoch 31/100\n",
            "60/60 [==============================] - 2s 31ms/step - loss: 0.0215 - binary_accuracy: 0.9950 - val_loss: 0.1741 - val_binary_accuracy: 0.9631\n",
            "Epoch 32/100\n",
            "60/60 [==============================] - 2s 31ms/step - loss: 0.0128 - binary_accuracy: 0.9958 - val_loss: 0.1705 - val_binary_accuracy: 0.9631\n",
            "Epoch 33/100\n",
            "60/60 [==============================] - 2s 31ms/step - loss: 0.0098 - binary_accuracy: 0.9979 - val_loss: 0.2348 - val_binary_accuracy: 0.9606\n",
            "Epoch 34/100\n",
            "60/60 [==============================] - 2s 31ms/step - loss: 0.0079 - binary_accuracy: 0.9976 - val_loss: 0.2171 - val_binary_accuracy: 0.9631\n",
            "Epoch 35/100\n",
            "60/60 [==============================] - 2s 31ms/step - loss: 0.0057 - binary_accuracy: 0.9984 - val_loss: 0.2184 - val_binary_accuracy: 0.9624\n",
            "Epoch 36/100\n",
            "60/60 [==============================] - 2s 31ms/step - loss: 0.0086 - binary_accuracy: 0.9963 - val_loss: 0.2018 - val_binary_accuracy: 0.9649\n",
            "Epoch 37/100\n",
            "60/60 [==============================] - 2s 31ms/step - loss: 0.0045 - binary_accuracy: 0.9984 - val_loss: 0.2050 - val_binary_accuracy: 0.9631\n",
            "Epoch 38/100\n",
            "60/60 [==============================] - 2s 31ms/step - loss: 0.0300 - binary_accuracy: 0.9916 - val_loss: 0.1977 - val_binary_accuracy: 0.9538\n",
            "Epoch 39/100\n",
            "60/60 [==============================] - 2s 32ms/step - loss: 0.0433 - binary_accuracy: 0.9871 - val_loss: 0.1678 - val_binary_accuracy: 0.9587\n",
            "Epoch 40/100\n",
            "60/60 [==============================] - 2s 32ms/step - loss: 0.1693 - binary_accuracy: 0.9401 - val_loss: 0.3060 - val_binary_accuracy: 0.9064\n",
            "Epoch 41/100\n",
            "60/60 [==============================] - 2s 32ms/step - loss: 0.0893 - binary_accuracy: 0.9826 - val_loss: 0.1675 - val_binary_accuracy: 0.9594\n",
            "Epoch 42/100\n",
            "60/60 [==============================] - 3s 46ms/step - loss: 0.0784 - binary_accuracy: 0.9934 - val_loss: 0.1679 - val_binary_accuracy: 0.9655\n",
            "Epoch 43/100\n",
            "60/60 [==============================] - 2s 40ms/step - loss: 0.0690 - binary_accuracy: 0.9931 - val_loss: 0.1558 - val_binary_accuracy: 0.9661\n",
            "Epoch 44/100\n",
            "60/60 [==============================] - 2s 32ms/step - loss: 0.0553 - binary_accuracy: 0.9937 - val_loss: 0.4274 - val_binary_accuracy: 0.8787\n",
            "Epoch 45/100\n",
            "60/60 [==============================] - 2s 31ms/step - loss: 0.0662 - binary_accuracy: 0.9789 - val_loss: 0.1494 - val_binary_accuracy: 0.9631\n",
            "Epoch 46/100\n",
            "60/60 [==============================] - 2s 32ms/step - loss: 0.0272 - binary_accuracy: 0.9923 - val_loss: 0.1667 - val_binary_accuracy: 0.9606\n",
            "Epoch 47/100\n",
            "60/60 [==============================] - 2s 32ms/step - loss: 0.0231 - binary_accuracy: 0.9947 - val_loss: 0.1318 - val_binary_accuracy: 0.9680\n",
            "Epoch 48/100\n",
            "60/60 [==============================] - 2s 31ms/step - loss: 0.0301 - binary_accuracy: 0.9916 - val_loss: 0.1354 - val_binary_accuracy: 0.9667\n",
            "Epoch 49/100\n",
            "60/60 [==============================] - 2s 31ms/step - loss: 0.0197 - binary_accuracy: 0.9958 - val_loss: 0.1681 - val_binary_accuracy: 0.9631\n",
            "Epoch 50/100\n",
            "60/60 [==============================] - 2s 32ms/step - loss: 0.0176 - binary_accuracy: 0.9958 - val_loss: 0.1626 - val_binary_accuracy: 0.9643\n",
            "Epoch 51/100\n",
            "60/60 [==============================] - 2s 32ms/step - loss: 0.0165 - binary_accuracy: 0.9960 - val_loss: 0.1604 - val_binary_accuracy: 0.9661\n",
            "Epoch 52/100\n",
            "60/60 [==============================] - 2s 32ms/step - loss: 0.0299 - binary_accuracy: 0.9939 - val_loss: 0.1542 - val_binary_accuracy: 0.9637\n",
            "Epoch 53/100\n",
            "60/60 [==============================] - 2s 31ms/step - loss: 0.0290 - binary_accuracy: 0.9942 - val_loss: 0.1417 - val_binary_accuracy: 0.9649\n",
            "Epoch 54/100\n",
            "60/60 [==============================] - 2s 32ms/step - loss: 0.0139 - binary_accuracy: 0.9968 - val_loss: 0.1422 - val_binary_accuracy: 0.9698\n",
            "Epoch 55/100\n",
            "60/60 [==============================] - 2s 32ms/step - loss: 0.0189 - binary_accuracy: 0.9960 - val_loss: 0.1602 - val_binary_accuracy: 0.9680\n",
            "Epoch 56/100\n",
            "60/60 [==============================] - 2s 32ms/step - loss: 0.0123 - binary_accuracy: 0.9976 - val_loss: 0.1587 - val_binary_accuracy: 0.9692\n",
            "Epoch 57/100\n",
            "60/60 [==============================] - 2s 32ms/step - loss: 0.0105 - binary_accuracy: 0.9971 - val_loss: 0.1795 - val_binary_accuracy: 0.9655\n",
            "Epoch 58/100\n",
            "60/60 [==============================] - 2s 32ms/step - loss: 0.0074 - binary_accuracy: 0.9982 - val_loss: 0.1778 - val_binary_accuracy: 0.9674\n",
            "Epoch 59/100\n",
            "60/60 [==============================] - 2s 32ms/step - loss: 0.0080 - binary_accuracy: 0.9979 - val_loss: 0.1929 - val_binary_accuracy: 0.9649\n",
            "Epoch 60/100\n",
            "60/60 [==============================] - 2s 32ms/step - loss: 0.0049 - binary_accuracy: 0.9987 - val_loss: 0.1949 - val_binary_accuracy: 0.9661\n",
            "Epoch 61/100\n",
            "60/60 [==============================] - 2s 32ms/step - loss: 0.0044 - binary_accuracy: 0.9987 - val_loss: 0.1963 - val_binary_accuracy: 0.9667\n",
            "Epoch 62/100\n",
            "60/60 [==============================] - 2s 32ms/step - loss: 0.0653 - binary_accuracy: 0.9789 - val_loss: 0.1486 - val_binary_accuracy: 0.9643\n",
            "Epoch 63/100\n",
            "60/60 [==============================] - 2s 32ms/step - loss: 0.0450 - binary_accuracy: 0.9857 - val_loss: 0.1709 - val_binary_accuracy: 0.9618\n",
            "Epoch 64/100\n",
            "60/60 [==============================] - 2s 32ms/step - loss: 0.0406 - binary_accuracy: 0.9860 - val_loss: 0.2628 - val_binary_accuracy: 0.9403\n",
            "Epoch 65/100\n",
            "60/60 [==============================] - 2s 33ms/step - loss: 0.0183 - binary_accuracy: 0.9929 - val_loss: 0.1772 - val_binary_accuracy: 0.9606\n",
            "Epoch 66/100\n",
            "60/60 [==============================] - 2s 32ms/step - loss: 0.0211 - binary_accuracy: 0.9945 - val_loss: 0.1742 - val_binary_accuracy: 0.9563\n",
            "Epoch 67/100\n",
            "60/60 [==============================] - 2s 32ms/step - loss: 0.0115 - binary_accuracy: 0.9947 - val_loss: 0.1898 - val_binary_accuracy: 0.9557\n",
            "Epoch 68/100\n",
            "60/60 [==============================] - 2s 32ms/step - loss: 0.0135 - binary_accuracy: 0.9937 - val_loss: 0.1708 - val_binary_accuracy: 0.9624\n",
            "Epoch 69/100\n",
            "60/60 [==============================] - 2s 32ms/step - loss: 0.0134 - binary_accuracy: 0.9945 - val_loss: 0.1967 - val_binary_accuracy: 0.9563\n",
            "Epoch 70/100\n",
            "60/60 [==============================] - 2s 32ms/step - loss: 0.0063 - binary_accuracy: 0.9971 - val_loss: 0.2031 - val_binary_accuracy: 0.9606\n",
            "Epoch 71/100\n",
            "60/60 [==============================] - 2s 33ms/step - loss: 0.0060 - binary_accuracy: 0.9974 - val_loss: 0.2201 - val_binary_accuracy: 0.9600\n",
            "Epoch 72/100\n",
            "60/60 [==============================] - 2s 32ms/step - loss: 0.0049 - binary_accuracy: 0.9974 - val_loss: 0.2332 - val_binary_accuracy: 0.9600\n",
            "Epoch 73/100\n",
            "60/60 [==============================] - 2s 32ms/step - loss: 0.0043 - binary_accuracy: 0.9982 - val_loss: 0.2457 - val_binary_accuracy: 0.9594\n",
            "Epoch 74/100\n",
            "60/60 [==============================] - 2s 32ms/step - loss: 0.0040 - binary_accuracy: 0.9976 - val_loss: 0.2902 - val_binary_accuracy: 0.9532\n",
            "Epoch 75/100\n",
            "60/60 [==============================] - 2s 32ms/step - loss: 0.0041 - binary_accuracy: 0.9979 - val_loss: 0.2229 - val_binary_accuracy: 0.9661\n",
            "Epoch 76/100\n",
            "60/60 [==============================] - 2s 32ms/step - loss: 0.0032 - binary_accuracy: 0.9982 - val_loss: 0.2474 - val_binary_accuracy: 0.9643\n",
            "Epoch 77/100\n",
            "60/60 [==============================] - 2s 32ms/step - loss: 0.0026 - binary_accuracy: 0.9989 - val_loss: 0.2670 - val_binary_accuracy: 0.9612\n",
            "Epoch 78/100\n",
            "60/60 [==============================] - 2s 32ms/step - loss: 0.0032 - binary_accuracy: 0.9979 - val_loss: 0.2843 - val_binary_accuracy: 0.9594\n",
            "Epoch 79/100\n",
            "60/60 [==============================] - 2s 32ms/step - loss: 0.0036 - binary_accuracy: 0.9979 - val_loss: 0.2565 - val_binary_accuracy: 0.9618\n",
            "Epoch 80/100\n",
            "60/60 [==============================] - 2s 32ms/step - loss: 0.0044 - binary_accuracy: 0.9984 - val_loss: 0.2680 - val_binary_accuracy: 0.9606\n",
            "Epoch 81/100\n",
            "60/60 [==============================] - 2s 32ms/step - loss: 0.0020 - binary_accuracy: 0.9989 - val_loss: 0.2689 - val_binary_accuracy: 0.9612\n",
            "Epoch 82/100\n",
            "60/60 [==============================] - 2s 32ms/step - loss: 0.0042 - binary_accuracy: 0.9987 - val_loss: 0.2605 - val_binary_accuracy: 0.9618\n",
            "Epoch 83/100\n",
            "60/60 [==============================] - 2s 32ms/step - loss: 0.0039 - binary_accuracy: 0.9989 - val_loss: 0.2624 - val_binary_accuracy: 0.9600\n",
            "Epoch 84/100\n",
            "60/60 [==============================] - 2s 32ms/step - loss: 0.0037 - binary_accuracy: 0.9989 - val_loss: 0.2517 - val_binary_accuracy: 0.9612\n",
            "Epoch 85/100\n",
            "60/60 [==============================] - 2s 32ms/step - loss: 0.0036 - binary_accuracy: 0.9989 - val_loss: 0.2707 - val_binary_accuracy: 0.9594\n",
            "Epoch 86/100\n",
            "60/60 [==============================] - 2s 32ms/step - loss: 0.0043 - binary_accuracy: 0.9987 - val_loss: 0.2738 - val_binary_accuracy: 0.9581\n",
            "Epoch 87/100\n",
            "60/60 [==============================] - 2s 31ms/step - loss: 0.0354 - binary_accuracy: 0.9934 - val_loss: 0.2295 - val_binary_accuracy: 0.9433\n",
            "Epoch 88/100\n",
            "60/60 [==============================] - 2s 32ms/step - loss: 0.0622 - binary_accuracy: 0.9813 - val_loss: 0.1835 - val_binary_accuracy: 0.9507\n",
            "Epoch 89/100\n",
            "60/60 [==============================] - 2s 32ms/step - loss: 0.0459 - binary_accuracy: 0.9860 - val_loss: 0.1786 - val_binary_accuracy: 0.9600\n",
            "Epoch 90/100\n",
            "60/60 [==============================] - 2s 31ms/step - loss: 0.0555 - binary_accuracy: 0.9836 - val_loss: 0.2773 - val_binary_accuracy: 0.9298\n",
            "Epoch 91/100\n",
            "60/60 [==============================] - 2s 31ms/step - loss: 0.0942 - binary_accuracy: 0.9691 - val_loss: 0.1808 - val_binary_accuracy: 0.9563\n",
            "Epoch 92/100\n",
            "60/60 [==============================] - 2s 32ms/step - loss: 0.0704 - binary_accuracy: 0.9836 - val_loss: 0.1904 - val_binary_accuracy: 0.9452\n",
            "Epoch 93/100\n",
            "60/60 [==============================] - 2s 32ms/step - loss: 0.0861 - binary_accuracy: 0.9667 - val_loss: 0.1170 - val_binary_accuracy: 0.9704\n",
            "Epoch 94/100\n",
            "60/60 [==============================] - 2s 31ms/step - loss: 0.1674 - binary_accuracy: 0.9461 - val_loss: 0.2087 - val_binary_accuracy: 0.9193\n",
            "Epoch 95/100\n",
            "60/60 [==============================] - 2s 31ms/step - loss: 0.0677 - binary_accuracy: 0.9723 - val_loss: 0.1908 - val_binary_accuracy: 0.9440\n",
            "Epoch 96/100\n",
            "60/60 [==============================] - 2s 32ms/step - loss: 0.0322 - binary_accuracy: 0.9900 - val_loss: 0.1751 - val_binary_accuracy: 0.9489\n",
            "Epoch 97/100\n",
            "60/60 [==============================] - 2s 32ms/step - loss: 0.0355 - binary_accuracy: 0.9913 - val_loss: 0.1875 - val_binary_accuracy: 0.9520\n",
            "Epoch 98/100\n",
            "60/60 [==============================] - 2s 31ms/step - loss: 0.0236 - binary_accuracy: 0.9931 - val_loss: 0.1646 - val_binary_accuracy: 0.9594\n",
            "Epoch 99/100\n",
            "60/60 [==============================] - 2s 32ms/step - loss: 0.0225 - binary_accuracy: 0.9931 - val_loss: 0.1424 - val_binary_accuracy: 0.9655\n",
            "Epoch 100/100\n",
            "60/60 [==============================] - 2s 31ms/step - loss: 0.0188 - binary_accuracy: 0.9945 - val_loss: 0.1407 - val_binary_accuracy: 0.9667\n"
          ]
        }
      ]
    },
    {
      "cell_type": "markdown",
      "source": [
        "Scores after 100 epochs :\n",
        "\n",
        "\n",
        "    loss : 0.0188 - val_loss : 0.1407\n",
        "    binary_accuracy : 0.9945 - val_binary_accuracy : 0.9667\n"
      ],
      "metadata": {
        "id": "4vvxUaSe2e3H"
      }
    },
    {
      "cell_type": "code",
      "source": [
        "# Save the model\n",
        "model.save(\"model_simpleRNN.h5\")"
      ],
      "metadata": {
        "id": "Vwg9l2EeKkz8"
      },
      "execution_count": 55,
      "outputs": []
    },
    {
      "cell_type": "code",
      "source": [
        "import json\n",
        "json.dump(model.history.history, open(\"/content/simpleRNN_history.json\", 'w'))"
      ],
      "metadata": {
        "id": "fhjsjU5x1oxk"
      },
      "execution_count": 56,
      "outputs": []
    },
    {
      "cell_type": "markdown",
      "source": [
        "# GRU"
      ],
      "metadata": {
        "id": "5ajnArHb2FRE"
      }
    },
    {
      "cell_type": "code",
      "source": [
        "# Let's try GRU now \n",
        "from tensorflow.keras.layers import Embedding, SimpleRNN, Dense, GRU, LSTM\n",
        "\n",
        "vocab_size = len(tokenizer.word_index)\n",
        "model_gru = tf.keras.Sequential([\n",
        "                  Embedding(vocab_size, 64,name=\"embedding\"),\n",
        "                  GRU(units=64, return_sequences=True), # maintains the sequential nature\n",
        "                  GRU(units=32, return_sequences=False), # returns the last output\n",
        "                  Dense(16, activation='relu'),\n",
        "                  Dense(8, activation='relu'),\n",
        "\n",
        "                  Dense(1, activation=\"sigmoid\")\n",
        "])"
      ],
      "metadata": {
        "id": "ST9nNKX019dc"
      },
      "execution_count": 57,
      "outputs": []
    },
    {
      "cell_type": "code",
      "source": [
        "model_gru.summary()"
      ],
      "metadata": {
        "colab": {
          "base_uri": "https://localhost:8080/"
        },
        "id": "qOhMTpVK3SXC",
        "outputId": "a598906c-5d00-44d4-b901-d319dc083ef2"
      },
      "execution_count": 58,
      "outputs": [
        {
          "output_type": "stream",
          "name": "stdout",
          "text": [
            "Model: \"sequential_3\"\n",
            "_________________________________________________________________\n",
            " Layer (type)                Output Shape              Param #   \n",
            "=================================================================\n",
            " embedding (Embedding)       (None, None, 64)          524032    \n",
            "                                                                 \n",
            " gru_2 (GRU)                 (None, None, 64)          24960     \n",
            "                                                                 \n",
            " gru_3 (GRU)                 (None, 32)                9408      \n",
            "                                                                 \n",
            " dense_9 (Dense)             (None, 16)                528       \n",
            "                                                                 \n",
            " dense_10 (Dense)            (None, 8)                 136       \n",
            "                                                                 \n",
            " dense_11 (Dense)            (None, 1)                 9         \n",
            "                                                                 \n",
            "=================================================================\n",
            "Total params: 559,073\n",
            "Trainable params: 559,073\n",
            "Non-trainable params: 0\n",
            "_________________________________________________________________\n"
          ]
        }
      ]
    },
    {
      "cell_type": "code",
      "source": [
        "# instanciate the optimizer\n",
        "optimizer= tf.keras.optimizers.Adam()\n",
        "\n",
        "model_gru.compile(optimizer=optimizer,\n",
        "              loss=tf.keras.losses.BinaryCrossentropy(),\n",
        "              metrics=[tf.keras.metrics.BinaryAccuracy()])"
      ],
      "metadata": {
        "id": "4Z9TFWZR3YFw"
      },
      "execution_count": 59,
      "outputs": []
    },
    {
      "cell_type": "code",
      "source": [
        "# fit the model\n",
        "model_gru.fit(train_data,\n",
        "              epochs=100, \n",
        "              validation_data=test_data,\n",
        "              class_weight=weights)"
      ],
      "metadata": {
        "colab": {
          "base_uri": "https://localhost:8080/"
        },
        "id": "e1DdpQz23rAq",
        "outputId": "e05ab283-66b4-465e-b8d2-0bc909b8dc79"
      },
      "execution_count": 60,
      "outputs": [
        {
          "output_type": "stream",
          "name": "stdout",
          "text": [
            "Epoch 1/100\n",
            "60/60 [==============================] - 9s 86ms/step - loss: 0.6926 - binary_accuracy: 0.6919 - val_loss: 0.6838 - val_binary_accuracy: 0.8615\n",
            "Epoch 2/100\n",
            "60/60 [==============================] - 4s 67ms/step - loss: 0.6926 - binary_accuracy: 0.5784 - val_loss: 0.6961 - val_binary_accuracy: 0.1385\n",
            "Epoch 3/100\n",
            "60/60 [==============================] - 4s 67ms/step - loss: 0.6924 - binary_accuracy: 0.1373 - val_loss: 0.6934 - val_binary_accuracy: 0.1385\n",
            "Epoch 4/100\n",
            "60/60 [==============================] - 4s 68ms/step - loss: 0.6924 - binary_accuracy: 0.1932 - val_loss: 0.6936 - val_binary_accuracy: 0.1385\n",
            "Epoch 5/100\n",
            "60/60 [==============================] - 4s 68ms/step - loss: 0.6924 - binary_accuracy: 0.8353 - val_loss: 0.6908 - val_binary_accuracy: 0.8615\n",
            "Epoch 6/100\n",
            "60/60 [==============================] - 4s 67ms/step - loss: 0.6924 - binary_accuracy: 0.3490 - val_loss: 0.6927 - val_binary_accuracy: 0.8615\n",
            "Epoch 7/100\n",
            "60/60 [==============================] - 4s 68ms/step - loss: 0.6924 - binary_accuracy: 0.6600 - val_loss: 0.6915 - val_binary_accuracy: 0.8615\n",
            "Epoch 8/100\n",
            "60/60 [==============================] - 4s 68ms/step - loss: 0.6924 - binary_accuracy: 0.6238 - val_loss: 0.6918 - val_binary_accuracy: 0.8615\n",
            "Epoch 9/100\n",
            "60/60 [==============================] - 5s 82ms/step - loss: 0.6923 - binary_accuracy: 0.4736 - val_loss: 0.6917 - val_binary_accuracy: 0.8615\n",
            "Epoch 10/100\n",
            "60/60 [==============================] - 4s 68ms/step - loss: 0.6922 - binary_accuracy: 0.8627 - val_loss: 0.6925 - val_binary_accuracy: 0.8615\n",
            "Epoch 11/100\n",
            "60/60 [==============================] - 4s 67ms/step - loss: 0.6921 - binary_accuracy: 0.4488 - val_loss: 0.6927 - val_binary_accuracy: 0.8615\n",
            "Epoch 12/100\n",
            "60/60 [==============================] - 4s 67ms/step - loss: 0.6921 - binary_accuracy: 0.8627 - val_loss: 0.6921 - val_binary_accuracy: 0.8615\n",
            "Epoch 13/100\n",
            "60/60 [==============================] - 4s 75ms/step - loss: 0.6920 - binary_accuracy: 0.8627 - val_loss: 0.6916 - val_binary_accuracy: 0.8615\n",
            "Epoch 14/100\n",
            "60/60 [==============================] - 4s 68ms/step - loss: 0.6921 - binary_accuracy: 0.7445 - val_loss: 0.6924 - val_binary_accuracy: 0.8615\n",
            "Epoch 15/100\n",
            "60/60 [==============================] - 4s 67ms/step - loss: 0.6921 - binary_accuracy: 0.8627 - val_loss: 0.6906 - val_binary_accuracy: 0.8615\n",
            "Epoch 16/100\n",
            "60/60 [==============================] - 4s 67ms/step - loss: 0.6920 - binary_accuracy: 0.8627 - val_loss: 0.6913 - val_binary_accuracy: 0.8615\n",
            "Epoch 17/100\n",
            "60/60 [==============================] - 4s 67ms/step - loss: 0.6920 - binary_accuracy: 0.8627 - val_loss: 0.6906 - val_binary_accuracy: 0.8615\n",
            "Epoch 18/100\n",
            "60/60 [==============================] - 4s 68ms/step - loss: 0.6920 - binary_accuracy: 0.8627 - val_loss: 0.6911 - val_binary_accuracy: 0.8615\n",
            "Epoch 19/100\n",
            "60/60 [==============================] - 4s 68ms/step - loss: 0.6921 - binary_accuracy: 0.7973 - val_loss: 0.6907 - val_binary_accuracy: 0.8615\n",
            "Epoch 20/100\n",
            "60/60 [==============================] - 4s 68ms/step - loss: 0.6920 - binary_accuracy: 0.8627 - val_loss: 0.6912 - val_binary_accuracy: 0.8615\n",
            "Epoch 21/100\n",
            "60/60 [==============================] - 4s 67ms/step - loss: 0.6921 - binary_accuracy: 0.8627 - val_loss: 0.6914 - val_binary_accuracy: 0.8615\n",
            "Epoch 22/100\n",
            "60/60 [==============================] - 4s 68ms/step - loss: 0.6921 - binary_accuracy: 0.8627 - val_loss: 0.6902 - val_binary_accuracy: 0.8615\n",
            "Epoch 23/100\n",
            "60/60 [==============================] - 4s 67ms/step - loss: 0.6921 - binary_accuracy: 0.8627 - val_loss: 0.6912 - val_binary_accuracy: 0.8615\n",
            "Epoch 24/100\n",
            "60/60 [==============================] - 4s 68ms/step - loss: 0.6921 - binary_accuracy: 0.3992 - val_loss: 0.6928 - val_binary_accuracy: 0.1392\n",
            "Epoch 25/100\n",
            "60/60 [==============================] - 5s 88ms/step - loss: 0.6920 - binary_accuracy: 0.8511 - val_loss: 0.6913 - val_binary_accuracy: 0.8615\n",
            "Epoch 26/100\n",
            "60/60 [==============================] - 4s 68ms/step - loss: 0.6920 - binary_accuracy: 0.8627 - val_loss: 0.6906 - val_binary_accuracy: 0.8615\n",
            "Epoch 27/100\n",
            "60/60 [==============================] - 4s 68ms/step - loss: 0.6921 - binary_accuracy: 0.8627 - val_loss: 0.6910 - val_binary_accuracy: 0.8615\n",
            "Epoch 28/100\n",
            "60/60 [==============================] - 4s 68ms/step - loss: 0.6921 - binary_accuracy: 0.8627 - val_loss: 0.6909 - val_binary_accuracy: 0.8615\n",
            "Epoch 29/100\n",
            "60/60 [==============================] - 5s 82ms/step - loss: 0.6921 - binary_accuracy: 0.8627 - val_loss: 0.6907 - val_binary_accuracy: 0.8615\n",
            "Epoch 30/100\n",
            "60/60 [==============================] - 4s 68ms/step - loss: 0.6920 - binary_accuracy: 0.8627 - val_loss: 0.6902 - val_binary_accuracy: 0.8615\n",
            "Epoch 31/100\n",
            "60/60 [==============================] - 4s 67ms/step - loss: 0.6921 - binary_accuracy: 0.8627 - val_loss: 0.6896 - val_binary_accuracy: 0.8615\n",
            "Epoch 32/100\n",
            "60/60 [==============================] - 4s 68ms/step - loss: 0.6920 - binary_accuracy: 0.8627 - val_loss: 0.6906 - val_binary_accuracy: 0.8615\n",
            "Epoch 33/100\n",
            "60/60 [==============================] - 4s 68ms/step - loss: 0.6921 - binary_accuracy: 0.5797 - val_loss: 0.6925 - val_binary_accuracy: 0.8615\n",
            "Epoch 34/100\n",
            "60/60 [==============================] - 4s 69ms/step - loss: 0.6921 - binary_accuracy: 0.8627 - val_loss: 0.6897 - val_binary_accuracy: 0.8615\n",
            "Epoch 35/100\n",
            "60/60 [==============================] - 4s 67ms/step - loss: 0.6920 - binary_accuracy: 0.8627 - val_loss: 0.6908 - val_binary_accuracy: 0.8615\n",
            "Epoch 36/100\n",
            "60/60 [==============================] - 4s 68ms/step - loss: 0.6921 - binary_accuracy: 0.8627 - val_loss: 0.6918 - val_binary_accuracy: 0.8615\n",
            "Epoch 37/100\n",
            "60/60 [==============================] - 4s 67ms/step - loss: 0.6921 - binary_accuracy: 0.8627 - val_loss: 0.6901 - val_binary_accuracy: 0.8615\n",
            "Epoch 38/100\n",
            "60/60 [==============================] - 4s 68ms/step - loss: 0.6920 - binary_accuracy: 0.8627 - val_loss: 0.6908 - val_binary_accuracy: 0.8615\n",
            "Epoch 39/100\n",
            "60/60 [==============================] - 4s 68ms/step - loss: 0.6921 - binary_accuracy: 0.8627 - val_loss: 0.6896 - val_binary_accuracy: 0.8615\n",
            "Epoch 40/100\n",
            "60/60 [==============================] - 4s 68ms/step - loss: 0.6920 - binary_accuracy: 0.8627 - val_loss: 0.6895 - val_binary_accuracy: 0.8615\n",
            "Epoch 41/100\n",
            "60/60 [==============================] - 4s 68ms/step - loss: 0.6921 - binary_accuracy: 0.8627 - val_loss: 0.6915 - val_binary_accuracy: 0.8615\n",
            "Epoch 42/100\n",
            "60/60 [==============================] - 4s 68ms/step - loss: 0.6921 - binary_accuracy: 0.7574 - val_loss: 0.6908 - val_binary_accuracy: 0.8615\n",
            "Epoch 43/100\n",
            "60/60 [==============================] - 4s 68ms/step - loss: 0.6921 - binary_accuracy: 0.6098 - val_loss: 0.6914 - val_binary_accuracy: 0.8615\n",
            "Epoch 44/100\n",
            "60/60 [==============================] - 4s 68ms/step - loss: 0.6921 - binary_accuracy: 0.8627 - val_loss: 0.6919 - val_binary_accuracy: 0.8615\n",
            "Epoch 45/100\n",
            "60/60 [==============================] - 4s 68ms/step - loss: 0.6920 - binary_accuracy: 0.8627 - val_loss: 0.6909 - val_binary_accuracy: 0.8615\n",
            "Epoch 46/100\n",
            "60/60 [==============================] - 4s 69ms/step - loss: 0.6921 - binary_accuracy: 0.8627 - val_loss: 0.6920 - val_binary_accuracy: 0.8615\n",
            "Epoch 47/100\n",
            "60/60 [==============================] - 4s 68ms/step - loss: 0.6921 - binary_accuracy: 0.3155 - val_loss: 0.6928 - val_binary_accuracy: 0.1392\n",
            "Epoch 48/100\n",
            "60/60 [==============================] - 4s 67ms/step - loss: 0.6921 - binary_accuracy: 0.7479 - val_loss: 0.6928 - val_binary_accuracy: 0.1392\n",
            "Epoch 49/100\n",
            "60/60 [==============================] - 4s 68ms/step - loss: 0.6921 - binary_accuracy: 0.3746 - val_loss: 0.6934 - val_binary_accuracy: 0.1392\n",
            "Epoch 50/100\n",
            "60/60 [==============================] - 4s 68ms/step - loss: 0.6921 - binary_accuracy: 0.1381 - val_loss: 0.6944 - val_binary_accuracy: 0.1392\n",
            "Epoch 51/100\n",
            "60/60 [==============================] - 4s 68ms/step - loss: 0.6920 - binary_accuracy: 0.1977 - val_loss: 0.6926 - val_binary_accuracy: 0.8615\n",
            "Epoch 52/100\n",
            "60/60 [==============================] - 4s 68ms/step - loss: 0.6920 - binary_accuracy: 0.8627 - val_loss: 0.6925 - val_binary_accuracy: 0.8615\n",
            "Epoch 53/100\n",
            "60/60 [==============================] - 4s 68ms/step - loss: 0.6921 - binary_accuracy: 0.5333 - val_loss: 0.6926 - val_binary_accuracy: 0.8615\n",
            "Epoch 54/100\n",
            "60/60 [==============================] - 4s 68ms/step - loss: 0.6920 - binary_accuracy: 0.1497 - val_loss: 0.6947 - val_binary_accuracy: 0.1392\n",
            "Epoch 55/100\n",
            "60/60 [==============================] - 4s 68ms/step - loss: 0.6921 - binary_accuracy: 0.1381 - val_loss: 0.6946 - val_binary_accuracy: 0.1392\n",
            "Epoch 56/100\n",
            "60/60 [==============================] - 5s 91ms/step - loss: 0.6920 - binary_accuracy: 0.1381 - val_loss: 0.6939 - val_binary_accuracy: 0.1392\n",
            "Epoch 57/100\n",
            "60/60 [==============================] - 4s 68ms/step - loss: 0.6920 - binary_accuracy: 0.1381 - val_loss: 0.6932 - val_binary_accuracy: 0.1392\n",
            "Epoch 58/100\n",
            "60/60 [==============================] - 4s 68ms/step - loss: 0.6921 - binary_accuracy: 0.1940 - val_loss: 0.6933 - val_binary_accuracy: 0.1392\n",
            "Epoch 59/100\n",
            "60/60 [==============================] - 4s 68ms/step - loss: 0.6921 - binary_accuracy: 0.3762 - val_loss: 0.6928 - val_binary_accuracy: 0.1392\n",
            "Epoch 60/100\n",
            "60/60 [==============================] - 4s 68ms/step - loss: 0.6920 - binary_accuracy: 0.4960 - val_loss: 0.6927 - val_binary_accuracy: 0.1392\n",
            "Epoch 61/100\n",
            "60/60 [==============================] - 4s 68ms/step - loss: 0.6920 - binary_accuracy: 0.8358 - val_loss: 0.6920 - val_binary_accuracy: 0.8615\n",
            "Epoch 62/100\n",
            "60/60 [==============================] - 4s 67ms/step - loss: 0.6920 - binary_accuracy: 0.8627 - val_loss: 0.6927 - val_binary_accuracy: 0.8615\n",
            "Epoch 63/100\n",
            "60/60 [==============================] - 4s 68ms/step - loss: 0.6920 - binary_accuracy: 0.4720 - val_loss: 0.6933 - val_binary_accuracy: 0.1392\n",
            "Epoch 64/100\n",
            "60/60 [==============================] - 4s 68ms/step - loss: 0.6921 - binary_accuracy: 0.2658 - val_loss: 0.6933 - val_binary_accuracy: 0.1392\n",
            "Epoch 65/100\n",
            "60/60 [==============================] - 4s 68ms/step - loss: 0.6921 - binary_accuracy: 0.7980 - val_loss: 0.6927 - val_binary_accuracy: 0.8615\n",
            "Epoch 66/100\n",
            "60/60 [==============================] - 4s 69ms/step - loss: 0.6920 - binary_accuracy: 0.1497 - val_loss: 0.6932 - val_binary_accuracy: 0.1392\n",
            "Epoch 67/100\n",
            "60/60 [==============================] - 4s 69ms/step - loss: 0.6920 - binary_accuracy: 0.5285 - val_loss: 0.6922 - val_binary_accuracy: 0.8615\n",
            "Epoch 68/100\n",
            "60/60 [==============================] - 4s 68ms/step - loss: 0.6921 - binary_accuracy: 0.5932 - val_loss: 0.6914 - val_binary_accuracy: 0.8615\n",
            "Epoch 69/100\n",
            "60/60 [==============================] - 4s 68ms/step - loss: 0.6920 - binary_accuracy: 0.8627 - val_loss: 0.6917 - val_binary_accuracy: 0.8615\n",
            "Epoch 70/100\n",
            "60/60 [==============================] - 4s 69ms/step - loss: 0.7148 - binary_accuracy: 0.6431 - val_loss: 0.6934 - val_binary_accuracy: 0.1392\n",
            "Epoch 71/100\n",
            "60/60 [==============================] - 4s 68ms/step - loss: 0.6921 - binary_accuracy: 0.1938 - val_loss: 0.7217 - val_binary_accuracy: 0.1392\n",
            "Epoch 72/100\n",
            "60/60 [==============================] - 4s 68ms/step - loss: 0.6935 - binary_accuracy: 0.4665 - val_loss: 0.6885 - val_binary_accuracy: 0.8615\n",
            "Epoch 73/100\n",
            "60/60 [==============================] - 4s 68ms/step - loss: 0.6923 - binary_accuracy: 0.3281 - val_loss: 0.6916 - val_binary_accuracy: 0.8615\n",
            "Epoch 74/100\n",
            "60/60 [==============================] - 4s 68ms/step - loss: 0.6921 - binary_accuracy: 0.8627 - val_loss: 0.6919 - val_binary_accuracy: 0.8615\n",
            "Epoch 75/100\n",
            "60/60 [==============================] - 4s 69ms/step - loss: 0.6921 - binary_accuracy: 0.3754 - val_loss: 0.6924 - val_binary_accuracy: 0.8615\n",
            "Epoch 76/100\n",
            "60/60 [==============================] - 4s 68ms/step - loss: 0.6922 - binary_accuracy: 0.8627 - val_loss: 0.6906 - val_binary_accuracy: 0.8615\n",
            "Epoch 77/100\n",
            "60/60 [==============================] - 4s 68ms/step - loss: 0.6921 - binary_accuracy: 0.8627 - val_loss: 0.6911 - val_binary_accuracy: 0.8615\n",
            "Epoch 78/100\n",
            "60/60 [==============================] - 4s 68ms/step - loss: 0.6920 - binary_accuracy: 0.8627 - val_loss: 0.6915 - val_binary_accuracy: 0.8615\n",
            "Epoch 79/100\n",
            "60/60 [==============================] - 4s 67ms/step - loss: 0.6921 - binary_accuracy: 0.6037 - val_loss: 0.6922 - val_binary_accuracy: 0.8615\n",
            "Epoch 80/100\n",
            "60/60 [==============================] - 4s 68ms/step - loss: 0.6920 - binary_accuracy: 0.6864 - val_loss: 0.6926 - val_binary_accuracy: 0.8615\n",
            "Epoch 81/100\n",
            "60/60 [==============================] - 4s 68ms/step - loss: 0.6921 - binary_accuracy: 0.3508 - val_loss: 0.6927 - val_binary_accuracy: 0.8615\n",
            "Epoch 82/100\n",
            "60/60 [==============================] - 4s 68ms/step - loss: 0.6920 - binary_accuracy: 0.8083 - val_loss: 0.6917 - val_binary_accuracy: 0.8615\n",
            "Epoch 83/100\n",
            "60/60 [==============================] - 4s 68ms/step - loss: 0.6920 - binary_accuracy: 0.8627 - val_loss: 0.6915 - val_binary_accuracy: 0.8615\n",
            "Epoch 84/100\n",
            "60/60 [==============================] - 4s 69ms/step - loss: 0.6921 - binary_accuracy: 0.8627 - val_loss: 0.6914 - val_binary_accuracy: 0.8615\n",
            "Epoch 85/100\n",
            "60/60 [==============================] - 4s 68ms/step - loss: 0.6921 - binary_accuracy: 0.8627 - val_loss: 0.6908 - val_binary_accuracy: 0.8615\n",
            "Epoch 86/100\n",
            "60/60 [==============================] - 4s 68ms/step - loss: 0.6920 - binary_accuracy: 0.8627 - val_loss: 0.6923 - val_binary_accuracy: 0.8615\n",
            "Epoch 87/100\n",
            "60/60 [==============================] - 5s 87ms/step - loss: 0.6921 - binary_accuracy: 0.7598 - val_loss: 0.6917 - val_binary_accuracy: 0.8615\n",
            "Epoch 88/100\n",
            "60/60 [==============================] - 4s 68ms/step - loss: 0.6920 - binary_accuracy: 0.6360 - val_loss: 0.6929 - val_binary_accuracy: 0.1392\n",
            "Epoch 89/100\n",
            "60/60 [==============================] - 4s 70ms/step - loss: 0.6920 - binary_accuracy: 0.1381 - val_loss: 0.6934 - val_binary_accuracy: 0.1392\n",
            "Epoch 90/100\n",
            "60/60 [==============================] - 4s 68ms/step - loss: 0.6920 - binary_accuracy: 0.7614 - val_loss: 0.6923 - val_binary_accuracy: 0.8615\n",
            "Epoch 91/100\n",
            "60/60 [==============================] - 4s 68ms/step - loss: 0.6920 - binary_accuracy: 0.8627 - val_loss: 0.6927 - val_binary_accuracy: 0.8615\n",
            "Epoch 92/100\n",
            "60/60 [==============================] - 4s 67ms/step - loss: 0.6920 - binary_accuracy: 0.1507 - val_loss: 0.6943 - val_binary_accuracy: 0.1392\n",
            "Epoch 93/100\n",
            "60/60 [==============================] - 4s 68ms/step - loss: 0.6920 - binary_accuracy: 0.1381 - val_loss: 0.6938 - val_binary_accuracy: 0.1392\n",
            "Epoch 94/100\n",
            "60/60 [==============================] - 4s 69ms/step - loss: 0.6921 - binary_accuracy: 0.1816 - val_loss: 0.6938 - val_binary_accuracy: 0.1392\n",
            "Epoch 95/100\n",
            "60/60 [==============================] - 4s 69ms/step - loss: 0.6920 - binary_accuracy: 0.1777 - val_loss: 0.6934 - val_binary_accuracy: 0.1392\n",
            "Epoch 96/100\n",
            "60/60 [==============================] - 4s 71ms/step - loss: 0.6921 - binary_accuracy: 0.1381 - val_loss: 0.6935 - val_binary_accuracy: 0.1392\n",
            "Epoch 97/100\n",
            "60/60 [==============================] - 6s 95ms/step - loss: 0.6921 - binary_accuracy: 0.1381 - val_loss: 0.6933 - val_binary_accuracy: 0.1392\n",
            "Epoch 98/100\n",
            "60/60 [==============================] - 4s 67ms/step - loss: 0.6920 - binary_accuracy: 0.1381 - val_loss: 0.6937 - val_binary_accuracy: 0.1392\n",
            "Epoch 99/100\n",
            "60/60 [==============================] - 5s 82ms/step - loss: 0.6921 - binary_accuracy: 0.1381 - val_loss: 0.6945 - val_binary_accuracy: 0.1392\n",
            "Epoch 100/100\n",
            "60/60 [==============================] - 8s 128ms/step - loss: 0.6921 - binary_accuracy: 0.1381 - val_loss: 0.6940 - val_binary_accuracy: 0.1392\n"
          ]
        },
        {
          "output_type": "execute_result",
          "data": {
            "text/plain": [
              "<keras.callbacks.History at 0x7fd4ca4175e0>"
            ]
          },
          "metadata": {},
          "execution_count": 60
        }
      ]
    },
    {
      "cell_type": "markdown",
      "source": [
        "Scores after 100 epochs :\n",
        "\n",
        "\n",
        "    loss : 0.6921 - val_loss : 0.6940\n",
        "    binary_accuracy : 0.1381 - val_binary_accuracy : 0.1392"
      ],
      "metadata": {
        "id": "vl3fnIv_64mX"
      }
    },
    {
      "cell_type": "code",
      "source": [
        "model_gru.save(\"model_gru.h5\")"
      ],
      "metadata": {
        "id": "kusPpGZc3x0z"
      },
      "execution_count": 61,
      "outputs": []
    },
    {
      "cell_type": "code",
      "source": [
        "json.dump(model_gru.history.history, open(\"/content/GRU_history.json\", 'w'))"
      ],
      "metadata": {
        "id": "1qZoUjEk37jE"
      },
      "execution_count": 62,
      "outputs": []
    },
    {
      "cell_type": "markdown",
      "source": [
        "# LSTM"
      ],
      "metadata": {
        "id": "4vu52FdW7JDM"
      }
    },
    {
      "cell_type": "code",
      "source": [
        "# We try LSTM now\n",
        "from tensorflow.keras.layers import Embedding, SimpleRNN, Dense, GRU, LSTM\n",
        "\n",
        "vocab_size = len(tokenizer.word_index)\n",
        "model_lstm = tf.keras.Sequential([\n",
        "                  Embedding(vocab_size, 64,name=\"embedding\"),\n",
        "                  LSTM(units=64, return_sequences=True), # maintains the sequential nature\n",
        "                  LSTM(units=32, return_sequences=False), # returns the last output\n",
        "                  Dense(16, activation='relu'),\n",
        "                  Dense(8, activation='relu'),\n",
        "\n",
        "                  Dense(1, activation=\"sigmoid\")\n",
        "])"
      ],
      "metadata": {
        "id": "skEjQr0W7HSQ"
      },
      "execution_count": 63,
      "outputs": []
    },
    {
      "cell_type": "code",
      "source": [
        "model_lstm.summary()"
      ],
      "metadata": {
        "colab": {
          "base_uri": "https://localhost:8080/"
        },
        "id": "TS1IPpLl7UY2",
        "outputId": "ccf3cb2f-3d83-4c3f-a98c-b68c4e94626b"
      },
      "execution_count": 64,
      "outputs": [
        {
          "output_type": "stream",
          "name": "stdout",
          "text": [
            "Model: \"sequential_4\"\n",
            "_________________________________________________________________\n",
            " Layer (type)                Output Shape              Param #   \n",
            "=================================================================\n",
            " embedding (Embedding)       (None, None, 64)          524032    \n",
            "                                                                 \n",
            " lstm (LSTM)                 (None, None, 64)          33024     \n",
            "                                                                 \n",
            " lstm_1 (LSTM)               (None, 32)                12416     \n",
            "                                                                 \n",
            " dense_12 (Dense)            (None, 16)                528       \n",
            "                                                                 \n",
            " dense_13 (Dense)            (None, 8)                 136       \n",
            "                                                                 \n",
            " dense_14 (Dense)            (None, 1)                 9         \n",
            "                                                                 \n",
            "=================================================================\n",
            "Total params: 570,145\n",
            "Trainable params: 570,145\n",
            "Non-trainable params: 0\n",
            "_________________________________________________________________\n"
          ]
        }
      ]
    },
    {
      "cell_type": "code",
      "source": [
        "optimizer= tf.keras.optimizers.Adam()\n",
        "\n",
        "model_lstm.compile(optimizer=optimizer,\n",
        "              loss=tf.keras.losses.BinaryCrossentropy(),\n",
        "              metrics=[tf.keras.metrics.BinaryAccuracy()])"
      ],
      "metadata": {
        "id": "pWN2M0i87cgX"
      },
      "execution_count": 65,
      "outputs": []
    },
    {
      "cell_type": "code",
      "source": [
        "model_lstm.fit(train_data,\n",
        "              epochs=100, \n",
        "              validation_data=test_data,\n",
        "               class_weight=weights)"
      ],
      "metadata": {
        "colab": {
          "base_uri": "https://localhost:8080/"
        },
        "id": "yqzPrhYc8eP_",
        "outputId": "7000f521-5b17-41ff-b695-40c1a20b5908"
      },
      "execution_count": 66,
      "outputs": [
        {
          "output_type": "stream",
          "name": "stdout",
          "text": [
            "Epoch 1/100\n",
            "60/60 [==============================] - 16s 149ms/step - loss: 0.6929 - binary_accuracy: 0.6624 - val_loss: 0.6811 - val_binary_accuracy: 0.8615\n",
            "Epoch 2/100\n",
            "60/60 [==============================] - 5s 87ms/step - loss: 0.4774 - binary_accuracy: 0.9205 - val_loss: 0.2679 - val_binary_accuracy: 0.9470\n",
            "Epoch 3/100\n",
            "60/60 [==============================] - 7s 113ms/step - loss: 0.2417 - binary_accuracy: 0.9683 - val_loss: 0.2516 - val_binary_accuracy: 0.9631\n",
            "Epoch 4/100\n",
            "60/60 [==============================] - 6s 93ms/step - loss: 0.1769 - binary_accuracy: 0.9675 - val_loss: 0.1863 - val_binary_accuracy: 0.9581\n",
            "Epoch 5/100\n",
            "60/60 [==============================] - 4s 72ms/step - loss: 0.1629 - binary_accuracy: 0.9673 - val_loss: 0.1890 - val_binary_accuracy: 0.9581\n",
            "Epoch 6/100\n",
            "60/60 [==============================] - 4s 71ms/step - loss: 0.3520 - binary_accuracy: 0.7841 - val_loss: 0.4880 - val_binary_accuracy: 0.6182\n",
            "Epoch 7/100\n",
            "60/60 [==============================] - 4s 72ms/step - loss: 0.4676 - binary_accuracy: 0.6278 - val_loss: 0.5298 - val_binary_accuracy: 0.6053\n",
            "Epoch 8/100\n",
            "60/60 [==============================] - 5s 81ms/step - loss: 0.4649 - binary_accuracy: 0.6278 - val_loss: 0.5226 - val_binary_accuracy: 0.6053\n",
            "Epoch 9/100\n",
            "60/60 [==============================] - 5s 82ms/step - loss: 0.4633 - binary_accuracy: 0.6278 - val_loss: 0.5293 - val_binary_accuracy: 0.6053\n",
            "Epoch 10/100\n",
            "60/60 [==============================] - 5s 89ms/step - loss: 0.4597 - binary_accuracy: 0.6294 - val_loss: 0.5496 - val_binary_accuracy: 0.6084\n",
            "Epoch 11/100\n",
            "60/60 [==============================] - 5s 87ms/step - loss: 0.4591 - binary_accuracy: 0.6294 - val_loss: 0.5288 - val_binary_accuracy: 0.6084\n",
            "Epoch 12/100\n",
            "60/60 [==============================] - 4s 73ms/step - loss: 0.4591 - binary_accuracy: 0.6294 - val_loss: 0.5439 - val_binary_accuracy: 0.6096\n",
            "Epoch 13/100\n",
            "60/60 [==============================] - 4s 74ms/step - loss: 0.4597 - binary_accuracy: 0.6294 - val_loss: 0.5365 - val_binary_accuracy: 0.6102\n",
            "Epoch 14/100\n",
            "60/60 [==============================] - 5s 82ms/step - loss: 0.4590 - binary_accuracy: 0.6301 - val_loss: 0.5324 - val_binary_accuracy: 0.6115\n",
            "Epoch 15/100\n",
            "60/60 [==============================] - 5s 83ms/step - loss: 0.4538 - binary_accuracy: 0.6367 - val_loss: 0.5151 - val_binary_accuracy: 0.6213\n",
            "Epoch 16/100\n",
            "60/60 [==============================] - 4s 74ms/step - loss: 0.4521 - binary_accuracy: 0.6404 - val_loss: 0.5298 - val_binary_accuracy: 0.6244\n",
            "Epoch 17/100\n",
            "60/60 [==============================] - 5s 81ms/step - loss: 0.4482 - binary_accuracy: 0.6468 - val_loss: 0.5161 - val_binary_accuracy: 0.6293\n",
            "Epoch 18/100\n",
            "60/60 [==============================] - 7s 123ms/step - loss: 0.4435 - binary_accuracy: 0.6513 - val_loss: 0.5127 - val_binary_accuracy: 0.6342\n",
            "Epoch 19/100\n",
            "60/60 [==============================] - 4s 73ms/step - loss: 0.4449 - binary_accuracy: 0.6550 - val_loss: 0.5217 - val_binary_accuracy: 0.6361\n",
            "Epoch 20/100\n",
            "60/60 [==============================] - 5s 82ms/step - loss: 0.4382 - binary_accuracy: 0.6589 - val_loss: 0.5002 - val_binary_accuracy: 0.6490\n",
            "Epoch 21/100\n",
            "60/60 [==============================] - 7s 116ms/step - loss: 0.4341 - binary_accuracy: 0.6711 - val_loss: 0.4846 - val_binary_accuracy: 0.6669\n",
            "Epoch 22/100\n",
            "60/60 [==============================] - 4s 74ms/step - loss: 0.4292 - binary_accuracy: 0.6806 - val_loss: 0.5158 - val_binary_accuracy: 0.6595\n",
            "Epoch 23/100\n",
            "60/60 [==============================] - 5s 87ms/step - loss: 0.4311 - binary_accuracy: 0.6671 - val_loss: 0.4866 - val_binary_accuracy: 0.6533\n",
            "Epoch 24/100\n",
            "60/60 [==============================] - 5s 75ms/step - loss: 0.4267 - binary_accuracy: 0.6703 - val_loss: 0.4989 - val_binary_accuracy: 0.6595\n",
            "Epoch 25/100\n",
            "60/60 [==============================] - 6s 94ms/step - loss: 0.4240 - binary_accuracy: 0.6740 - val_loss: 0.4942 - val_binary_accuracy: 0.6626\n",
            "Epoch 26/100\n",
            "60/60 [==============================] - 8s 139ms/step - loss: 0.4178 - binary_accuracy: 0.6822 - val_loss: 0.4884 - val_binary_accuracy: 0.6798\n",
            "Epoch 27/100\n",
            "60/60 [==============================] - 5s 84ms/step - loss: 0.4182 - binary_accuracy: 0.6922 - val_loss: 0.4811 - val_binary_accuracy: 0.6817\n",
            "Epoch 28/100\n",
            "60/60 [==============================] - 6s 93ms/step - loss: 0.4089 - binary_accuracy: 0.6990 - val_loss: 0.4810 - val_binary_accuracy: 0.6841\n",
            "Epoch 29/100\n",
            "60/60 [==============================] - 4s 73ms/step - loss: 0.4062 - binary_accuracy: 0.7022 - val_loss: 0.4832 - val_binary_accuracy: 0.6921\n",
            "Epoch 30/100\n",
            "60/60 [==============================] - 4s 75ms/step - loss: 0.4027 - binary_accuracy: 0.7064 - val_loss: 0.4779 - val_binary_accuracy: 0.6952\n",
            "Epoch 31/100\n",
            "60/60 [==============================] - 4s 74ms/step - loss: 0.4007 - binary_accuracy: 0.7091 - val_loss: 0.4992 - val_binary_accuracy: 0.6952\n",
            "Epoch 32/100\n",
            "60/60 [==============================] - 4s 73ms/step - loss: 0.3999 - binary_accuracy: 0.7104 - val_loss: 0.4705 - val_binary_accuracy: 0.6983\n",
            "Epoch 33/100\n",
            "60/60 [==============================] - 4s 72ms/step - loss: 0.3961 - binary_accuracy: 0.7152 - val_loss: 0.4605 - val_binary_accuracy: 0.7038\n",
            "Epoch 34/100\n",
            "60/60 [==============================] - 6s 108ms/step - loss: 0.3944 - binary_accuracy: 0.7173 - val_loss: 0.4742 - val_binary_accuracy: 0.7081\n",
            "Epoch 35/100\n",
            "60/60 [==============================] - 5s 90ms/step - loss: 0.3905 - binary_accuracy: 0.7220 - val_loss: 0.4711 - val_binary_accuracy: 0.7100\n",
            "Epoch 36/100\n",
            "60/60 [==============================] - 4s 72ms/step - loss: 0.3887 - binary_accuracy: 0.7239 - val_loss: 0.4646 - val_binary_accuracy: 0.7112\n",
            "Epoch 37/100\n",
            "60/60 [==============================] - 4s 74ms/step - loss: 0.3873 - binary_accuracy: 0.7262 - val_loss: 0.4761 - val_binary_accuracy: 0.7143\n",
            "Epoch 38/100\n",
            "60/60 [==============================] - 4s 73ms/step - loss: 0.3853 - binary_accuracy: 0.7281 - val_loss: 0.4633 - val_binary_accuracy: 0.7161\n",
            "Epoch 39/100\n",
            "60/60 [==============================] - 5s 88ms/step - loss: 0.3825 - binary_accuracy: 0.7320 - val_loss: 0.4634 - val_binary_accuracy: 0.7174\n",
            "Epoch 40/100\n",
            "60/60 [==============================] - 5s 83ms/step - loss: 0.3798 - binary_accuracy: 0.7357 - val_loss: 0.4649 - val_binary_accuracy: 0.7229\n",
            "Epoch 41/100\n",
            "60/60 [==============================] - 4s 72ms/step - loss: 0.3759 - binary_accuracy: 0.7400 - val_loss: 0.4588 - val_binary_accuracy: 0.7254\n",
            "Epoch 42/100\n",
            "60/60 [==============================] - 5s 76ms/step - loss: 0.3733 - binary_accuracy: 0.7431 - val_loss: 0.4546 - val_binary_accuracy: 0.7291\n",
            "Epoch 43/100\n",
            "60/60 [==============================] - 4s 75ms/step - loss: 0.3700 - binary_accuracy: 0.7463 - val_loss: 0.4499 - val_binary_accuracy: 0.7371\n",
            "Epoch 44/100\n",
            "60/60 [==============================] - 5s 89ms/step - loss: 0.3749 - binary_accuracy: 0.7532 - val_loss: 0.4609 - val_binary_accuracy: 0.7377\n",
            "Epoch 45/100\n",
            "60/60 [==============================] - 6s 105ms/step - loss: 0.3639 - binary_accuracy: 0.7579 - val_loss: 0.4608 - val_binary_accuracy: 0.7395\n",
            "Epoch 46/100\n",
            "60/60 [==============================] - 5s 76ms/step - loss: 0.3624 - binary_accuracy: 0.7598 - val_loss: 0.4560 - val_binary_accuracy: 0.7426\n",
            "Epoch 47/100\n",
            "60/60 [==============================] - 4s 74ms/step - loss: 0.3563 - binary_accuracy: 0.7624 - val_loss: 0.4535 - val_binary_accuracy: 0.7438\n",
            "Epoch 48/100\n",
            "60/60 [==============================] - 4s 74ms/step - loss: 0.3568 - binary_accuracy: 0.7664 - val_loss: 0.4335 - val_binary_accuracy: 0.7592\n",
            "Epoch 49/100\n",
            "60/60 [==============================] - 4s 74ms/step - loss: 0.3533 - binary_accuracy: 0.7743 - val_loss: 0.4229 - val_binary_accuracy: 0.7722\n",
            "Epoch 50/100\n",
            "60/60 [==============================] - 5s 86ms/step - loss: 0.3557 - binary_accuracy: 0.7790 - val_loss: 0.4518 - val_binary_accuracy: 0.7586\n",
            "Epoch 51/100\n",
            "60/60 [==============================] - 4s 73ms/step - loss: 0.3593 - binary_accuracy: 0.7724 - val_loss: 0.4419 - val_binary_accuracy: 0.7574\n",
            "Epoch 52/100\n",
            "60/60 [==============================] - 4s 73ms/step - loss: 0.3501 - binary_accuracy: 0.7753 - val_loss: 0.4380 - val_binary_accuracy: 0.7617\n",
            "Epoch 53/100\n",
            "60/60 [==============================] - 4s 73ms/step - loss: 0.3445 - binary_accuracy: 0.7801 - val_loss: 0.4254 - val_binary_accuracy: 0.7697\n",
            "Epoch 54/100\n",
            "60/60 [==============================] - 4s 75ms/step - loss: 0.3420 - binary_accuracy: 0.7827 - val_loss: 0.4206 - val_binary_accuracy: 0.7709\n",
            "Epoch 55/100\n",
            "60/60 [==============================] - 4s 75ms/step - loss: 0.3410 - binary_accuracy: 0.7841 - val_loss: 0.4196 - val_binary_accuracy: 0.7728\n",
            "Epoch 56/100\n",
            "60/60 [==============================] - 4s 75ms/step - loss: 0.3408 - binary_accuracy: 0.7848 - val_loss: 0.4238 - val_binary_accuracy: 0.7728\n",
            "Epoch 57/100\n",
            "60/60 [==============================] - 5s 83ms/step - loss: 0.3389 - binary_accuracy: 0.7859 - val_loss: 0.4298 - val_binary_accuracy: 0.7728\n",
            "Epoch 58/100\n",
            "60/60 [==============================] - 4s 74ms/step - loss: 0.3387 - binary_accuracy: 0.7862 - val_loss: 0.4147 - val_binary_accuracy: 0.7728\n",
            "Epoch 59/100\n",
            "60/60 [==============================] - 8s 131ms/step - loss: 0.3391 - binary_accuracy: 0.7864 - val_loss: 0.4376 - val_binary_accuracy: 0.7728\n",
            "Epoch 60/100\n",
            "60/60 [==============================] - 4s 73ms/step - loss: 0.3378 - binary_accuracy: 0.7872 - val_loss: 0.4309 - val_binary_accuracy: 0.7728\n",
            "Epoch 61/100\n",
            "60/60 [==============================] - 4s 73ms/step - loss: 0.3366 - binary_accuracy: 0.7880 - val_loss: 0.4136 - val_binary_accuracy: 0.7728\n",
            "Epoch 62/100\n",
            "60/60 [==============================] - 4s 73ms/step - loss: 0.3371 - binary_accuracy: 0.7885 - val_loss: 0.4368 - val_binary_accuracy: 0.7728\n",
            "Epoch 63/100\n",
            "60/60 [==============================] - 4s 73ms/step - loss: 0.3363 - binary_accuracy: 0.7888 - val_loss: 0.4152 - val_binary_accuracy: 0.7740\n",
            "Epoch 64/100\n",
            "60/60 [==============================] - 5s 76ms/step - loss: 0.3360 - binary_accuracy: 0.7899 - val_loss: 0.4161 - val_binary_accuracy: 0.7746\n",
            "Epoch 65/100\n",
            "60/60 [==============================] - 4s 73ms/step - loss: 0.3347 - binary_accuracy: 0.7907 - val_loss: 0.4256 - val_binary_accuracy: 0.7746\n",
            "Epoch 66/100\n",
            "60/60 [==============================] - 5s 76ms/step - loss: 0.3329 - binary_accuracy: 0.7922 - val_loss: 0.4315 - val_binary_accuracy: 0.7759\n",
            "Epoch 67/100\n",
            "60/60 [==============================] - 6s 93ms/step - loss: 0.3320 - binary_accuracy: 0.7933 - val_loss: 0.4301 - val_binary_accuracy: 0.7765\n",
            "Epoch 68/100\n",
            "60/60 [==============================] - 4s 74ms/step - loss: 0.3318 - binary_accuracy: 0.7938 - val_loss: 0.4303 - val_binary_accuracy: 0.7777\n",
            "Epoch 69/100\n",
            "60/60 [==============================] - 6s 101ms/step - loss: 0.3304 - binary_accuracy: 0.7959 - val_loss: 0.4299 - val_binary_accuracy: 0.7734\n",
            "Epoch 70/100\n",
            "60/60 [==============================] - 5s 75ms/step - loss: 0.3313 - binary_accuracy: 0.7949 - val_loss: 0.4231 - val_binary_accuracy: 0.7759\n",
            "Epoch 71/100\n",
            "60/60 [==============================] - 4s 73ms/step - loss: 0.3280 - binary_accuracy: 0.7975 - val_loss: 0.4361 - val_binary_accuracy: 0.7777\n",
            "Epoch 72/100\n",
            "60/60 [==============================] - 6s 102ms/step - loss: 0.3272 - binary_accuracy: 0.7983 - val_loss: 0.4283 - val_binary_accuracy: 0.7796\n",
            "Epoch 73/100\n",
            "60/60 [==============================] - 4s 74ms/step - loss: 0.3230 - binary_accuracy: 0.7994 - val_loss: 0.4271 - val_binary_accuracy: 0.7796\n",
            "Epoch 74/100\n",
            "60/60 [==============================] - 4s 74ms/step - loss: 0.3220 - binary_accuracy: 0.7996 - val_loss: 0.4251 - val_binary_accuracy: 0.7808\n",
            "Epoch 75/100\n",
            "60/60 [==============================] - 5s 85ms/step - loss: 0.3213 - binary_accuracy: 0.8007 - val_loss: 0.4177 - val_binary_accuracy: 0.7808\n",
            "Epoch 76/100\n",
            "60/60 [==============================] - 4s 75ms/step - loss: 0.3214 - binary_accuracy: 0.8010 - val_loss: 0.4344 - val_binary_accuracy: 0.7814\n",
            "Epoch 77/100\n",
            "60/60 [==============================] - 6s 96ms/step - loss: 0.3205 - binary_accuracy: 0.8012 - val_loss: 0.4336 - val_binary_accuracy: 0.7820\n",
            "Epoch 78/100\n",
            "60/60 [==============================] - 4s 74ms/step - loss: 0.3204 - binary_accuracy: 0.8023 - val_loss: 0.4357 - val_binary_accuracy: 0.7814\n",
            "Epoch 79/100\n",
            "60/60 [==============================] - 5s 81ms/step - loss: 0.3197 - binary_accuracy: 0.8025 - val_loss: 0.4330 - val_binary_accuracy: 0.7814\n",
            "Epoch 80/100\n",
            "60/60 [==============================] - 6s 97ms/step - loss: 0.3194 - binary_accuracy: 0.8033 - val_loss: 0.4226 - val_binary_accuracy: 0.7820\n",
            "Epoch 81/100\n",
            "60/60 [==============================] - 5s 86ms/step - loss: 0.3180 - binary_accuracy: 0.8041 - val_loss: 0.4201 - val_binary_accuracy: 0.7839\n",
            "Epoch 82/100\n",
            "60/60 [==============================] - 4s 75ms/step - loss: 0.3186 - binary_accuracy: 0.8041 - val_loss: 0.4298 - val_binary_accuracy: 0.7845\n",
            "Epoch 83/100\n",
            "60/60 [==============================] - 9s 151ms/step - loss: 0.3173 - binary_accuracy: 0.8046 - val_loss: 0.4234 - val_binary_accuracy: 0.7851\n",
            "Epoch 84/100\n",
            "60/60 [==============================] - 8s 128ms/step - loss: 0.3169 - binary_accuracy: 0.8052 - val_loss: 0.4214 - val_binary_accuracy: 0.7851\n",
            "Epoch 85/100\n",
            "60/60 [==============================] - 5s 90ms/step - loss: 0.3166 - binary_accuracy: 0.8052 - val_loss: 0.4230 - val_binary_accuracy: 0.7851\n",
            "Epoch 86/100\n",
            "60/60 [==============================] - 5s 76ms/step - loss: 0.3169 - binary_accuracy: 0.8052 - val_loss: 0.4202 - val_binary_accuracy: 0.7857\n",
            "Epoch 87/100\n",
            "60/60 [==============================] - 5s 86ms/step - loss: 0.3166 - binary_accuracy: 0.8052 - val_loss: 0.4292 - val_binary_accuracy: 0.7863\n",
            "Epoch 88/100\n",
            "60/60 [==============================] - 5s 90ms/step - loss: 0.3175 - binary_accuracy: 0.8044 - val_loss: 0.4195 - val_binary_accuracy: 0.7863\n",
            "Epoch 89/100\n",
            "60/60 [==============================] - 5s 88ms/step - loss: 0.3170 - binary_accuracy: 0.8060 - val_loss: 0.4272 - val_binary_accuracy: 0.7876\n",
            "Epoch 90/100\n",
            "60/60 [==============================] - 5s 81ms/step - loss: 0.3160 - binary_accuracy: 0.8068 - val_loss: 0.4152 - val_binary_accuracy: 0.7882\n",
            "Epoch 91/100\n",
            "60/60 [==============================] - 5s 86ms/step - loss: 0.3146 - binary_accuracy: 0.8078 - val_loss: 0.4209 - val_binary_accuracy: 0.7906\n",
            "Epoch 92/100\n",
            "60/60 [==============================] - 5s 75ms/step - loss: 0.3131 - binary_accuracy: 0.8089 - val_loss: 0.4176 - val_binary_accuracy: 0.7913\n",
            "Epoch 93/100\n",
            "60/60 [==============================] - 4s 73ms/step - loss: 0.3112 - binary_accuracy: 0.8110 - val_loss: 0.4149 - val_binary_accuracy: 0.7937\n",
            "Epoch 94/100\n",
            "60/60 [==============================] - 4s 73ms/step - loss: 0.3086 - binary_accuracy: 0.8136 - val_loss: 0.4162 - val_binary_accuracy: 0.7937\n",
            "Epoch 95/100\n",
            "60/60 [==============================] - 4s 73ms/step - loss: 0.3075 - binary_accuracy: 0.8149 - val_loss: 0.4245 - val_binary_accuracy: 0.7943\n",
            "Epoch 96/100\n",
            "60/60 [==============================] - 5s 75ms/step - loss: 0.3046 - binary_accuracy: 0.8181 - val_loss: 0.4131 - val_binary_accuracy: 0.7956\n",
            "Epoch 97/100\n",
            "60/60 [==============================] - 6s 97ms/step - loss: 0.3022 - binary_accuracy: 0.8205 - val_loss: 0.4104 - val_binary_accuracy: 0.7962\n",
            "Epoch 98/100\n",
            "60/60 [==============================] - 5s 89ms/step - loss: 0.2980 - binary_accuracy: 0.8242 - val_loss: 0.4115 - val_binary_accuracy: 0.8023\n",
            "Epoch 99/100\n",
            "60/60 [==============================] - 4s 74ms/step - loss: 0.2956 - binary_accuracy: 0.8268 - val_loss: 0.4135 - val_binary_accuracy: 0.8023\n",
            "Epoch 100/100\n",
            "60/60 [==============================] - 4s 74ms/step - loss: 0.2952 - binary_accuracy: 0.8279 - val_loss: 0.4043 - val_binary_accuracy: 0.8042\n"
          ]
        },
        {
          "output_type": "execute_result",
          "data": {
            "text/plain": [
              "<keras.callbacks.History at 0x7fd4c6f808e0>"
            ]
          },
          "metadata": {},
          "execution_count": 66
        }
      ]
    },
    {
      "cell_type": "markdown",
      "source": [
        "Scores after 100 epochs :\n",
        "\n",
        "\n",
        "    loss : 0.2952 - val_loss : 0.4043\n",
        "    binary_accuracy : 0.8279 - val_binary_accuracy : 0.8042"
      ],
      "metadata": {
        "id": "7KWhob9Q-KOd"
      }
    },
    {
      "cell_type": "code",
      "source": [
        "model_lstm.save(\"model_lstm.h5\")"
      ],
      "metadata": {
        "id": "AibFhNe18iym"
      },
      "execution_count": 67,
      "outputs": []
    },
    {
      "cell_type": "code",
      "source": [
        "json.dump(model_lstm.history.history, open(\"/content/LSTM_history.json\", 'w'))"
      ],
      "metadata": {
        "id": "uADrkhkD_xjz"
      },
      "execution_count": 68,
      "outputs": []
    },
    {
      "cell_type": "markdown",
      "source": [
        "## Classification Evaluation\n",
        "\n",
        "This part will focus on visualizing the training process and interpreting the results for our predictive models."
      ],
      "metadata": {
        "id": "IMzv2jvWAAAQ"
      }
    },
    {
      "cell_type": "markdown",
      "source": [
        "### SimpleRNN"
      ],
      "metadata": {
        "id": "8CPOWHSQAEL6"
      }
    },
    {
      "cell_type": "code",
      "source": [
        "# load Simple RNN model history\n",
        "simpleRNN_history = json.load(open(\"/content/simpleRNN_history.json\", 'r'))"
      ],
      "metadata": {
        "id": "HheZR928_4_3"
      },
      "execution_count": 69,
      "outputs": []
    },
    {
      "cell_type": "code",
      "source": [
        "model_simpleRNN = tf.keras.models.load_model(\"/content/model_simpleRNN.h5\")"
      ],
      "metadata": {
        "id": "HEVqPzOFBnDe"
      },
      "execution_count": 70,
      "outputs": []
    },
    {
      "cell_type": "code",
      "source": [
        "# Create a graph showing your loss and validation loss in relation to \n",
        "# the number of epochs for the simpleRNN model \n",
        "import plotly.graph_objects as go\n",
        "fig = go.Figure()\n",
        "fig.add_trace(go.Scatter(y=simpleRNN_history[\"loss\"],\n",
        "                    mode='lines',\n",
        "                    name='loss'))\n",
        "fig.add_trace(go.Scatter(y=simpleRNN_history[\"val_loss\"],\n",
        "                    mode='lines',\n",
        "                    name='val_loss'))\n",
        "fig.show()\n"
      ],
      "metadata": {
        "colab": {
          "base_uri": "https://localhost:8080/",
          "height": 542
        },
        "id": "ljOGgpcTBpbO",
        "outputId": "9900777c-99e0-408c-a397-8550f817870b"
      },
      "execution_count": 71,
      "outputs": [
        {
          "output_type": "display_data",
          "data": {
            "text/html": [
              "<html>\n",
              "<head><meta charset=\"utf-8\" /></head>\n",
              "<body>\n",
              "    <div>            <script src=\"https://cdnjs.cloudflare.com/ajax/libs/mathjax/2.7.5/MathJax.js?config=TeX-AMS-MML_SVG\"></script><script type=\"text/javascript\">if (window.MathJax) {MathJax.Hub.Config({SVG: {font: \"STIX-Web\"}});}</script>                <script type=\"text/javascript\">window.PlotlyConfig = {MathJaxConfig: 'local'};</script>\n",
              "        <script src=\"https://cdn.plot.ly/plotly-2.8.3.min.js\"></script>                <div id=\"c411a2d7-aecb-4cf5-b37f-405e1369fd54\" class=\"plotly-graph-div\" style=\"height:525px; width:100%;\"></div>            <script type=\"text/javascript\">                                    window.PLOTLYENV=window.PLOTLYENV || {};                                    if (document.getElementById(\"c411a2d7-aecb-4cf5-b37f-405e1369fd54\")) {                    Plotly.newPlot(                        \"c411a2d7-aecb-4cf5-b37f-405e1369fd54\",                        [{\"mode\":\"lines\",\"name\":\"loss\",\"y\":[0.373663991689682,0.17279189825057983,0.14847300946712494,0.21586349606513977,0.1627296507358551,0.1440340131521225,0.09823736548423767,0.0790388211607933,0.09552298486232758,0.07627759873867035,0.07489834725856781,0.05705956369638443,0.06802301108837128,0.06628000736236572,0.07809222489595413,0.15455980598926544,0.10011554509401321,0.06785160303115845,0.038846515119075775,0.029909325763583183,0.024884749203920364,0.02690644934773445,0.029922615736722946,0.037225402891635895,0.02421186864376068,0.048579443246126175,0.021202046424150467,0.01754268817603588,0.01726696453988552,0.03118121810257435,0.02152956649661064,0.012783380225300789,0.009842204861342907,0.007867272011935711,0.0056984806433320045,0.00862976349890232,0.004476532340049744,0.029959695413708687,0.043275173753499985,0.16930724680423737,0.08934225887060165,0.07841166108846664,0.06895151734352112,0.05534753575921059,0.06621275842189789,0.0271761454641819,0.023114018142223358,0.030116666108369827,0.019703170284628868,0.01756162755191326,0.016484711319208145,0.029855892062187195,0.029038606211543083,0.013891289010643959,0.0189304668456316,0.012274499982595444,0.010526889003813267,0.007437318563461304,0.008032292127609253,0.00485863396897912,0.004430036526173353,0.06527065485715866,0.04501659795641899,0.04059428721666336,0.018289778381586075,0.021074999123811722,0.011525887064635754,0.013458202593028545,0.01344745047390461,0.006281240377575159,0.006030617747455835,0.0049132416024804115,0.004254595842212439,0.003969429060816765,0.004058615770190954,0.0031513883732259274,0.0025920963380485773,0.0031914024148136377,0.0035535881761461496,0.004378083162009716,0.0019648256711661816,0.004186650738120079,0.003948130179196596,0.003674795152619481,0.0035605242010205984,0.004318628925830126,0.035353269428014755,0.062224406749010086,0.04589754715561867,0.055467817932367325,0.09423567354679108,0.07043976336717606,0.0861186683177948,0.16744230687618256,0.06766576319932938,0.03215252608060837,0.035454731434583664,0.02363249659538269,0.022486435249447823,0.018785560503602028],\"type\":\"scatter\"},{\"mode\":\"lines\",\"name\":\"val_loss\",\"y\":[0.17385825514793396,0.17923115193843842,0.3517782390117645,0.1676933467388153,0.11633256822824478,0.352359414100647,0.20787885785102844,0.1359122395515442,0.1146911010146141,0.20942406356334686,0.12161365896463394,0.14100706577301025,0.1268547922372818,0.23887556791305542,0.2263418436050415,0.26966699957847595,0.11424769461154938,0.14005698263645172,0.15424960851669312,0.15105746686458588,0.14501890540122986,0.2560708522796631,0.12866394221782684,0.12800107896327972,0.29631951451301575,0.18161219358444214,0.2155468761920929,0.18920795619487762,0.1523042768239975,0.1697762906551361,0.17407824099063873,0.17045976221561432,0.23479382693767548,0.21708570420742035,0.21836550533771515,0.2018144726753235,0.20496484637260437,0.19771729409694672,0.16779716312885284,0.3060292899608612,0.1675366908311844,0.16793204843997955,0.15583930909633636,0.4273777902126312,0.1493954360485077,0.16674113273620605,0.1317717730998993,0.13543494045734406,0.16813938319683075,0.16264154016971588,0.16037657856941223,0.15421085059642792,0.14165309071540833,0.14218373596668243,0.16018952429294586,0.1586967259645462,0.17945262789726257,0.1777563989162445,0.1929389387369156,0.19485439360141754,0.19628706574440002,0.14859840273857117,0.1708504557609558,0.26277533173561096,0.17723985016345978,0.17419786751270294,0.18980205059051514,0.17083850502967834,0.19666369259357452,0.2030566930770874,0.22007620334625244,0.23316876590251923,0.24574151635169983,0.2902480363845825,0.22294305264949799,0.24738802015781403,0.2670454680919647,0.28434455394744873,0.25653770565986633,0.26803427934646606,0.26888176798820496,0.2605364918708801,0.26239103078842163,0.2516532242298126,0.2706983685493469,0.2738187313079834,0.22953300178050995,0.18345549702644348,0.17857132852077484,0.2772984206676483,0.18078814446926117,0.1903723031282425,0.11702890694141388,0.20869597792625427,0.1907719522714615,0.1750829964876175,0.1874789595603943,0.16460686922073364,0.14244431257247925,0.14070837199687958],\"type\":\"scatter\"}],                        {\"template\":{\"data\":{\"bar\":[{\"error_x\":{\"color\":\"#2a3f5f\"},\"error_y\":{\"color\":\"#2a3f5f\"},\"marker\":{\"line\":{\"color\":\"#E5ECF6\",\"width\":0.5},\"pattern\":{\"fillmode\":\"overlay\",\"size\":10,\"solidity\":0.2}},\"type\":\"bar\"}],\"barpolar\":[{\"marker\":{\"line\":{\"color\":\"#E5ECF6\",\"width\":0.5},\"pattern\":{\"fillmode\":\"overlay\",\"size\":10,\"solidity\":0.2}},\"type\":\"barpolar\"}],\"carpet\":[{\"aaxis\":{\"endlinecolor\":\"#2a3f5f\",\"gridcolor\":\"white\",\"linecolor\":\"white\",\"minorgridcolor\":\"white\",\"startlinecolor\":\"#2a3f5f\"},\"baxis\":{\"endlinecolor\":\"#2a3f5f\",\"gridcolor\":\"white\",\"linecolor\":\"white\",\"minorgridcolor\":\"white\",\"startlinecolor\":\"#2a3f5f\"},\"type\":\"carpet\"}],\"choropleth\":[{\"colorbar\":{\"outlinewidth\":0,\"ticks\":\"\"},\"type\":\"choropleth\"}],\"contour\":[{\"colorbar\":{\"outlinewidth\":0,\"ticks\":\"\"},\"colorscale\":[[0.0,\"#0d0887\"],[0.1111111111111111,\"#46039f\"],[0.2222222222222222,\"#7201a8\"],[0.3333333333333333,\"#9c179e\"],[0.4444444444444444,\"#bd3786\"],[0.5555555555555556,\"#d8576b\"],[0.6666666666666666,\"#ed7953\"],[0.7777777777777778,\"#fb9f3a\"],[0.8888888888888888,\"#fdca26\"],[1.0,\"#f0f921\"]],\"type\":\"contour\"}],\"contourcarpet\":[{\"colorbar\":{\"outlinewidth\":0,\"ticks\":\"\"},\"type\":\"contourcarpet\"}],\"heatmap\":[{\"colorbar\":{\"outlinewidth\":0,\"ticks\":\"\"},\"colorscale\":[[0.0,\"#0d0887\"],[0.1111111111111111,\"#46039f\"],[0.2222222222222222,\"#7201a8\"],[0.3333333333333333,\"#9c179e\"],[0.4444444444444444,\"#bd3786\"],[0.5555555555555556,\"#d8576b\"],[0.6666666666666666,\"#ed7953\"],[0.7777777777777778,\"#fb9f3a\"],[0.8888888888888888,\"#fdca26\"],[1.0,\"#f0f921\"]],\"type\":\"heatmap\"}],\"heatmapgl\":[{\"colorbar\":{\"outlinewidth\":0,\"ticks\":\"\"},\"colorscale\":[[0.0,\"#0d0887\"],[0.1111111111111111,\"#46039f\"],[0.2222222222222222,\"#7201a8\"],[0.3333333333333333,\"#9c179e\"],[0.4444444444444444,\"#bd3786\"],[0.5555555555555556,\"#d8576b\"],[0.6666666666666666,\"#ed7953\"],[0.7777777777777778,\"#fb9f3a\"],[0.8888888888888888,\"#fdca26\"],[1.0,\"#f0f921\"]],\"type\":\"heatmapgl\"}],\"histogram\":[{\"marker\":{\"pattern\":{\"fillmode\":\"overlay\",\"size\":10,\"solidity\":0.2}},\"type\":\"histogram\"}],\"histogram2d\":[{\"colorbar\":{\"outlinewidth\":0,\"ticks\":\"\"},\"colorscale\":[[0.0,\"#0d0887\"],[0.1111111111111111,\"#46039f\"],[0.2222222222222222,\"#7201a8\"],[0.3333333333333333,\"#9c179e\"],[0.4444444444444444,\"#bd3786\"],[0.5555555555555556,\"#d8576b\"],[0.6666666666666666,\"#ed7953\"],[0.7777777777777778,\"#fb9f3a\"],[0.8888888888888888,\"#fdca26\"],[1.0,\"#f0f921\"]],\"type\":\"histogram2d\"}],\"histogram2dcontour\":[{\"colorbar\":{\"outlinewidth\":0,\"ticks\":\"\"},\"colorscale\":[[0.0,\"#0d0887\"],[0.1111111111111111,\"#46039f\"],[0.2222222222222222,\"#7201a8\"],[0.3333333333333333,\"#9c179e\"],[0.4444444444444444,\"#bd3786\"],[0.5555555555555556,\"#d8576b\"],[0.6666666666666666,\"#ed7953\"],[0.7777777777777778,\"#fb9f3a\"],[0.8888888888888888,\"#fdca26\"],[1.0,\"#f0f921\"]],\"type\":\"histogram2dcontour\"}],\"mesh3d\":[{\"colorbar\":{\"outlinewidth\":0,\"ticks\":\"\"},\"type\":\"mesh3d\"}],\"parcoords\":[{\"line\":{\"colorbar\":{\"outlinewidth\":0,\"ticks\":\"\"}},\"type\":\"parcoords\"}],\"pie\":[{\"automargin\":true,\"type\":\"pie\"}],\"scatter\":[{\"marker\":{\"colorbar\":{\"outlinewidth\":0,\"ticks\":\"\"}},\"type\":\"scatter\"}],\"scatter3d\":[{\"line\":{\"colorbar\":{\"outlinewidth\":0,\"ticks\":\"\"}},\"marker\":{\"colorbar\":{\"outlinewidth\":0,\"ticks\":\"\"}},\"type\":\"scatter3d\"}],\"scattercarpet\":[{\"marker\":{\"colorbar\":{\"outlinewidth\":0,\"ticks\":\"\"}},\"type\":\"scattercarpet\"}],\"scattergeo\":[{\"marker\":{\"colorbar\":{\"outlinewidth\":0,\"ticks\":\"\"}},\"type\":\"scattergeo\"}],\"scattergl\":[{\"marker\":{\"colorbar\":{\"outlinewidth\":0,\"ticks\":\"\"}},\"type\":\"scattergl\"}],\"scattermapbox\":[{\"marker\":{\"colorbar\":{\"outlinewidth\":0,\"ticks\":\"\"}},\"type\":\"scattermapbox\"}],\"scatterpolar\":[{\"marker\":{\"colorbar\":{\"outlinewidth\":0,\"ticks\":\"\"}},\"type\":\"scatterpolar\"}],\"scatterpolargl\":[{\"marker\":{\"colorbar\":{\"outlinewidth\":0,\"ticks\":\"\"}},\"type\":\"scatterpolargl\"}],\"scatterternary\":[{\"marker\":{\"colorbar\":{\"outlinewidth\":0,\"ticks\":\"\"}},\"type\":\"scatterternary\"}],\"surface\":[{\"colorbar\":{\"outlinewidth\":0,\"ticks\":\"\"},\"colorscale\":[[0.0,\"#0d0887\"],[0.1111111111111111,\"#46039f\"],[0.2222222222222222,\"#7201a8\"],[0.3333333333333333,\"#9c179e\"],[0.4444444444444444,\"#bd3786\"],[0.5555555555555556,\"#d8576b\"],[0.6666666666666666,\"#ed7953\"],[0.7777777777777778,\"#fb9f3a\"],[0.8888888888888888,\"#fdca26\"],[1.0,\"#f0f921\"]],\"type\":\"surface\"}],\"table\":[{\"cells\":{\"fill\":{\"color\":\"#EBF0F8\"},\"line\":{\"color\":\"white\"}},\"header\":{\"fill\":{\"color\":\"#C8D4E3\"},\"line\":{\"color\":\"white\"}},\"type\":\"table\"}]},\"layout\":{\"annotationdefaults\":{\"arrowcolor\":\"#2a3f5f\",\"arrowhead\":0,\"arrowwidth\":1},\"autotypenumbers\":\"strict\",\"coloraxis\":{\"colorbar\":{\"outlinewidth\":0,\"ticks\":\"\"}},\"colorscale\":{\"diverging\":[[0,\"#8e0152\"],[0.1,\"#c51b7d\"],[0.2,\"#de77ae\"],[0.3,\"#f1b6da\"],[0.4,\"#fde0ef\"],[0.5,\"#f7f7f7\"],[0.6,\"#e6f5d0\"],[0.7,\"#b8e186\"],[0.8,\"#7fbc41\"],[0.9,\"#4d9221\"],[1,\"#276419\"]],\"sequential\":[[0.0,\"#0d0887\"],[0.1111111111111111,\"#46039f\"],[0.2222222222222222,\"#7201a8\"],[0.3333333333333333,\"#9c179e\"],[0.4444444444444444,\"#bd3786\"],[0.5555555555555556,\"#d8576b\"],[0.6666666666666666,\"#ed7953\"],[0.7777777777777778,\"#fb9f3a\"],[0.8888888888888888,\"#fdca26\"],[1.0,\"#f0f921\"]],\"sequentialminus\":[[0.0,\"#0d0887\"],[0.1111111111111111,\"#46039f\"],[0.2222222222222222,\"#7201a8\"],[0.3333333333333333,\"#9c179e\"],[0.4444444444444444,\"#bd3786\"],[0.5555555555555556,\"#d8576b\"],[0.6666666666666666,\"#ed7953\"],[0.7777777777777778,\"#fb9f3a\"],[0.8888888888888888,\"#fdca26\"],[1.0,\"#f0f921\"]]},\"colorway\":[\"#636efa\",\"#EF553B\",\"#00cc96\",\"#ab63fa\",\"#FFA15A\",\"#19d3f3\",\"#FF6692\",\"#B6E880\",\"#FF97FF\",\"#FECB52\"],\"font\":{\"color\":\"#2a3f5f\"},\"geo\":{\"bgcolor\":\"white\",\"lakecolor\":\"white\",\"landcolor\":\"#E5ECF6\",\"showlakes\":true,\"showland\":true,\"subunitcolor\":\"white\"},\"hoverlabel\":{\"align\":\"left\"},\"hovermode\":\"closest\",\"mapbox\":{\"style\":\"light\"},\"paper_bgcolor\":\"white\",\"plot_bgcolor\":\"#E5ECF6\",\"polar\":{\"angularaxis\":{\"gridcolor\":\"white\",\"linecolor\":\"white\",\"ticks\":\"\"},\"bgcolor\":\"#E5ECF6\",\"radialaxis\":{\"gridcolor\":\"white\",\"linecolor\":\"white\",\"ticks\":\"\"}},\"scene\":{\"xaxis\":{\"backgroundcolor\":\"#E5ECF6\",\"gridcolor\":\"white\",\"gridwidth\":2,\"linecolor\":\"white\",\"showbackground\":true,\"ticks\":\"\",\"zerolinecolor\":\"white\"},\"yaxis\":{\"backgroundcolor\":\"#E5ECF6\",\"gridcolor\":\"white\",\"gridwidth\":2,\"linecolor\":\"white\",\"showbackground\":true,\"ticks\":\"\",\"zerolinecolor\":\"white\"},\"zaxis\":{\"backgroundcolor\":\"#E5ECF6\",\"gridcolor\":\"white\",\"gridwidth\":2,\"linecolor\":\"white\",\"showbackground\":true,\"ticks\":\"\",\"zerolinecolor\":\"white\"}},\"shapedefaults\":{\"line\":{\"color\":\"#2a3f5f\"}},\"ternary\":{\"aaxis\":{\"gridcolor\":\"white\",\"linecolor\":\"white\",\"ticks\":\"\"},\"baxis\":{\"gridcolor\":\"white\",\"linecolor\":\"white\",\"ticks\":\"\"},\"bgcolor\":\"#E5ECF6\",\"caxis\":{\"gridcolor\":\"white\",\"linecolor\":\"white\",\"ticks\":\"\"}},\"title\":{\"x\":0.05},\"xaxis\":{\"automargin\":true,\"gridcolor\":\"white\",\"linecolor\":\"white\",\"ticks\":\"\",\"title\":{\"standoff\":15},\"zerolinecolor\":\"white\",\"zerolinewidth\":2},\"yaxis\":{\"automargin\":true,\"gridcolor\":\"white\",\"linecolor\":\"white\",\"ticks\":\"\",\"title\":{\"standoff\":15},\"zerolinecolor\":\"white\",\"zerolinewidth\":2}}}},                        {\"responsive\": true}                    ).then(function(){\n",
              "                            \n",
              "var gd = document.getElementById('c411a2d7-aecb-4cf5-b37f-405e1369fd54');\n",
              "var x = new MutationObserver(function (mutations, observer) {{\n",
              "        var display = window.getComputedStyle(gd).display;\n",
              "        if (!display || display === 'none') {{\n",
              "            console.log([gd, 'removed!']);\n",
              "            Plotly.purge(gd);\n",
              "            observer.disconnect();\n",
              "        }}\n",
              "}});\n",
              "\n",
              "// Listen for the removal of the full notebook cells\n",
              "var notebookContainer = gd.closest('#notebook-container');\n",
              "if (notebookContainer) {{\n",
              "    x.observe(notebookContainer, {childList: true});\n",
              "}}\n",
              "\n",
              "// Listen for the clearing of the current output cell\n",
              "var outputEl = gd.closest('.output');\n",
              "if (outputEl) {{\n",
              "    x.observe(outputEl, {childList: true});\n",
              "}}\n",
              "\n",
              "                        })                };                            </script>        </div>\n",
              "</body>\n",
              "</html>"
            ]
          },
          "metadata": {}
        }
      ]
    },
    {
      "cell_type": "markdown",
      "source": [
        "The validation loss is greater than the training loss. This may indicate that the model is underfitting. Underfitting occurs when the model is unable to accurately model the training data, and hence generates large errors."
      ],
      "metadata": {
        "id": "-AbESiHl1UNt"
      }
    },
    {
      "cell_type": "markdown",
      "source": [
        "### GRU"
      ],
      "metadata": {
        "id": "KpJVve_BBx58"
      }
    },
    {
      "cell_type": "code",
      "source": [
        "GRU_history = json.load(open(\"/content/GRU_history.json\", 'r'))\n",
        "model_gru = tf.keras.models.load_model(\"/content/model_gru.h5\")"
      ],
      "metadata": {
        "id": "tlEJm6emBsMe"
      },
      "execution_count": 72,
      "outputs": []
    },
    {
      "cell_type": "code",
      "source": [
        "fig = go.Figure()\n",
        "fig.add_trace(go.Scatter(y=GRU_history[\"loss\"],\n",
        "                    mode='lines',\n",
        "                    name='loss'))\n",
        "fig.add_trace(go.Scatter(y=GRU_history[\"val_loss\"],\n",
        "                    mode='lines',\n",
        "                    name='val_loss'))\n",
        "fig.show()"
      ],
      "metadata": {
        "colab": {
          "base_uri": "https://localhost:8080/",
          "height": 542
        },
        "id": "eAtfYLiaB2RB",
        "outputId": "654f4b3e-8604-46a8-81db-a374a38efe0b"
      },
      "execution_count": 73,
      "outputs": [
        {
          "output_type": "display_data",
          "data": {
            "text/html": [
              "<html>\n",
              "<head><meta charset=\"utf-8\" /></head>\n",
              "<body>\n",
              "    <div>            <script src=\"https://cdnjs.cloudflare.com/ajax/libs/mathjax/2.7.5/MathJax.js?config=TeX-AMS-MML_SVG\"></script><script type=\"text/javascript\">if (window.MathJax) {MathJax.Hub.Config({SVG: {font: \"STIX-Web\"}});}</script>                <script type=\"text/javascript\">window.PlotlyConfig = {MathJaxConfig: 'local'};</script>\n",
              "        <script src=\"https://cdn.plot.ly/plotly-2.8.3.min.js\"></script>                <div id=\"affe9be1-477e-4046-8201-55ac7c07273b\" class=\"plotly-graph-div\" style=\"height:525px; width:100%;\"></div>            <script type=\"text/javascript\">                                    window.PLOTLYENV=window.PLOTLYENV || {};                                    if (document.getElementById(\"affe9be1-477e-4046-8201-55ac7c07273b\")) {                    Plotly.newPlot(                        \"affe9be1-477e-4046-8201-55ac7c07273b\",                        [{\"mode\":\"lines\",\"name\":\"loss\",\"y\":[0.6925937533378601,0.6925550699234009,0.69236159324646,0.6924080848693848,0.6923903822898865,0.6924428343772888,0.692375659942627,0.6923695206642151,0.6923246383666992,0.6921791434288025,0.692076563835144,0.6920761466026306,0.6920408606529236,0.6920947432518005,0.6920869946479797,0.6920382380485535,0.6920475959777832,0.6920311450958252,0.6920943260192871,0.6920299530029297,0.6920535564422607,0.6920706629753113,0.6920921802520752,0.692051351070404,0.6920484304428101,0.692041277885437,0.6920682787895203,0.6920772790908813,0.6920599341392517,0.6920496225357056,0.6920806169509888,0.6920358538627625,0.6920944452285767,0.6921218037605286,0.6920362710952759,0.6920525431632996,0.6920629143714905,0.6920372247695923,0.6920592784881592,0.6920429468154907,0.6920540928840637,0.6920686960220337,0.692066490650177,0.6920725703239441,0.6920298933982849,0.692050039768219,0.6920586824417114,0.6920690536499023,0.692051112651825,0.6920521855354309,0.6920405030250549,0.6920490264892578,0.6920559406280518,0.6920480132102966,0.692129373550415,0.692044198513031,0.6920461058616638,0.6920526027679443,0.6920545697212219,0.6920341849327087,0.6920492649078369,0.692039430141449,0.6920394897460938,0.6920552849769592,0.6920753717422485,0.6920414566993713,0.6920388340950012,0.6920697093009949,0.6920472979545593,0.7147724628448486,0.6921214461326599,0.6934954524040222,0.6923219561576843,0.692081093788147,0.692067563533783,0.6921530365943909,0.6920602917671204,0.692046582698822,0.6920996904373169,0.6920385956764221,0.6920655965805054,0.6920480728149414,0.692043662071228,0.6920504570007324,0.6920692324638367,0.6920473575592041,0.692051112651825,0.6920351386070251,0.6920497417449951,0.6920490860939026,0.6920446753501892,0.6920448541641235,0.6920489072799683,0.6920573115348816,0.6920480132102966,0.6920515894889832,0.6920655369758606,0.6920496821403503,0.6920506358146667,0.692053496837616],\"type\":\"scatter\"},{\"mode\":\"lines\",\"name\":\"val_loss\",\"y\":[0.6838203072547913,0.6961148977279663,0.6934216022491455,0.6935569643974304,0.6908091902732849,0.6927127242088318,0.6914546489715576,0.6917610168457031,0.6917444467544556,0.6925250291824341,0.6926591396331787,0.6920531988143921,0.6915826201438904,0.6923937797546387,0.6905627250671387,0.6913310885429382,0.6905990242958069,0.6911342144012451,0.6906525492668152,0.6912148594856262,0.6914018392562866,0.6901780366897583,0.6911917924880981,0.6928406357765198,0.691278338432312,0.6905849575996399,0.6909539103507996,0.6909216642379761,0.6906768083572388,0.6901942491531372,0.6895791888237,0.6906214356422424,0.6925406455993652,0.6897194981575012,0.6907703876495361,0.6918182373046875,0.6900508403778076,0.6907875537872314,0.6896445751190186,0.6894616484642029,0.6914651989936829,0.6908265948295593,0.691439151763916,0.6919354200363159,0.6909075379371643,0.6919956207275391,0.6928092241287231,0.6927757859230042,0.6934388279914856,0.6943862438201904,0.6926138997077942,0.6924590468406677,0.6925563812255859,0.694749116897583,0.6945860981941223,0.6938682794570923,0.6932169198989868,0.6933481097221375,0.6927505731582642,0.692725419998169,0.6919598579406738,0.6926711797714233,0.6933071613311768,0.6933106780052185,0.6927008628845215,0.6931635141372681,0.6921710968017578,0.6913918852806091,0.6917480230331421,0.6933689117431641,0.7216641306877136,0.6885165572166443,0.6916022300720215,0.6918502449989319,0.6924178600311279,0.690581202507019,0.6911226511001587,0.6914758086204529,0.6921635270118713,0.6926271319389343,0.6927298307418823,0.6917120218276978,0.6914965510368347,0.6913906335830688,0.6908043026924133,0.6922518014907837,0.6917497515678406,0.6929096579551697,0.6934034824371338,0.6923120021820068,0.6927035450935364,0.6943250894546509,0.6938297748565674,0.6937716603279114,0.6933891177177429,0.6935387849807739,0.6933197379112244,0.6936659216880798,0.6945473551750183,0.693976879119873],\"type\":\"scatter\"}],                        {\"template\":{\"data\":{\"bar\":[{\"error_x\":{\"color\":\"#2a3f5f\"},\"error_y\":{\"color\":\"#2a3f5f\"},\"marker\":{\"line\":{\"color\":\"#E5ECF6\",\"width\":0.5},\"pattern\":{\"fillmode\":\"overlay\",\"size\":10,\"solidity\":0.2}},\"type\":\"bar\"}],\"barpolar\":[{\"marker\":{\"line\":{\"color\":\"#E5ECF6\",\"width\":0.5},\"pattern\":{\"fillmode\":\"overlay\",\"size\":10,\"solidity\":0.2}},\"type\":\"barpolar\"}],\"carpet\":[{\"aaxis\":{\"endlinecolor\":\"#2a3f5f\",\"gridcolor\":\"white\",\"linecolor\":\"white\",\"minorgridcolor\":\"white\",\"startlinecolor\":\"#2a3f5f\"},\"baxis\":{\"endlinecolor\":\"#2a3f5f\",\"gridcolor\":\"white\",\"linecolor\":\"white\",\"minorgridcolor\":\"white\",\"startlinecolor\":\"#2a3f5f\"},\"type\":\"carpet\"}],\"choropleth\":[{\"colorbar\":{\"outlinewidth\":0,\"ticks\":\"\"},\"type\":\"choropleth\"}],\"contour\":[{\"colorbar\":{\"outlinewidth\":0,\"ticks\":\"\"},\"colorscale\":[[0.0,\"#0d0887\"],[0.1111111111111111,\"#46039f\"],[0.2222222222222222,\"#7201a8\"],[0.3333333333333333,\"#9c179e\"],[0.4444444444444444,\"#bd3786\"],[0.5555555555555556,\"#d8576b\"],[0.6666666666666666,\"#ed7953\"],[0.7777777777777778,\"#fb9f3a\"],[0.8888888888888888,\"#fdca26\"],[1.0,\"#f0f921\"]],\"type\":\"contour\"}],\"contourcarpet\":[{\"colorbar\":{\"outlinewidth\":0,\"ticks\":\"\"},\"type\":\"contourcarpet\"}],\"heatmap\":[{\"colorbar\":{\"outlinewidth\":0,\"ticks\":\"\"},\"colorscale\":[[0.0,\"#0d0887\"],[0.1111111111111111,\"#46039f\"],[0.2222222222222222,\"#7201a8\"],[0.3333333333333333,\"#9c179e\"],[0.4444444444444444,\"#bd3786\"],[0.5555555555555556,\"#d8576b\"],[0.6666666666666666,\"#ed7953\"],[0.7777777777777778,\"#fb9f3a\"],[0.8888888888888888,\"#fdca26\"],[1.0,\"#f0f921\"]],\"type\":\"heatmap\"}],\"heatmapgl\":[{\"colorbar\":{\"outlinewidth\":0,\"ticks\":\"\"},\"colorscale\":[[0.0,\"#0d0887\"],[0.1111111111111111,\"#46039f\"],[0.2222222222222222,\"#7201a8\"],[0.3333333333333333,\"#9c179e\"],[0.4444444444444444,\"#bd3786\"],[0.5555555555555556,\"#d8576b\"],[0.6666666666666666,\"#ed7953\"],[0.7777777777777778,\"#fb9f3a\"],[0.8888888888888888,\"#fdca26\"],[1.0,\"#f0f921\"]],\"type\":\"heatmapgl\"}],\"histogram\":[{\"marker\":{\"pattern\":{\"fillmode\":\"overlay\",\"size\":10,\"solidity\":0.2}},\"type\":\"histogram\"}],\"histogram2d\":[{\"colorbar\":{\"outlinewidth\":0,\"ticks\":\"\"},\"colorscale\":[[0.0,\"#0d0887\"],[0.1111111111111111,\"#46039f\"],[0.2222222222222222,\"#7201a8\"],[0.3333333333333333,\"#9c179e\"],[0.4444444444444444,\"#bd3786\"],[0.5555555555555556,\"#d8576b\"],[0.6666666666666666,\"#ed7953\"],[0.7777777777777778,\"#fb9f3a\"],[0.8888888888888888,\"#fdca26\"],[1.0,\"#f0f921\"]],\"type\":\"histogram2d\"}],\"histogram2dcontour\":[{\"colorbar\":{\"outlinewidth\":0,\"ticks\":\"\"},\"colorscale\":[[0.0,\"#0d0887\"],[0.1111111111111111,\"#46039f\"],[0.2222222222222222,\"#7201a8\"],[0.3333333333333333,\"#9c179e\"],[0.4444444444444444,\"#bd3786\"],[0.5555555555555556,\"#d8576b\"],[0.6666666666666666,\"#ed7953\"],[0.7777777777777778,\"#fb9f3a\"],[0.8888888888888888,\"#fdca26\"],[1.0,\"#f0f921\"]],\"type\":\"histogram2dcontour\"}],\"mesh3d\":[{\"colorbar\":{\"outlinewidth\":0,\"ticks\":\"\"},\"type\":\"mesh3d\"}],\"parcoords\":[{\"line\":{\"colorbar\":{\"outlinewidth\":0,\"ticks\":\"\"}},\"type\":\"parcoords\"}],\"pie\":[{\"automargin\":true,\"type\":\"pie\"}],\"scatter\":[{\"marker\":{\"colorbar\":{\"outlinewidth\":0,\"ticks\":\"\"}},\"type\":\"scatter\"}],\"scatter3d\":[{\"line\":{\"colorbar\":{\"outlinewidth\":0,\"ticks\":\"\"}},\"marker\":{\"colorbar\":{\"outlinewidth\":0,\"ticks\":\"\"}},\"type\":\"scatter3d\"}],\"scattercarpet\":[{\"marker\":{\"colorbar\":{\"outlinewidth\":0,\"ticks\":\"\"}},\"type\":\"scattercarpet\"}],\"scattergeo\":[{\"marker\":{\"colorbar\":{\"outlinewidth\":0,\"ticks\":\"\"}},\"type\":\"scattergeo\"}],\"scattergl\":[{\"marker\":{\"colorbar\":{\"outlinewidth\":0,\"ticks\":\"\"}},\"type\":\"scattergl\"}],\"scattermapbox\":[{\"marker\":{\"colorbar\":{\"outlinewidth\":0,\"ticks\":\"\"}},\"type\":\"scattermapbox\"}],\"scatterpolar\":[{\"marker\":{\"colorbar\":{\"outlinewidth\":0,\"ticks\":\"\"}},\"type\":\"scatterpolar\"}],\"scatterpolargl\":[{\"marker\":{\"colorbar\":{\"outlinewidth\":0,\"ticks\":\"\"}},\"type\":\"scatterpolargl\"}],\"scatterternary\":[{\"marker\":{\"colorbar\":{\"outlinewidth\":0,\"ticks\":\"\"}},\"type\":\"scatterternary\"}],\"surface\":[{\"colorbar\":{\"outlinewidth\":0,\"ticks\":\"\"},\"colorscale\":[[0.0,\"#0d0887\"],[0.1111111111111111,\"#46039f\"],[0.2222222222222222,\"#7201a8\"],[0.3333333333333333,\"#9c179e\"],[0.4444444444444444,\"#bd3786\"],[0.5555555555555556,\"#d8576b\"],[0.6666666666666666,\"#ed7953\"],[0.7777777777777778,\"#fb9f3a\"],[0.8888888888888888,\"#fdca26\"],[1.0,\"#f0f921\"]],\"type\":\"surface\"}],\"table\":[{\"cells\":{\"fill\":{\"color\":\"#EBF0F8\"},\"line\":{\"color\":\"white\"}},\"header\":{\"fill\":{\"color\":\"#C8D4E3\"},\"line\":{\"color\":\"white\"}},\"type\":\"table\"}]},\"layout\":{\"annotationdefaults\":{\"arrowcolor\":\"#2a3f5f\",\"arrowhead\":0,\"arrowwidth\":1},\"autotypenumbers\":\"strict\",\"coloraxis\":{\"colorbar\":{\"outlinewidth\":0,\"ticks\":\"\"}},\"colorscale\":{\"diverging\":[[0,\"#8e0152\"],[0.1,\"#c51b7d\"],[0.2,\"#de77ae\"],[0.3,\"#f1b6da\"],[0.4,\"#fde0ef\"],[0.5,\"#f7f7f7\"],[0.6,\"#e6f5d0\"],[0.7,\"#b8e186\"],[0.8,\"#7fbc41\"],[0.9,\"#4d9221\"],[1,\"#276419\"]],\"sequential\":[[0.0,\"#0d0887\"],[0.1111111111111111,\"#46039f\"],[0.2222222222222222,\"#7201a8\"],[0.3333333333333333,\"#9c179e\"],[0.4444444444444444,\"#bd3786\"],[0.5555555555555556,\"#d8576b\"],[0.6666666666666666,\"#ed7953\"],[0.7777777777777778,\"#fb9f3a\"],[0.8888888888888888,\"#fdca26\"],[1.0,\"#f0f921\"]],\"sequentialminus\":[[0.0,\"#0d0887\"],[0.1111111111111111,\"#46039f\"],[0.2222222222222222,\"#7201a8\"],[0.3333333333333333,\"#9c179e\"],[0.4444444444444444,\"#bd3786\"],[0.5555555555555556,\"#d8576b\"],[0.6666666666666666,\"#ed7953\"],[0.7777777777777778,\"#fb9f3a\"],[0.8888888888888888,\"#fdca26\"],[1.0,\"#f0f921\"]]},\"colorway\":[\"#636efa\",\"#EF553B\",\"#00cc96\",\"#ab63fa\",\"#FFA15A\",\"#19d3f3\",\"#FF6692\",\"#B6E880\",\"#FF97FF\",\"#FECB52\"],\"font\":{\"color\":\"#2a3f5f\"},\"geo\":{\"bgcolor\":\"white\",\"lakecolor\":\"white\",\"landcolor\":\"#E5ECF6\",\"showlakes\":true,\"showland\":true,\"subunitcolor\":\"white\"},\"hoverlabel\":{\"align\":\"left\"},\"hovermode\":\"closest\",\"mapbox\":{\"style\":\"light\"},\"paper_bgcolor\":\"white\",\"plot_bgcolor\":\"#E5ECF6\",\"polar\":{\"angularaxis\":{\"gridcolor\":\"white\",\"linecolor\":\"white\",\"ticks\":\"\"},\"bgcolor\":\"#E5ECF6\",\"radialaxis\":{\"gridcolor\":\"white\",\"linecolor\":\"white\",\"ticks\":\"\"}},\"scene\":{\"xaxis\":{\"backgroundcolor\":\"#E5ECF6\",\"gridcolor\":\"white\",\"gridwidth\":2,\"linecolor\":\"white\",\"showbackground\":true,\"ticks\":\"\",\"zerolinecolor\":\"white\"},\"yaxis\":{\"backgroundcolor\":\"#E5ECF6\",\"gridcolor\":\"white\",\"gridwidth\":2,\"linecolor\":\"white\",\"showbackground\":true,\"ticks\":\"\",\"zerolinecolor\":\"white\"},\"zaxis\":{\"backgroundcolor\":\"#E5ECF6\",\"gridcolor\":\"white\",\"gridwidth\":2,\"linecolor\":\"white\",\"showbackground\":true,\"ticks\":\"\",\"zerolinecolor\":\"white\"}},\"shapedefaults\":{\"line\":{\"color\":\"#2a3f5f\"}},\"ternary\":{\"aaxis\":{\"gridcolor\":\"white\",\"linecolor\":\"white\",\"ticks\":\"\"},\"baxis\":{\"gridcolor\":\"white\",\"linecolor\":\"white\",\"ticks\":\"\"},\"bgcolor\":\"#E5ECF6\",\"caxis\":{\"gridcolor\":\"white\",\"linecolor\":\"white\",\"ticks\":\"\"}},\"title\":{\"x\":0.05},\"xaxis\":{\"automargin\":true,\"gridcolor\":\"white\",\"linecolor\":\"white\",\"ticks\":\"\",\"title\":{\"standoff\":15},\"zerolinecolor\":\"white\",\"zerolinewidth\":2},\"yaxis\":{\"automargin\":true,\"gridcolor\":\"white\",\"linecolor\":\"white\",\"ticks\":\"\",\"title\":{\"standoff\":15},\"zerolinecolor\":\"white\",\"zerolinewidth\":2}}}},                        {\"responsive\": true}                    ).then(function(){\n",
              "                            \n",
              "var gd = document.getElementById('affe9be1-477e-4046-8201-55ac7c07273b');\n",
              "var x = new MutationObserver(function (mutations, observer) {{\n",
              "        var display = window.getComputedStyle(gd).display;\n",
              "        if (!display || display === 'none') {{\n",
              "            console.log([gd, 'removed!']);\n",
              "            Plotly.purge(gd);\n",
              "            observer.disconnect();\n",
              "        }}\n",
              "}});\n",
              "\n",
              "// Listen for the removal of the full notebook cells\n",
              "var notebookContainer = gd.closest('#notebook-container');\n",
              "if (notebookContainer) {{\n",
              "    x.observe(notebookContainer, {childList: true});\n",
              "}}\n",
              "\n",
              "// Listen for the clearing of the current output cell\n",
              "var outputEl = gd.closest('.output');\n",
              "if (outputEl) {{\n",
              "    x.observe(outputEl, {childList: true});\n",
              "}}\n",
              "\n",
              "                        })                };                            </script>        </div>\n",
              "</body>\n",
              "</html>"
            ]
          },
          "metadata": {}
        }
      ]
    },
    {
      "cell_type": "markdown",
      "source": [
        "This model show an unrepresentative validation set, it means that the validation data does not provide sufficient information to evaluate the ability of the model to generalize.\n",
        "\n",
        "This may occur if the validation dataset has too few examples as compared to the training dataset."
      ],
      "metadata": {
        "id": "bp9AwPFu1mjo"
      }
    },
    {
      "cell_type": "markdown",
      "source": [
        "### LSTM"
      ],
      "metadata": {
        "id": "BV_DFjdqB8mS"
      }
    },
    {
      "cell_type": "code",
      "source": [
        "LSTM_history = json.load(open(\"/content/LSTM_history.json\", 'r'))\n",
        "model_lstm = tf.keras.models.load_model(\"/content/model_lstm.h5\")"
      ],
      "metadata": {
        "id": "Niz67TXYB5jC"
      },
      "execution_count": 74,
      "outputs": []
    },
    {
      "cell_type": "code",
      "source": [
        "fig = go.Figure()\n",
        "fig.add_trace(go.Scatter(y=LSTM_history[\"loss\"],\n",
        "                    mode='lines',\n",
        "                    name='loss'))\n",
        "fig.add_trace(go.Scatter(y=LSTM_history[\"val_loss\"],\n",
        "                    mode='lines',\n",
        "                    name='val_loss'))\n",
        "fig.show()"
      ],
      "metadata": {
        "colab": {
          "base_uri": "https://localhost:8080/",
          "height": 542
        },
        "id": "16BcYagGCjiX",
        "outputId": "c7500d6f-0f9b-402f-f271-3bc9cbc48aee"
      },
      "execution_count": 75,
      "outputs": [
        {
          "output_type": "display_data",
          "data": {
            "text/html": [
              "<html>\n",
              "<head><meta charset=\"utf-8\" /></head>\n",
              "<body>\n",
              "    <div>            <script src=\"https://cdnjs.cloudflare.com/ajax/libs/mathjax/2.7.5/MathJax.js?config=TeX-AMS-MML_SVG\"></script><script type=\"text/javascript\">if (window.MathJax) {MathJax.Hub.Config({SVG: {font: \"STIX-Web\"}});}</script>                <script type=\"text/javascript\">window.PlotlyConfig = {MathJaxConfig: 'local'};</script>\n",
              "        <script src=\"https://cdn.plot.ly/plotly-2.8.3.min.js\"></script>                <div id=\"2091515b-7305-45fd-975f-5e46b05b39f8\" class=\"plotly-graph-div\" style=\"height:525px; width:100%;\"></div>            <script type=\"text/javascript\">                                    window.PLOTLYENV=window.PLOTLYENV || {};                                    if (document.getElementById(\"2091515b-7305-45fd-975f-5e46b05b39f8\")) {                    Plotly.newPlot(                        \"2091515b-7305-45fd-975f-5e46b05b39f8\",                        [{\"mode\":\"lines\",\"name\":\"loss\",\"y\":[0.692924976348877,0.47739773988723755,0.24165524542331696,0.1768702268600464,0.16293132305145264,0.3519813120365143,0.46757927536964417,0.4648815393447876,0.4633369743824005,0.4597230851650238,0.45908936858177185,0.459066778421402,0.4596751630306244,0.4590499997138977,0.4538239538669586,0.45210692286491394,0.4481666386127472,0.443515419960022,0.44492337107658386,0.43824243545532227,0.43405959010124207,0.4291830062866211,0.4310964047908783,0.42667829990386963,0.42402368783950806,0.417761892080307,0.4182029068470001,0.408865749835968,0.4061781167984009,0.40267202258110046,0.4007246494293213,0.399871826171875,0.39605313539505005,0.39437395334243774,0.39046621322631836,0.38865405321121216,0.3873103857040405,0.38531002402305603,0.3824607729911804,0.3797653615474701,0.3759261965751648,0.3732624351978302,0.3700006306171417,0.3749043345451355,0.363924115896225,0.3623693883419037,0.3563198447227478,0.35677412152290344,0.35334309935569763,0.35573285818099976,0.3593435287475586,0.3501412272453308,0.3445248305797577,0.342044860124588,0.3410285413265228,0.3407595455646515,0.33891165256500244,0.3386709988117218,0.33906304836273193,0.33784061670303345,0.33659133315086365,0.33707764744758606,0.3363434076309204,0.3359937369823456,0.3346681594848633,0.33287763595581055,0.332043319940567,0.33175650238990784,0.33037278056144714,0.3312969207763672,0.32802972197532654,0.32720303535461426,0.3230006992816925,0.32203540205955505,0.32133182883262634,0.3213768005371094,0.3205362856388092,0.32041487097740173,0.31965455412864685,0.3194066286087036,0.31797900795936584,0.31861311197280884,0.3173377513885498,0.31690531969070435,0.3165670335292816,0.3168855905532837,0.3166269361972809,0.31745487451553345,0.3169940114021301,0.3160193860530853,0.3146253824234009,0.3131006956100464,0.31121644377708435,0.308642715215683,0.3075423538684845,0.30463093519210815,0.30222436785697937,0.29796910285949707,0.29555973410606384,0.2951885461807251],\"type\":\"scatter\"},{\"mode\":\"lines\",\"name\":\"val_loss\",\"y\":[0.6811053156852722,0.26786771416664124,0.2516303062438965,0.18628348410129547,0.18898968398571014,0.4879753291606903,0.5298482775688171,0.5226449966430664,0.5292627215385437,0.5496348142623901,0.5288051962852478,0.5439181923866272,0.5364909172058105,0.532396674156189,0.5151423215866089,0.5297531485557556,0.5161184668540955,0.5127322673797607,0.5217172503471375,0.5001606941223145,0.48464176058769226,0.5158396363258362,0.48659977316856384,0.49886494874954224,0.4941949248313904,0.4883663058280945,0.4811486601829529,0.4810327887535095,0.4831598699092865,0.47786611318588257,0.4992343485355377,0.47048434615135193,0.4604908525943756,0.47418683767318726,0.4710557758808136,0.46455252170562744,0.47611182928085327,0.4632851481437683,0.4634273648262024,0.464916855096817,0.4588431119918823,0.4546036422252655,0.4499264061450958,0.46089404821395874,0.460835337638855,0.45596441626548767,0.4535139799118042,0.4335121214389801,0.42290982604026794,0.451829731464386,0.4419286847114563,0.43799206614494324,0.42538148164749146,0.42056816816329956,0.4195803105831146,0.42377951741218567,0.42980653047561646,0.41469284892082214,0.43757787346839905,0.4309379458427429,0.4136374294757843,0.4368378221988678,0.41517889499664307,0.4160807132720947,0.4256090521812439,0.4315142333507538,0.43006229400634766,0.4303099811077118,0.4299409091472626,0.42311426997184753,0.4360582232475281,0.42828914523124695,0.4270559251308441,0.42509034276008606,0.41766706109046936,0.43436965346336365,0.4336417019367218,0.4356984794139862,0.43301907181739807,0.42262953519821167,0.4200902581214905,0.4297560751438141,0.42338132858276367,0.42137429118156433,0.4230444133281708,0.42022234201431274,0.42919212579727173,0.41951820254325867,0.4271651804447174,0.41524869203567505,0.42092567682266235,0.41760820150375366,0.4149041771888733,0.41615286469459534,0.42454785108566284,0.4130622148513794,0.41036099195480347,0.41146624088287354,0.4134664237499237,0.4043099582195282],\"type\":\"scatter\"}],                        {\"template\":{\"data\":{\"bar\":[{\"error_x\":{\"color\":\"#2a3f5f\"},\"error_y\":{\"color\":\"#2a3f5f\"},\"marker\":{\"line\":{\"color\":\"#E5ECF6\",\"width\":0.5},\"pattern\":{\"fillmode\":\"overlay\",\"size\":10,\"solidity\":0.2}},\"type\":\"bar\"}],\"barpolar\":[{\"marker\":{\"line\":{\"color\":\"#E5ECF6\",\"width\":0.5},\"pattern\":{\"fillmode\":\"overlay\",\"size\":10,\"solidity\":0.2}},\"type\":\"barpolar\"}],\"carpet\":[{\"aaxis\":{\"endlinecolor\":\"#2a3f5f\",\"gridcolor\":\"white\",\"linecolor\":\"white\",\"minorgridcolor\":\"white\",\"startlinecolor\":\"#2a3f5f\"},\"baxis\":{\"endlinecolor\":\"#2a3f5f\",\"gridcolor\":\"white\",\"linecolor\":\"white\",\"minorgridcolor\":\"white\",\"startlinecolor\":\"#2a3f5f\"},\"type\":\"carpet\"}],\"choropleth\":[{\"colorbar\":{\"outlinewidth\":0,\"ticks\":\"\"},\"type\":\"choropleth\"}],\"contour\":[{\"colorbar\":{\"outlinewidth\":0,\"ticks\":\"\"},\"colorscale\":[[0.0,\"#0d0887\"],[0.1111111111111111,\"#46039f\"],[0.2222222222222222,\"#7201a8\"],[0.3333333333333333,\"#9c179e\"],[0.4444444444444444,\"#bd3786\"],[0.5555555555555556,\"#d8576b\"],[0.6666666666666666,\"#ed7953\"],[0.7777777777777778,\"#fb9f3a\"],[0.8888888888888888,\"#fdca26\"],[1.0,\"#f0f921\"]],\"type\":\"contour\"}],\"contourcarpet\":[{\"colorbar\":{\"outlinewidth\":0,\"ticks\":\"\"},\"type\":\"contourcarpet\"}],\"heatmap\":[{\"colorbar\":{\"outlinewidth\":0,\"ticks\":\"\"},\"colorscale\":[[0.0,\"#0d0887\"],[0.1111111111111111,\"#46039f\"],[0.2222222222222222,\"#7201a8\"],[0.3333333333333333,\"#9c179e\"],[0.4444444444444444,\"#bd3786\"],[0.5555555555555556,\"#d8576b\"],[0.6666666666666666,\"#ed7953\"],[0.7777777777777778,\"#fb9f3a\"],[0.8888888888888888,\"#fdca26\"],[1.0,\"#f0f921\"]],\"type\":\"heatmap\"}],\"heatmapgl\":[{\"colorbar\":{\"outlinewidth\":0,\"ticks\":\"\"},\"colorscale\":[[0.0,\"#0d0887\"],[0.1111111111111111,\"#46039f\"],[0.2222222222222222,\"#7201a8\"],[0.3333333333333333,\"#9c179e\"],[0.4444444444444444,\"#bd3786\"],[0.5555555555555556,\"#d8576b\"],[0.6666666666666666,\"#ed7953\"],[0.7777777777777778,\"#fb9f3a\"],[0.8888888888888888,\"#fdca26\"],[1.0,\"#f0f921\"]],\"type\":\"heatmapgl\"}],\"histogram\":[{\"marker\":{\"pattern\":{\"fillmode\":\"overlay\",\"size\":10,\"solidity\":0.2}},\"type\":\"histogram\"}],\"histogram2d\":[{\"colorbar\":{\"outlinewidth\":0,\"ticks\":\"\"},\"colorscale\":[[0.0,\"#0d0887\"],[0.1111111111111111,\"#46039f\"],[0.2222222222222222,\"#7201a8\"],[0.3333333333333333,\"#9c179e\"],[0.4444444444444444,\"#bd3786\"],[0.5555555555555556,\"#d8576b\"],[0.6666666666666666,\"#ed7953\"],[0.7777777777777778,\"#fb9f3a\"],[0.8888888888888888,\"#fdca26\"],[1.0,\"#f0f921\"]],\"type\":\"histogram2d\"}],\"histogram2dcontour\":[{\"colorbar\":{\"outlinewidth\":0,\"ticks\":\"\"},\"colorscale\":[[0.0,\"#0d0887\"],[0.1111111111111111,\"#46039f\"],[0.2222222222222222,\"#7201a8\"],[0.3333333333333333,\"#9c179e\"],[0.4444444444444444,\"#bd3786\"],[0.5555555555555556,\"#d8576b\"],[0.6666666666666666,\"#ed7953\"],[0.7777777777777778,\"#fb9f3a\"],[0.8888888888888888,\"#fdca26\"],[1.0,\"#f0f921\"]],\"type\":\"histogram2dcontour\"}],\"mesh3d\":[{\"colorbar\":{\"outlinewidth\":0,\"ticks\":\"\"},\"type\":\"mesh3d\"}],\"parcoords\":[{\"line\":{\"colorbar\":{\"outlinewidth\":0,\"ticks\":\"\"}},\"type\":\"parcoords\"}],\"pie\":[{\"automargin\":true,\"type\":\"pie\"}],\"scatter\":[{\"marker\":{\"colorbar\":{\"outlinewidth\":0,\"ticks\":\"\"}},\"type\":\"scatter\"}],\"scatter3d\":[{\"line\":{\"colorbar\":{\"outlinewidth\":0,\"ticks\":\"\"}},\"marker\":{\"colorbar\":{\"outlinewidth\":0,\"ticks\":\"\"}},\"type\":\"scatter3d\"}],\"scattercarpet\":[{\"marker\":{\"colorbar\":{\"outlinewidth\":0,\"ticks\":\"\"}},\"type\":\"scattercarpet\"}],\"scattergeo\":[{\"marker\":{\"colorbar\":{\"outlinewidth\":0,\"ticks\":\"\"}},\"type\":\"scattergeo\"}],\"scattergl\":[{\"marker\":{\"colorbar\":{\"outlinewidth\":0,\"ticks\":\"\"}},\"type\":\"scattergl\"}],\"scattermapbox\":[{\"marker\":{\"colorbar\":{\"outlinewidth\":0,\"ticks\":\"\"}},\"type\":\"scattermapbox\"}],\"scatterpolar\":[{\"marker\":{\"colorbar\":{\"outlinewidth\":0,\"ticks\":\"\"}},\"type\":\"scatterpolar\"}],\"scatterpolargl\":[{\"marker\":{\"colorbar\":{\"outlinewidth\":0,\"ticks\":\"\"}},\"type\":\"scatterpolargl\"}],\"scatterternary\":[{\"marker\":{\"colorbar\":{\"outlinewidth\":0,\"ticks\":\"\"}},\"type\":\"scatterternary\"}],\"surface\":[{\"colorbar\":{\"outlinewidth\":0,\"ticks\":\"\"},\"colorscale\":[[0.0,\"#0d0887\"],[0.1111111111111111,\"#46039f\"],[0.2222222222222222,\"#7201a8\"],[0.3333333333333333,\"#9c179e\"],[0.4444444444444444,\"#bd3786\"],[0.5555555555555556,\"#d8576b\"],[0.6666666666666666,\"#ed7953\"],[0.7777777777777778,\"#fb9f3a\"],[0.8888888888888888,\"#fdca26\"],[1.0,\"#f0f921\"]],\"type\":\"surface\"}],\"table\":[{\"cells\":{\"fill\":{\"color\":\"#EBF0F8\"},\"line\":{\"color\":\"white\"}},\"header\":{\"fill\":{\"color\":\"#C8D4E3\"},\"line\":{\"color\":\"white\"}},\"type\":\"table\"}]},\"layout\":{\"annotationdefaults\":{\"arrowcolor\":\"#2a3f5f\",\"arrowhead\":0,\"arrowwidth\":1},\"autotypenumbers\":\"strict\",\"coloraxis\":{\"colorbar\":{\"outlinewidth\":0,\"ticks\":\"\"}},\"colorscale\":{\"diverging\":[[0,\"#8e0152\"],[0.1,\"#c51b7d\"],[0.2,\"#de77ae\"],[0.3,\"#f1b6da\"],[0.4,\"#fde0ef\"],[0.5,\"#f7f7f7\"],[0.6,\"#e6f5d0\"],[0.7,\"#b8e186\"],[0.8,\"#7fbc41\"],[0.9,\"#4d9221\"],[1,\"#276419\"]],\"sequential\":[[0.0,\"#0d0887\"],[0.1111111111111111,\"#46039f\"],[0.2222222222222222,\"#7201a8\"],[0.3333333333333333,\"#9c179e\"],[0.4444444444444444,\"#bd3786\"],[0.5555555555555556,\"#d8576b\"],[0.6666666666666666,\"#ed7953\"],[0.7777777777777778,\"#fb9f3a\"],[0.8888888888888888,\"#fdca26\"],[1.0,\"#f0f921\"]],\"sequentialminus\":[[0.0,\"#0d0887\"],[0.1111111111111111,\"#46039f\"],[0.2222222222222222,\"#7201a8\"],[0.3333333333333333,\"#9c179e\"],[0.4444444444444444,\"#bd3786\"],[0.5555555555555556,\"#d8576b\"],[0.6666666666666666,\"#ed7953\"],[0.7777777777777778,\"#fb9f3a\"],[0.8888888888888888,\"#fdca26\"],[1.0,\"#f0f921\"]]},\"colorway\":[\"#636efa\",\"#EF553B\",\"#00cc96\",\"#ab63fa\",\"#FFA15A\",\"#19d3f3\",\"#FF6692\",\"#B6E880\",\"#FF97FF\",\"#FECB52\"],\"font\":{\"color\":\"#2a3f5f\"},\"geo\":{\"bgcolor\":\"white\",\"lakecolor\":\"white\",\"landcolor\":\"#E5ECF6\",\"showlakes\":true,\"showland\":true,\"subunitcolor\":\"white\"},\"hoverlabel\":{\"align\":\"left\"},\"hovermode\":\"closest\",\"mapbox\":{\"style\":\"light\"},\"paper_bgcolor\":\"white\",\"plot_bgcolor\":\"#E5ECF6\",\"polar\":{\"angularaxis\":{\"gridcolor\":\"white\",\"linecolor\":\"white\",\"ticks\":\"\"},\"bgcolor\":\"#E5ECF6\",\"radialaxis\":{\"gridcolor\":\"white\",\"linecolor\":\"white\",\"ticks\":\"\"}},\"scene\":{\"xaxis\":{\"backgroundcolor\":\"#E5ECF6\",\"gridcolor\":\"white\",\"gridwidth\":2,\"linecolor\":\"white\",\"showbackground\":true,\"ticks\":\"\",\"zerolinecolor\":\"white\"},\"yaxis\":{\"backgroundcolor\":\"#E5ECF6\",\"gridcolor\":\"white\",\"gridwidth\":2,\"linecolor\":\"white\",\"showbackground\":true,\"ticks\":\"\",\"zerolinecolor\":\"white\"},\"zaxis\":{\"backgroundcolor\":\"#E5ECF6\",\"gridcolor\":\"white\",\"gridwidth\":2,\"linecolor\":\"white\",\"showbackground\":true,\"ticks\":\"\",\"zerolinecolor\":\"white\"}},\"shapedefaults\":{\"line\":{\"color\":\"#2a3f5f\"}},\"ternary\":{\"aaxis\":{\"gridcolor\":\"white\",\"linecolor\":\"white\",\"ticks\":\"\"},\"baxis\":{\"gridcolor\":\"white\",\"linecolor\":\"white\",\"ticks\":\"\"},\"bgcolor\":\"#E5ECF6\",\"caxis\":{\"gridcolor\":\"white\",\"linecolor\":\"white\",\"ticks\":\"\"}},\"title\":{\"x\":0.05},\"xaxis\":{\"automargin\":true,\"gridcolor\":\"white\",\"linecolor\":\"white\",\"ticks\":\"\",\"title\":{\"standoff\":15},\"zerolinecolor\":\"white\",\"zerolinewidth\":2},\"yaxis\":{\"automargin\":true,\"gridcolor\":\"white\",\"linecolor\":\"white\",\"ticks\":\"\",\"title\":{\"standoff\":15},\"zerolinecolor\":\"white\",\"zerolinewidth\":2}}}},                        {\"responsive\": true}                    ).then(function(){\n",
              "                            \n",
              "var gd = document.getElementById('2091515b-7305-45fd-975f-5e46b05b39f8');\n",
              "var x = new MutationObserver(function (mutations, observer) {{\n",
              "        var display = window.getComputedStyle(gd).display;\n",
              "        if (!display || display === 'none') {{\n",
              "            console.log([gd, 'removed!']);\n",
              "            Plotly.purge(gd);\n",
              "            observer.disconnect();\n",
              "        }}\n",
              "}});\n",
              "\n",
              "// Listen for the removal of the full notebook cells\n",
              "var notebookContainer = gd.closest('#notebook-container');\n",
              "if (notebookContainer) {{\n",
              "    x.observe(notebookContainer, {childList: true});\n",
              "}}\n",
              "\n",
              "// Listen for the clearing of the current output cell\n",
              "var outputEl = gd.closest('.output');\n",
              "if (outputEl) {{\n",
              "    x.observe(outputEl, {childList: true});\n",
              "}}\n",
              "\n",
              "                        })                };                            </script>        </div>\n",
              "</body>\n",
              "</html>"
            ]
          },
          "metadata": {}
        }
      ]
    },
    {
      "cell_type": "markdown",
      "source": [
        "LSTM model show an unrepresentative training set, it means that the training set does not provide sufficient information to learn the problem, relative to the validation data used to evaluate it.\n",
        "\n",
        "This may occur if the training dataset has too few examples as compared to the validation dataset."
      ],
      "metadata": {
        "id": "BH4ZiWiz2kxb"
      }
    },
    {
      "cell_type": "markdown",
      "source": [
        "# Transfert Learning\n",
        "\n",
        "Now we try to use a new pre-trained model based on text embedding trained on English Google News 7B corpus\n"
      ],
      "metadata": {
        "id": "HewNmP_Nqiyo"
      }
    },
    {
      "cell_type": "code",
      "source": [
        "# import the dataset\n",
        "dataset = pd.read_csv(\"spam.csv\", error_bad_lines=False, encoding = \"ISO-8859-1\")"
      ],
      "metadata": {
        "id": "4zZocfck3Zrb"
      },
      "execution_count": 104,
      "outputs": []
    },
    {
      "cell_type": "code",
      "source": [
        "from sklearn.preprocessing import LabelEncoder\n",
        "\n",
        "# instanciate the LabelEncoder et fit on the target column\n",
        "label = LabelEncoder()\n",
        "dataset['v1_encoded'] = label.fit_transform(dataset['v1'])"
      ],
      "metadata": {
        "id": "s0jxe3E13p4f"
      },
      "execution_count": 105,
      "outputs": []
    },
    {
      "cell_type": "code",
      "source": [
        "from sklearn.model_selection import train_test_split\n",
        "\n",
        "# train test split\n",
        "x_train, x_test, y_train, y_test = train_test_split(dataset[\"v2\"],dataset[\"v1_encoded\"], test_size=0.3)\n",
        "\n",
        "# create the tensor train and test sets\n",
        "train_data = tf.data.Dataset.from_tensor_slices((x_train, y_train))\n",
        "test_data = tf.data.Dataset.from_tensor_slices((x_test, y_test))"
      ],
      "metadata": {
        "id": "AqPkDNq64fwm"
      },
      "execution_count": 106,
      "outputs": []
    },
    {
      "cell_type": "code",
      "source": [
        "import tensorflow_hub as hub\n",
        "\n",
        "# import the pre-trained embedding model\n",
        "embedding = \"https://tfhub.dev/google/nnlm-en-dim50/2\"\n",
        "hub_layer = hub.KerasLayer(embedding, input_shape=[], \n",
        "                           dtype=tf.string, trainable=True)"
      ],
      "metadata": {
        "id": "mjq8sHfIrI_L"
      },
      "execution_count": 107,
      "outputs": []
    },
    {
      "cell_type": "code",
      "source": [
        "from tensorflow.keras.layers import Dropout\n",
        "\n",
        "# create a sequential model with new trainables params \n",
        "model = tf.keras.Sequential()\n",
        "model.add(hub_layer)                 \n",
        "model.add(Dense(32, activation='relu'))\n",
        "model.add(Dropout(0.2)) # adding dropouts layers to reduce overfitting\n",
        "model.add(Dense(16, activation='relu'))\n",
        "model.add(Dropout(0.2)) # adding dropouts layers to reduce overfitting\n",
        "model.add(Dense(1, activation=\"sigmoid\"))"
      ],
      "metadata": {
        "id": "B7NrOvEwxPoH"
      },
      "execution_count": 122,
      "outputs": []
    },
    {
      "cell_type": "code",
      "source": [
        "model.summary()"
      ],
      "metadata": {
        "id": "gLbpARys10qv",
        "outputId": "1dcb07ea-9f40-4e4a-c8fa-af14767013ef",
        "colab": {
          "base_uri": "https://localhost:8080/"
        }
      },
      "execution_count": 123,
      "outputs": [
        {
          "output_type": "stream",
          "name": "stdout",
          "text": [
            "Model: \"sequential_12\"\n",
            "_________________________________________________________________\n",
            " Layer (type)                Output Shape              Param #   \n",
            "=================================================================\n",
            " keras_layer_3 (KerasLayer)  (None, 50)                48190600  \n",
            "                                                                 \n",
            " dense_35 (Dense)            (None, 32)                1632      \n",
            "                                                                 \n",
            " dropout_13 (Dropout)        (None, 32)                0         \n",
            "                                                                 \n",
            " dense_36 (Dense)            (None, 16)                528       \n",
            "                                                                 \n",
            " dropout_14 (Dropout)        (None, 16)                0         \n",
            "                                                                 \n",
            " dense_37 (Dense)            (None, 1)                 17        \n",
            "                                                                 \n",
            "=================================================================\n",
            "Total params: 48,192,777\n",
            "Trainable params: 48,192,777\n",
            "Non-trainable params: 0\n",
            "_________________________________________________________________\n"
          ]
        }
      ]
    },
    {
      "cell_type": "code",
      "source": [
        "model.compile(optimizer='adam',\n",
        "                    loss=tf.keras.losses.BinaryCrossentropy(from_logits=True),\n",
        "                    metrics=['accuracy'])"
      ],
      "metadata": {
        "id": "RIvO7Cq7wzQA"
      },
      "execution_count": 124,
      "outputs": []
    },
    {
      "cell_type": "code",
      "source": [
        "model.fit(train_data.shuffle(10000).batch(512),\n",
        "              epochs=30, \n",
        "              validation_data=test_data.batch(512),\n",
        "              class_weight=weights,\n",
        "              verbose = 1)"
      ],
      "metadata": {
        "id": "ynFv0Hhmw4Db",
        "outputId": "4da7e2a5-aeb4-4c3c-af4a-077f4b1b57c1",
        "colab": {
          "base_uri": "https://localhost:8080/"
        }
      },
      "execution_count": 125,
      "outputs": [
        {
          "output_type": "stream",
          "name": "stdout",
          "text": [
            "Epoch 1/30\n",
            "8/8 [==============================] - 5s 591ms/step - loss: 0.6541 - accuracy: 0.8056 - val_loss: 0.6142 - val_accuracy: 0.8583\n",
            "Epoch 2/30\n",
            "8/8 [==============================] - 4s 539ms/step - loss: 0.6250 - accuracy: 0.8413 - val_loss: 0.5825 - val_accuracy: 0.8780\n",
            "Epoch 3/30\n",
            "8/8 [==============================] - 4s 536ms/step - loss: 0.5775 - accuracy: 0.8738 - val_loss: 0.5301 - val_accuracy: 0.8989\n",
            "Epoch 4/30\n",
            "8/8 [==============================] - 4s 543ms/step - loss: 0.5205 - accuracy: 0.8931 - val_loss: 0.4631 - val_accuracy: 0.9061\n",
            "Epoch 5/30\n",
            "8/8 [==============================] - 4s 543ms/step - loss: 0.4463 - accuracy: 0.9159 - val_loss: 0.3890 - val_accuracy: 0.9163\n",
            "Epoch 6/30\n",
            "8/8 [==============================] - 4s 544ms/step - loss: 0.3683 - accuracy: 0.9328 - val_loss: 0.3144 - val_accuracy: 0.9276\n",
            "Epoch 7/30\n",
            "8/8 [==============================] - 5s 579ms/step - loss: 0.2920 - accuracy: 0.9456 - val_loss: 0.2556 - val_accuracy: 0.9312\n",
            "Epoch 8/30\n",
            "8/8 [==============================] - 5s 587ms/step - loss: 0.2217 - accuracy: 0.9492 - val_loss: 0.2036 - val_accuracy: 0.9396\n",
            "Epoch 9/30\n",
            "8/8 [==============================] - 4s 545ms/step - loss: 0.1671 - accuracy: 0.9597 - val_loss: 0.1685 - val_accuracy: 0.9450\n",
            "Epoch 10/30\n",
            "8/8 [==============================] - 4s 544ms/step - loss: 0.1239 - accuracy: 0.9756 - val_loss: 0.1425 - val_accuracy: 0.9522\n",
            "Epoch 11/30\n",
            "8/8 [==============================] - 4s 549ms/step - loss: 0.0979 - accuracy: 0.9803 - val_loss: 0.1258 - val_accuracy: 0.9569\n",
            "Epoch 12/30\n",
            "8/8 [==============================] - 4s 532ms/step - loss: 0.0717 - accuracy: 0.9877 - val_loss: 0.1147 - val_accuracy: 0.9587\n",
            "Epoch 13/30\n",
            "8/8 [==============================] - 4s 546ms/step - loss: 0.0542 - accuracy: 0.9887 - val_loss: 0.1060 - val_accuracy: 0.9629\n",
            "Epoch 14/30\n",
            "8/8 [==============================] - 4s 541ms/step - loss: 0.0450 - accuracy: 0.9928 - val_loss: 0.1006 - val_accuracy: 0.9665\n",
            "Epoch 15/30\n",
            "8/8 [==============================] - 4s 535ms/step - loss: 0.0366 - accuracy: 0.9941 - val_loss: 0.0984 - val_accuracy: 0.9671\n",
            "Epoch 16/30\n",
            "8/8 [==============================] - 4s 551ms/step - loss: 0.0325 - accuracy: 0.9946 - val_loss: 0.0969 - val_accuracy: 0.9671\n",
            "Epoch 17/30\n",
            "8/8 [==============================] - 4s 546ms/step - loss: 0.0243 - accuracy: 0.9969 - val_loss: 0.0962 - val_accuracy: 0.9689\n",
            "Epoch 18/30\n",
            "8/8 [==============================] - 4s 541ms/step - loss: 0.0209 - accuracy: 0.9972 - val_loss: 0.0960 - val_accuracy: 0.9695\n",
            "Epoch 19/30\n",
            "8/8 [==============================] - 4s 539ms/step - loss: 0.0169 - accuracy: 0.9987 - val_loss: 0.0961 - val_accuracy: 0.9707\n",
            "Epoch 20/30\n",
            "8/8 [==============================] - 4s 538ms/step - loss: 0.0136 - accuracy: 0.9990 - val_loss: 0.0968 - val_accuracy: 0.9725\n",
            "Epoch 21/30\n",
            "8/8 [==============================] - 4s 546ms/step - loss: 0.0123 - accuracy: 0.9987 - val_loss: 0.0977 - val_accuracy: 0.9743\n",
            "Epoch 22/30\n",
            "8/8 [==============================] - 4s 543ms/step - loss: 0.0116 - accuracy: 0.9990 - val_loss: 0.0984 - val_accuracy: 0.9737\n",
            "Epoch 23/30\n",
            "8/8 [==============================] - 4s 538ms/step - loss: 0.0101 - accuracy: 0.9992 - val_loss: 0.0993 - val_accuracy: 0.9737\n",
            "Epoch 24/30\n",
            "8/8 [==============================] - 4s 534ms/step - loss: 0.0079 - accuracy: 0.9995 - val_loss: 0.1003 - val_accuracy: 0.9737\n",
            "Epoch 25/30\n",
            "8/8 [==============================] - 4s 540ms/step - loss: 0.0067 - accuracy: 0.9992 - val_loss: 0.1014 - val_accuracy: 0.9737\n",
            "Epoch 26/30\n",
            "8/8 [==============================] - 4s 544ms/step - loss: 0.0065 - accuracy: 0.9995 - val_loss: 0.1024 - val_accuracy: 0.9737\n",
            "Epoch 27/30\n",
            "8/8 [==============================] - 5s 634ms/step - loss: 0.0059 - accuracy: 0.9997 - val_loss: 0.1034 - val_accuracy: 0.9743\n",
            "Epoch 28/30\n",
            "8/8 [==============================] - 5s 547ms/step - loss: 0.0063 - accuracy: 0.9992 - val_loss: 0.1046 - val_accuracy: 0.9743\n",
            "Epoch 29/30\n",
            "8/8 [==============================] - 4s 539ms/step - loss: 0.0053 - accuracy: 0.9995 - val_loss: 0.1060 - val_accuracy: 0.9743\n",
            "Epoch 30/30\n",
            "8/8 [==============================] - 4s 547ms/step - loss: 0.0048 - accuracy: 0.9997 - val_loss: 0.1072 - val_accuracy: 0.9749\n"
          ]
        },
        {
          "output_type": "execute_result",
          "data": {
            "text/plain": [
              "<keras.callbacks.History at 0x7fd4be95e040>"
            ]
          },
          "metadata": {},
          "execution_count": 125
        }
      ]
    },
    {
      "cell_type": "markdown",
      "source": [
        "Scores after 30 epochs :\n",
        "\n",
        "\n",
        "    loss : 0.0048 - val_loss : 0.1072\n",
        "    binary_accuracy : 0.9997 - val_binary_accuracy : 0.9749"
      ],
      "metadata": {
        "id": "ZxJ_VgU7yoPn"
      }
    },
    {
      "cell_type": "code",
      "source": [
        "# save the model\n",
        "model_lstm.save(\"model.h5\")"
      ],
      "metadata": {
        "id": "fRklCUT2ynfQ"
      },
      "execution_count": 126,
      "outputs": []
    },
    {
      "cell_type": "code",
      "source": [
        "json.dump(model.history.history, open(\"/content/model_history.json\", 'w'))"
      ],
      "metadata": {
        "id": "luu-gml9y0AK"
      },
      "execution_count": 127,
      "outputs": []
    },
    {
      "cell_type": "markdown",
      "source": [
        "# Model Classification"
      ],
      "metadata": {
        "id": "JXvssDBjy4qK"
      }
    },
    {
      "cell_type": "code",
      "source": [
        "model_history = json.load(open(\"/content/model_history.json\", 'r'))\n",
        "model = tf.keras.models.load_model(\"/content/model.h5\")"
      ],
      "metadata": {
        "id": "GaARbStxy7WG"
      },
      "execution_count": 128,
      "outputs": []
    },
    {
      "cell_type": "code",
      "source": [
        "fig = go.Figure()\n",
        "fig.add_trace(go.Scatter(y=model_history[\"loss\"],\n",
        "                    mode='lines',\n",
        "                    name='loss'))\n",
        "fig.add_trace(go.Scatter(y=model_history[\"val_loss\"],\n",
        "                    mode='lines',\n",
        "                    name='val_loss'))\n",
        "fig.show()"
      ],
      "metadata": {
        "id": "O1uAf6F7zAEH",
        "outputId": "64a80595-2d99-4a04-cda2-532232375271",
        "colab": {
          "base_uri": "https://localhost:8080/",
          "height": 542
        }
      },
      "execution_count": 129,
      "outputs": [
        {
          "output_type": "display_data",
          "data": {
            "text/html": [
              "<html>\n",
              "<head><meta charset=\"utf-8\" /></head>\n",
              "<body>\n",
              "    <div>            <script src=\"https://cdnjs.cloudflare.com/ajax/libs/mathjax/2.7.5/MathJax.js?config=TeX-AMS-MML_SVG\"></script><script type=\"text/javascript\">if (window.MathJax) {MathJax.Hub.Config({SVG: {font: \"STIX-Web\"}});}</script>                <script type=\"text/javascript\">window.PlotlyConfig = {MathJaxConfig: 'local'};</script>\n",
              "        <script src=\"https://cdn.plot.ly/plotly-2.8.3.min.js\"></script>                <div id=\"6604e7d2-a413-462e-8212-a592d940008e\" class=\"plotly-graph-div\" style=\"height:525px; width:100%;\"></div>            <script type=\"text/javascript\">                                    window.PLOTLYENV=window.PLOTLYENV || {};                                    if (document.getElementById(\"6604e7d2-a413-462e-8212-a592d940008e\")) {                    Plotly.newPlot(                        \"6604e7d2-a413-462e-8212-a592d940008e\",                        [{\"mode\":\"lines\",\"name\":\"loss\",\"y\":[0.6540760397911072,0.6249600052833557,0.5775195956230164,0.5204858183860779,0.4462570250034332,0.3682955503463745,0.29197901487350464,0.2216990739107132,0.16706682741641998,0.12390511482954025,0.09794741123914719,0.07171560078859329,0.05422122776508331,0.04502110928297043,0.036571044474840164,0.03247382119297981,0.024323908612132072,0.020908411592245102,0.016879579052329063,0.013605768792331219,0.012289110571146011,0.011625690385699272,0.01010617334395647,0.007916269823908806,0.006729645188897848,0.006481294520199299,0.005931160878390074,0.006269286852329969,0.0053239259868860245,0.004795457236468792],\"type\":\"scatter\"},{\"mode\":\"lines\",\"name\":\"val_loss\",\"y\":[0.6141706109046936,0.5824936628341675,0.5301377773284912,0.46306613087654114,0.389034241437912,0.3143964409828186,0.2556490898132324,0.20364892482757568,0.16850194334983826,0.14247766137123108,0.12583258748054504,0.1146649718284607,0.10601639747619629,0.10061471164226532,0.09844598174095154,0.0969245657324791,0.09622028470039368,0.09595246613025665,0.09614124894142151,0.09676828235387802,0.09773320704698563,0.09843666851520538,0.09928933531045914,0.10027768462896347,0.10135400295257568,0.10240451991558075,0.1033889651298523,0.10460781306028366,0.10602914541959763,0.10723721235990524],\"type\":\"scatter\"}],                        {\"template\":{\"data\":{\"bar\":[{\"error_x\":{\"color\":\"#2a3f5f\"},\"error_y\":{\"color\":\"#2a3f5f\"},\"marker\":{\"line\":{\"color\":\"#E5ECF6\",\"width\":0.5},\"pattern\":{\"fillmode\":\"overlay\",\"size\":10,\"solidity\":0.2}},\"type\":\"bar\"}],\"barpolar\":[{\"marker\":{\"line\":{\"color\":\"#E5ECF6\",\"width\":0.5},\"pattern\":{\"fillmode\":\"overlay\",\"size\":10,\"solidity\":0.2}},\"type\":\"barpolar\"}],\"carpet\":[{\"aaxis\":{\"endlinecolor\":\"#2a3f5f\",\"gridcolor\":\"white\",\"linecolor\":\"white\",\"minorgridcolor\":\"white\",\"startlinecolor\":\"#2a3f5f\"},\"baxis\":{\"endlinecolor\":\"#2a3f5f\",\"gridcolor\":\"white\",\"linecolor\":\"white\",\"minorgridcolor\":\"white\",\"startlinecolor\":\"#2a3f5f\"},\"type\":\"carpet\"}],\"choropleth\":[{\"colorbar\":{\"outlinewidth\":0,\"ticks\":\"\"},\"type\":\"choropleth\"}],\"contour\":[{\"colorbar\":{\"outlinewidth\":0,\"ticks\":\"\"},\"colorscale\":[[0.0,\"#0d0887\"],[0.1111111111111111,\"#46039f\"],[0.2222222222222222,\"#7201a8\"],[0.3333333333333333,\"#9c179e\"],[0.4444444444444444,\"#bd3786\"],[0.5555555555555556,\"#d8576b\"],[0.6666666666666666,\"#ed7953\"],[0.7777777777777778,\"#fb9f3a\"],[0.8888888888888888,\"#fdca26\"],[1.0,\"#f0f921\"]],\"type\":\"contour\"}],\"contourcarpet\":[{\"colorbar\":{\"outlinewidth\":0,\"ticks\":\"\"},\"type\":\"contourcarpet\"}],\"heatmap\":[{\"colorbar\":{\"outlinewidth\":0,\"ticks\":\"\"},\"colorscale\":[[0.0,\"#0d0887\"],[0.1111111111111111,\"#46039f\"],[0.2222222222222222,\"#7201a8\"],[0.3333333333333333,\"#9c179e\"],[0.4444444444444444,\"#bd3786\"],[0.5555555555555556,\"#d8576b\"],[0.6666666666666666,\"#ed7953\"],[0.7777777777777778,\"#fb9f3a\"],[0.8888888888888888,\"#fdca26\"],[1.0,\"#f0f921\"]],\"type\":\"heatmap\"}],\"heatmapgl\":[{\"colorbar\":{\"outlinewidth\":0,\"ticks\":\"\"},\"colorscale\":[[0.0,\"#0d0887\"],[0.1111111111111111,\"#46039f\"],[0.2222222222222222,\"#7201a8\"],[0.3333333333333333,\"#9c179e\"],[0.4444444444444444,\"#bd3786\"],[0.5555555555555556,\"#d8576b\"],[0.6666666666666666,\"#ed7953\"],[0.7777777777777778,\"#fb9f3a\"],[0.8888888888888888,\"#fdca26\"],[1.0,\"#f0f921\"]],\"type\":\"heatmapgl\"}],\"histogram\":[{\"marker\":{\"pattern\":{\"fillmode\":\"overlay\",\"size\":10,\"solidity\":0.2}},\"type\":\"histogram\"}],\"histogram2d\":[{\"colorbar\":{\"outlinewidth\":0,\"ticks\":\"\"},\"colorscale\":[[0.0,\"#0d0887\"],[0.1111111111111111,\"#46039f\"],[0.2222222222222222,\"#7201a8\"],[0.3333333333333333,\"#9c179e\"],[0.4444444444444444,\"#bd3786\"],[0.5555555555555556,\"#d8576b\"],[0.6666666666666666,\"#ed7953\"],[0.7777777777777778,\"#fb9f3a\"],[0.8888888888888888,\"#fdca26\"],[1.0,\"#f0f921\"]],\"type\":\"histogram2d\"}],\"histogram2dcontour\":[{\"colorbar\":{\"outlinewidth\":0,\"ticks\":\"\"},\"colorscale\":[[0.0,\"#0d0887\"],[0.1111111111111111,\"#46039f\"],[0.2222222222222222,\"#7201a8\"],[0.3333333333333333,\"#9c179e\"],[0.4444444444444444,\"#bd3786\"],[0.5555555555555556,\"#d8576b\"],[0.6666666666666666,\"#ed7953\"],[0.7777777777777778,\"#fb9f3a\"],[0.8888888888888888,\"#fdca26\"],[1.0,\"#f0f921\"]],\"type\":\"histogram2dcontour\"}],\"mesh3d\":[{\"colorbar\":{\"outlinewidth\":0,\"ticks\":\"\"},\"type\":\"mesh3d\"}],\"parcoords\":[{\"line\":{\"colorbar\":{\"outlinewidth\":0,\"ticks\":\"\"}},\"type\":\"parcoords\"}],\"pie\":[{\"automargin\":true,\"type\":\"pie\"}],\"scatter\":[{\"marker\":{\"colorbar\":{\"outlinewidth\":0,\"ticks\":\"\"}},\"type\":\"scatter\"}],\"scatter3d\":[{\"line\":{\"colorbar\":{\"outlinewidth\":0,\"ticks\":\"\"}},\"marker\":{\"colorbar\":{\"outlinewidth\":0,\"ticks\":\"\"}},\"type\":\"scatter3d\"}],\"scattercarpet\":[{\"marker\":{\"colorbar\":{\"outlinewidth\":0,\"ticks\":\"\"}},\"type\":\"scattercarpet\"}],\"scattergeo\":[{\"marker\":{\"colorbar\":{\"outlinewidth\":0,\"ticks\":\"\"}},\"type\":\"scattergeo\"}],\"scattergl\":[{\"marker\":{\"colorbar\":{\"outlinewidth\":0,\"ticks\":\"\"}},\"type\":\"scattergl\"}],\"scattermapbox\":[{\"marker\":{\"colorbar\":{\"outlinewidth\":0,\"ticks\":\"\"}},\"type\":\"scattermapbox\"}],\"scatterpolar\":[{\"marker\":{\"colorbar\":{\"outlinewidth\":0,\"ticks\":\"\"}},\"type\":\"scatterpolar\"}],\"scatterpolargl\":[{\"marker\":{\"colorbar\":{\"outlinewidth\":0,\"ticks\":\"\"}},\"type\":\"scatterpolargl\"}],\"scatterternary\":[{\"marker\":{\"colorbar\":{\"outlinewidth\":0,\"ticks\":\"\"}},\"type\":\"scatterternary\"}],\"surface\":[{\"colorbar\":{\"outlinewidth\":0,\"ticks\":\"\"},\"colorscale\":[[0.0,\"#0d0887\"],[0.1111111111111111,\"#46039f\"],[0.2222222222222222,\"#7201a8\"],[0.3333333333333333,\"#9c179e\"],[0.4444444444444444,\"#bd3786\"],[0.5555555555555556,\"#d8576b\"],[0.6666666666666666,\"#ed7953\"],[0.7777777777777778,\"#fb9f3a\"],[0.8888888888888888,\"#fdca26\"],[1.0,\"#f0f921\"]],\"type\":\"surface\"}],\"table\":[{\"cells\":{\"fill\":{\"color\":\"#EBF0F8\"},\"line\":{\"color\":\"white\"}},\"header\":{\"fill\":{\"color\":\"#C8D4E3\"},\"line\":{\"color\":\"white\"}},\"type\":\"table\"}]},\"layout\":{\"annotationdefaults\":{\"arrowcolor\":\"#2a3f5f\",\"arrowhead\":0,\"arrowwidth\":1},\"autotypenumbers\":\"strict\",\"coloraxis\":{\"colorbar\":{\"outlinewidth\":0,\"ticks\":\"\"}},\"colorscale\":{\"diverging\":[[0,\"#8e0152\"],[0.1,\"#c51b7d\"],[0.2,\"#de77ae\"],[0.3,\"#f1b6da\"],[0.4,\"#fde0ef\"],[0.5,\"#f7f7f7\"],[0.6,\"#e6f5d0\"],[0.7,\"#b8e186\"],[0.8,\"#7fbc41\"],[0.9,\"#4d9221\"],[1,\"#276419\"]],\"sequential\":[[0.0,\"#0d0887\"],[0.1111111111111111,\"#46039f\"],[0.2222222222222222,\"#7201a8\"],[0.3333333333333333,\"#9c179e\"],[0.4444444444444444,\"#bd3786\"],[0.5555555555555556,\"#d8576b\"],[0.6666666666666666,\"#ed7953\"],[0.7777777777777778,\"#fb9f3a\"],[0.8888888888888888,\"#fdca26\"],[1.0,\"#f0f921\"]],\"sequentialminus\":[[0.0,\"#0d0887\"],[0.1111111111111111,\"#46039f\"],[0.2222222222222222,\"#7201a8\"],[0.3333333333333333,\"#9c179e\"],[0.4444444444444444,\"#bd3786\"],[0.5555555555555556,\"#d8576b\"],[0.6666666666666666,\"#ed7953\"],[0.7777777777777778,\"#fb9f3a\"],[0.8888888888888888,\"#fdca26\"],[1.0,\"#f0f921\"]]},\"colorway\":[\"#636efa\",\"#EF553B\",\"#00cc96\",\"#ab63fa\",\"#FFA15A\",\"#19d3f3\",\"#FF6692\",\"#B6E880\",\"#FF97FF\",\"#FECB52\"],\"font\":{\"color\":\"#2a3f5f\"},\"geo\":{\"bgcolor\":\"white\",\"lakecolor\":\"white\",\"landcolor\":\"#E5ECF6\",\"showlakes\":true,\"showland\":true,\"subunitcolor\":\"white\"},\"hoverlabel\":{\"align\":\"left\"},\"hovermode\":\"closest\",\"mapbox\":{\"style\":\"light\"},\"paper_bgcolor\":\"white\",\"plot_bgcolor\":\"#E5ECF6\",\"polar\":{\"angularaxis\":{\"gridcolor\":\"white\",\"linecolor\":\"white\",\"ticks\":\"\"},\"bgcolor\":\"#E5ECF6\",\"radialaxis\":{\"gridcolor\":\"white\",\"linecolor\":\"white\",\"ticks\":\"\"}},\"scene\":{\"xaxis\":{\"backgroundcolor\":\"#E5ECF6\",\"gridcolor\":\"white\",\"gridwidth\":2,\"linecolor\":\"white\",\"showbackground\":true,\"ticks\":\"\",\"zerolinecolor\":\"white\"},\"yaxis\":{\"backgroundcolor\":\"#E5ECF6\",\"gridcolor\":\"white\",\"gridwidth\":2,\"linecolor\":\"white\",\"showbackground\":true,\"ticks\":\"\",\"zerolinecolor\":\"white\"},\"zaxis\":{\"backgroundcolor\":\"#E5ECF6\",\"gridcolor\":\"white\",\"gridwidth\":2,\"linecolor\":\"white\",\"showbackground\":true,\"ticks\":\"\",\"zerolinecolor\":\"white\"}},\"shapedefaults\":{\"line\":{\"color\":\"#2a3f5f\"}},\"ternary\":{\"aaxis\":{\"gridcolor\":\"white\",\"linecolor\":\"white\",\"ticks\":\"\"},\"baxis\":{\"gridcolor\":\"white\",\"linecolor\":\"white\",\"ticks\":\"\"},\"bgcolor\":\"#E5ECF6\",\"caxis\":{\"gridcolor\":\"white\",\"linecolor\":\"white\",\"ticks\":\"\"}},\"title\":{\"x\":0.05},\"xaxis\":{\"automargin\":true,\"gridcolor\":\"white\",\"linecolor\":\"white\",\"ticks\":\"\",\"title\":{\"standoff\":15},\"zerolinecolor\":\"white\",\"zerolinewidth\":2},\"yaxis\":{\"automargin\":true,\"gridcolor\":\"white\",\"linecolor\":\"white\",\"ticks\":\"\",\"title\":{\"standoff\":15},\"zerolinecolor\":\"white\",\"zerolinewidth\":2}}}},                        {\"responsive\": true}                    ).then(function(){\n",
              "                            \n",
              "var gd = document.getElementById('6604e7d2-a413-462e-8212-a592d940008e');\n",
              "var x = new MutationObserver(function (mutations, observer) {{\n",
              "        var display = window.getComputedStyle(gd).display;\n",
              "        if (!display || display === 'none') {{\n",
              "            console.log([gd, 'removed!']);\n",
              "            Plotly.purge(gd);\n",
              "            observer.disconnect();\n",
              "        }}\n",
              "}});\n",
              "\n",
              "// Listen for the removal of the full notebook cells\n",
              "var notebookContainer = gd.closest('#notebook-container');\n",
              "if (notebookContainer) {{\n",
              "    x.observe(notebookContainer, {childList: true});\n",
              "}}\n",
              "\n",
              "// Listen for the clearing of the current output cell\n",
              "var outputEl = gd.closest('.output');\n",
              "if (outputEl) {{\n",
              "    x.observe(outputEl, {childList: true});\n",
              "}}\n",
              "\n",
              "                        })                };                            </script>        </div>\n",
              "</body>\n",
              "</html>"
            ]
          },
          "metadata": {}
        }
      ]
    },
    {
      "cell_type": "markdown",
      "source": [
        "## GOOD FIT\n",
        "\n",
        "In this scenario, in the image below, the training loss and validation loss both decrease and stabilize at 7th epoch.\n",
        "\n",
        "Unfortunately after the 7th epoch the model starts to overfits with a large gap between both curves."
      ],
      "metadata": {
        "id": "rnx8EHUZ7qC9"
      }
    }
  ]
}