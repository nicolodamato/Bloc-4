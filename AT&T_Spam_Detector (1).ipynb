{
  "nbformat": 4,
  "nbformat_minor": 0,
  "metadata": {
    "colab": {
      "provenance": []
    },
    "kernelspec": {
      "name": "python3",
      "display_name": "Python 3"
    },
    "language_info": {
      "name": "python"
    }
  },
  "cells": [
    {
      "cell_type": "markdown",
      "source": [
        "# Orange SPAM detector\n",
        "\n",
        "One of the main pain point that AT\\&T users are facing is constant exposure to SPAM messages.\n",
        "\n",
        "AT\\&T has been able to manually flag spam messages for a time, but they are looking for an automated way of detecting spams to protect their users.\n",
        "\n",
        "Your goal is to build a spam detector, that can automatically flag spams as they come based sollely on the sms' content."
      ],
      "metadata": {
        "id": "Muk3hKo-6hGf"
      }
    },
    {
      "cell_type": "code",
      "execution_count": null,
      "metadata": {
        "id": "rsGwwLXftUPo"
      },
      "outputs": [],
      "source": [
        "\n",
        "# Import Tensorflow & Pathlib librairies\n",
        "import tensorflow as tf \n",
        "import pathlib \n",
        "import pandas as pd \n",
        "import os\n",
        "import io\n",
        "import warnings\n",
        "warnings.filterwarnings('ignore')"
      ]
    },
    {
      "cell_type": "code",
      "source": [
        "from google.colab import drive\n",
        "drive.mount('/content/drive')"
      ],
      "metadata": {
        "id": "U6WJxIXsxNXU"
      },
      "execution_count": null,
      "outputs": []
    },
    {
      "cell_type": "code",
      "source": [
        "# Import dataset with Pandas \n",
        "dataset = pd.read_csv(\"spam.csv\", error_bad_lines=False, encoding = \"ISO-8859-1\")\n",
        "dataset.head()"
      ],
      "metadata": {
        "colab": {
          "base_uri": "https://localhost:8080/",
          "height": 206
        },
        "id": "JrnSF8C7tiIb",
        "outputId": "9853b2bc-411d-458e-9f35-ee42843fb31d"
      },
      "execution_count": null,
      "outputs": [
        {
          "output_type": "execute_result",
          "data": {
            "text/plain": [
              "     v1                                                 v2 Unnamed: 2  \\\n",
              "0   ham  Go until jurong point, crazy.. Available only ...        NaN   \n",
              "1   ham                      Ok lar... Joking wif u oni...        NaN   \n",
              "2  spam  Free entry in 2 a wkly comp to win FA Cup fina...        NaN   \n",
              "3   ham  U dun say so early hor... U c already then say...        NaN   \n",
              "4   ham  Nah I don't think he goes to usf, he lives aro...        NaN   \n",
              "\n",
              "  Unnamed: 3 Unnamed: 4  \n",
              "0        NaN        NaN  \n",
              "1        NaN        NaN  \n",
              "2        NaN        NaN  \n",
              "3        NaN        NaN  \n",
              "4        NaN        NaN  "
            ],
            "text/html": [
              "\n",
              "  <div id=\"df-6f45ca6e-10c1-4bfc-93fe-abf2bd7bffca\">\n",
              "    <div class=\"colab-df-container\">\n",
              "      <div>\n",
              "<style scoped>\n",
              "    .dataframe tbody tr th:only-of-type {\n",
              "        vertical-align: middle;\n",
              "    }\n",
              "\n",
              "    .dataframe tbody tr th {\n",
              "        vertical-align: top;\n",
              "    }\n",
              "\n",
              "    .dataframe thead th {\n",
              "        text-align: right;\n",
              "    }\n",
              "</style>\n",
              "<table border=\"1\" class=\"dataframe\">\n",
              "  <thead>\n",
              "    <tr style=\"text-align: right;\">\n",
              "      <th></th>\n",
              "      <th>v1</th>\n",
              "      <th>v2</th>\n",
              "      <th>Unnamed: 2</th>\n",
              "      <th>Unnamed: 3</th>\n",
              "      <th>Unnamed: 4</th>\n",
              "    </tr>\n",
              "  </thead>\n",
              "  <tbody>\n",
              "    <tr>\n",
              "      <th>0</th>\n",
              "      <td>ham</td>\n",
              "      <td>Go until jurong point, crazy.. Available only ...</td>\n",
              "      <td>NaN</td>\n",
              "      <td>NaN</td>\n",
              "      <td>NaN</td>\n",
              "    </tr>\n",
              "    <tr>\n",
              "      <th>1</th>\n",
              "      <td>ham</td>\n",
              "      <td>Ok lar... Joking wif u oni...</td>\n",
              "      <td>NaN</td>\n",
              "      <td>NaN</td>\n",
              "      <td>NaN</td>\n",
              "    </tr>\n",
              "    <tr>\n",
              "      <th>2</th>\n",
              "      <td>spam</td>\n",
              "      <td>Free entry in 2 a wkly comp to win FA Cup fina...</td>\n",
              "      <td>NaN</td>\n",
              "      <td>NaN</td>\n",
              "      <td>NaN</td>\n",
              "    </tr>\n",
              "    <tr>\n",
              "      <th>3</th>\n",
              "      <td>ham</td>\n",
              "      <td>U dun say so early hor... U c already then say...</td>\n",
              "      <td>NaN</td>\n",
              "      <td>NaN</td>\n",
              "      <td>NaN</td>\n",
              "    </tr>\n",
              "    <tr>\n",
              "      <th>4</th>\n",
              "      <td>ham</td>\n",
              "      <td>Nah I don't think he goes to usf, he lives aro...</td>\n",
              "      <td>NaN</td>\n",
              "      <td>NaN</td>\n",
              "      <td>NaN</td>\n",
              "    </tr>\n",
              "  </tbody>\n",
              "</table>\n",
              "</div>\n",
              "      <button class=\"colab-df-convert\" onclick=\"convertToInteractive('df-6f45ca6e-10c1-4bfc-93fe-abf2bd7bffca')\"\n",
              "              title=\"Convert this dataframe to an interactive table.\"\n",
              "              style=\"display:none;\">\n",
              "        \n",
              "  <svg xmlns=\"http://www.w3.org/2000/svg\" height=\"24px\"viewBox=\"0 0 24 24\"\n",
              "       width=\"24px\">\n",
              "    <path d=\"M0 0h24v24H0V0z\" fill=\"none\"/>\n",
              "    <path d=\"M18.56 5.44l.94 2.06.94-2.06 2.06-.94-2.06-.94-.94-2.06-.94 2.06-2.06.94zm-11 1L8.5 8.5l.94-2.06 2.06-.94-2.06-.94L8.5 2.5l-.94 2.06-2.06.94zm10 10l.94 2.06.94-2.06 2.06-.94-2.06-.94-.94-2.06-.94 2.06-2.06.94z\"/><path d=\"M17.41 7.96l-1.37-1.37c-.4-.4-.92-.59-1.43-.59-.52 0-1.04.2-1.43.59L10.3 9.45l-7.72 7.72c-.78.78-.78 2.05 0 2.83L4 21.41c.39.39.9.59 1.41.59.51 0 1.02-.2 1.41-.59l7.78-7.78 2.81-2.81c.8-.78.8-2.07 0-2.86zM5.41 20L4 18.59l7.72-7.72 1.47 1.35L5.41 20z\"/>\n",
              "  </svg>\n",
              "      </button>\n",
              "      \n",
              "  <style>\n",
              "    .colab-df-container {\n",
              "      display:flex;\n",
              "      flex-wrap:wrap;\n",
              "      gap: 12px;\n",
              "    }\n",
              "\n",
              "    .colab-df-convert {\n",
              "      background-color: #E8F0FE;\n",
              "      border: none;\n",
              "      border-radius: 50%;\n",
              "      cursor: pointer;\n",
              "      display: none;\n",
              "      fill: #1967D2;\n",
              "      height: 32px;\n",
              "      padding: 0 0 0 0;\n",
              "      width: 32px;\n",
              "    }\n",
              "\n",
              "    .colab-df-convert:hover {\n",
              "      background-color: #E2EBFA;\n",
              "      box-shadow: 0px 1px 2px rgba(60, 64, 67, 0.3), 0px 1px 3px 1px rgba(60, 64, 67, 0.15);\n",
              "      fill: #174EA6;\n",
              "    }\n",
              "\n",
              "    [theme=dark] .colab-df-convert {\n",
              "      background-color: #3B4455;\n",
              "      fill: #D2E3FC;\n",
              "    }\n",
              "\n",
              "    [theme=dark] .colab-df-convert:hover {\n",
              "      background-color: #434B5C;\n",
              "      box-shadow: 0px 1px 3px 1px rgba(0, 0, 0, 0.15);\n",
              "      filter: drop-shadow(0px 1px 2px rgba(0, 0, 0, 0.3));\n",
              "      fill: #FFFFFF;\n",
              "    }\n",
              "  </style>\n",
              "\n",
              "      <script>\n",
              "        const buttonEl =\n",
              "          document.querySelector('#df-6f45ca6e-10c1-4bfc-93fe-abf2bd7bffca button.colab-df-convert');\n",
              "        buttonEl.style.display =\n",
              "          google.colab.kernel.accessAllowed ? 'block' : 'none';\n",
              "\n",
              "        async function convertToInteractive(key) {\n",
              "          const element = document.querySelector('#df-6f45ca6e-10c1-4bfc-93fe-abf2bd7bffca');\n",
              "          const dataTable =\n",
              "            await google.colab.kernel.invokeFunction('convertToInteractive',\n",
              "                                                     [key], {});\n",
              "          if (!dataTable) return;\n",
              "\n",
              "          const docLinkHtml = 'Like what you see? Visit the ' +\n",
              "            '<a target=\"_blank\" href=https://colab.research.google.com/notebooks/data_table.ipynb>data table notebook</a>'\n",
              "            + ' to learn more about interactive tables.';\n",
              "          element.innerHTML = '';\n",
              "          dataTable['output_type'] = 'display_data';\n",
              "          await google.colab.output.renderOutput(dataTable, element);\n",
              "          const docLink = document.createElement('div');\n",
              "          docLink.innerHTML = docLinkHtml;\n",
              "          element.appendChild(docLink);\n",
              "        }\n",
              "      </script>\n",
              "    </div>\n",
              "  </div>\n",
              "  "
            ]
          },
          "metadata": {},
          "execution_count": 8
        }
      ]
    },
    {
      "cell_type": "code",
      "source": [
        "dataset.describe(include=\"all\")\n",
        "\n",
        "print(\"Number of rows : {}\".format(dataset.shape[0]))\n",
        "print()\n",
        "\n",
        "print(\"Percentage of missing values: \")\n",
        "display(100*dataset.isnull().sum()/dataset.shape[0])\n",
        "\n",
        "dataset.describe(include=\"all\")"
      ],
      "metadata": {
        "id": "HpYS-oC46XRH",
        "colab": {
          "base_uri": "https://localhost:8080/",
          "height": 331
        },
        "outputId": "3cefb629-4c43-40ee-ef7f-366bdb71e715"
      },
      "execution_count": null,
      "outputs": [
        {
          "output_type": "stream",
          "name": "stdout",
          "text": [
            "Number of rows : 5572\n",
            "\n",
            "Percentage of missing values: \n"
          ]
        },
        {
          "output_type": "display_data",
          "data": {
            "text/plain": [
              "v1             0.000000\n",
              "v2             0.000000\n",
              "Unnamed: 2    99.102656\n",
              "Unnamed: 3    99.784637\n",
              "Unnamed: 4    99.892319\n",
              "dtype: float64"
            ]
          },
          "metadata": {}
        },
        {
          "output_type": "execute_result",
          "data": {
            "text/plain": [
              "          v1                      v2  \\\n",
              "count   5572                    5572   \n",
              "unique     2                    5169   \n",
              "top      ham  Sorry, I'll call later   \n",
              "freq    4825                      30   \n",
              "\n",
              "                                               Unnamed: 2  \\\n",
              "count                                                  50   \n",
              "unique                                                 43   \n",
              "top      bt not his girlfrnd... G o o d n i g h t . . .@\"   \n",
              "freq                                                    3   \n",
              "\n",
              "                   Unnamed: 3 Unnamed: 4  \n",
              "count                      12          6  \n",
              "unique                     10          5  \n",
              "top      MK17 92H. 450Ppw 16\"    GNT:-)\"  \n",
              "freq                        2          2  "
            ],
            "text/html": [
              "\n",
              "  <div id=\"df-eacbe9a6-86bc-4f23-a4f1-4a868ffc8421\">\n",
              "    <div class=\"colab-df-container\">\n",
              "      <div>\n",
              "<style scoped>\n",
              "    .dataframe tbody tr th:only-of-type {\n",
              "        vertical-align: middle;\n",
              "    }\n",
              "\n",
              "    .dataframe tbody tr th {\n",
              "        vertical-align: top;\n",
              "    }\n",
              "\n",
              "    .dataframe thead th {\n",
              "        text-align: right;\n",
              "    }\n",
              "</style>\n",
              "<table border=\"1\" class=\"dataframe\">\n",
              "  <thead>\n",
              "    <tr style=\"text-align: right;\">\n",
              "      <th></th>\n",
              "      <th>v1</th>\n",
              "      <th>v2</th>\n",
              "      <th>Unnamed: 2</th>\n",
              "      <th>Unnamed: 3</th>\n",
              "      <th>Unnamed: 4</th>\n",
              "    </tr>\n",
              "  </thead>\n",
              "  <tbody>\n",
              "    <tr>\n",
              "      <th>count</th>\n",
              "      <td>5572</td>\n",
              "      <td>5572</td>\n",
              "      <td>50</td>\n",
              "      <td>12</td>\n",
              "      <td>6</td>\n",
              "    </tr>\n",
              "    <tr>\n",
              "      <th>unique</th>\n",
              "      <td>2</td>\n",
              "      <td>5169</td>\n",
              "      <td>43</td>\n",
              "      <td>10</td>\n",
              "      <td>5</td>\n",
              "    </tr>\n",
              "    <tr>\n",
              "      <th>top</th>\n",
              "      <td>ham</td>\n",
              "      <td>Sorry, I'll call later</td>\n",
              "      <td>bt not his girlfrnd... G o o d n i g h t . . .@\"</td>\n",
              "      <td>MK17 92H. 450Ppw 16\"</td>\n",
              "      <td>GNT:-)\"</td>\n",
              "    </tr>\n",
              "    <tr>\n",
              "      <th>freq</th>\n",
              "      <td>4825</td>\n",
              "      <td>30</td>\n",
              "      <td>3</td>\n",
              "      <td>2</td>\n",
              "      <td>2</td>\n",
              "    </tr>\n",
              "  </tbody>\n",
              "</table>\n",
              "</div>\n",
              "      <button class=\"colab-df-convert\" onclick=\"convertToInteractive('df-eacbe9a6-86bc-4f23-a4f1-4a868ffc8421')\"\n",
              "              title=\"Convert this dataframe to an interactive table.\"\n",
              "              style=\"display:none;\">\n",
              "        \n",
              "  <svg xmlns=\"http://www.w3.org/2000/svg\" height=\"24px\"viewBox=\"0 0 24 24\"\n",
              "       width=\"24px\">\n",
              "    <path d=\"M0 0h24v24H0V0z\" fill=\"none\"/>\n",
              "    <path d=\"M18.56 5.44l.94 2.06.94-2.06 2.06-.94-2.06-.94-.94-2.06-.94 2.06-2.06.94zm-11 1L8.5 8.5l.94-2.06 2.06-.94-2.06-.94L8.5 2.5l-.94 2.06-2.06.94zm10 10l.94 2.06.94-2.06 2.06-.94-2.06-.94-.94-2.06-.94 2.06-2.06.94z\"/><path d=\"M17.41 7.96l-1.37-1.37c-.4-.4-.92-.59-1.43-.59-.52 0-1.04.2-1.43.59L10.3 9.45l-7.72 7.72c-.78.78-.78 2.05 0 2.83L4 21.41c.39.39.9.59 1.41.59.51 0 1.02-.2 1.41-.59l7.78-7.78 2.81-2.81c.8-.78.8-2.07 0-2.86zM5.41 20L4 18.59l7.72-7.72 1.47 1.35L5.41 20z\"/>\n",
              "  </svg>\n",
              "      </button>\n",
              "      \n",
              "  <style>\n",
              "    .colab-df-container {\n",
              "      display:flex;\n",
              "      flex-wrap:wrap;\n",
              "      gap: 12px;\n",
              "    }\n",
              "\n",
              "    .colab-df-convert {\n",
              "      background-color: #E8F0FE;\n",
              "      border: none;\n",
              "      border-radius: 50%;\n",
              "      cursor: pointer;\n",
              "      display: none;\n",
              "      fill: #1967D2;\n",
              "      height: 32px;\n",
              "      padding: 0 0 0 0;\n",
              "      width: 32px;\n",
              "    }\n",
              "\n",
              "    .colab-df-convert:hover {\n",
              "      background-color: #E2EBFA;\n",
              "      box-shadow: 0px 1px 2px rgba(60, 64, 67, 0.3), 0px 1px 3px 1px rgba(60, 64, 67, 0.15);\n",
              "      fill: #174EA6;\n",
              "    }\n",
              "\n",
              "    [theme=dark] .colab-df-convert {\n",
              "      background-color: #3B4455;\n",
              "      fill: #D2E3FC;\n",
              "    }\n",
              "\n",
              "    [theme=dark] .colab-df-convert:hover {\n",
              "      background-color: #434B5C;\n",
              "      box-shadow: 0px 1px 3px 1px rgba(0, 0, 0, 0.15);\n",
              "      filter: drop-shadow(0px 1px 2px rgba(0, 0, 0, 0.3));\n",
              "      fill: #FFFFFF;\n",
              "    }\n",
              "  </style>\n",
              "\n",
              "      <script>\n",
              "        const buttonEl =\n",
              "          document.querySelector('#df-eacbe9a6-86bc-4f23-a4f1-4a868ffc8421 button.colab-df-convert');\n",
              "        buttonEl.style.display =\n",
              "          google.colab.kernel.accessAllowed ? 'block' : 'none';\n",
              "\n",
              "        async function convertToInteractive(key) {\n",
              "          const element = document.querySelector('#df-eacbe9a6-86bc-4f23-a4f1-4a868ffc8421');\n",
              "          const dataTable =\n",
              "            await google.colab.kernel.invokeFunction('convertToInteractive',\n",
              "                                                     [key], {});\n",
              "          if (!dataTable) return;\n",
              "\n",
              "          const docLinkHtml = 'Like what you see? Visit the ' +\n",
              "            '<a target=\"_blank\" href=https://colab.research.google.com/notebooks/data_table.ipynb>data table notebook</a>'\n",
              "            + ' to learn more about interactive tables.';\n",
              "          element.innerHTML = '';\n",
              "          dataTable['output_type'] = 'display_data';\n",
              "          await google.colab.output.renderOutput(dataTable, element);\n",
              "          const docLink = document.createElement('div');\n",
              "          docLink.innerHTML = docLinkHtml;\n",
              "          element.appendChild(docLink);\n",
              "        }\n",
              "      </script>\n",
              "    </div>\n",
              "  </div>\n",
              "  "
            ]
          },
          "metadata": {},
          "execution_count": 9
        }
      ]
    },
    {
      "cell_type": "code",
      "source": [
        "# show the distribution between the classes to predict\n",
        "dataset.v1.groupby(dataset.v1).count()"
      ],
      "metadata": {
        "id": "QqQqvGYbGSEk",
        "colab": {
          "base_uri": "https://localhost:8080/"
        },
        "outputId": "08e13f13-b2bc-4f84-c8c9-02a814448302"
      },
      "execution_count": null,
      "outputs": [
        {
          "output_type": "execute_result",
          "data": {
            "text/plain": [
              "v1\n",
              "ham     4825\n",
              "spam     747\n",
              "Name: v1, dtype: int64"
            ]
          },
          "metadata": {},
          "execution_count": 10
        }
      ]
    },
    {
      "cell_type": "code",
      "source": [
        "# keep only usefull columns\n",
        "dataset = dataset.loc[:,[\"v1\", \"v2\"]]\n",
        "dataset.head()"
      ],
      "metadata": {
        "id": "rut0wDhL3vKA",
        "colab": {
          "base_uri": "https://localhost:8080/",
          "height": 206
        },
        "outputId": "a738fcd2-75da-4d6c-e7f2-70dbeb3c4e17"
      },
      "execution_count": null,
      "outputs": [
        {
          "output_type": "execute_result",
          "data": {
            "text/plain": [
              "     v1                                                 v2\n",
              "0   ham  Go until jurong point, crazy.. Available only ...\n",
              "1   ham                      Ok lar... Joking wif u oni...\n",
              "2  spam  Free entry in 2 a wkly comp to win FA Cup fina...\n",
              "3   ham  U dun say so early hor... U c already then say...\n",
              "4   ham  Nah I don't think he goes to usf, he lives aro..."
            ],
            "text/html": [
              "\n",
              "  <div id=\"df-338a5f9f-d2ee-43ae-8732-61ded30cd0ba\">\n",
              "    <div class=\"colab-df-container\">\n",
              "      <div>\n",
              "<style scoped>\n",
              "    .dataframe tbody tr th:only-of-type {\n",
              "        vertical-align: middle;\n",
              "    }\n",
              "\n",
              "    .dataframe tbody tr th {\n",
              "        vertical-align: top;\n",
              "    }\n",
              "\n",
              "    .dataframe thead th {\n",
              "        text-align: right;\n",
              "    }\n",
              "</style>\n",
              "<table border=\"1\" class=\"dataframe\">\n",
              "  <thead>\n",
              "    <tr style=\"text-align: right;\">\n",
              "      <th></th>\n",
              "      <th>v1</th>\n",
              "      <th>v2</th>\n",
              "    </tr>\n",
              "  </thead>\n",
              "  <tbody>\n",
              "    <tr>\n",
              "      <th>0</th>\n",
              "      <td>ham</td>\n",
              "      <td>Go until jurong point, crazy.. Available only ...</td>\n",
              "    </tr>\n",
              "    <tr>\n",
              "      <th>1</th>\n",
              "      <td>ham</td>\n",
              "      <td>Ok lar... Joking wif u oni...</td>\n",
              "    </tr>\n",
              "    <tr>\n",
              "      <th>2</th>\n",
              "      <td>spam</td>\n",
              "      <td>Free entry in 2 a wkly comp to win FA Cup fina...</td>\n",
              "    </tr>\n",
              "    <tr>\n",
              "      <th>3</th>\n",
              "      <td>ham</td>\n",
              "      <td>U dun say so early hor... U c already then say...</td>\n",
              "    </tr>\n",
              "    <tr>\n",
              "      <th>4</th>\n",
              "      <td>ham</td>\n",
              "      <td>Nah I don't think he goes to usf, he lives aro...</td>\n",
              "    </tr>\n",
              "  </tbody>\n",
              "</table>\n",
              "</div>\n",
              "      <button class=\"colab-df-convert\" onclick=\"convertToInteractive('df-338a5f9f-d2ee-43ae-8732-61ded30cd0ba')\"\n",
              "              title=\"Convert this dataframe to an interactive table.\"\n",
              "              style=\"display:none;\">\n",
              "        \n",
              "  <svg xmlns=\"http://www.w3.org/2000/svg\" height=\"24px\"viewBox=\"0 0 24 24\"\n",
              "       width=\"24px\">\n",
              "    <path d=\"M0 0h24v24H0V0z\" fill=\"none\"/>\n",
              "    <path d=\"M18.56 5.44l.94 2.06.94-2.06 2.06-.94-2.06-.94-.94-2.06-.94 2.06-2.06.94zm-11 1L8.5 8.5l.94-2.06 2.06-.94-2.06-.94L8.5 2.5l-.94 2.06-2.06.94zm10 10l.94 2.06.94-2.06 2.06-.94-2.06-.94-.94-2.06-.94 2.06-2.06.94z\"/><path d=\"M17.41 7.96l-1.37-1.37c-.4-.4-.92-.59-1.43-.59-.52 0-1.04.2-1.43.59L10.3 9.45l-7.72 7.72c-.78.78-.78 2.05 0 2.83L4 21.41c.39.39.9.59 1.41.59.51 0 1.02-.2 1.41-.59l7.78-7.78 2.81-2.81c.8-.78.8-2.07 0-2.86zM5.41 20L4 18.59l7.72-7.72 1.47 1.35L5.41 20z\"/>\n",
              "  </svg>\n",
              "      </button>\n",
              "      \n",
              "  <style>\n",
              "    .colab-df-container {\n",
              "      display:flex;\n",
              "      flex-wrap:wrap;\n",
              "      gap: 12px;\n",
              "    }\n",
              "\n",
              "    .colab-df-convert {\n",
              "      background-color: #E8F0FE;\n",
              "      border: none;\n",
              "      border-radius: 50%;\n",
              "      cursor: pointer;\n",
              "      display: none;\n",
              "      fill: #1967D2;\n",
              "      height: 32px;\n",
              "      padding: 0 0 0 0;\n",
              "      width: 32px;\n",
              "    }\n",
              "\n",
              "    .colab-df-convert:hover {\n",
              "      background-color: #E2EBFA;\n",
              "      box-shadow: 0px 1px 2px rgba(60, 64, 67, 0.3), 0px 1px 3px 1px rgba(60, 64, 67, 0.15);\n",
              "      fill: #174EA6;\n",
              "    }\n",
              "\n",
              "    [theme=dark] .colab-df-convert {\n",
              "      background-color: #3B4455;\n",
              "      fill: #D2E3FC;\n",
              "    }\n",
              "\n",
              "    [theme=dark] .colab-df-convert:hover {\n",
              "      background-color: #434B5C;\n",
              "      box-shadow: 0px 1px 3px 1px rgba(0, 0, 0, 0.15);\n",
              "      filter: drop-shadow(0px 1px 2px rgba(0, 0, 0, 0.3));\n",
              "      fill: #FFFFFF;\n",
              "    }\n",
              "  </style>\n",
              "\n",
              "      <script>\n",
              "        const buttonEl =\n",
              "          document.querySelector('#df-338a5f9f-d2ee-43ae-8732-61ded30cd0ba button.colab-df-convert');\n",
              "        buttonEl.style.display =\n",
              "          google.colab.kernel.accessAllowed ? 'block' : 'none';\n",
              "\n",
              "        async function convertToInteractive(key) {\n",
              "          const element = document.querySelector('#df-338a5f9f-d2ee-43ae-8732-61ded30cd0ba');\n",
              "          const dataTable =\n",
              "            await google.colab.kernel.invokeFunction('convertToInteractive',\n",
              "                                                     [key], {});\n",
              "          if (!dataTable) return;\n",
              "\n",
              "          const docLinkHtml = 'Like what you see? Visit the ' +\n",
              "            '<a target=\"_blank\" href=https://colab.research.google.com/notebooks/data_table.ipynb>data table notebook</a>'\n",
              "            + ' to learn more about interactive tables.';\n",
              "          element.innerHTML = '';\n",
              "          dataTable['output_type'] = 'display_data';\n",
              "          await google.colab.output.renderOutput(dataTable, element);\n",
              "          const docLink = document.createElement('div');\n",
              "          docLink.innerHTML = docLinkHtml;\n",
              "          element.appendChild(docLink);\n",
              "        }\n",
              "      </script>\n",
              "    </div>\n",
              "  </div>\n",
              "  "
            ]
          },
          "metadata": {},
          "execution_count": 11
        }
      ]
    },
    {
      "cell_type": "code",
      "source": [
        "# transform target names in binary classes\n",
        "dataset['v1_transformed'] = dataset.v1.apply(lambda x : 0 if x == 'ham' else 1)\n",
        "dataset.head()"
      ],
      "metadata": {
        "id": "IbVpgWajECHi",
        "colab": {
          "base_uri": "https://localhost:8080/",
          "height": 206
        },
        "outputId": "5d770074-f126-4d70-8961-fed7c16fd1c2"
      },
      "execution_count": null,
      "outputs": [
        {
          "output_type": "execute_result",
          "data": {
            "text/plain": [
              "     v1                                                 v2  v1_transformed\n",
              "0   ham  Go until jurong point, crazy.. Available only ...               0\n",
              "1   ham                      Ok lar... Joking wif u oni...               0\n",
              "2  spam  Free entry in 2 a wkly comp to win FA Cup fina...               1\n",
              "3   ham  U dun say so early hor... U c already then say...               0\n",
              "4   ham  Nah I don't think he goes to usf, he lives aro...               0"
            ],
            "text/html": [
              "\n",
              "  <div id=\"df-5ce3b607-efb6-419e-9af2-a5a90273790f\">\n",
              "    <div class=\"colab-df-container\">\n",
              "      <div>\n",
              "<style scoped>\n",
              "    .dataframe tbody tr th:only-of-type {\n",
              "        vertical-align: middle;\n",
              "    }\n",
              "\n",
              "    .dataframe tbody tr th {\n",
              "        vertical-align: top;\n",
              "    }\n",
              "\n",
              "    .dataframe thead th {\n",
              "        text-align: right;\n",
              "    }\n",
              "</style>\n",
              "<table border=\"1\" class=\"dataframe\">\n",
              "  <thead>\n",
              "    <tr style=\"text-align: right;\">\n",
              "      <th></th>\n",
              "      <th>v1</th>\n",
              "      <th>v2</th>\n",
              "      <th>v1_transformed</th>\n",
              "    </tr>\n",
              "  </thead>\n",
              "  <tbody>\n",
              "    <tr>\n",
              "      <th>0</th>\n",
              "      <td>ham</td>\n",
              "      <td>Go until jurong point, crazy.. Available only ...</td>\n",
              "      <td>0</td>\n",
              "    </tr>\n",
              "    <tr>\n",
              "      <th>1</th>\n",
              "      <td>ham</td>\n",
              "      <td>Ok lar... Joking wif u oni...</td>\n",
              "      <td>0</td>\n",
              "    </tr>\n",
              "    <tr>\n",
              "      <th>2</th>\n",
              "      <td>spam</td>\n",
              "      <td>Free entry in 2 a wkly comp to win FA Cup fina...</td>\n",
              "      <td>1</td>\n",
              "    </tr>\n",
              "    <tr>\n",
              "      <th>3</th>\n",
              "      <td>ham</td>\n",
              "      <td>U dun say so early hor... U c already then say...</td>\n",
              "      <td>0</td>\n",
              "    </tr>\n",
              "    <tr>\n",
              "      <th>4</th>\n",
              "      <td>ham</td>\n",
              "      <td>Nah I don't think he goes to usf, he lives aro...</td>\n",
              "      <td>0</td>\n",
              "    </tr>\n",
              "  </tbody>\n",
              "</table>\n",
              "</div>\n",
              "      <button class=\"colab-df-convert\" onclick=\"convertToInteractive('df-5ce3b607-efb6-419e-9af2-a5a90273790f')\"\n",
              "              title=\"Convert this dataframe to an interactive table.\"\n",
              "              style=\"display:none;\">\n",
              "        \n",
              "  <svg xmlns=\"http://www.w3.org/2000/svg\" height=\"24px\"viewBox=\"0 0 24 24\"\n",
              "       width=\"24px\">\n",
              "    <path d=\"M0 0h24v24H0V0z\" fill=\"none\"/>\n",
              "    <path d=\"M18.56 5.44l.94 2.06.94-2.06 2.06-.94-2.06-.94-.94-2.06-.94 2.06-2.06.94zm-11 1L8.5 8.5l.94-2.06 2.06-.94-2.06-.94L8.5 2.5l-.94 2.06-2.06.94zm10 10l.94 2.06.94-2.06 2.06-.94-2.06-.94-.94-2.06-.94 2.06-2.06.94z\"/><path d=\"M17.41 7.96l-1.37-1.37c-.4-.4-.92-.59-1.43-.59-.52 0-1.04.2-1.43.59L10.3 9.45l-7.72 7.72c-.78.78-.78 2.05 0 2.83L4 21.41c.39.39.9.59 1.41.59.51 0 1.02-.2 1.41-.59l7.78-7.78 2.81-2.81c.8-.78.8-2.07 0-2.86zM5.41 20L4 18.59l7.72-7.72 1.47 1.35L5.41 20z\"/>\n",
              "  </svg>\n",
              "      </button>\n",
              "      \n",
              "  <style>\n",
              "    .colab-df-container {\n",
              "      display:flex;\n",
              "      flex-wrap:wrap;\n",
              "      gap: 12px;\n",
              "    }\n",
              "\n",
              "    .colab-df-convert {\n",
              "      background-color: #E8F0FE;\n",
              "      border: none;\n",
              "      border-radius: 50%;\n",
              "      cursor: pointer;\n",
              "      display: none;\n",
              "      fill: #1967D2;\n",
              "      height: 32px;\n",
              "      padding: 0 0 0 0;\n",
              "      width: 32px;\n",
              "    }\n",
              "\n",
              "    .colab-df-convert:hover {\n",
              "      background-color: #E2EBFA;\n",
              "      box-shadow: 0px 1px 2px rgba(60, 64, 67, 0.3), 0px 1px 3px 1px rgba(60, 64, 67, 0.15);\n",
              "      fill: #174EA6;\n",
              "    }\n",
              "\n",
              "    [theme=dark] .colab-df-convert {\n",
              "      background-color: #3B4455;\n",
              "      fill: #D2E3FC;\n",
              "    }\n",
              "\n",
              "    [theme=dark] .colab-df-convert:hover {\n",
              "      background-color: #434B5C;\n",
              "      box-shadow: 0px 1px 3px 1px rgba(0, 0, 0, 0.15);\n",
              "      filter: drop-shadow(0px 1px 2px rgba(0, 0, 0, 0.3));\n",
              "      fill: #FFFFFF;\n",
              "    }\n",
              "  </style>\n",
              "\n",
              "      <script>\n",
              "        const buttonEl =\n",
              "          document.querySelector('#df-5ce3b607-efb6-419e-9af2-a5a90273790f button.colab-df-convert');\n",
              "        buttonEl.style.display =\n",
              "          google.colab.kernel.accessAllowed ? 'block' : 'none';\n",
              "\n",
              "        async function convertToInteractive(key) {\n",
              "          const element = document.querySelector('#df-5ce3b607-efb6-419e-9af2-a5a90273790f');\n",
              "          const dataTable =\n",
              "            await google.colab.kernel.invokeFunction('convertToInteractive',\n",
              "                                                     [key], {});\n",
              "          if (!dataTable) return;\n",
              "\n",
              "          const docLinkHtml = 'Like what you see? Visit the ' +\n",
              "            '<a target=\"_blank\" href=https://colab.research.google.com/notebooks/data_table.ipynb>data table notebook</a>'\n",
              "            + ' to learn more about interactive tables.';\n",
              "          element.innerHTML = '';\n",
              "          dataTable['output_type'] = 'display_data';\n",
              "          await google.colab.output.renderOutput(dataTable, element);\n",
              "          const docLink = document.createElement('div');\n",
              "          docLink.innerHTML = docLinkHtml;\n",
              "          element.appendChild(docLink);\n",
              "        }\n",
              "      </script>\n",
              "    </div>\n",
              "  </div>\n",
              "  "
            ]
          },
          "metadata": {},
          "execution_count": 12
        }
      ]
    },
    {
      "cell_type": "code",
      "source": [
        "# download en_core_web_sm to manage english words\n",
        "!python -m spacy download en_core_web_sm -q"
      ],
      "metadata": {
        "id": "EsEBpbsu7DjL",
        "colab": {
          "base_uri": "https://localhost:8080/"
        },
        "outputId": "38d7ee77-5302-4faf-ee95-cfed7d297ee7"
      },
      "execution_count": null,
      "outputs": [
        {
          "output_type": "stream",
          "name": "stdout",
          "text": [
            "/usr/local/lib/python3.8/dist-packages/torch/cuda/__init__.py:497: UserWarning: Can't initialize NVML\n",
            "  warnings.warn(\"Can't initialize NVML\")\n",
            "2022-12-19 10:08:32.699494: E tensorflow/stream_executor/cuda/cuda_driver.cc:271] failed call to cuInit: CUDA_ERROR_NO_DEVICE: no CUDA-capable device is detected\n",
            "\u001b[K     |████████████████████████████████| 12.8 MB 7.3 MB/s \n",
            "\u001b[?25h\u001b[38;5;2m✔ Download and installation successful\u001b[0m\n",
            "You can now load the package via spacy.load('en_core_web_sm')\n"
          ]
        }
      ]
    },
    {
      "cell_type": "code",
      "source": [
        "# Import Spacy and english initialisation\n",
        "import en_core_web_sm\n",
        "nlp = en_core_web_sm.load()"
      ],
      "metadata": {
        "id": "WPPp2Y6N9C_B"
      },
      "execution_count": null,
      "outputs": []
    },
    {
      "cell_type": "code",
      "source": [
        "# Import Stop words \n",
        "from spacy.lang.en.stop_words import STOP_WORDS"
      ],
      "metadata": {
        "id": "n4wGRJgm-6qV"
      },
      "execution_count": null,
      "outputs": []
    },
    {
      "cell_type": "code",
      "source": [
        "# Create a new clean column to make words management easier \n",
        "dataset[\"v2_clean\"] = dataset[\"v2\"].apply(lambda x:''.join(ch for ch in x if ch.isalnum() or ch==\" \"))\n",
        "dataset[\"v2_clean\"] = dataset[\"v2_clean\"].apply(lambda x: x.replace(\" +\",\" \").lower().strip())\n",
        "dataset[\"v2_clean\"] = dataset[\"v2_clean\"].apply(lambda x: \" \".join([token.lemma_ for token in nlp(x) if (token.lemma_ not in STOP_WORDS) & (token.text not in STOP_WORDS)]))\n",
        "\n",
        "dataset.head()\n"
      ],
      "metadata": {
        "id": "Oz7EG4Sv_IG_",
        "colab": {
          "base_uri": "https://localhost:8080/",
          "height": 250
        },
        "outputId": "326f452e-9f1e-46cc-a7ad-49bbe58aaaf6"
      },
      "execution_count": null,
      "outputs": [
        {
          "output_type": "execute_result",
          "data": {
            "text/plain": [
              "     v1                                                 v2  v1_transformed  \\\n",
              "0   ham  Go until jurong point, crazy.. Available only ...               0   \n",
              "1   ham                      Ok lar... Joking wif u oni...               0   \n",
              "2  spam  Free entry in 2 a wkly comp to win FA Cup fina...               1   \n",
              "3   ham  U dun say so early hor... U c already then say...               0   \n",
              "4   ham  Nah I don't think he goes to usf, he lives aro...               0   \n",
              "\n",
              "                                            v2_clean  \n",
              "0  jurong point crazy available bugis n great wor...  \n",
              "1                            ok lar joking wif u oni  \n",
              "2  free entry 2 wkly comp win fa cup final tkts 2...  \n",
              "3                                u dun early hor u c  \n",
              "4                                 nah think usf live  "
            ],
            "text/html": [
              "\n",
              "  <div id=\"df-6f59b0e6-8343-47aa-96fd-3fe22807e3e7\">\n",
              "    <div class=\"colab-df-container\">\n",
              "      <div>\n",
              "<style scoped>\n",
              "    .dataframe tbody tr th:only-of-type {\n",
              "        vertical-align: middle;\n",
              "    }\n",
              "\n",
              "    .dataframe tbody tr th {\n",
              "        vertical-align: top;\n",
              "    }\n",
              "\n",
              "    .dataframe thead th {\n",
              "        text-align: right;\n",
              "    }\n",
              "</style>\n",
              "<table border=\"1\" class=\"dataframe\">\n",
              "  <thead>\n",
              "    <tr style=\"text-align: right;\">\n",
              "      <th></th>\n",
              "      <th>v1</th>\n",
              "      <th>v2</th>\n",
              "      <th>v1_transformed</th>\n",
              "      <th>v2_clean</th>\n",
              "    </tr>\n",
              "  </thead>\n",
              "  <tbody>\n",
              "    <tr>\n",
              "      <th>0</th>\n",
              "      <td>ham</td>\n",
              "      <td>Go until jurong point, crazy.. Available only ...</td>\n",
              "      <td>0</td>\n",
              "      <td>jurong point crazy available bugis n great wor...</td>\n",
              "    </tr>\n",
              "    <tr>\n",
              "      <th>1</th>\n",
              "      <td>ham</td>\n",
              "      <td>Ok lar... Joking wif u oni...</td>\n",
              "      <td>0</td>\n",
              "      <td>ok lar joking wif u oni</td>\n",
              "    </tr>\n",
              "    <tr>\n",
              "      <th>2</th>\n",
              "      <td>spam</td>\n",
              "      <td>Free entry in 2 a wkly comp to win FA Cup fina...</td>\n",
              "      <td>1</td>\n",
              "      <td>free entry 2 wkly comp win fa cup final tkts 2...</td>\n",
              "    </tr>\n",
              "    <tr>\n",
              "      <th>3</th>\n",
              "      <td>ham</td>\n",
              "      <td>U dun say so early hor... U c already then say...</td>\n",
              "      <td>0</td>\n",
              "      <td>u dun early hor u c</td>\n",
              "    </tr>\n",
              "    <tr>\n",
              "      <th>4</th>\n",
              "      <td>ham</td>\n",
              "      <td>Nah I don't think he goes to usf, he lives aro...</td>\n",
              "      <td>0</td>\n",
              "      <td>nah think usf live</td>\n",
              "    </tr>\n",
              "  </tbody>\n",
              "</table>\n",
              "</div>\n",
              "      <button class=\"colab-df-convert\" onclick=\"convertToInteractive('df-6f59b0e6-8343-47aa-96fd-3fe22807e3e7')\"\n",
              "              title=\"Convert this dataframe to an interactive table.\"\n",
              "              style=\"display:none;\">\n",
              "        \n",
              "  <svg xmlns=\"http://www.w3.org/2000/svg\" height=\"24px\"viewBox=\"0 0 24 24\"\n",
              "       width=\"24px\">\n",
              "    <path d=\"M0 0h24v24H0V0z\" fill=\"none\"/>\n",
              "    <path d=\"M18.56 5.44l.94 2.06.94-2.06 2.06-.94-2.06-.94-.94-2.06-.94 2.06-2.06.94zm-11 1L8.5 8.5l.94-2.06 2.06-.94-2.06-.94L8.5 2.5l-.94 2.06-2.06.94zm10 10l.94 2.06.94-2.06 2.06-.94-2.06-.94-.94-2.06-.94 2.06-2.06.94z\"/><path d=\"M17.41 7.96l-1.37-1.37c-.4-.4-.92-.59-1.43-.59-.52 0-1.04.2-1.43.59L10.3 9.45l-7.72 7.72c-.78.78-.78 2.05 0 2.83L4 21.41c.39.39.9.59 1.41.59.51 0 1.02-.2 1.41-.59l7.78-7.78 2.81-2.81c.8-.78.8-2.07 0-2.86zM5.41 20L4 18.59l7.72-7.72 1.47 1.35L5.41 20z\"/>\n",
              "  </svg>\n",
              "      </button>\n",
              "      \n",
              "  <style>\n",
              "    .colab-df-container {\n",
              "      display:flex;\n",
              "      flex-wrap:wrap;\n",
              "      gap: 12px;\n",
              "    }\n",
              "\n",
              "    .colab-df-convert {\n",
              "      background-color: #E8F0FE;\n",
              "      border: none;\n",
              "      border-radius: 50%;\n",
              "      cursor: pointer;\n",
              "      display: none;\n",
              "      fill: #1967D2;\n",
              "      height: 32px;\n",
              "      padding: 0 0 0 0;\n",
              "      width: 32px;\n",
              "    }\n",
              "\n",
              "    .colab-df-convert:hover {\n",
              "      background-color: #E2EBFA;\n",
              "      box-shadow: 0px 1px 2px rgba(60, 64, 67, 0.3), 0px 1px 3px 1px rgba(60, 64, 67, 0.15);\n",
              "      fill: #174EA6;\n",
              "    }\n",
              "\n",
              "    [theme=dark] .colab-df-convert {\n",
              "      background-color: #3B4455;\n",
              "      fill: #D2E3FC;\n",
              "    }\n",
              "\n",
              "    [theme=dark] .colab-df-convert:hover {\n",
              "      background-color: #434B5C;\n",
              "      box-shadow: 0px 1px 3px 1px rgba(0, 0, 0, 0.15);\n",
              "      filter: drop-shadow(0px 1px 2px rgba(0, 0, 0, 0.3));\n",
              "      fill: #FFFFFF;\n",
              "    }\n",
              "  </style>\n",
              "\n",
              "      <script>\n",
              "        const buttonEl =\n",
              "          document.querySelector('#df-6f59b0e6-8343-47aa-96fd-3fe22807e3e7 button.colab-df-convert');\n",
              "        buttonEl.style.display =\n",
              "          google.colab.kernel.accessAllowed ? 'block' : 'none';\n",
              "\n",
              "        async function convertToInteractive(key) {\n",
              "          const element = document.querySelector('#df-6f59b0e6-8343-47aa-96fd-3fe22807e3e7');\n",
              "          const dataTable =\n",
              "            await google.colab.kernel.invokeFunction('convertToInteractive',\n",
              "                                                     [key], {});\n",
              "          if (!dataTable) return;\n",
              "\n",
              "          const docLinkHtml = 'Like what you see? Visit the ' +\n",
              "            '<a target=\"_blank\" href=https://colab.research.google.com/notebooks/data_table.ipynb>data table notebook</a>'\n",
              "            + ' to learn more about interactive tables.';\n",
              "          element.innerHTML = '';\n",
              "          dataTable['output_type'] = 'display_data';\n",
              "          await google.colab.output.renderOutput(dataTable, element);\n",
              "          const docLink = document.createElement('div');\n",
              "          docLink.innerHTML = docLinkHtml;\n",
              "          element.appendChild(docLink);\n",
              "        }\n",
              "      </script>\n",
              "    </div>\n",
              "  </div>\n",
              "  "
            ]
          },
          "metadata": {},
          "execution_count": 16
        }
      ]
    },
    {
      "cell_type": "code",
      "source": [
        "# instanciate the tokenizer\n",
        "import numpy as np\n",
        "tokenizer = tf.keras.preprocessing.text.Tokenizer(num_words=1000)\n",
        "tokenizer.fit_on_texts(dataset[\"v2_clean\"])\n",
        "dataset[\"v2_encoded\"] = tokenizer.texts_to_sequences(dataset.v2_clean)\n",
        "dataset[\"len_v2\"] = dataset[\"v2_encoded\"].apply(lambda x: len(x))\n",
        "dataset = dataset[dataset[\"len_v2\"]!=0]\n",
        "\n",
        "dataset.head()"
      ],
      "metadata": {
        "id": "mkZgZdW3_35T",
        "colab": {
          "base_uri": "https://localhost:8080/",
          "height": 320
        },
        "outputId": "ebacc803-eb75-4965-d446-47a88ec3a4e8"
      },
      "execution_count": null,
      "outputs": [
        {
          "output_type": "execute_result",
          "data": {
            "text/plain": [
              "     v1                                                 v2  v1_transformed  \\\n",
              "0   ham  Go until jurong point, crazy.. Available only ...               0   \n",
              "1   ham                      Ok lar... Joking wif u oni...               0   \n",
              "2  spam  Free entry in 2 a wkly comp to win FA Cup fina...               1   \n",
              "3   ham  U dun say so early hor... U c already then say...               0   \n",
              "4   ham  Nah I don't think he goes to usf, he lives aro...               0   \n",
              "\n",
              "                                            v2_clean  \\\n",
              "0  jurong point crazy available bugis n great wor...   \n",
              "1                            ok lar joking wif u oni   \n",
              "2  free entry 2 wkly comp win fa cup final tkts 2...   \n",
              "3                                u dun early hor u c   \n",
              "4                                 nah think usf live   \n",
              "\n",
              "                                          v2_encoded  len_v2  \n",
              "0  [230, 444, 460, 943, 35, 51, 204, 944, 79, 945...      11  \n",
              "1                                   [9, 193, 289, 1]       4  \n",
              "2  [11, 300, 3, 532, 655, 33, 849, 420, 20, 157, ...      13  \n",
              "3                               [1, 124, 149, 1, 84]       5  \n",
              "4                                [705, 22, 656, 127]       4  "
            ],
            "text/html": [
              "\n",
              "  <div id=\"df-9e6f7ad0-a3df-421c-a431-c1ab32da15cc\">\n",
              "    <div class=\"colab-df-container\">\n",
              "      <div>\n",
              "<style scoped>\n",
              "    .dataframe tbody tr th:only-of-type {\n",
              "        vertical-align: middle;\n",
              "    }\n",
              "\n",
              "    .dataframe tbody tr th {\n",
              "        vertical-align: top;\n",
              "    }\n",
              "\n",
              "    .dataframe thead th {\n",
              "        text-align: right;\n",
              "    }\n",
              "</style>\n",
              "<table border=\"1\" class=\"dataframe\">\n",
              "  <thead>\n",
              "    <tr style=\"text-align: right;\">\n",
              "      <th></th>\n",
              "      <th>v1</th>\n",
              "      <th>v2</th>\n",
              "      <th>v1_transformed</th>\n",
              "      <th>v2_clean</th>\n",
              "      <th>v2_encoded</th>\n",
              "      <th>len_v2</th>\n",
              "    </tr>\n",
              "  </thead>\n",
              "  <tbody>\n",
              "    <tr>\n",
              "      <th>0</th>\n",
              "      <td>ham</td>\n",
              "      <td>Go until jurong point, crazy.. Available only ...</td>\n",
              "      <td>0</td>\n",
              "      <td>jurong point crazy available bugis n great wor...</td>\n",
              "      <td>[230, 444, 460, 943, 35, 51, 204, 944, 79, 945...</td>\n",
              "      <td>11</td>\n",
              "    </tr>\n",
              "    <tr>\n",
              "      <th>1</th>\n",
              "      <td>ham</td>\n",
              "      <td>Ok lar... Joking wif u oni...</td>\n",
              "      <td>0</td>\n",
              "      <td>ok lar joking wif u oni</td>\n",
              "      <td>[9, 193, 289, 1]</td>\n",
              "      <td>4</td>\n",
              "    </tr>\n",
              "    <tr>\n",
              "      <th>2</th>\n",
              "      <td>spam</td>\n",
              "      <td>Free entry in 2 a wkly comp to win FA Cup fina...</td>\n",
              "      <td>1</td>\n",
              "      <td>free entry 2 wkly comp win fa cup final tkts 2...</td>\n",
              "      <td>[11, 300, 3, 532, 655, 33, 849, 420, 20, 157, ...</td>\n",
              "      <td>13</td>\n",
              "    </tr>\n",
              "    <tr>\n",
              "      <th>3</th>\n",
              "      <td>ham</td>\n",
              "      <td>U dun say so early hor... U c already then say...</td>\n",
              "      <td>0</td>\n",
              "      <td>u dun early hor u c</td>\n",
              "      <td>[1, 124, 149, 1, 84]</td>\n",
              "      <td>5</td>\n",
              "    </tr>\n",
              "    <tr>\n",
              "      <th>4</th>\n",
              "      <td>ham</td>\n",
              "      <td>Nah I don't think he goes to usf, he lives aro...</td>\n",
              "      <td>0</td>\n",
              "      <td>nah think usf live</td>\n",
              "      <td>[705, 22, 656, 127]</td>\n",
              "      <td>4</td>\n",
              "    </tr>\n",
              "  </tbody>\n",
              "</table>\n",
              "</div>\n",
              "      <button class=\"colab-df-convert\" onclick=\"convertToInteractive('df-9e6f7ad0-a3df-421c-a431-c1ab32da15cc')\"\n",
              "              title=\"Convert this dataframe to an interactive table.\"\n",
              "              style=\"display:none;\">\n",
              "        \n",
              "  <svg xmlns=\"http://www.w3.org/2000/svg\" height=\"24px\"viewBox=\"0 0 24 24\"\n",
              "       width=\"24px\">\n",
              "    <path d=\"M0 0h24v24H0V0z\" fill=\"none\"/>\n",
              "    <path d=\"M18.56 5.44l.94 2.06.94-2.06 2.06-.94-2.06-.94-.94-2.06-.94 2.06-2.06.94zm-11 1L8.5 8.5l.94-2.06 2.06-.94-2.06-.94L8.5 2.5l-.94 2.06-2.06.94zm10 10l.94 2.06.94-2.06 2.06-.94-2.06-.94-.94-2.06-.94 2.06-2.06.94z\"/><path d=\"M17.41 7.96l-1.37-1.37c-.4-.4-.92-.59-1.43-.59-.52 0-1.04.2-1.43.59L10.3 9.45l-7.72 7.72c-.78.78-.78 2.05 0 2.83L4 21.41c.39.39.9.59 1.41.59.51 0 1.02-.2 1.41-.59l7.78-7.78 2.81-2.81c.8-.78.8-2.07 0-2.86zM5.41 20L4 18.59l7.72-7.72 1.47 1.35L5.41 20z\"/>\n",
              "  </svg>\n",
              "      </button>\n",
              "      \n",
              "  <style>\n",
              "    .colab-df-container {\n",
              "      display:flex;\n",
              "      flex-wrap:wrap;\n",
              "      gap: 12px;\n",
              "    }\n",
              "\n",
              "    .colab-df-convert {\n",
              "      background-color: #E8F0FE;\n",
              "      border: none;\n",
              "      border-radius: 50%;\n",
              "      cursor: pointer;\n",
              "      display: none;\n",
              "      fill: #1967D2;\n",
              "      height: 32px;\n",
              "      padding: 0 0 0 0;\n",
              "      width: 32px;\n",
              "    }\n",
              "\n",
              "    .colab-df-convert:hover {\n",
              "      background-color: #E2EBFA;\n",
              "      box-shadow: 0px 1px 2px rgba(60, 64, 67, 0.3), 0px 1px 3px 1px rgba(60, 64, 67, 0.15);\n",
              "      fill: #174EA6;\n",
              "    }\n",
              "\n",
              "    [theme=dark] .colab-df-convert {\n",
              "      background-color: #3B4455;\n",
              "      fill: #D2E3FC;\n",
              "    }\n",
              "\n",
              "    [theme=dark] .colab-df-convert:hover {\n",
              "      background-color: #434B5C;\n",
              "      box-shadow: 0px 1px 3px 1px rgba(0, 0, 0, 0.15);\n",
              "      filter: drop-shadow(0px 1px 2px rgba(0, 0, 0, 0.3));\n",
              "      fill: #FFFFFF;\n",
              "    }\n",
              "  </style>\n",
              "\n",
              "      <script>\n",
              "        const buttonEl =\n",
              "          document.querySelector('#df-9e6f7ad0-a3df-421c-a431-c1ab32da15cc button.colab-df-convert');\n",
              "        buttonEl.style.display =\n",
              "          google.colab.kernel.accessAllowed ? 'block' : 'none';\n",
              "\n",
              "        async function convertToInteractive(key) {\n",
              "          const element = document.querySelector('#df-9e6f7ad0-a3df-421c-a431-c1ab32da15cc');\n",
              "          const dataTable =\n",
              "            await google.colab.kernel.invokeFunction('convertToInteractive',\n",
              "                                                     [key], {});\n",
              "          if (!dataTable) return;\n",
              "\n",
              "          const docLinkHtml = 'Like what you see? Visit the ' +\n",
              "            '<a target=\"_blank\" href=https://colab.research.google.com/notebooks/data_table.ipynb>data table notebook</a>'\n",
              "            + ' to learn more about interactive tables.';\n",
              "          element.innerHTML = '';\n",
              "          dataTable['output_type'] = 'display_data';\n",
              "          await google.colab.output.renderOutput(dataTable, element);\n",
              "          const docLink = document.createElement('div');\n",
              "          docLink.innerHTML = docLinkHtml;\n",
              "          element.appendChild(docLink);\n",
              "        }\n",
              "      </script>\n",
              "    </div>\n",
              "  </div>\n",
              "  "
            ]
          },
          "metadata": {},
          "execution_count": 17
        }
      ]
    },
    {
      "cell_type": "code",
      "source": [
        "# use the padding to be sure that the words will have the same lenght\n",
        "v2_pad = tf.keras.preprocessing.sequence.pad_sequences(dataset.v2_encoded, padding=\"post\")"
      ],
      "metadata": {
        "id": "-ORkBtokCFNa"
      },
      "execution_count": null,
      "outputs": []
    },
    {
      "cell_type": "code",
      "source": [
        "# create a dataset from tensor slices\n",
        "full_ds = tf.data.Dataset.from_tensor_slices((v2_pad, dataset.v1_transformed.values))"
      ],
      "metadata": {
        "id": "H3fTO5SjCbCr"
      },
      "execution_count": null,
      "outputs": []
    },
    {
      "cell_type": "code",
      "source": [
        "# Train Test Split\n",
        "TAKE_SIZE = int(0.7*dataset.shape[0])\n",
        "\n",
        "train_data = full_ds.take(TAKE_SIZE).shuffle(TAKE_SIZE)\n",
        "train_data = train_data.batch(64)\n",
        "\n",
        "test_data = full_ds.skip(TAKE_SIZE)\n",
        "test_data = test_data.batch(64)"
      ],
      "metadata": {
        "id": "mPxI4lkACwSt"
      },
      "execution_count": null,
      "outputs": []
    },
    {
      "cell_type": "code",
      "source": [
        " # Take a look of one batch \n",
        "for v2, v1 in train_data.take(1):\n",
        "  print(v2, v1)"
      ],
      "metadata": {
        "id": "PCuxwE1YC0Gb",
        "colab": {
          "base_uri": "https://localhost:8080/"
        },
        "outputId": "2e327dcd-437c-4181-d112-2c1800ffc5fc"
      },
      "execution_count": null,
      "outputs": [
        {
          "output_type": "stream",
          "name": "stdout",
          "text": [
            "tf.Tensor(\n",
            "[[705   2   0 ...   0   0   0]\n",
            " [  1 481 729 ...   0   0   0]\n",
            " [ 76 580 455 ...   0   0   0]\n",
            " ...\n",
            " [263  18  52 ...   0   0   0]\n",
            " [556  17  73 ...   0   0   0]\n",
            " [ 63  36   2 ...   0   0   0]], shape=(64, 47), dtype=int32) tf.Tensor(\n",
            "[0 1 0 0 0 0 0 0 1 0 0 0 0 0 0 0 0 1 0 0 0 0 0 0 0 0 0 0 0 0 0 0 0 1 0 0 0\n",
            " 0 0 0 0 0 1 0 0 0 0 0 0 0 0 0 1 1 1 1 0 0 0 0 0 1 0 0], shape=(64,), dtype=int64)\n"
          ]
        }
      ]
    },
    {
      "cell_type": "markdown",
      "source": [
        "# Simple RNN"
      ],
      "metadata": {
        "id": "X2OKUEz5Ilhb"
      }
    },
    {
      "cell_type": "code",
      "source": [
        "# Let's try with Simple RNN method\n",
        "from tensorflow.keras.layers import Embedding, SimpleRNN, Dense, GRU, LSTM\n",
        "\n",
        "vocab_size = len(tokenizer.word_index)\n",
        "model = tf.keras.Sequential([\n",
        "                  # Word Embedding layer           \n",
        "                  Embedding(vocab_size, 64,name=\"embedding\"),\n",
        "                  # Gobal average pooling\n",
        "                  SimpleRNN(units=64, return_sequences=True), # maintains the sequential nature\n",
        "                  SimpleRNN(units=32, return_sequences=False), # returns the last output\n",
        "                  # Dense layers once the data is flat\n",
        "                  Dense(16, activation='relu'),\n",
        "                  Dense(8, activation='relu'),\n",
        "\n",
        "                  # output layer with as many neurons as the number of classes\n",
        "                  # for the target variable and softmax activation\n",
        "                  Dense(1, activation=\"sigmoid\")\n",
        "])"
      ],
      "metadata": {
        "id": "WlOfNx6xDS39"
      },
      "execution_count": null,
      "outputs": []
    },
    {
      "cell_type": "code",
      "source": [
        "model.summary()"
      ],
      "metadata": {
        "id": "Pd36dSIvJAYM",
        "colab": {
          "base_uri": "https://localhost:8080/"
        },
        "outputId": "7b9e44a6-5a49-4be8-b84d-aee8a68f78fc"
      },
      "execution_count": null,
      "outputs": [
        {
          "output_type": "stream",
          "name": "stdout",
          "text": [
            "Model: \"sequential_8\"\n",
            "_________________________________________________________________\n",
            " Layer (type)                Output Shape              Param #   \n",
            "=================================================================\n",
            " embedding (Embedding)       (None, None, 64)          524032    \n",
            "                                                                 \n",
            " simple_rnn_16 (SimpleRNN)   (None, None, 64)          8256      \n",
            "                                                                 \n",
            " simple_rnn_17 (SimpleRNN)   (None, 32)                3104      \n",
            "                                                                 \n",
            " dense_24 (Dense)            (None, 16)                528       \n",
            "                                                                 \n",
            " dense_25 (Dense)            (None, 8)                 136       \n",
            "                                                                 \n",
            " dense_26 (Dense)            (None, 1)                 9         \n",
            "                                                                 \n",
            "=================================================================\n",
            "Total params: 536,065\n",
            "Trainable params: 536,065\n",
            "Non-trainable params: 0\n",
            "_________________________________________________________________\n"
          ]
        }
      ]
    },
    {
      "cell_type": "code",
      "source": [
        "# instanciate the optimizer\n",
        "optimizer= tf.keras.optimizers.Adam()\n",
        "\n",
        "model.compile(optimizer=optimizer,\n",
        "              loss=tf.keras.losses.BinaryCrossentropy(),\n",
        "              metrics=[tf.keras.metrics.BinaryAccuracy()])"
      ],
      "metadata": {
        "id": "xwTFVNfSJCur"
      },
      "execution_count": null,
      "outputs": []
    },
    {
      "cell_type": "code",
      "source": [
        "(dataset[\"v1_transformed\"]-1).value_counts()"
      ],
      "metadata": {
        "id": "C_DY0mUiJvH8",
        "colab": {
          "base_uri": "https://localhost:8080/"
        },
        "outputId": "d8f73c94-ca98-4e32-b393-89fac10885f0"
      },
      "execution_count": null,
      "outputs": [
        {
          "output_type": "execute_result",
          "data": {
            "text/plain": [
              "-1    4667\n",
              " 0     745\n",
              "Name: v1_transformed, dtype: int64"
            ]
          },
          "metadata": {},
          "execution_count": 53
        }
      ]
    },
    {
      "cell_type": "code",
      "source": [
        "# given the fact that the classes haven't the same frequency in the dataset, we have to add a properly weight\n",
        "weights = 1/(dataset.v1_transformed).value_counts()\n",
        "weights = weights * len(dataset)/2\n",
        "weights = {index : values for index , values in zip(weights.index,weights.values)}\n",
        "weights"
      ],
      "metadata": {
        "id": "3v3OL7Q2J-g5",
        "colab": {
          "base_uri": "https://localhost:8080/"
        },
        "outputId": "d3594a65-1404-41d9-8734-c9b5fc1df8b9"
      },
      "execution_count": null,
      "outputs": [
        {
          "output_type": "execute_result",
          "data": {
            "text/plain": [
              "{0: 0.5798157274480394, 1: 3.632214765100671}"
            ]
          },
          "metadata": {},
          "execution_count": 54
        }
      ]
    },
    {
      "cell_type": "code",
      "source": [
        "# Model training \n",
        "history = model.fit(train_data,\n",
        "                    epochs=100, \n",
        "                    validation_data=test_data,\n",
        "                    class_weight=weights)"
      ],
      "metadata": {
        "id": "5iWrVH1UKZUx",
        "colab": {
          "base_uri": "https://localhost:8080/"
        },
        "outputId": "3e6a2d88-8826-4cc9-d5cd-fa07e5f16e07"
      },
      "execution_count": null,
      "outputs": [
        {
          "output_type": "stream",
          "name": "stdout",
          "text": [
            "Epoch 1/100\n",
            "60/60 [==============================] - 6s 64ms/step - loss: 0.5420 - binary_accuracy: 0.8437 - val_loss: 0.2452 - val_binary_accuracy: 0.9261\n",
            "Epoch 2/100\n",
            "60/60 [==============================] - 2s 39ms/step - loss: 0.2824 - binary_accuracy: 0.9219 - val_loss: 0.2245 - val_binary_accuracy: 0.9347\n",
            "Epoch 3/100\n",
            "60/60 [==============================] - 2s 38ms/step - loss: 0.1569 - binary_accuracy: 0.9596 - val_loss: 0.1668 - val_binary_accuracy: 0.9483\n",
            "Epoch 4/100\n",
            "60/60 [==============================] - 2s 37ms/step - loss: 0.1403 - binary_accuracy: 0.9596 - val_loss: 0.1841 - val_binary_accuracy: 0.9507\n",
            "Epoch 5/100\n",
            "60/60 [==============================] - 3s 49ms/step - loss: 0.1074 - binary_accuracy: 0.9776 - val_loss: 0.1512 - val_binary_accuracy: 0.9618\n",
            "Epoch 6/100\n",
            "60/60 [==============================] - 2s 40ms/step - loss: 0.0743 - binary_accuracy: 0.9828 - val_loss: 0.2258 - val_binary_accuracy: 0.9341\n",
            "Epoch 7/100\n",
            "60/60 [==============================] - 2s 37ms/step - loss: 0.0821 - binary_accuracy: 0.9765 - val_loss: 0.1676 - val_binary_accuracy: 0.9532\n",
            "Epoch 8/100\n",
            "60/60 [==============================] - 2s 40ms/step - loss: 0.0670 - binary_accuracy: 0.9818 - val_loss: 0.1671 - val_binary_accuracy: 0.9557\n",
            "Epoch 9/100\n",
            "60/60 [==============================] - 2s 39ms/step - loss: 0.0674 - binary_accuracy: 0.9826 - val_loss: 0.1930 - val_binary_accuracy: 0.9477\n",
            "Epoch 10/100\n",
            "60/60 [==============================] - 2s 41ms/step - loss: 0.0939 - binary_accuracy: 0.9659 - val_loss: 0.2060 - val_binary_accuracy: 0.9390\n",
            "Epoch 11/100\n",
            "60/60 [==============================] - 2s 41ms/step - loss: 0.0417 - binary_accuracy: 0.9871 - val_loss: 0.1617 - val_binary_accuracy: 0.9624\n",
            "Epoch 12/100\n",
            "60/60 [==============================] - 2s 41ms/step - loss: 0.0297 - binary_accuracy: 0.9926 - val_loss: 0.2319 - val_binary_accuracy: 0.9458\n",
            "Epoch 13/100\n",
            "60/60 [==============================] - 2s 35ms/step - loss: 0.0549 - binary_accuracy: 0.9807 - val_loss: 0.2200 - val_binary_accuracy: 0.9347\n",
            "Epoch 14/100\n",
            "60/60 [==============================] - 2s 38ms/step - loss: 0.0418 - binary_accuracy: 0.9850 - val_loss: 0.2010 - val_binary_accuracy: 0.9470\n",
            "Epoch 15/100\n",
            "60/60 [==============================] - 2s 39ms/step - loss: 0.0410 - binary_accuracy: 0.9839 - val_loss: 0.1886 - val_binary_accuracy: 0.9501\n",
            "Epoch 16/100\n",
            "60/60 [==============================] - 2s 40ms/step - loss: 0.0623 - binary_accuracy: 0.9810 - val_loss: 0.2291 - val_binary_accuracy: 0.9452\n",
            "Epoch 17/100\n",
            "60/60 [==============================] - 2s 38ms/step - loss: 0.0364 - binary_accuracy: 0.9847 - val_loss: 0.2104 - val_binary_accuracy: 0.9458\n",
            "Epoch 18/100\n",
            "60/60 [==============================] - 2s 40ms/step - loss: 0.0333 - binary_accuracy: 0.9902 - val_loss: 0.2005 - val_binary_accuracy: 0.9538\n",
            "Epoch 19/100\n",
            "60/60 [==============================] - 3s 42ms/step - loss: 0.0172 - binary_accuracy: 0.9942 - val_loss: 0.1762 - val_binary_accuracy: 0.9587\n",
            "Epoch 20/100\n",
            "60/60 [==============================] - 3s 47ms/step - loss: 0.0100 - binary_accuracy: 0.9971 - val_loss: 0.1841 - val_binary_accuracy: 0.9631\n",
            "Epoch 21/100\n",
            "60/60 [==============================] - 2s 39ms/step - loss: 0.0101 - binary_accuracy: 0.9976 - val_loss: 0.2134 - val_binary_accuracy: 0.9575\n",
            "Epoch 22/100\n",
            "60/60 [==============================] - 2s 41ms/step - loss: 0.0106 - binary_accuracy: 0.9968 - val_loss: 0.1913 - val_binary_accuracy: 0.9618\n",
            "Epoch 23/100\n",
            "60/60 [==============================] - 3s 50ms/step - loss: 0.0086 - binary_accuracy: 0.9976 - val_loss: 0.2044 - val_binary_accuracy: 0.9600\n",
            "Epoch 24/100\n",
            "60/60 [==============================] - 2s 39ms/step - loss: 0.0198 - binary_accuracy: 0.9958 - val_loss: 0.2337 - val_binary_accuracy: 0.9526\n",
            "Epoch 25/100\n",
            "60/60 [==============================] - 3s 51ms/step - loss: 0.1212 - binary_accuracy: 0.9805 - val_loss: 0.1464 - val_binary_accuracy: 0.9643\n",
            "Epoch 26/100\n",
            "60/60 [==============================] - 2s 40ms/step - loss: 0.0378 - binary_accuracy: 0.9886 - val_loss: 0.1367 - val_binary_accuracy: 0.9631\n",
            "Epoch 27/100\n",
            "60/60 [==============================] - 3s 48ms/step - loss: 0.0242 - binary_accuracy: 0.9955 - val_loss: 0.1541 - val_binary_accuracy: 0.9661\n",
            "Epoch 28/100\n",
            "60/60 [==============================] - 2s 35ms/step - loss: 0.0158 - binary_accuracy: 0.9950 - val_loss: 0.1613 - val_binary_accuracy: 0.9655\n",
            "Epoch 29/100\n",
            "60/60 [==============================] - 2s 36ms/step - loss: 0.0182 - binary_accuracy: 0.9939 - val_loss: 0.1964 - val_binary_accuracy: 0.9544\n",
            "Epoch 30/100\n",
            "60/60 [==============================] - 2s 41ms/step - loss: 0.0203 - binary_accuracy: 0.9929 - val_loss: 0.1783 - val_binary_accuracy: 0.9594\n",
            "Epoch 31/100\n",
            "60/60 [==============================] - 2s 37ms/step - loss: 0.0144 - binary_accuracy: 0.9963 - val_loss: 0.1829 - val_binary_accuracy: 0.9587\n",
            "Epoch 32/100\n",
            "60/60 [==============================] - 2s 41ms/step - loss: 0.0113 - binary_accuracy: 0.9960 - val_loss: 0.2172 - val_binary_accuracy: 0.9569\n",
            "Epoch 33/100\n",
            "60/60 [==============================] - 2s 41ms/step - loss: 0.2377 - binary_accuracy: 0.9137 - val_loss: 0.3482 - val_binary_accuracy: 0.8867\n",
            "Epoch 34/100\n",
            "60/60 [==============================] - 2s 39ms/step - loss: 0.0764 - binary_accuracy: 0.9815 - val_loss: 0.2758 - val_binary_accuracy: 0.9119\n",
            "Epoch 35/100\n",
            "60/60 [==============================] - 3s 47ms/step - loss: 0.0698 - binary_accuracy: 0.9860 - val_loss: 0.1862 - val_binary_accuracy: 0.9520\n",
            "Epoch 36/100\n",
            "60/60 [==============================] - 2s 40ms/step - loss: 0.0727 - binary_accuracy: 0.9881 - val_loss: 0.1952 - val_binary_accuracy: 0.9526\n",
            "Epoch 37/100\n",
            "60/60 [==============================] - 2s 40ms/step - loss: 0.0288 - binary_accuracy: 0.9934 - val_loss: 0.1937 - val_binary_accuracy: 0.9544\n",
            "Epoch 38/100\n",
            "60/60 [==============================] - 2s 38ms/step - loss: 0.0173 - binary_accuracy: 0.9955 - val_loss: 0.1988 - val_binary_accuracy: 0.9575\n",
            "Epoch 39/100\n",
            "60/60 [==============================] - 3s 43ms/step - loss: 0.0638 - binary_accuracy: 0.9905 - val_loss: 0.5242 - val_binary_accuracy: 0.8134\n",
            "Epoch 40/100\n",
            "60/60 [==============================] - 2s 38ms/step - loss: 0.0350 - binary_accuracy: 0.9902 - val_loss: 0.2291 - val_binary_accuracy: 0.9470\n",
            "Epoch 41/100\n",
            "60/60 [==============================] - 3s 44ms/step - loss: 0.0211 - binary_accuracy: 0.9950 - val_loss: 0.2164 - val_binary_accuracy: 0.9514\n",
            "Epoch 42/100\n",
            "60/60 [==============================] - 2s 39ms/step - loss: 0.0130 - binary_accuracy: 0.9968 - val_loss: 0.2268 - val_binary_accuracy: 0.9520\n",
            "Epoch 43/100\n",
            "60/60 [==============================] - 2s 37ms/step - loss: 0.0198 - binary_accuracy: 0.9923 - val_loss: 0.2278 - val_binary_accuracy: 0.9520\n",
            "Epoch 44/100\n",
            "60/60 [==============================] - 2s 36ms/step - loss: 0.0082 - binary_accuracy: 0.9968 - val_loss: 0.2382 - val_binary_accuracy: 0.9526\n",
            "Epoch 45/100\n",
            "60/60 [==============================] - 2s 36ms/step - loss: 0.0076 - binary_accuracy: 0.9963 - val_loss: 0.2618 - val_binary_accuracy: 0.9489\n",
            "Epoch 46/100\n",
            "60/60 [==============================] - 2s 36ms/step - loss: 0.0080 - binary_accuracy: 0.9966 - val_loss: 0.2505 - val_binary_accuracy: 0.9520\n",
            "Epoch 47/100\n",
            "60/60 [==============================] - 2s 39ms/step - loss: 0.0276 - binary_accuracy: 0.9947 - val_loss: 0.2632 - val_binary_accuracy: 0.9489\n",
            "Epoch 48/100\n",
            "60/60 [==============================] - 2s 40ms/step - loss: 0.0287 - binary_accuracy: 0.9937 - val_loss: 0.2488 - val_binary_accuracy: 0.9477\n",
            "Epoch 49/100\n",
            "60/60 [==============================] - 2s 39ms/step - loss: 0.0285 - binary_accuracy: 0.9894 - val_loss: 0.3178 - val_binary_accuracy: 0.9298\n",
            "Epoch 50/100\n",
            "60/60 [==============================] - 2s 41ms/step - loss: 0.0279 - binary_accuracy: 0.9897 - val_loss: 0.2343 - val_binary_accuracy: 0.9495\n",
            "Epoch 51/100\n",
            "60/60 [==============================] - 2s 40ms/step - loss: 0.0135 - binary_accuracy: 0.9955 - val_loss: 0.2328 - val_binary_accuracy: 0.9544\n",
            "Epoch 52/100\n",
            "60/60 [==============================] - 2s 40ms/step - loss: 0.0116 - binary_accuracy: 0.9958 - val_loss: 0.2429 - val_binary_accuracy: 0.9464\n",
            "Epoch 53/100\n",
            "60/60 [==============================] - 2s 37ms/step - loss: 0.0088 - binary_accuracy: 0.9966 - val_loss: 0.2275 - val_binary_accuracy: 0.9575\n",
            "Epoch 54/100\n",
            "60/60 [==============================] - 2s 40ms/step - loss: 0.0049 - binary_accuracy: 0.9987 - val_loss: 0.2330 - val_binary_accuracy: 0.9575\n",
            "Epoch 55/100\n",
            "60/60 [==============================] - 2s 37ms/step - loss: 0.0039 - binary_accuracy: 0.9989 - val_loss: 0.2398 - val_binary_accuracy: 0.9581\n",
            "Epoch 56/100\n",
            "60/60 [==============================] - 2s 41ms/step - loss: 0.0039 - binary_accuracy: 0.9989 - val_loss: 0.2505 - val_binary_accuracy: 0.9575\n",
            "Epoch 57/100\n",
            "60/60 [==============================] - 2s 39ms/step - loss: 0.0036 - binary_accuracy: 0.9989 - val_loss: 0.2488 - val_binary_accuracy: 0.9594\n",
            "Epoch 58/100\n",
            "60/60 [==============================] - 2s 41ms/step - loss: 0.0051 - binary_accuracy: 0.9982 - val_loss: 0.2566 - val_binary_accuracy: 0.9587\n",
            "Epoch 59/100\n",
            "60/60 [==============================] - 2s 36ms/step - loss: 0.0032 - binary_accuracy: 0.9989 - val_loss: 0.2647 - val_binary_accuracy: 0.9581\n",
            "Epoch 60/100\n",
            "60/60 [==============================] - 2s 37ms/step - loss: 0.0033 - binary_accuracy: 0.9989 - val_loss: 0.2714 - val_binary_accuracy: 0.9575\n",
            "Epoch 61/100\n",
            "60/60 [==============================] - 2s 39ms/step - loss: 0.0037 - binary_accuracy: 0.9987 - val_loss: 0.2733 - val_binary_accuracy: 0.9581\n",
            "Epoch 62/100\n",
            "60/60 [==============================] - 2s 41ms/step - loss: 0.1490 - binary_accuracy: 0.9683 - val_loss: 0.6739 - val_binary_accuracy: 0.8073\n",
            "Epoch 63/100\n",
            "60/60 [==============================] - 3s 42ms/step - loss: 0.2468 - binary_accuracy: 0.9216 - val_loss: 0.2542 - val_binary_accuracy: 0.9181\n",
            "Epoch 64/100\n",
            "60/60 [==============================] - 2s 36ms/step - loss: 0.0658 - binary_accuracy: 0.9823 - val_loss: 0.2371 - val_binary_accuracy: 0.9317\n",
            "Epoch 65/100\n",
            "60/60 [==============================] - 2s 38ms/step - loss: 0.0403 - binary_accuracy: 0.9865 - val_loss: 0.2602 - val_binary_accuracy: 0.9317\n",
            "Epoch 66/100\n",
            "60/60 [==============================] - 2s 38ms/step - loss: 0.0241 - binary_accuracy: 0.9929 - val_loss: 0.2592 - val_binary_accuracy: 0.9341\n",
            "Epoch 67/100\n",
            "60/60 [==============================] - 2s 41ms/step - loss: 0.0232 - binary_accuracy: 0.9937 - val_loss: 0.3032 - val_binary_accuracy: 0.9181\n",
            "Epoch 68/100\n",
            "60/60 [==============================] - 2s 39ms/step - loss: 0.0163 - binary_accuracy: 0.9937 - val_loss: 0.2642 - val_binary_accuracy: 0.9409\n",
            "Epoch 69/100\n",
            "60/60 [==============================] - 2s 40ms/step - loss: 0.0160 - binary_accuracy: 0.9952 - val_loss: 0.2743 - val_binary_accuracy: 0.9360\n",
            "Epoch 70/100\n",
            "60/60 [==============================] - 2s 40ms/step - loss: 0.0104 - binary_accuracy: 0.9968 - val_loss: 0.3050 - val_binary_accuracy: 0.9366\n",
            "Epoch 71/100\n",
            "60/60 [==============================] - 2s 40ms/step - loss: 0.0588 - binary_accuracy: 0.9757 - val_loss: 0.3264 - val_binary_accuracy: 0.9193\n",
            "Epoch 72/100\n",
            "60/60 [==============================] - 2s 39ms/step - loss: 0.0601 - binary_accuracy: 0.9815 - val_loss: 0.3267 - val_binary_accuracy: 0.9126\n",
            "Epoch 73/100\n",
            "60/60 [==============================] - 2s 39ms/step - loss: 0.0385 - binary_accuracy: 0.9879 - val_loss: 0.2625 - val_binary_accuracy: 0.9397\n",
            "Epoch 74/100\n",
            "60/60 [==============================] - 2s 36ms/step - loss: 0.0318 - binary_accuracy: 0.9897 - val_loss: 0.2945 - val_binary_accuracy: 0.9304\n",
            "Epoch 75/100\n",
            "60/60 [==============================] - 2s 38ms/step - loss: 0.0170 - binary_accuracy: 0.9937 - val_loss: 0.2755 - val_binary_accuracy: 0.9384\n",
            "Epoch 76/100\n",
            "60/60 [==============================] - 2s 39ms/step - loss: 0.0119 - binary_accuracy: 0.9958 - val_loss: 0.2755 - val_binary_accuracy: 0.9446\n",
            "Epoch 77/100\n",
            "60/60 [==============================] - 3s 42ms/step - loss: 0.0131 - binary_accuracy: 0.9950 - val_loss: 0.2952 - val_binary_accuracy: 0.9464\n",
            "Epoch 78/100\n",
            "60/60 [==============================] - 2s 37ms/step - loss: 0.0198 - binary_accuracy: 0.9950 - val_loss: 0.2784 - val_binary_accuracy: 0.9464\n",
            "Epoch 79/100\n",
            "60/60 [==============================] - 2s 39ms/step - loss: 0.0096 - binary_accuracy: 0.9966 - val_loss: 0.2799 - val_binary_accuracy: 0.9464\n",
            "Epoch 80/100\n",
            "60/60 [==============================] - 4s 63ms/step - loss: 0.0080 - binary_accuracy: 0.9974 - val_loss: 0.2923 - val_binary_accuracy: 0.9458\n",
            "Epoch 81/100\n",
            "60/60 [==============================] - 2s 40ms/step - loss: 0.0073 - binary_accuracy: 0.9979 - val_loss: 0.3208 - val_binary_accuracy: 0.9409\n",
            "Epoch 82/100\n",
            "60/60 [==============================] - 2s 37ms/step - loss: 0.0065 - binary_accuracy: 0.9984 - val_loss: 0.3625 - val_binary_accuracy: 0.9292\n",
            "Epoch 83/100\n",
            "60/60 [==============================] - 2s 38ms/step - loss: 0.0049 - binary_accuracy: 0.9982 - val_loss: 0.3223 - val_binary_accuracy: 0.9433\n",
            "Epoch 84/100\n",
            "60/60 [==============================] - 2s 40ms/step - loss: 0.0130 - binary_accuracy: 0.9963 - val_loss: 0.3735 - val_binary_accuracy: 0.9329\n",
            "Epoch 85/100\n",
            "60/60 [==============================] - 2s 39ms/step - loss: 0.0105 - binary_accuracy: 0.9966 - val_loss: 0.3393 - val_binary_accuracy: 0.9409\n",
            "Epoch 86/100\n",
            "60/60 [==============================] - 3s 44ms/step - loss: 0.0050 - binary_accuracy: 0.9982 - val_loss: 0.3155 - val_binary_accuracy: 0.9495\n",
            "Epoch 87/100\n",
            "60/60 [==============================] - 2s 41ms/step - loss: 0.0034 - binary_accuracy: 0.9992 - val_loss: 0.3206 - val_binary_accuracy: 0.9470\n",
            "Epoch 88/100\n",
            "60/60 [==============================] - 2s 41ms/step - loss: 0.0034 - binary_accuracy: 0.9992 - val_loss: 0.3197 - val_binary_accuracy: 0.9470\n",
            "Epoch 89/100\n",
            "60/60 [==============================] - 2s 37ms/step - loss: 0.0031 - binary_accuracy: 0.9992 - val_loss: 0.3351 - val_binary_accuracy: 0.9421\n",
            "Epoch 90/100\n",
            "60/60 [==============================] - 2s 42ms/step - loss: 0.0125 - binary_accuracy: 0.9968 - val_loss: 0.3572 - val_binary_accuracy: 0.9470\n",
            "Epoch 91/100\n",
            "60/60 [==============================] - 2s 39ms/step - loss: 0.0042 - binary_accuracy: 0.9989 - val_loss: 0.3400 - val_binary_accuracy: 0.9483\n",
            "Epoch 92/100\n",
            "60/60 [==============================] - 2s 36ms/step - loss: 0.0027 - binary_accuracy: 0.9992 - val_loss: 0.3357 - val_binary_accuracy: 0.9483\n",
            "Epoch 93/100\n",
            "60/60 [==============================] - 2s 35ms/step - loss: 0.0024 - binary_accuracy: 0.9992 - val_loss: 0.3373 - val_binary_accuracy: 0.9489\n",
            "Epoch 94/100\n",
            "60/60 [==============================] - 2s 40ms/step - loss: 0.0039 - binary_accuracy: 0.9987 - val_loss: 0.3329 - val_binary_accuracy: 0.9507\n",
            "Epoch 95/100\n",
            "60/60 [==============================] - 2s 37ms/step - loss: 0.0040 - binary_accuracy: 0.9989 - val_loss: 0.3466 - val_binary_accuracy: 0.9501\n",
            "Epoch 96/100\n",
            "60/60 [==============================] - 2s 36ms/step - loss: 0.0021 - binary_accuracy: 0.9995 - val_loss: 0.3640 - val_binary_accuracy: 0.9477\n",
            "Epoch 97/100\n",
            "60/60 [==============================] - 2s 39ms/step - loss: 0.0021 - binary_accuracy: 0.9995 - val_loss: 0.3592 - val_binary_accuracy: 0.9507\n",
            "Epoch 98/100\n",
            "60/60 [==============================] - 2s 38ms/step - loss: 0.0020 - binary_accuracy: 0.9995 - val_loss: 0.3586 - val_binary_accuracy: 0.9477\n",
            "Epoch 99/100\n",
            "60/60 [==============================] - 2s 36ms/step - loss: 0.0020 - binary_accuracy: 0.9995 - val_loss: 0.3670 - val_binary_accuracy: 0.9458\n",
            "Epoch 100/100\n",
            "60/60 [==============================] - 2s 36ms/step - loss: 0.0018 - binary_accuracy: 0.9995 - val_loss: 0.3580 - val_binary_accuracy: 0.9495\n"
          ]
        }
      ]
    },
    {
      "cell_type": "markdown",
      "source": [
        "Scores for 100 epochs :\n",
        "\n",
        "\n",
        "    loss : 0.0018 - val_loss : 0.3580\n",
        "    binary_accuracy : 0.9995 - val_binary_accuracy : 0.9495\n"
      ],
      "metadata": {
        "id": "4vvxUaSe2e3H"
      }
    },
    {
      "cell_type": "code",
      "source": [
        "# Save the model\n",
        "model.save(\"model_simpleRNN.h5\")"
      ],
      "metadata": {
        "id": "Vwg9l2EeKkz8"
      },
      "execution_count": null,
      "outputs": []
    },
    {
      "cell_type": "code",
      "source": [
        "import json\n",
        "json.dump(model.history.history, open(\"/content/simpleRNN_history.json\", 'w'))"
      ],
      "metadata": {
        "id": "fhjsjU5x1oxk"
      },
      "execution_count": null,
      "outputs": []
    },
    {
      "cell_type": "markdown",
      "source": [
        "# GRU"
      ],
      "metadata": {
        "id": "5ajnArHb2FRE"
      }
    },
    {
      "cell_type": "code",
      "source": [
        "# Let's try GRU now \n",
        "from tensorflow.keras.layers import Embedding, SimpleRNN, Dense, GRU, LSTM\n",
        "\n",
        "vocab_size = len(tokenizer.word_index)\n",
        "model_gru = tf.keras.Sequential([\n",
        "                  Embedding(vocab_size, 64,name=\"embedding\"),\n",
        "                  GRU(units=64, return_sequences=True), # maintains the sequential nature\n",
        "                  GRU(units=32, return_sequences=False), # returns the last output\n",
        "                  Dense(16, activation='relu'),\n",
        "                  Dense(8, activation='relu'),\n",
        "\n",
        "                  Dense(1, activation=\"sigmoid\")\n",
        "])"
      ],
      "metadata": {
        "id": "ST9nNKX019dc"
      },
      "execution_count": null,
      "outputs": []
    },
    {
      "cell_type": "code",
      "source": [
        "model_gru.summary()"
      ],
      "metadata": {
        "colab": {
          "base_uri": "https://localhost:8080/"
        },
        "id": "qOhMTpVK3SXC",
        "outputId": "e9df5e4a-93cd-4f55-f668-a83cae9bb7fc"
      },
      "execution_count": null,
      "outputs": [
        {
          "output_type": "stream",
          "name": "stdout",
          "text": [
            "Model: \"sequential_9\"\n",
            "_________________________________________________________________\n",
            " Layer (type)                Output Shape              Param #   \n",
            "=================================================================\n",
            " embedding (Embedding)       (None, None, 64)          524032    \n",
            "                                                                 \n",
            " gru (GRU)                   (None, None, 64)          24960     \n",
            "                                                                 \n",
            " gru_1 (GRU)                 (None, 32)                9408      \n",
            "                                                                 \n",
            " dense_27 (Dense)            (None, 16)                528       \n",
            "                                                                 \n",
            " dense_28 (Dense)            (None, 8)                 136       \n",
            "                                                                 \n",
            " dense_29 (Dense)            (None, 1)                 9         \n",
            "                                                                 \n",
            "=================================================================\n",
            "Total params: 559,073\n",
            "Trainable params: 559,073\n",
            "Non-trainable params: 0\n",
            "_________________________________________________________________\n"
          ]
        }
      ]
    },
    {
      "cell_type": "code",
      "source": [
        "# instanciate the optimizer\n",
        "optimizer= tf.keras.optimizers.Adam()\n",
        "\n",
        "model_gru.compile(optimizer=optimizer,\n",
        "              loss=tf.keras.losses.BinaryCrossentropy(),\n",
        "              metrics=[tf.keras.metrics.BinaryAccuracy()])"
      ],
      "metadata": {
        "id": "4Z9TFWZR3YFw"
      },
      "execution_count": null,
      "outputs": []
    },
    {
      "cell_type": "code",
      "source": [
        "# fit the model\n",
        "model_gru.fit(train_data,\n",
        "              epochs=100, \n",
        "              validation_data=test_data,\n",
        "              class_weight=weights)"
      ],
      "metadata": {
        "colab": {
          "base_uri": "https://localhost:8080/"
        },
        "id": "e1DdpQz23rAq",
        "outputId": "7fcecdf1-5215-4f57-87fa-3807c93992d0"
      },
      "execution_count": null,
      "outputs": [
        {
          "output_type": "stream",
          "name": "stdout",
          "text": [
            "Epoch 1/100\n",
            "60/60 [==============================] - 12s 90ms/step - loss: 0.6930 - binary_accuracy: 0.6412 - val_loss: 0.6952 - val_binary_accuracy: 0.1385\n",
            "Epoch 2/100\n",
            "60/60 [==============================] - 5s 83ms/step - loss: 0.6924 - binary_accuracy: 0.1373 - val_loss: 0.6966 - val_binary_accuracy: 0.1385\n",
            "Epoch 3/100\n",
            "60/60 [==============================] - 5s 83ms/step - loss: 0.6926 - binary_accuracy: 0.3015 - val_loss: 0.6903 - val_binary_accuracy: 0.8615\n",
            "Epoch 4/100\n",
            "60/60 [==============================] - 5s 84ms/step - loss: 0.6924 - binary_accuracy: 0.7476 - val_loss: 0.6917 - val_binary_accuracy: 0.8615\n",
            "Epoch 5/100\n",
            "60/60 [==============================] - 5s 85ms/step - loss: 0.6925 - binary_accuracy: 0.8627 - val_loss: 0.6900 - val_binary_accuracy: 0.8615\n",
            "Epoch 6/100\n",
            "60/60 [==============================] - 5s 80ms/step - loss: 0.6925 - binary_accuracy: 0.8627 - val_loss: 0.6887 - val_binary_accuracy: 0.8615\n",
            "Epoch 7/100\n",
            "60/60 [==============================] - 6s 104ms/step - loss: 0.6924 - binary_accuracy: 0.8627 - val_loss: 0.6929 - val_binary_accuracy: 0.8615\n",
            "Epoch 8/100\n",
            "60/60 [==============================] - 5s 86ms/step - loss: 0.6924 - binary_accuracy: 0.1750 - val_loss: 0.6938 - val_binary_accuracy: 0.1392\n",
            "Epoch 9/100\n",
            "60/60 [==============================] - 5s 84ms/step - loss: 0.6924 - binary_accuracy: 0.5164 - val_loss: 0.6927 - val_binary_accuracy: 0.8615\n",
            "Epoch 10/100\n",
            "60/60 [==============================] - 5s 80ms/step - loss: 0.6923 - binary_accuracy: 0.8627 - val_loss: 0.6922 - val_binary_accuracy: 0.8615\n",
            "Epoch 11/100\n",
            "60/60 [==============================] - 5s 80ms/step - loss: 0.6923 - binary_accuracy: 0.5866 - val_loss: 0.6928 - val_binary_accuracy: 0.8615\n",
            "Epoch 12/100\n",
            "60/60 [==============================] - 5s 82ms/step - loss: 0.6923 - binary_accuracy: 0.5879 - val_loss: 0.6934 - val_binary_accuracy: 0.1392\n",
            "Epoch 13/100\n",
            "60/60 [==============================] - 5s 80ms/step - loss: 0.6925 - binary_accuracy: 0.5193 - val_loss: 0.6873 - val_binary_accuracy: 0.8615\n",
            "Epoch 14/100\n",
            "60/60 [==============================] - 5s 77ms/step - loss: 0.6928 - binary_accuracy: 0.6243 - val_loss: 0.6882 - val_binary_accuracy: 0.8615\n",
            "Epoch 15/100\n",
            "60/60 [==============================] - 5s 76ms/step - loss: 0.6924 - binary_accuracy: 0.5739 - val_loss: 0.6900 - val_binary_accuracy: 0.8615\n",
            "Epoch 16/100\n",
            "60/60 [==============================] - 5s 76ms/step - loss: 0.6925 - binary_accuracy: 0.2276 - val_loss: 0.6955 - val_binary_accuracy: 0.1392\n",
            "Epoch 17/100\n",
            "60/60 [==============================] - 5s 76ms/step - loss: 0.6922 - binary_accuracy: 0.1381 - val_loss: 0.6957 - val_binary_accuracy: 0.1392\n",
            "Epoch 18/100\n",
            "60/60 [==============================] - 5s 83ms/step - loss: 0.6920 - binary_accuracy: 0.1381 - val_loss: 0.6942 - val_binary_accuracy: 0.1392\n",
            "Epoch 19/100\n",
            "60/60 [==============================] - 5s 81ms/step - loss: 0.6921 - binary_accuracy: 0.5969 - val_loss: 0.6925 - val_binary_accuracy: 0.8615\n",
            "Epoch 20/100\n",
            "60/60 [==============================] - 5s 82ms/step - loss: 0.6920 - binary_accuracy: 0.1745 - val_loss: 0.6933 - val_binary_accuracy: 0.1392\n",
            "Epoch 21/100\n",
            "60/60 [==============================] - 5s 88ms/step - loss: 0.6921 - binary_accuracy: 0.1381 - val_loss: 0.6932 - val_binary_accuracy: 0.1392\n",
            "Epoch 22/100\n",
            "60/60 [==============================] - 5s 84ms/step - loss: 0.6921 - binary_accuracy: 0.3725 - val_loss: 0.6932 - val_binary_accuracy: 0.1392\n",
            "Epoch 23/100\n",
            "60/60 [==============================] - 5s 77ms/step - loss: 0.6921 - binary_accuracy: 0.6183 - val_loss: 0.6928 - val_binary_accuracy: 0.1392\n",
            "Epoch 24/100\n",
            "60/60 [==============================] - 5s 80ms/step - loss: 0.6921 - binary_accuracy: 0.3258 - val_loss: 0.6928 - val_binary_accuracy: 0.1392\n",
            "Epoch 25/100\n",
            "60/60 [==============================] - 5s 79ms/step - loss: 0.6921 - binary_accuracy: 0.8511 - val_loss: 0.6913 - val_binary_accuracy: 0.8615\n",
            "Epoch 26/100\n",
            "60/60 [==============================] - 5s 79ms/step - loss: 0.6921 - binary_accuracy: 0.2157 - val_loss: 0.6929 - val_binary_accuracy: 0.1392\n",
            "Epoch 27/100\n",
            "60/60 [==============================] - 5s 82ms/step - loss: 0.6920 - binary_accuracy: 0.4968 - val_loss: 0.6929 - val_binary_accuracy: 0.1392\n",
            "Epoch 28/100\n",
            "60/60 [==============================] - 5s 76ms/step - loss: 0.6920 - binary_accuracy: 0.8237 - val_loss: 0.6920 - val_binary_accuracy: 0.8615\n",
            "Epoch 29/100\n",
            "60/60 [==============================] - 5s 75ms/step - loss: 0.6920 - binary_accuracy: 0.7476 - val_loss: 0.6929 - val_binary_accuracy: 0.1392\n",
            "Epoch 30/100\n",
            "60/60 [==============================] - 5s 88ms/step - loss: 0.6921 - binary_accuracy: 0.2083 - val_loss: 0.6936 - val_binary_accuracy: 0.1392\n",
            "Epoch 31/100\n",
            "60/60 [==============================] - 5s 85ms/step - loss: 0.6921 - binary_accuracy: 0.3487 - val_loss: 0.6922 - val_binary_accuracy: 0.8615\n",
            "Epoch 32/100\n",
            "60/60 [==============================] - 5s 87ms/step - loss: 0.6921 - binary_accuracy: 0.1845 - val_loss: 0.6942 - val_binary_accuracy: 0.1392\n",
            "Epoch 33/100\n",
            "60/60 [==============================] - 5s 84ms/step - loss: 0.6921 - binary_accuracy: 0.1381 - val_loss: 0.6939 - val_binary_accuracy: 0.1392\n",
            "Epoch 34/100\n",
            "60/60 [==============================] - 5s 76ms/step - loss: 0.6920 - binary_accuracy: 0.7508 - val_loss: 0.6916 - val_binary_accuracy: 0.8615\n",
            "Epoch 35/100\n",
            "60/60 [==============================] - 5s 83ms/step - loss: 0.6920 - binary_accuracy: 0.8627 - val_loss: 0.6904 - val_binary_accuracy: 0.8615\n",
            "Epoch 36/100\n",
            "60/60 [==============================] - 5s 79ms/step - loss: 0.6921 - binary_accuracy: 0.6106 - val_loss: 0.6918 - val_binary_accuracy: 0.8615\n",
            "Epoch 37/100\n",
            "60/60 [==============================] - 5s 83ms/step - loss: 0.6920 - binary_accuracy: 0.8627 - val_loss: 0.6907 - val_binary_accuracy: 0.8615\n",
            "Epoch 38/100\n",
            "60/60 [==============================] - 5s 82ms/step - loss: 0.6921 - binary_accuracy: 0.7809 - val_loss: 0.6924 - val_binary_accuracy: 0.8615\n",
            "Epoch 39/100\n",
            "60/60 [==============================] - 5s 84ms/step - loss: 0.6920 - binary_accuracy: 0.8627 - val_loss: 0.6917 - val_binary_accuracy: 0.8615\n",
            "Epoch 40/100\n",
            "60/60 [==============================] - 5s 83ms/step - loss: 0.6920 - binary_accuracy: 0.8627 - val_loss: 0.6909 - val_binary_accuracy: 0.8615\n",
            "Epoch 41/100\n",
            "60/60 [==============================] - 5s 82ms/step - loss: 0.6921 - binary_accuracy: 0.8627 - val_loss: 0.6905 - val_binary_accuracy: 0.8615\n",
            "Epoch 42/100\n",
            "60/60 [==============================] - 5s 80ms/step - loss: 0.6920 - binary_accuracy: 0.8627 - val_loss: 0.6908 - val_binary_accuracy: 0.8615\n",
            "Epoch 43/100\n",
            "60/60 [==============================] - 5s 80ms/step - loss: 0.6921 - binary_accuracy: 0.6835 - val_loss: 0.6916 - val_binary_accuracy: 0.8615\n",
            "Epoch 44/100\n",
            "60/60 [==============================] - 5s 81ms/step - loss: 0.6920 - binary_accuracy: 0.8627 - val_loss: 0.6915 - val_binary_accuracy: 0.8615\n",
            "Epoch 45/100\n",
            "60/60 [==============================] - 5s 80ms/step - loss: 0.6921 - binary_accuracy: 0.8627 - val_loss: 0.6900 - val_binary_accuracy: 0.8615\n",
            "Epoch 46/100\n",
            "60/60 [==============================] - 5s 81ms/step - loss: 0.6921 - binary_accuracy: 0.4945 - val_loss: 0.6919 - val_binary_accuracy: 0.8615\n",
            "Epoch 47/100\n",
            "60/60 [==============================] - 5s 84ms/step - loss: 0.6921 - binary_accuracy: 0.8627 - val_loss: 0.6904 - val_binary_accuracy: 0.8615\n",
            "Epoch 48/100\n",
            "60/60 [==============================] - 5s 84ms/step - loss: 0.6921 - binary_accuracy: 0.8627 - val_loss: 0.6913 - val_binary_accuracy: 0.8615\n",
            "Epoch 49/100\n",
            "60/60 [==============================] - 5s 79ms/step - loss: 0.6920 - binary_accuracy: 0.5005 - val_loss: 0.6932 - val_binary_accuracy: 0.1392\n",
            "Epoch 50/100\n",
            "60/60 [==============================] - 5s 84ms/step - loss: 0.6920 - binary_accuracy: 0.1381 - val_loss: 0.6930 - val_binary_accuracy: 0.1392\n",
            "Epoch 51/100\n",
            "60/60 [==============================] - 5s 81ms/step - loss: 0.6920 - binary_accuracy: 0.1381 - val_loss: 0.6930 - val_binary_accuracy: 0.1392\n",
            "Epoch 52/100\n",
            "60/60 [==============================] - 5s 83ms/step - loss: 0.6920 - binary_accuracy: 0.4512 - val_loss: 0.6925 - val_binary_accuracy: 0.8615\n",
            "Epoch 53/100\n",
            "60/60 [==============================] - 5s 81ms/step - loss: 0.6920 - binary_accuracy: 0.8627 - val_loss: 0.6922 - val_binary_accuracy: 0.8615\n",
            "Epoch 54/100\n",
            "60/60 [==============================] - 5s 85ms/step - loss: 0.6920 - binary_accuracy: 0.8627 - val_loss: 0.6914 - val_binary_accuracy: 0.8615\n",
            "Epoch 55/100\n",
            "60/60 [==============================] - 5s 83ms/step - loss: 0.6921 - binary_accuracy: 0.8627 - val_loss: 0.6904 - val_binary_accuracy: 0.8615\n",
            "Epoch 56/100\n",
            "60/60 [==============================] - 5s 86ms/step - loss: 0.6921 - binary_accuracy: 0.8627 - val_loss: 0.6899 - val_binary_accuracy: 0.8615\n",
            "Epoch 57/100\n",
            "60/60 [==============================] - 5s 81ms/step - loss: 0.6920 - binary_accuracy: 0.8627 - val_loss: 0.6917 - val_binary_accuracy: 0.8615\n",
            "Epoch 58/100\n",
            "60/60 [==============================] - 5s 83ms/step - loss: 0.6920 - binary_accuracy: 0.8627 - val_loss: 0.6916 - val_binary_accuracy: 0.8615\n",
            "Epoch 59/100\n",
            "60/60 [==============================] - 5s 81ms/step - loss: 0.6921 - binary_accuracy: 0.8627 - val_loss: 0.6909 - val_binary_accuracy: 0.8615\n",
            "Epoch 60/100\n",
            "60/60 [==============================] - 5s 79ms/step - loss: 0.6920 - binary_accuracy: 0.8627 - val_loss: 0.6918 - val_binary_accuracy: 0.8615\n",
            "Epoch 61/100\n",
            "60/60 [==============================] - 5s 81ms/step - loss: 0.6921 - binary_accuracy: 0.7468 - val_loss: 0.6915 - val_binary_accuracy: 0.8615\n",
            "Epoch 62/100\n",
            "60/60 [==============================] - 5s 86ms/step - loss: 0.6920 - binary_accuracy: 0.8627 - val_loss: 0.6915 - val_binary_accuracy: 0.8615\n",
            "Epoch 63/100\n",
            "60/60 [==============================] - 5s 77ms/step - loss: 0.6921 - binary_accuracy: 0.8627 - val_loss: 0.6919 - val_binary_accuracy: 0.8615\n",
            "Epoch 64/100\n",
            "60/60 [==============================] - 5s 84ms/step - loss: 0.6921 - binary_accuracy: 0.8627 - val_loss: 0.6909 - val_binary_accuracy: 0.8615\n",
            "Epoch 65/100\n",
            "60/60 [==============================] - 6s 98ms/step - loss: 0.6920 - binary_accuracy: 0.8627 - val_loss: 0.6911 - val_binary_accuracy: 0.8615\n",
            "Epoch 66/100\n",
            "60/60 [==============================] - 5s 82ms/step - loss: 0.6920 - binary_accuracy: 0.8627 - val_loss: 0.6907 - val_binary_accuracy: 0.8615\n",
            "Epoch 67/100\n",
            "60/60 [==============================] - 5s 78ms/step - loss: 0.6921 - binary_accuracy: 0.8627 - val_loss: 0.6906 - val_binary_accuracy: 0.8615\n",
            "Epoch 68/100\n",
            "60/60 [==============================] - 5s 79ms/step - loss: 0.6920 - binary_accuracy: 0.8627 - val_loss: 0.6910 - val_binary_accuracy: 0.8615\n",
            "Epoch 69/100\n",
            "60/60 [==============================] - 5s 79ms/step - loss: 0.6920 - binary_accuracy: 0.8627 - val_loss: 0.6912 - val_binary_accuracy: 0.8615\n",
            "Epoch 70/100\n",
            "60/60 [==============================] - 5s 82ms/step - loss: 0.6921 - binary_accuracy: 0.8627 - val_loss: 0.6906 - val_binary_accuracy: 0.8615\n",
            "Epoch 71/100\n",
            "60/60 [==============================] - 5s 77ms/step - loss: 0.6921 - binary_accuracy: 0.8627 - val_loss: 0.6896 - val_binary_accuracy: 0.8615\n",
            "Epoch 72/100\n",
            "60/60 [==============================] - 5s 82ms/step - loss: 0.6921 - binary_accuracy: 0.8627 - val_loss: 0.6918 - val_binary_accuracy: 0.8615\n",
            "Epoch 73/100\n",
            "60/60 [==============================] - 5s 82ms/step - loss: 0.6920 - binary_accuracy: 0.8627 - val_loss: 0.6912 - val_binary_accuracy: 0.8615\n",
            "Epoch 74/100\n",
            "60/60 [==============================] - 5s 80ms/step - loss: 0.6920 - binary_accuracy: 0.8091 - val_loss: 0.6928 - val_binary_accuracy: 0.1392\n",
            "Epoch 75/100\n",
            "60/60 [==============================] - 5s 77ms/step - loss: 0.6921 - binary_accuracy: 0.2225 - val_loss: 0.6923 - val_binary_accuracy: 0.8615\n",
            "Epoch 76/100\n",
            "60/60 [==============================] - 5s 83ms/step - loss: 0.6920 - binary_accuracy: 0.1977 - val_loss: 0.6935 - val_binary_accuracy: 0.1392\n",
            "Epoch 77/100\n",
            "60/60 [==============================] - 5s 80ms/step - loss: 0.6920 - binary_accuracy: 0.4865 - val_loss: 0.6934 - val_binary_accuracy: 0.1392\n",
            "Epoch 78/100\n",
            "60/60 [==============================] - 5s 84ms/step - loss: 0.6920 - binary_accuracy: 0.2373 - val_loss: 0.6933 - val_binary_accuracy: 0.1392\n",
            "Epoch 79/100\n",
            "60/60 [==============================] - 5s 82ms/step - loss: 0.6921 - binary_accuracy: 0.2252 - val_loss: 0.6939 - val_binary_accuracy: 0.1392\n",
            "Epoch 80/100\n",
            "60/60 [==============================] - 5s 81ms/step - loss: 0.6921 - binary_accuracy: 0.1381 - val_loss: 0.6931 - val_binary_accuracy: 0.1392\n",
            "Epoch 81/100\n",
            "60/60 [==============================] - 5s 81ms/step - loss: 0.6920 - binary_accuracy: 0.7458 - val_loss: 0.6927 - val_binary_accuracy: 0.8615\n",
            "Epoch 82/100\n",
            "60/60 [==============================] - 5s 76ms/step - loss: 0.6921 - binary_accuracy: 0.6172 - val_loss: 0.6929 - val_binary_accuracy: 0.1392\n",
            "Epoch 83/100\n",
            "60/60 [==============================] - 5s 82ms/step - loss: 0.6920 - binary_accuracy: 0.3223 - val_loss: 0.6917 - val_binary_accuracy: 0.8615\n",
            "Epoch 84/100\n",
            "60/60 [==============================] - 5s 87ms/step - loss: 0.6921 - binary_accuracy: 0.2769 - val_loss: 0.6931 - val_binary_accuracy: 0.1392\n",
            "Epoch 85/100\n",
            "60/60 [==============================] - 5s 86ms/step - loss: 0.6921 - binary_accuracy: 0.5298 - val_loss: 0.6921 - val_binary_accuracy: 0.8615\n",
            "Epoch 86/100\n",
            "60/60 [==============================] - 5s 82ms/step - loss: 0.6920 - binary_accuracy: 0.3506 - val_loss: 0.6928 - val_binary_accuracy: 0.1392\n",
            "Epoch 87/100\n",
            "60/60 [==============================] - 5s 81ms/step - loss: 0.6921 - binary_accuracy: 0.8105 - val_loss: 0.6923 - val_binary_accuracy: 0.8615\n",
            "Epoch 88/100\n",
            "60/60 [==============================] - 5s 85ms/step - loss: 0.6921 - binary_accuracy: 0.8627 - val_loss: 0.6906 - val_binary_accuracy: 0.8615\n",
            "Epoch 89/100\n",
            "60/60 [==============================] - 5s 86ms/step - loss: 0.6921 - binary_accuracy: 0.7347 - val_loss: 0.6922 - val_binary_accuracy: 0.8615\n",
            "Epoch 90/100\n",
            "60/60 [==============================] - 5s 75ms/step - loss: 0.6940 - binary_accuracy: 0.4205 - val_loss: 0.6929 - val_binary_accuracy: 0.1392\n",
            "Epoch 91/100\n",
            "60/60 [==============================] - 5s 78ms/step - loss: 0.6922 - binary_accuracy: 0.8384 - val_loss: 0.6920 - val_binary_accuracy: 0.8615\n",
            "Epoch 92/100\n",
            "60/60 [==============================] - 5s 80ms/step - loss: 0.6920 - binary_accuracy: 0.8627 - val_loss: 0.6911 - val_binary_accuracy: 0.8615\n",
            "Epoch 93/100\n",
            "60/60 [==============================] - 5s 79ms/step - loss: 0.6920 - binary_accuracy: 0.8627 - val_loss: 0.6919 - val_binary_accuracy: 0.8615\n",
            "Epoch 94/100\n",
            "60/60 [==============================] - 5s 83ms/step - loss: 0.6921 - binary_accuracy: 0.3643 - val_loss: 0.6917 - val_binary_accuracy: 0.8615\n",
            "Epoch 95/100\n",
            "60/60 [==============================] - 5s 81ms/step - loss: 0.6921 - binary_accuracy: 0.8627 - val_loss: 0.6913 - val_binary_accuracy: 0.8615\n",
            "Epoch 96/100\n",
            "60/60 [==============================] - 5s 76ms/step - loss: 0.6921 - binary_accuracy: 0.8627 - val_loss: 0.6913 - val_binary_accuracy: 0.8615\n",
            "Epoch 97/100\n",
            "60/60 [==============================] - 5s 80ms/step - loss: 0.6921 - binary_accuracy: 0.7054 - val_loss: 0.6918 - val_binary_accuracy: 0.8615\n",
            "Epoch 98/100\n",
            "60/60 [==============================] - 5s 82ms/step - loss: 0.6921 - binary_accuracy: 0.2059 - val_loss: 0.6934 - val_binary_accuracy: 0.1392\n",
            "Epoch 99/100\n",
            "60/60 [==============================] - 5s 81ms/step - loss: 0.6920 - binary_accuracy: 0.1381 - val_loss: 0.6936 - val_binary_accuracy: 0.1392\n",
            "Epoch 100/100\n",
            "60/60 [==============================] - 5s 81ms/step - loss: 0.6921 - binary_accuracy: 0.1381 - val_loss: 0.6938 - val_binary_accuracy: 0.1392\n"
          ]
        },
        {
          "output_type": "execute_result",
          "data": {
            "text/plain": [
              "<keras.callbacks.History at 0x7f05142c9b50>"
            ]
          },
          "metadata": {},
          "execution_count": 62
        }
      ]
    },
    {
      "cell_type": "markdown",
      "source": [
        "Scores for 100 epochs :\n",
        "\n",
        "\n",
        "    loss : 0.6921 - val_loss : 0.6938\n",
        "    binary_accuracy : 0.1381 - val_binary_accuracy : 0.1392"
      ],
      "metadata": {
        "id": "vl3fnIv_64mX"
      }
    },
    {
      "cell_type": "code",
      "source": [
        "model_gru.save(\"model_gru.h5\")"
      ],
      "metadata": {
        "id": "kusPpGZc3x0z"
      },
      "execution_count": null,
      "outputs": []
    },
    {
      "cell_type": "code",
      "source": [
        "json.dump(model_gru.history.history, open(\"/content/GRU_history.json\", 'w'))"
      ],
      "metadata": {
        "id": "1qZoUjEk37jE"
      },
      "execution_count": null,
      "outputs": []
    },
    {
      "cell_type": "markdown",
      "source": [
        "# LSTM"
      ],
      "metadata": {
        "id": "4vu52FdW7JDM"
      }
    },
    {
      "cell_type": "code",
      "source": [
        "# We try LSTM now\n",
        "from tensorflow.keras.layers import Embedding, SimpleRNN, Dense, GRU, LSTM\n",
        "\n",
        "vocab_size = len(tokenizer.word_index)\n",
        "model_lstm = tf.keras.Sequential([\n",
        "                  Embedding(vocab_size, 64,name=\"embedding\"),\n",
        "                  LSTM(units=64, return_sequences=True), # maintains the sequential nature\n",
        "                  LSTM(units=32, return_sequences=False), # returns the last output\n",
        "                  Dense(16, activation='relu'),\n",
        "                  Dense(8, activation='relu'),\n",
        "\n",
        "                  Dense(1, activation=\"sigmoid\")\n",
        "])"
      ],
      "metadata": {
        "id": "skEjQr0W7HSQ"
      },
      "execution_count": null,
      "outputs": []
    },
    {
      "cell_type": "code",
      "source": [
        "model_lstm.summary()"
      ],
      "metadata": {
        "colab": {
          "base_uri": "https://localhost:8080/"
        },
        "id": "TS1IPpLl7UY2",
        "outputId": "d14556bb-15f9-4455-f884-6af1f4bede72"
      },
      "execution_count": null,
      "outputs": [
        {
          "output_type": "stream",
          "name": "stdout",
          "text": [
            "Model: \"sequential_12\"\n",
            "_________________________________________________________________\n",
            " Layer (type)                Output Shape              Param #   \n",
            "=================================================================\n",
            " embedding (Embedding)       (None, None, 64)          524032    \n",
            "                                                                 \n",
            " lstm_4 (LSTM)               (None, None, 64)          33024     \n",
            "                                                                 \n",
            " lstm_5 (LSTM)               (None, 32)                12416     \n",
            "                                                                 \n",
            " dense_34 (Dense)            (None, 16)                528       \n",
            "                                                                 \n",
            " dense_35 (Dense)            (None, 8)                 136       \n",
            "                                                                 \n",
            " dense_36 (Dense)            (None, 1)                 9         \n",
            "                                                                 \n",
            "=================================================================\n",
            "Total params: 570,145\n",
            "Trainable params: 570,145\n",
            "Non-trainable params: 0\n",
            "_________________________________________________________________\n"
          ]
        }
      ]
    },
    {
      "cell_type": "code",
      "source": [
        "optimizer= tf.keras.optimizers.Adam()\n",
        "\n",
        "model_lstm.compile(optimizer=optimizer,\n",
        "              loss=tf.keras.losses.BinaryCrossentropy(),\n",
        "              metrics=[tf.keras.metrics.BinaryAccuracy()])"
      ],
      "metadata": {
        "id": "pWN2M0i87cgX"
      },
      "execution_count": null,
      "outputs": []
    },
    {
      "cell_type": "code",
      "source": [
        "model_lstm.fit(train_data,\n",
        "              epochs=100, \n",
        "              validation_data=test_data,\n",
        "               class_weight=weights)"
      ],
      "metadata": {
        "colab": {
          "base_uri": "https://localhost:8080/"
        },
        "id": "yqzPrhYc8eP_",
        "outputId": "a9c24b1d-7410-4dd7-baf3-a08a225168d8"
      },
      "execution_count": null,
      "outputs": [
        {
          "output_type": "stream",
          "name": "stdout",
          "text": [
            "Epoch 1/100\n",
            "60/60 [==============================] - 12s 108ms/step - loss: 0.6927 - binary_accuracy: 0.4293 - val_loss: 0.6923 - val_binary_accuracy: 0.8615\n",
            "Epoch 2/100\n",
            "60/60 [==============================] - 5s 87ms/step - loss: 0.6924 - binary_accuracy: 0.3495 - val_loss: 0.6949 - val_binary_accuracy: 0.1385\n",
            "Epoch 3/100\n",
            "60/60 [==============================] - 5s 80ms/step - loss: 0.6924 - binary_accuracy: 0.3419 - val_loss: 0.6931 - val_binary_accuracy: 0.8615\n",
            "Epoch 4/100\n",
            "60/60 [==============================] - 5s 88ms/step - loss: 0.6505 - binary_accuracy: 0.8767 - val_loss: 0.2927 - val_binary_accuracy: 0.9212\n",
            "Epoch 5/100\n",
            "60/60 [==============================] - 5s 85ms/step - loss: 0.2653 - binary_accuracy: 0.9604 - val_loss: 0.1397 - val_binary_accuracy: 0.9741\n",
            "Epoch 6/100\n",
            "60/60 [==============================] - 5s 81ms/step - loss: 0.2625 - binary_accuracy: 0.9739 - val_loss: 0.1706 - val_binary_accuracy: 0.9766\n",
            "Epoch 7/100\n",
            "60/60 [==============================] - 5s 88ms/step - loss: 0.1748 - binary_accuracy: 0.9826 - val_loss: 0.1790 - val_binary_accuracy: 0.9741\n",
            "Epoch 8/100\n",
            "60/60 [==============================] - 5s 83ms/step - loss: 0.1604 - binary_accuracy: 0.9828 - val_loss: 0.1495 - val_binary_accuracy: 0.9723\n",
            "Epoch 9/100\n",
            "60/60 [==============================] - 5s 81ms/step - loss: 0.1501 - binary_accuracy: 0.9778 - val_loss: 0.1094 - val_binary_accuracy: 0.9711\n",
            "Epoch 10/100\n",
            "60/60 [==============================] - 6s 97ms/step - loss: 0.0901 - binary_accuracy: 0.9757 - val_loss: 0.1530 - val_binary_accuracy: 0.9446\n",
            "Epoch 11/100\n",
            "60/60 [==============================] - 6s 100ms/step - loss: 0.0734 - binary_accuracy: 0.9839 - val_loss: 0.1281 - val_binary_accuracy: 0.9557\n",
            "Epoch 12/100\n",
            "60/60 [==============================] - 5s 83ms/step - loss: 0.0618 - binary_accuracy: 0.9884 - val_loss: 0.1530 - val_binary_accuracy: 0.9618\n",
            "Epoch 13/100\n",
            "60/60 [==============================] - 5s 89ms/step - loss: 0.0628 - binary_accuracy: 0.9908 - val_loss: 0.1290 - val_binary_accuracy: 0.9667\n",
            "Epoch 14/100\n",
            "60/60 [==============================] - 5s 86ms/step - loss: 0.0576 - binary_accuracy: 0.9926 - val_loss: 0.1366 - val_binary_accuracy: 0.9698\n",
            "Epoch 15/100\n",
            "60/60 [==============================] - 5s 87ms/step - loss: 0.0582 - binary_accuracy: 0.9926 - val_loss: 0.1613 - val_binary_accuracy: 0.9587\n",
            "Epoch 16/100\n",
            "60/60 [==============================] - 5s 83ms/step - loss: 0.0613 - binary_accuracy: 0.9913 - val_loss: 0.1403 - val_binary_accuracy: 0.9692\n",
            "Epoch 17/100\n",
            "60/60 [==============================] - 5s 89ms/step - loss: 0.0589 - binary_accuracy: 0.9926 - val_loss: 0.1394 - val_binary_accuracy: 0.9723\n",
            "Epoch 18/100\n",
            "60/60 [==============================] - 5s 85ms/step - loss: 0.1068 - binary_accuracy: 0.9747 - val_loss: 0.5461 - val_binary_accuracy: 0.8590\n",
            "Epoch 19/100\n",
            "60/60 [==============================] - 5s 84ms/step - loss: 0.2249 - binary_accuracy: 0.8994 - val_loss: 0.3061 - val_binary_accuracy: 0.8836\n",
            "Epoch 20/100\n",
            "60/60 [==============================] - 5s 87ms/step - loss: 0.2188 - binary_accuracy: 0.9026 - val_loss: 0.3104 - val_binary_accuracy: 0.8855\n",
            "Epoch 21/100\n",
            "60/60 [==============================] - 5s 86ms/step - loss: 0.2183 - binary_accuracy: 0.9023 - val_loss: 0.2937 - val_binary_accuracy: 0.8855\n",
            "Epoch 22/100\n",
            "60/60 [==============================] - 5s 84ms/step - loss: 0.2186 - binary_accuracy: 0.9023 - val_loss: 0.3053 - val_binary_accuracy: 0.8855\n",
            "Epoch 23/100\n",
            "60/60 [==============================] - 5s 87ms/step - loss: 0.2187 - binary_accuracy: 0.9023 - val_loss: 0.3005 - val_binary_accuracy: 0.8855\n",
            "Epoch 24/100\n",
            "60/60 [==============================] - 6s 106ms/step - loss: 0.2190 - binary_accuracy: 0.9023 - val_loss: 0.3085 - val_binary_accuracy: 0.8855\n",
            "Epoch 25/100\n",
            "60/60 [==============================] - 5s 90ms/step - loss: 0.2194 - binary_accuracy: 0.9023 - val_loss: 0.3051 - val_binary_accuracy: 0.8855\n",
            "Epoch 26/100\n",
            "60/60 [==============================] - 6s 92ms/step - loss: 0.2188 - binary_accuracy: 0.9023 - val_loss: 0.3010 - val_binary_accuracy: 0.8861\n",
            "Epoch 27/100\n",
            "60/60 [==============================] - 5s 88ms/step - loss: 0.2188 - binary_accuracy: 0.9023 - val_loss: 0.3006 - val_binary_accuracy: 0.8861\n",
            "Epoch 28/100\n",
            "60/60 [==============================] - 5s 81ms/step - loss: 0.2186 - binary_accuracy: 0.9023 - val_loss: 0.3078 - val_binary_accuracy: 0.8861\n",
            "Epoch 29/100\n",
            "60/60 [==============================] - 5s 89ms/step - loss: 0.2188 - binary_accuracy: 0.9023 - val_loss: 0.2970 - val_binary_accuracy: 0.8861\n",
            "Epoch 30/100\n",
            "60/60 [==============================] - 5s 86ms/step - loss: 0.2187 - binary_accuracy: 0.9023 - val_loss: 0.3084 - val_binary_accuracy: 0.8861\n",
            "Epoch 31/100\n",
            "60/60 [==============================] - 5s 83ms/step - loss: 0.2189 - binary_accuracy: 0.9023 - val_loss: 0.3023 - val_binary_accuracy: 0.8861\n",
            "Epoch 32/100\n",
            "60/60 [==============================] - 5s 83ms/step - loss: 0.2188 - binary_accuracy: 0.9023 - val_loss: 0.2960 - val_binary_accuracy: 0.8861\n",
            "Epoch 33/100\n",
            "60/60 [==============================] - 6s 92ms/step - loss: 0.2195 - binary_accuracy: 0.9023 - val_loss: 0.2929 - val_binary_accuracy: 0.8867\n",
            "Epoch 34/100\n",
            "60/60 [==============================] - 5s 88ms/step - loss: 0.2187 - binary_accuracy: 0.9023 - val_loss: 0.3037 - val_binary_accuracy: 0.8867\n",
            "Epoch 35/100\n",
            "60/60 [==============================] - 5s 86ms/step - loss: 0.2188 - binary_accuracy: 0.9023 - val_loss: 0.3037 - val_binary_accuracy: 0.8867\n",
            "Epoch 36/100\n",
            "60/60 [==============================] - 5s 86ms/step - loss: 0.2188 - binary_accuracy: 0.9023 - val_loss: 0.3042 - val_binary_accuracy: 0.8867\n",
            "Epoch 37/100\n",
            "60/60 [==============================] - 5s 86ms/step - loss: 0.2193 - binary_accuracy: 0.9023 - val_loss: 0.3073 - val_binary_accuracy: 0.8867\n",
            "Epoch 38/100\n",
            "60/60 [==============================] - 5s 83ms/step - loss: 0.2188 - binary_accuracy: 0.9023 - val_loss: 0.2982 - val_binary_accuracy: 0.8867\n",
            "Epoch 39/100\n",
            "60/60 [==============================] - 5s 86ms/step - loss: 0.2191 - binary_accuracy: 0.9023 - val_loss: 0.3045 - val_binary_accuracy: 0.8867\n",
            "Epoch 40/100\n",
            "60/60 [==============================] - 5s 85ms/step - loss: 0.2187 - binary_accuracy: 0.9023 - val_loss: 0.3046 - val_binary_accuracy: 0.8867\n",
            "Epoch 41/100\n",
            "60/60 [==============================] - 5s 87ms/step - loss: 0.2187 - binary_accuracy: 0.9023 - val_loss: 0.2942 - val_binary_accuracy: 0.8867\n",
            "Epoch 42/100\n",
            "60/60 [==============================] - 5s 82ms/step - loss: 0.2190 - binary_accuracy: 0.9023 - val_loss: 0.2973 - val_binary_accuracy: 0.8867\n",
            "Epoch 43/100\n",
            "60/60 [==============================] - 5s 80ms/step - loss: 0.2189 - binary_accuracy: 0.9023 - val_loss: 0.3036 - val_binary_accuracy: 0.8867\n",
            "Epoch 44/100\n",
            "60/60 [==============================] - 5s 83ms/step - loss: 0.2185 - binary_accuracy: 0.9026 - val_loss: 0.2903 - val_binary_accuracy: 0.8892\n",
            "Epoch 45/100\n",
            "60/60 [==============================] - 5s 87ms/step - loss: 0.2123 - binary_accuracy: 0.9073 - val_loss: 0.2908 - val_binary_accuracy: 0.8935\n",
            "Epoch 46/100\n",
            "60/60 [==============================] - 5s 83ms/step - loss: 0.2096 - binary_accuracy: 0.9092 - val_loss: 0.2965 - val_binary_accuracy: 0.8929\n",
            "Epoch 47/100\n",
            "60/60 [==============================] - 5s 88ms/step - loss: 0.2075 - binary_accuracy: 0.9108 - val_loss: 0.2902 - val_binary_accuracy: 0.8929\n",
            "Epoch 48/100\n",
            "60/60 [==============================] - 5s 89ms/step - loss: 0.2059 - binary_accuracy: 0.9118 - val_loss: 0.2948 - val_binary_accuracy: 0.8935\n",
            "Epoch 49/100\n",
            "60/60 [==============================] - 6s 92ms/step - loss: 0.2027 - binary_accuracy: 0.9142 - val_loss: 0.2847 - val_binary_accuracy: 0.8941\n",
            "Epoch 50/100\n",
            "60/60 [==============================] - 5s 88ms/step - loss: 0.2026 - binary_accuracy: 0.9142 - val_loss: 0.2952 - val_binary_accuracy: 0.8941\n",
            "Epoch 51/100\n",
            "60/60 [==============================] - 5s 86ms/step - loss: 0.2019 - binary_accuracy: 0.9147 - val_loss: 0.2835 - val_binary_accuracy: 0.8966\n",
            "Epoch 52/100\n",
            "60/60 [==============================] - 5s 83ms/step - loss: 0.1984 - binary_accuracy: 0.9174 - val_loss: 0.2890 - val_binary_accuracy: 0.8966\n",
            "Epoch 53/100\n",
            "60/60 [==============================] - 5s 87ms/step - loss: 0.1979 - binary_accuracy: 0.9176 - val_loss: 0.2931 - val_binary_accuracy: 0.8972\n",
            "Epoch 54/100\n",
            "60/60 [==============================] - 5s 89ms/step - loss: 0.1963 - binary_accuracy: 0.9187 - val_loss: 0.2952 - val_binary_accuracy: 0.8972\n",
            "Epoch 55/100\n",
            "60/60 [==============================] - 5s 85ms/step - loss: 0.1938 - binary_accuracy: 0.9205 - val_loss: 0.2880 - val_binary_accuracy: 0.8990\n",
            "Epoch 56/100\n",
            "60/60 [==============================] - 5s 89ms/step - loss: 0.1924 - binary_accuracy: 0.9213 - val_loss: 0.2902 - val_binary_accuracy: 0.8990\n",
            "Epoch 57/100\n",
            "60/60 [==============================] - 6s 107ms/step - loss: 0.1915 - binary_accuracy: 0.9221 - val_loss: 0.2922 - val_binary_accuracy: 0.8990\n",
            "Epoch 58/100\n",
            "60/60 [==============================] - 5s 80ms/step - loss: 0.1891 - binary_accuracy: 0.9240 - val_loss: 0.2897 - val_binary_accuracy: 0.9027\n",
            "Epoch 59/100\n",
            "60/60 [==============================] - 5s 88ms/step - loss: 0.1751 - binary_accuracy: 0.9332 - val_loss: 0.1923 - val_binary_accuracy: 0.9427\n",
            "Epoch 60/100\n",
            "60/60 [==============================] - 5s 84ms/step - loss: 0.1204 - binary_accuracy: 0.9678 - val_loss: 0.1727 - val_binary_accuracy: 0.9581\n",
            "Epoch 61/100\n",
            "60/60 [==============================] - 5s 86ms/step - loss: 0.0994 - binary_accuracy: 0.9810 - val_loss: 0.1487 - val_binary_accuracy: 0.9674\n",
            "Epoch 62/100\n",
            "60/60 [==============================] - 5s 89ms/step - loss: 0.0937 - binary_accuracy: 0.9900 - val_loss: 0.1600 - val_binary_accuracy: 0.9680\n",
            "Epoch 63/100\n",
            "60/60 [==============================] - 5s 89ms/step - loss: 0.6282 - binary_accuracy: 0.6008 - val_loss: 0.6317 - val_binary_accuracy: 0.8615\n",
            "Epoch 64/100\n",
            "60/60 [==============================] - 5s 86ms/step - loss: 0.5651 - binary_accuracy: 0.6975 - val_loss: 0.5090 - val_binary_accuracy: 0.6435\n",
            "Epoch 65/100\n",
            "60/60 [==============================] - 5s 85ms/step - loss: 0.3768 - binary_accuracy: 0.7386 - val_loss: 0.4484 - val_binary_accuracy: 0.7401\n",
            "Epoch 66/100\n",
            "60/60 [==============================] - 5s 82ms/step - loss: 0.2989 - binary_accuracy: 0.8392 - val_loss: 0.2152 - val_binary_accuracy: 0.9280\n",
            "Epoch 67/100\n",
            "60/60 [==============================] - 5s 87ms/step - loss: 0.1961 - binary_accuracy: 0.9483 - val_loss: 0.2547 - val_binary_accuracy: 0.9292\n",
            "Epoch 68/100\n",
            "60/60 [==============================] - 5s 83ms/step - loss: 0.1988 - binary_accuracy: 0.9485 - val_loss: 0.2569 - val_binary_accuracy: 0.9286\n",
            "Epoch 69/100\n",
            "60/60 [==============================] - 5s 85ms/step - loss: 0.1914 - binary_accuracy: 0.9533 - val_loss: 0.2520 - val_binary_accuracy: 0.9335\n",
            "Epoch 70/100\n",
            "60/60 [==============================] - 5s 83ms/step - loss: 0.1838 - binary_accuracy: 0.9586 - val_loss: 0.2372 - val_binary_accuracy: 0.9390\n",
            "Epoch 71/100\n",
            "60/60 [==============================] - 5s 87ms/step - loss: 0.2282 - binary_accuracy: 0.9688 - val_loss: 0.2573 - val_binary_accuracy: 0.9501\n",
            "Epoch 72/100\n",
            "60/60 [==============================] - 5s 89ms/step - loss: 0.2574 - binary_accuracy: 0.9688 - val_loss: 0.3517 - val_binary_accuracy: 0.9372\n",
            "Epoch 73/100\n",
            "60/60 [==============================] - 5s 82ms/step - loss: 0.2594 - binary_accuracy: 0.9609 - val_loss: 0.2791 - val_binary_accuracy: 0.9409\n",
            "Epoch 74/100\n",
            "60/60 [==============================] - 5s 83ms/step - loss: 0.2564 - binary_accuracy: 0.9615 - val_loss: 0.2809 - val_binary_accuracy: 0.9409\n",
            "Epoch 75/100\n",
            "60/60 [==============================] - 5s 86ms/step - loss: 0.2573 - binary_accuracy: 0.9615 - val_loss: 0.2695 - val_binary_accuracy: 0.9409\n",
            "Epoch 76/100\n",
            "60/60 [==============================] - 6s 95ms/step - loss: 0.2581 - binary_accuracy: 0.9615 - val_loss: 0.2777 - val_binary_accuracy: 0.9409\n",
            "Epoch 77/100\n",
            "60/60 [==============================] - 5s 89ms/step - loss: 0.2563 - binary_accuracy: 0.9615 - val_loss: 0.2813 - val_binary_accuracy: 0.9409\n",
            "Epoch 78/100\n",
            "60/60 [==============================] - 5s 91ms/step - loss: 0.2549 - binary_accuracy: 0.9617 - val_loss: 0.2960 - val_binary_accuracy: 0.9409\n",
            "Epoch 79/100\n",
            "60/60 [==============================] - 5s 89ms/step - loss: 0.2539 - binary_accuracy: 0.9617 - val_loss: 0.2736 - val_binary_accuracy: 0.9409\n",
            "Epoch 80/100\n",
            "60/60 [==============================] - 5s 89ms/step - loss: 0.2527 - binary_accuracy: 0.9620 - val_loss: 0.2947 - val_binary_accuracy: 0.9409\n",
            "Epoch 81/100\n",
            "60/60 [==============================] - 5s 85ms/step - loss: 0.2466 - binary_accuracy: 0.9628 - val_loss: 0.2790 - val_binary_accuracy: 0.9409\n",
            "Epoch 82/100\n",
            "60/60 [==============================] - 5s 86ms/step - loss: 0.2463 - binary_accuracy: 0.9628 - val_loss: 0.2740 - val_binary_accuracy: 0.9409\n",
            "Epoch 83/100\n",
            "60/60 [==============================] - 5s 88ms/step - loss: 0.2417 - binary_accuracy: 0.9633 - val_loss: 0.2639 - val_binary_accuracy: 0.9409\n",
            "Epoch 84/100\n",
            "60/60 [==============================] - 5s 84ms/step - loss: 0.2424 - binary_accuracy: 0.9633 - val_loss: 0.2667 - val_binary_accuracy: 0.9409\n",
            "Epoch 85/100\n",
            "60/60 [==============================] - 6s 92ms/step - loss: 0.2432 - binary_accuracy: 0.9633 - val_loss: 0.2770 - val_binary_accuracy: 0.9409\n",
            "Epoch 86/100\n",
            "60/60 [==============================] - 5s 87ms/step - loss: 0.2422 - binary_accuracy: 0.9633 - val_loss: 0.2726 - val_binary_accuracy: 0.9409\n",
            "Epoch 87/100\n",
            "60/60 [==============================] - 5s 91ms/step - loss: 0.2425 - binary_accuracy: 0.9633 - val_loss: 0.2790 - val_binary_accuracy: 0.9409\n",
            "Epoch 88/100\n",
            "60/60 [==============================] - 5s 82ms/step - loss: 0.2424 - binary_accuracy: 0.9633 - val_loss: 0.2756 - val_binary_accuracy: 0.9409\n",
            "Epoch 89/100\n",
            "60/60 [==============================] - 5s 90ms/step - loss: 0.2422 - binary_accuracy: 0.9633 - val_loss: 0.2778 - val_binary_accuracy: 0.9409\n",
            "Epoch 90/100\n",
            "60/60 [==============================] - 5s 81ms/step - loss: 0.2396 - binary_accuracy: 0.9636 - val_loss: 0.2776 - val_binary_accuracy: 0.9409\n",
            "Epoch 91/100\n",
            "60/60 [==============================] - 5s 88ms/step - loss: 0.2400 - binary_accuracy: 0.9636 - val_loss: 0.2732 - val_binary_accuracy: 0.9403\n",
            "Epoch 92/100\n",
            "60/60 [==============================] - 5s 87ms/step - loss: 0.2418 - binary_accuracy: 0.9633 - val_loss: 0.2765 - val_binary_accuracy: 0.9403\n",
            "Epoch 93/100\n",
            "60/60 [==============================] - 5s 88ms/step - loss: 0.2379 - binary_accuracy: 0.9638 - val_loss: 0.2716 - val_binary_accuracy: 0.9409\n",
            "Epoch 94/100\n",
            "60/60 [==============================] - 5s 84ms/step - loss: 0.2335 - binary_accuracy: 0.9644 - val_loss: 0.2733 - val_binary_accuracy: 0.9403\n",
            "Epoch 95/100\n",
            "60/60 [==============================] - 5s 85ms/step - loss: 0.2288 - binary_accuracy: 0.9649 - val_loss: 0.2732 - val_binary_accuracy: 0.9403\n",
            "Epoch 96/100\n",
            "60/60 [==============================] - 5s 89ms/step - loss: 0.2266 - binary_accuracy: 0.9652 - val_loss: 0.2695 - val_binary_accuracy: 0.9403\n",
            "Epoch 97/100\n",
            "60/60 [==============================] - 5s 85ms/step - loss: 0.2270 - binary_accuracy: 0.9652 - val_loss: 0.2791 - val_binary_accuracy: 0.9403\n",
            "Epoch 98/100\n",
            "60/60 [==============================] - 5s 81ms/step - loss: 0.2220 - binary_accuracy: 0.9657 - val_loss: 0.2694 - val_binary_accuracy: 0.9403\n",
            "Epoch 99/100\n",
            "60/60 [==============================] - 5s 81ms/step - loss: 0.2199 - binary_accuracy: 0.9659 - val_loss: 0.2648 - val_binary_accuracy: 0.9403\n",
            "Epoch 100/100\n",
            "60/60 [==============================] - 5s 86ms/step - loss: 0.2199 - binary_accuracy: 0.9659 - val_loss: 0.2697 - val_binary_accuracy: 0.9403\n"
          ]
        },
        {
          "output_type": "execute_result",
          "data": {
            "text/plain": [
              "<keras.callbacks.History at 0x7f051cf66100>"
            ]
          },
          "metadata": {},
          "execution_count": 72
        }
      ]
    },
    {
      "cell_type": "markdown",
      "source": [
        "Scores for 100 epochs :\n",
        "\n",
        "\n",
        "    loss : 0.2199 - val_loss : 0.2697\n",
        "    binary_accuracy : 0.9659 - val_binary_accuracy : 0.9403"
      ],
      "metadata": {
        "id": "7KWhob9Q-KOd"
      }
    },
    {
      "cell_type": "code",
      "source": [
        "model_lstm.save(\"model_lstm.h5\")"
      ],
      "metadata": {
        "id": "AibFhNe18iym"
      },
      "execution_count": null,
      "outputs": []
    },
    {
      "cell_type": "code",
      "source": [
        "json.dump(model_lstm.history.history, open(\"/content/LSTM_history.json\", 'w'))"
      ],
      "metadata": {
        "id": "uADrkhkD_xjz"
      },
      "execution_count": null,
      "outputs": []
    },
    {
      "cell_type": "markdown",
      "source": [
        "## Model Evaluation"
      ],
      "metadata": {
        "id": "IMzv2jvWAAAQ"
      }
    },
    {
      "cell_type": "markdown",
      "source": [
        "### SimpleRNN"
      ],
      "metadata": {
        "id": "8CPOWHSQAEL6"
      }
    },
    {
      "cell_type": "code",
      "source": [
        "# We load our models history\n",
        "simpleRNN_history = json.load(open(\"/content/simpleRNN_history.json\", 'r'))"
      ],
      "metadata": {
        "id": "HheZR928_4_3"
      },
      "execution_count": null,
      "outputs": []
    },
    {
      "cell_type": "code",
      "source": [
        "model_simpleRNN = tf.keras.models.load_model(\"/content/model_simpleRNN.h5\")"
      ],
      "metadata": {
        "id": "HEVqPzOFBnDe"
      },
      "execution_count": null,
      "outputs": []
    },
    {
      "cell_type": "code",
      "source": [
        "# make a graph to show the SimpleRNN model loss\n",
        "import plotly.graph_objects as go\n",
        "fig = go.Figure()\n",
        "fig.add_trace(go.Scatter(y=simpleRNN_history[\"loss\"],\n",
        "                    mode='lines',\n",
        "                    name='loss'))\n",
        "fig.add_trace(go.Scatter(y=simpleRNN_history[\"val_loss\"],\n",
        "                    mode='lines',\n",
        "                    name='val_loss'))\n",
        "fig.show()\n"
      ],
      "metadata": {
        "colab": {
          "base_uri": "https://localhost:8080/",
          "height": 542
        },
        "id": "ljOGgpcTBpbO",
        "outputId": "c9b4d3ae-2715-440a-a1fa-43724580f639"
      },
      "execution_count": null,
      "outputs": [
        {
          "output_type": "display_data",
          "data": {
            "text/html": [
              "<html>\n",
              "<head><meta charset=\"utf-8\" /></head>\n",
              "<body>\n",
              "    <div>            <script src=\"https://cdnjs.cloudflare.com/ajax/libs/mathjax/2.7.5/MathJax.js?config=TeX-AMS-MML_SVG\"></script><script type=\"text/javascript\">if (window.MathJax) {MathJax.Hub.Config({SVG: {font: \"STIX-Web\"}});}</script>                <script type=\"text/javascript\">window.PlotlyConfig = {MathJaxConfig: 'local'};</script>\n",
              "        <script src=\"https://cdn.plot.ly/plotly-2.8.3.min.js\"></script>                <div id=\"4837eee7-1808-48af-a9de-d1327a39cea8\" class=\"plotly-graph-div\" style=\"height:525px; width:100%;\"></div>            <script type=\"text/javascript\">                                    window.PLOTLYENV=window.PLOTLYENV || {};                                    if (document.getElementById(\"4837eee7-1808-48af-a9de-d1327a39cea8\")) {                    Plotly.newPlot(                        \"4837eee7-1808-48af-a9de-d1327a39cea8\",                        [{\"mode\":\"lines\",\"name\":\"loss\",\"y\":[0.5420218110084534,0.2824130952358246,0.15692812204360962,0.14033126831054688,0.1074291467666626,0.07431667298078537,0.08214059472084045,0.0670156180858612,0.06737691909074783,0.09394758194684982,0.04169866070151329,0.029656002297997475,0.05485548824071884,0.04178529232740402,0.041038814932107925,0.06234227493405342,0.03640936687588692,0.03329966589808464,0.017171259969472885,0.01002976018935442,0.010128652676939964,0.010572832077741623,0.00862486194819212,0.0198005773127079,0.12119610607624054,0.037784066051244736,0.02424526773393154,0.015754951164126396,0.018223818391561508,0.020302508026361465,0.014355185441672802,0.011260578408837318,0.23770077526569366,0.07639926671981812,0.0697907954454422,0.07274804264307022,0.028754619881510735,0.01726427860558033,0.06378839910030365,0.03498689830303192,0.021082168444991112,0.013047885149717331,0.019821591675281525,0.008178173564374447,0.007618137169629335,0.008005194365978241,0.02764923684298992,0.028694212436676025,0.028465108945965767,0.02792026288807392,0.013464092276990414,0.011635351926088333,0.008776063099503517,0.00488841300830245,0.0039032157510519028,0.003925153519958258,0.0035717240534722805,0.005144872236996889,0.0031516735907644033,0.003342554671689868,0.0036700773052871227,0.1490018218755722,0.24683202803134918,0.06581724435091019,0.040337007492780685,0.024143695831298828,0.02323342114686966,0.016259580850601196,0.016010241582989693,0.010428525507450104,0.05878330022096634,0.06011262908577919,0.038532424718141556,0.03178013116121292,0.01698813959956169,0.011939316056668758,0.013058364391326904,0.019803037866950035,0.00963710155338049,0.007992811501026154,0.007279265206307173,0.006456085480749607,0.0048887599259614944,0.012983936816453934,0.010526096448302269,0.005031209904700518,0.0034400722943246365,0.0033635797444730997,0.0031114425510168076,0.01249854639172554,0.00424226513132453,0.0026747246738523245,0.0024390690959990025,0.0038508246652781963,0.00400963518768549,0.0021318928338587284,0.0020657372660934925,0.0020089379977434874,0.001980162225663662,0.001763927168212831],\"type\":\"scatter\"},{\"mode\":\"lines\",\"name\":\"val_loss\",\"y\":[0.24518752098083496,0.22449707984924316,0.16682849824428558,0.1840842068195343,0.15118853747844696,0.22578683495521545,0.16763660311698914,0.16709157824516296,0.1929672509431839,0.20595571398735046,0.16169707477092743,0.23185233771800995,0.22000828385353088,0.20099742710590363,0.18860599398612976,0.22908803820610046,0.21038323640823364,0.200503870844841,0.17617647349834442,0.18411298096179962,0.21336065232753754,0.19132986664772034,0.2043643444776535,0.23366257548332214,0.1463577151298523,0.13670578598976135,0.1540803611278534,0.16125690937042236,0.19636689126491547,0.17828331887722015,0.18289479613304138,0.21716028451919556,0.3482087552547455,0.2757556438446045,0.18615354597568512,0.19523683190345764,0.1936945766210556,0.19877475500106812,0.5242393612861633,0.22910436987876892,0.21642929315567017,0.22681571543216705,0.2277514487504959,0.2381761223077774,0.2618080973625183,0.25052979588508606,0.26322853565216064,0.24876326322555542,0.3178170919418335,0.2342783361673355,0.23284262418746948,0.2429051399230957,0.2275463044643402,0.23302921652793884,0.2397996187210083,0.2505434453487396,0.24875828623771667,0.2566177248954773,0.26472771167755127,0.2713724374771118,0.2733060419559479,0.6739360690116882,0.254160612821579,0.23709526658058167,0.26016750931739807,0.2592449486255646,0.3031858801841736,0.264212042093277,0.2743009626865387,0.3050142228603363,0.32635626196861267,0.3266693651676178,0.26252231001853943,0.2945123314857483,0.2755049467086792,0.27551907300949097,0.2952248454093933,0.2784329354763031,0.2799088656902313,0.2923148274421692,0.3208125829696655,0.3624795377254486,0.3223046660423279,0.37349969148635864,0.33934107422828674,0.315451443195343,0.3206365704536438,0.3197018802165985,0.33509954810142517,0.3572462499141693,0.33998584747314453,0.3357377350330353,0.33727943897247314,0.3328761160373688,0.3466126024723053,0.3639782667160034,0.3592027425765991,0.35862937569618225,0.3669901192188263,0.3580388128757477],\"type\":\"scatter\"}],                        {\"template\":{\"data\":{\"bar\":[{\"error_x\":{\"color\":\"#2a3f5f\"},\"error_y\":{\"color\":\"#2a3f5f\"},\"marker\":{\"line\":{\"color\":\"#E5ECF6\",\"width\":0.5},\"pattern\":{\"fillmode\":\"overlay\",\"size\":10,\"solidity\":0.2}},\"type\":\"bar\"}],\"barpolar\":[{\"marker\":{\"line\":{\"color\":\"#E5ECF6\",\"width\":0.5},\"pattern\":{\"fillmode\":\"overlay\",\"size\":10,\"solidity\":0.2}},\"type\":\"barpolar\"}],\"carpet\":[{\"aaxis\":{\"endlinecolor\":\"#2a3f5f\",\"gridcolor\":\"white\",\"linecolor\":\"white\",\"minorgridcolor\":\"white\",\"startlinecolor\":\"#2a3f5f\"},\"baxis\":{\"endlinecolor\":\"#2a3f5f\",\"gridcolor\":\"white\",\"linecolor\":\"white\",\"minorgridcolor\":\"white\",\"startlinecolor\":\"#2a3f5f\"},\"type\":\"carpet\"}],\"choropleth\":[{\"colorbar\":{\"outlinewidth\":0,\"ticks\":\"\"},\"type\":\"choropleth\"}],\"contour\":[{\"colorbar\":{\"outlinewidth\":0,\"ticks\":\"\"},\"colorscale\":[[0.0,\"#0d0887\"],[0.1111111111111111,\"#46039f\"],[0.2222222222222222,\"#7201a8\"],[0.3333333333333333,\"#9c179e\"],[0.4444444444444444,\"#bd3786\"],[0.5555555555555556,\"#d8576b\"],[0.6666666666666666,\"#ed7953\"],[0.7777777777777778,\"#fb9f3a\"],[0.8888888888888888,\"#fdca26\"],[1.0,\"#f0f921\"]],\"type\":\"contour\"}],\"contourcarpet\":[{\"colorbar\":{\"outlinewidth\":0,\"ticks\":\"\"},\"type\":\"contourcarpet\"}],\"heatmap\":[{\"colorbar\":{\"outlinewidth\":0,\"ticks\":\"\"},\"colorscale\":[[0.0,\"#0d0887\"],[0.1111111111111111,\"#46039f\"],[0.2222222222222222,\"#7201a8\"],[0.3333333333333333,\"#9c179e\"],[0.4444444444444444,\"#bd3786\"],[0.5555555555555556,\"#d8576b\"],[0.6666666666666666,\"#ed7953\"],[0.7777777777777778,\"#fb9f3a\"],[0.8888888888888888,\"#fdca26\"],[1.0,\"#f0f921\"]],\"type\":\"heatmap\"}],\"heatmapgl\":[{\"colorbar\":{\"outlinewidth\":0,\"ticks\":\"\"},\"colorscale\":[[0.0,\"#0d0887\"],[0.1111111111111111,\"#46039f\"],[0.2222222222222222,\"#7201a8\"],[0.3333333333333333,\"#9c179e\"],[0.4444444444444444,\"#bd3786\"],[0.5555555555555556,\"#d8576b\"],[0.6666666666666666,\"#ed7953\"],[0.7777777777777778,\"#fb9f3a\"],[0.8888888888888888,\"#fdca26\"],[1.0,\"#f0f921\"]],\"type\":\"heatmapgl\"}],\"histogram\":[{\"marker\":{\"pattern\":{\"fillmode\":\"overlay\",\"size\":10,\"solidity\":0.2}},\"type\":\"histogram\"}],\"histogram2d\":[{\"colorbar\":{\"outlinewidth\":0,\"ticks\":\"\"},\"colorscale\":[[0.0,\"#0d0887\"],[0.1111111111111111,\"#46039f\"],[0.2222222222222222,\"#7201a8\"],[0.3333333333333333,\"#9c179e\"],[0.4444444444444444,\"#bd3786\"],[0.5555555555555556,\"#d8576b\"],[0.6666666666666666,\"#ed7953\"],[0.7777777777777778,\"#fb9f3a\"],[0.8888888888888888,\"#fdca26\"],[1.0,\"#f0f921\"]],\"type\":\"histogram2d\"}],\"histogram2dcontour\":[{\"colorbar\":{\"outlinewidth\":0,\"ticks\":\"\"},\"colorscale\":[[0.0,\"#0d0887\"],[0.1111111111111111,\"#46039f\"],[0.2222222222222222,\"#7201a8\"],[0.3333333333333333,\"#9c179e\"],[0.4444444444444444,\"#bd3786\"],[0.5555555555555556,\"#d8576b\"],[0.6666666666666666,\"#ed7953\"],[0.7777777777777778,\"#fb9f3a\"],[0.8888888888888888,\"#fdca26\"],[1.0,\"#f0f921\"]],\"type\":\"histogram2dcontour\"}],\"mesh3d\":[{\"colorbar\":{\"outlinewidth\":0,\"ticks\":\"\"},\"type\":\"mesh3d\"}],\"parcoords\":[{\"line\":{\"colorbar\":{\"outlinewidth\":0,\"ticks\":\"\"}},\"type\":\"parcoords\"}],\"pie\":[{\"automargin\":true,\"type\":\"pie\"}],\"scatter\":[{\"marker\":{\"colorbar\":{\"outlinewidth\":0,\"ticks\":\"\"}},\"type\":\"scatter\"}],\"scatter3d\":[{\"line\":{\"colorbar\":{\"outlinewidth\":0,\"ticks\":\"\"}},\"marker\":{\"colorbar\":{\"outlinewidth\":0,\"ticks\":\"\"}},\"type\":\"scatter3d\"}],\"scattercarpet\":[{\"marker\":{\"colorbar\":{\"outlinewidth\":0,\"ticks\":\"\"}},\"type\":\"scattercarpet\"}],\"scattergeo\":[{\"marker\":{\"colorbar\":{\"outlinewidth\":0,\"ticks\":\"\"}},\"type\":\"scattergeo\"}],\"scattergl\":[{\"marker\":{\"colorbar\":{\"outlinewidth\":0,\"ticks\":\"\"}},\"type\":\"scattergl\"}],\"scattermapbox\":[{\"marker\":{\"colorbar\":{\"outlinewidth\":0,\"ticks\":\"\"}},\"type\":\"scattermapbox\"}],\"scatterpolar\":[{\"marker\":{\"colorbar\":{\"outlinewidth\":0,\"ticks\":\"\"}},\"type\":\"scatterpolar\"}],\"scatterpolargl\":[{\"marker\":{\"colorbar\":{\"outlinewidth\":0,\"ticks\":\"\"}},\"type\":\"scatterpolargl\"}],\"scatterternary\":[{\"marker\":{\"colorbar\":{\"outlinewidth\":0,\"ticks\":\"\"}},\"type\":\"scatterternary\"}],\"surface\":[{\"colorbar\":{\"outlinewidth\":0,\"ticks\":\"\"},\"colorscale\":[[0.0,\"#0d0887\"],[0.1111111111111111,\"#46039f\"],[0.2222222222222222,\"#7201a8\"],[0.3333333333333333,\"#9c179e\"],[0.4444444444444444,\"#bd3786\"],[0.5555555555555556,\"#d8576b\"],[0.6666666666666666,\"#ed7953\"],[0.7777777777777778,\"#fb9f3a\"],[0.8888888888888888,\"#fdca26\"],[1.0,\"#f0f921\"]],\"type\":\"surface\"}],\"table\":[{\"cells\":{\"fill\":{\"color\":\"#EBF0F8\"},\"line\":{\"color\":\"white\"}},\"header\":{\"fill\":{\"color\":\"#C8D4E3\"},\"line\":{\"color\":\"white\"}},\"type\":\"table\"}]},\"layout\":{\"annotationdefaults\":{\"arrowcolor\":\"#2a3f5f\",\"arrowhead\":0,\"arrowwidth\":1},\"autotypenumbers\":\"strict\",\"coloraxis\":{\"colorbar\":{\"outlinewidth\":0,\"ticks\":\"\"}},\"colorscale\":{\"diverging\":[[0,\"#8e0152\"],[0.1,\"#c51b7d\"],[0.2,\"#de77ae\"],[0.3,\"#f1b6da\"],[0.4,\"#fde0ef\"],[0.5,\"#f7f7f7\"],[0.6,\"#e6f5d0\"],[0.7,\"#b8e186\"],[0.8,\"#7fbc41\"],[0.9,\"#4d9221\"],[1,\"#276419\"]],\"sequential\":[[0.0,\"#0d0887\"],[0.1111111111111111,\"#46039f\"],[0.2222222222222222,\"#7201a8\"],[0.3333333333333333,\"#9c179e\"],[0.4444444444444444,\"#bd3786\"],[0.5555555555555556,\"#d8576b\"],[0.6666666666666666,\"#ed7953\"],[0.7777777777777778,\"#fb9f3a\"],[0.8888888888888888,\"#fdca26\"],[1.0,\"#f0f921\"]],\"sequentialminus\":[[0.0,\"#0d0887\"],[0.1111111111111111,\"#46039f\"],[0.2222222222222222,\"#7201a8\"],[0.3333333333333333,\"#9c179e\"],[0.4444444444444444,\"#bd3786\"],[0.5555555555555556,\"#d8576b\"],[0.6666666666666666,\"#ed7953\"],[0.7777777777777778,\"#fb9f3a\"],[0.8888888888888888,\"#fdca26\"],[1.0,\"#f0f921\"]]},\"colorway\":[\"#636efa\",\"#EF553B\",\"#00cc96\",\"#ab63fa\",\"#FFA15A\",\"#19d3f3\",\"#FF6692\",\"#B6E880\",\"#FF97FF\",\"#FECB52\"],\"font\":{\"color\":\"#2a3f5f\"},\"geo\":{\"bgcolor\":\"white\",\"lakecolor\":\"white\",\"landcolor\":\"#E5ECF6\",\"showlakes\":true,\"showland\":true,\"subunitcolor\":\"white\"},\"hoverlabel\":{\"align\":\"left\"},\"hovermode\":\"closest\",\"mapbox\":{\"style\":\"light\"},\"paper_bgcolor\":\"white\",\"plot_bgcolor\":\"#E5ECF6\",\"polar\":{\"angularaxis\":{\"gridcolor\":\"white\",\"linecolor\":\"white\",\"ticks\":\"\"},\"bgcolor\":\"#E5ECF6\",\"radialaxis\":{\"gridcolor\":\"white\",\"linecolor\":\"white\",\"ticks\":\"\"}},\"scene\":{\"xaxis\":{\"backgroundcolor\":\"#E5ECF6\",\"gridcolor\":\"white\",\"gridwidth\":2,\"linecolor\":\"white\",\"showbackground\":true,\"ticks\":\"\",\"zerolinecolor\":\"white\"},\"yaxis\":{\"backgroundcolor\":\"#E5ECF6\",\"gridcolor\":\"white\",\"gridwidth\":2,\"linecolor\":\"white\",\"showbackground\":true,\"ticks\":\"\",\"zerolinecolor\":\"white\"},\"zaxis\":{\"backgroundcolor\":\"#E5ECF6\",\"gridcolor\":\"white\",\"gridwidth\":2,\"linecolor\":\"white\",\"showbackground\":true,\"ticks\":\"\",\"zerolinecolor\":\"white\"}},\"shapedefaults\":{\"line\":{\"color\":\"#2a3f5f\"}},\"ternary\":{\"aaxis\":{\"gridcolor\":\"white\",\"linecolor\":\"white\",\"ticks\":\"\"},\"baxis\":{\"gridcolor\":\"white\",\"linecolor\":\"white\",\"ticks\":\"\"},\"bgcolor\":\"#E5ECF6\",\"caxis\":{\"gridcolor\":\"white\",\"linecolor\":\"white\",\"ticks\":\"\"}},\"title\":{\"x\":0.05},\"xaxis\":{\"automargin\":true,\"gridcolor\":\"white\",\"linecolor\":\"white\",\"ticks\":\"\",\"title\":{\"standoff\":15},\"zerolinecolor\":\"white\",\"zerolinewidth\":2},\"yaxis\":{\"automargin\":true,\"gridcolor\":\"white\",\"linecolor\":\"white\",\"ticks\":\"\",\"title\":{\"standoff\":15},\"zerolinecolor\":\"white\",\"zerolinewidth\":2}}}},                        {\"responsive\": true}                    ).then(function(){\n",
              "                            \n",
              "var gd = document.getElementById('4837eee7-1808-48af-a9de-d1327a39cea8');\n",
              "var x = new MutationObserver(function (mutations, observer) {{\n",
              "        var display = window.getComputedStyle(gd).display;\n",
              "        if (!display || display === 'none') {{\n",
              "            console.log([gd, 'removed!']);\n",
              "            Plotly.purge(gd);\n",
              "            observer.disconnect();\n",
              "        }}\n",
              "}});\n",
              "\n",
              "// Listen for the removal of the full notebook cells\n",
              "var notebookContainer = gd.closest('#notebook-container');\n",
              "if (notebookContainer) {{\n",
              "    x.observe(notebookContainer, {childList: true});\n",
              "}}\n",
              "\n",
              "// Listen for the clearing of the current output cell\n",
              "var outputEl = gd.closest('.output');\n",
              "if (outputEl) {{\n",
              "    x.observe(outputEl, {childList: true});\n",
              "}}\n",
              "\n",
              "                        })                };                            </script>        </div>\n",
              "</body>\n",
              "</html>"
            ]
          },
          "metadata": {}
        }
      ]
    },
    {
      "cell_type": "markdown",
      "source": [
        "#### This model has a good score but let's see the others before to make a judgement"
      ],
      "metadata": {
        "id": "-AbESiHl1UNt"
      }
    },
    {
      "cell_type": "markdown",
      "source": [
        "### GRU"
      ],
      "metadata": {
        "id": "KpJVve_BBx58"
      }
    },
    {
      "cell_type": "code",
      "source": [
        "GRU_history = json.load(open(\"/content/GRU_history.json\", 'r'))\n",
        "model_gru = tf.keras.models.load_model(\"/content/model_gru.h5\")"
      ],
      "metadata": {
        "id": "tlEJm6emBsMe"
      },
      "execution_count": null,
      "outputs": []
    },
    {
      "cell_type": "code",
      "source": [
        "import plotly.graph_objects as go\n",
        "fig = go.Figure()\n",
        "fig.add_trace(go.Scatter(y=GRU_history[\"loss\"],\n",
        "                    mode='lines',\n",
        "                    name='loss'))\n",
        "fig.add_trace(go.Scatter(y=GRU_history[\"val_loss\"],\n",
        "                    mode='lines',\n",
        "                    name='val_loss'))\n",
        "fig.show()"
      ],
      "metadata": {
        "colab": {
          "base_uri": "https://localhost:8080/",
          "height": 542
        },
        "id": "eAtfYLiaB2RB",
        "outputId": "e4f17ae0-84aa-411e-b7d8-1d861a688f62"
      },
      "execution_count": null,
      "outputs": [
        {
          "output_type": "display_data",
          "data": {
            "text/html": [
              "<html>\n",
              "<head><meta charset=\"utf-8\" /></head>\n",
              "<body>\n",
              "    <div>            <script src=\"https://cdnjs.cloudflare.com/ajax/libs/mathjax/2.7.5/MathJax.js?config=TeX-AMS-MML_SVG\"></script><script type=\"text/javascript\">if (window.MathJax) {MathJax.Hub.Config({SVG: {font: \"STIX-Web\"}});}</script>                <script type=\"text/javascript\">window.PlotlyConfig = {MathJaxConfig: 'local'};</script>\n",
              "        <script src=\"https://cdn.plot.ly/plotly-2.8.3.min.js\"></script>                <div id=\"045a2fc0-6b07-4898-89ad-931945577792\" class=\"plotly-graph-div\" style=\"height:525px; width:100%;\"></div>            <script type=\"text/javascript\">                                    window.PLOTLYENV=window.PLOTLYENV || {};                                    if (document.getElementById(\"045a2fc0-6b07-4898-89ad-931945577792\")) {                    Plotly.newPlot(                        \"045a2fc0-6b07-4898-89ad-931945577792\",                        [{\"mode\":\"lines\",\"name\":\"loss\",\"y\":[0.6929824948310852,0.6924492716789246,0.6926114559173584,0.6924188137054443,0.6924590468406677,0.6924681663513184,0.6923500895500183,0.6923507452011108,0.6923648118972778,0.6923437118530273,0.6923398971557617,0.6922792196273804,0.6925336718559265,0.6927745342254639,0.6924359202384949,0.6924579739570618,0.692192554473877,0.6920265555381775,0.6920596957206726,0.6920390725135803,0.6920672655105591,0.6920602321624756,0.692061722278595,0.6920766830444336,0.6920514106750488,0.6921098232269287,0.6920377612113953,0.6920414566993713,0.6920455694198608,0.6920533180236816,0.6920585036277771,0.6920781135559082,0.6920537948608398,0.6920443773269653,0.6920387148857117,0.692084550857544,0.6920382976531982,0.6920774579048157,0.6920304298400879,0.6920297145843506,0.6920785307884216,0.6920345425605774,0.6920687556266785,0.6920493841171265,0.6920636296272278,0.6921408176422119,0.6921132206916809,0.6920597553253174,0.6920292377471924,0.6920482516288757,0.6920489072799683,0.6920443177223206,0.6920361518859863,0.6920451521873474,0.6920545697212219,0.6920577883720398,0.6920401453971863,0.6920404434204102,0.6920529007911682,0.6920444965362549,0.6920508146286011,0.6920368671417236,0.6920703053474426,0.6920557618141174,0.692032516002655,0.6920468211174011,0.6920554041862488,0.6920377612113953,0.692043125629425,0.6920500993728638,0.6920548677444458,0.6920808553695679,0.6920403838157654,0.6920478343963623,0.6920584440231323,0.6920449733734131,0.6920430064201355,0.6920442581176758,0.6920676231384277,0.6920632123947144,0.6920499801635742,0.6920580267906189,0.6920469403266907,0.6920708417892456,0.692050039768219,0.6920418739318848,0.692052960395813,0.6920674443244934,0.6920536756515503,0.6939648389816284,0.6921923756599426,0.6920413970947266,0.6920416951179504,0.6920834183692932,0.6920554637908936,0.6920508146286011,0.6920638084411621,0.692088782787323,0.6920481324195862,0.6920567154884338],\"type\":\"scatter\"},{\"mode\":\"lines\",\"name\":\"val_loss\",\"y\":[0.695158839225769,0.696632444858551,0.6902621388435364,0.6917468905448914,0.6899570226669312,0.688700258731842,0.6928771734237671,0.693775475025177,0.6927030682563782,0.6921737194061279,0.6928190588951111,0.6934419870376587,0.6873307228088379,0.6881900429725647,0.6900290250778198,0.6955426335334778,0.6957160830497742,0.6942064166069031,0.692548394203186,0.6933006644248962,0.6932013630867004,0.6932421922683716,0.6927585005760193,0.6927774548530579,0.6912670135498047,0.6928638219833374,0.6929481625556946,0.6919876337051392,0.6928520798683167,0.693636953830719,0.6922351121902466,0.6941655278205872,0.6939173340797424,0.691558301448822,0.6903767585754395,0.6917958855628967,0.6907455921173096,0.6923806071281433,0.69166499376297,0.690913736820221,0.6905192136764526,0.6908478140830994,0.6916293501853943,0.6915345788002014,0.6899805665016174,0.6919253468513489,0.6903541684150696,0.691348135471344,0.6932476758956909,0.6930354237556458,0.6930219531059265,0.6924833655357361,0.6921502351760864,0.6914144158363342,0.6904388070106506,0.6899429559707642,0.6916992664337158,0.6916456818580627,0.6909241080284119,0.6917588710784912,0.6915171146392822,0.6915009021759033,0.6918654441833496,0.6908574104309082,0.6911128163337708,0.6907233595848083,0.6906383037567139,0.6910488605499268,0.6911940574645996,0.6905764937400818,0.689576268196106,0.6917884945869446,0.6911765933036804,0.6928349137306213,0.6923097372055054,0.6935145258903503,0.6934067010879517,0.6933411955833435,0.6938629150390625,0.6930726766586304,0.6926661133766174,0.692898154258728,0.6917430758476257,0.6930792331695557,0.6921338438987732,0.6928215622901917,0.6922904253005981,0.690602719783783,0.6922310590744019,0.692934513092041,0.6919915676116943,0.6910737156867981,0.6918666958808899,0.6917431950569153,0.6912773251533508,0.6913274526596069,0.6917807459831238,0.6934376358985901,0.6936329007148743,0.6938235759735107],\"type\":\"scatter\"}],                        {\"template\":{\"data\":{\"bar\":[{\"error_x\":{\"color\":\"#2a3f5f\"},\"error_y\":{\"color\":\"#2a3f5f\"},\"marker\":{\"line\":{\"color\":\"#E5ECF6\",\"width\":0.5},\"pattern\":{\"fillmode\":\"overlay\",\"size\":10,\"solidity\":0.2}},\"type\":\"bar\"}],\"barpolar\":[{\"marker\":{\"line\":{\"color\":\"#E5ECF6\",\"width\":0.5},\"pattern\":{\"fillmode\":\"overlay\",\"size\":10,\"solidity\":0.2}},\"type\":\"barpolar\"}],\"carpet\":[{\"aaxis\":{\"endlinecolor\":\"#2a3f5f\",\"gridcolor\":\"white\",\"linecolor\":\"white\",\"minorgridcolor\":\"white\",\"startlinecolor\":\"#2a3f5f\"},\"baxis\":{\"endlinecolor\":\"#2a3f5f\",\"gridcolor\":\"white\",\"linecolor\":\"white\",\"minorgridcolor\":\"white\",\"startlinecolor\":\"#2a3f5f\"},\"type\":\"carpet\"}],\"choropleth\":[{\"colorbar\":{\"outlinewidth\":0,\"ticks\":\"\"},\"type\":\"choropleth\"}],\"contour\":[{\"colorbar\":{\"outlinewidth\":0,\"ticks\":\"\"},\"colorscale\":[[0.0,\"#0d0887\"],[0.1111111111111111,\"#46039f\"],[0.2222222222222222,\"#7201a8\"],[0.3333333333333333,\"#9c179e\"],[0.4444444444444444,\"#bd3786\"],[0.5555555555555556,\"#d8576b\"],[0.6666666666666666,\"#ed7953\"],[0.7777777777777778,\"#fb9f3a\"],[0.8888888888888888,\"#fdca26\"],[1.0,\"#f0f921\"]],\"type\":\"contour\"}],\"contourcarpet\":[{\"colorbar\":{\"outlinewidth\":0,\"ticks\":\"\"},\"type\":\"contourcarpet\"}],\"heatmap\":[{\"colorbar\":{\"outlinewidth\":0,\"ticks\":\"\"},\"colorscale\":[[0.0,\"#0d0887\"],[0.1111111111111111,\"#46039f\"],[0.2222222222222222,\"#7201a8\"],[0.3333333333333333,\"#9c179e\"],[0.4444444444444444,\"#bd3786\"],[0.5555555555555556,\"#d8576b\"],[0.6666666666666666,\"#ed7953\"],[0.7777777777777778,\"#fb9f3a\"],[0.8888888888888888,\"#fdca26\"],[1.0,\"#f0f921\"]],\"type\":\"heatmap\"}],\"heatmapgl\":[{\"colorbar\":{\"outlinewidth\":0,\"ticks\":\"\"},\"colorscale\":[[0.0,\"#0d0887\"],[0.1111111111111111,\"#46039f\"],[0.2222222222222222,\"#7201a8\"],[0.3333333333333333,\"#9c179e\"],[0.4444444444444444,\"#bd3786\"],[0.5555555555555556,\"#d8576b\"],[0.6666666666666666,\"#ed7953\"],[0.7777777777777778,\"#fb9f3a\"],[0.8888888888888888,\"#fdca26\"],[1.0,\"#f0f921\"]],\"type\":\"heatmapgl\"}],\"histogram\":[{\"marker\":{\"pattern\":{\"fillmode\":\"overlay\",\"size\":10,\"solidity\":0.2}},\"type\":\"histogram\"}],\"histogram2d\":[{\"colorbar\":{\"outlinewidth\":0,\"ticks\":\"\"},\"colorscale\":[[0.0,\"#0d0887\"],[0.1111111111111111,\"#46039f\"],[0.2222222222222222,\"#7201a8\"],[0.3333333333333333,\"#9c179e\"],[0.4444444444444444,\"#bd3786\"],[0.5555555555555556,\"#d8576b\"],[0.6666666666666666,\"#ed7953\"],[0.7777777777777778,\"#fb9f3a\"],[0.8888888888888888,\"#fdca26\"],[1.0,\"#f0f921\"]],\"type\":\"histogram2d\"}],\"histogram2dcontour\":[{\"colorbar\":{\"outlinewidth\":0,\"ticks\":\"\"},\"colorscale\":[[0.0,\"#0d0887\"],[0.1111111111111111,\"#46039f\"],[0.2222222222222222,\"#7201a8\"],[0.3333333333333333,\"#9c179e\"],[0.4444444444444444,\"#bd3786\"],[0.5555555555555556,\"#d8576b\"],[0.6666666666666666,\"#ed7953\"],[0.7777777777777778,\"#fb9f3a\"],[0.8888888888888888,\"#fdca26\"],[1.0,\"#f0f921\"]],\"type\":\"histogram2dcontour\"}],\"mesh3d\":[{\"colorbar\":{\"outlinewidth\":0,\"ticks\":\"\"},\"type\":\"mesh3d\"}],\"parcoords\":[{\"line\":{\"colorbar\":{\"outlinewidth\":0,\"ticks\":\"\"}},\"type\":\"parcoords\"}],\"pie\":[{\"automargin\":true,\"type\":\"pie\"}],\"scatter\":[{\"marker\":{\"colorbar\":{\"outlinewidth\":0,\"ticks\":\"\"}},\"type\":\"scatter\"}],\"scatter3d\":[{\"line\":{\"colorbar\":{\"outlinewidth\":0,\"ticks\":\"\"}},\"marker\":{\"colorbar\":{\"outlinewidth\":0,\"ticks\":\"\"}},\"type\":\"scatter3d\"}],\"scattercarpet\":[{\"marker\":{\"colorbar\":{\"outlinewidth\":0,\"ticks\":\"\"}},\"type\":\"scattercarpet\"}],\"scattergeo\":[{\"marker\":{\"colorbar\":{\"outlinewidth\":0,\"ticks\":\"\"}},\"type\":\"scattergeo\"}],\"scattergl\":[{\"marker\":{\"colorbar\":{\"outlinewidth\":0,\"ticks\":\"\"}},\"type\":\"scattergl\"}],\"scattermapbox\":[{\"marker\":{\"colorbar\":{\"outlinewidth\":0,\"ticks\":\"\"}},\"type\":\"scattermapbox\"}],\"scatterpolar\":[{\"marker\":{\"colorbar\":{\"outlinewidth\":0,\"ticks\":\"\"}},\"type\":\"scatterpolar\"}],\"scatterpolargl\":[{\"marker\":{\"colorbar\":{\"outlinewidth\":0,\"ticks\":\"\"}},\"type\":\"scatterpolargl\"}],\"scatterternary\":[{\"marker\":{\"colorbar\":{\"outlinewidth\":0,\"ticks\":\"\"}},\"type\":\"scatterternary\"}],\"surface\":[{\"colorbar\":{\"outlinewidth\":0,\"ticks\":\"\"},\"colorscale\":[[0.0,\"#0d0887\"],[0.1111111111111111,\"#46039f\"],[0.2222222222222222,\"#7201a8\"],[0.3333333333333333,\"#9c179e\"],[0.4444444444444444,\"#bd3786\"],[0.5555555555555556,\"#d8576b\"],[0.6666666666666666,\"#ed7953\"],[0.7777777777777778,\"#fb9f3a\"],[0.8888888888888888,\"#fdca26\"],[1.0,\"#f0f921\"]],\"type\":\"surface\"}],\"table\":[{\"cells\":{\"fill\":{\"color\":\"#EBF0F8\"},\"line\":{\"color\":\"white\"}},\"header\":{\"fill\":{\"color\":\"#C8D4E3\"},\"line\":{\"color\":\"white\"}},\"type\":\"table\"}]},\"layout\":{\"annotationdefaults\":{\"arrowcolor\":\"#2a3f5f\",\"arrowhead\":0,\"arrowwidth\":1},\"autotypenumbers\":\"strict\",\"coloraxis\":{\"colorbar\":{\"outlinewidth\":0,\"ticks\":\"\"}},\"colorscale\":{\"diverging\":[[0,\"#8e0152\"],[0.1,\"#c51b7d\"],[0.2,\"#de77ae\"],[0.3,\"#f1b6da\"],[0.4,\"#fde0ef\"],[0.5,\"#f7f7f7\"],[0.6,\"#e6f5d0\"],[0.7,\"#b8e186\"],[0.8,\"#7fbc41\"],[0.9,\"#4d9221\"],[1,\"#276419\"]],\"sequential\":[[0.0,\"#0d0887\"],[0.1111111111111111,\"#46039f\"],[0.2222222222222222,\"#7201a8\"],[0.3333333333333333,\"#9c179e\"],[0.4444444444444444,\"#bd3786\"],[0.5555555555555556,\"#d8576b\"],[0.6666666666666666,\"#ed7953\"],[0.7777777777777778,\"#fb9f3a\"],[0.8888888888888888,\"#fdca26\"],[1.0,\"#f0f921\"]],\"sequentialminus\":[[0.0,\"#0d0887\"],[0.1111111111111111,\"#46039f\"],[0.2222222222222222,\"#7201a8\"],[0.3333333333333333,\"#9c179e\"],[0.4444444444444444,\"#bd3786\"],[0.5555555555555556,\"#d8576b\"],[0.6666666666666666,\"#ed7953\"],[0.7777777777777778,\"#fb9f3a\"],[0.8888888888888888,\"#fdca26\"],[1.0,\"#f0f921\"]]},\"colorway\":[\"#636efa\",\"#EF553B\",\"#00cc96\",\"#ab63fa\",\"#FFA15A\",\"#19d3f3\",\"#FF6692\",\"#B6E880\",\"#FF97FF\",\"#FECB52\"],\"font\":{\"color\":\"#2a3f5f\"},\"geo\":{\"bgcolor\":\"white\",\"lakecolor\":\"white\",\"landcolor\":\"#E5ECF6\",\"showlakes\":true,\"showland\":true,\"subunitcolor\":\"white\"},\"hoverlabel\":{\"align\":\"left\"},\"hovermode\":\"closest\",\"mapbox\":{\"style\":\"light\"},\"paper_bgcolor\":\"white\",\"plot_bgcolor\":\"#E5ECF6\",\"polar\":{\"angularaxis\":{\"gridcolor\":\"white\",\"linecolor\":\"white\",\"ticks\":\"\"},\"bgcolor\":\"#E5ECF6\",\"radialaxis\":{\"gridcolor\":\"white\",\"linecolor\":\"white\",\"ticks\":\"\"}},\"scene\":{\"xaxis\":{\"backgroundcolor\":\"#E5ECF6\",\"gridcolor\":\"white\",\"gridwidth\":2,\"linecolor\":\"white\",\"showbackground\":true,\"ticks\":\"\",\"zerolinecolor\":\"white\"},\"yaxis\":{\"backgroundcolor\":\"#E5ECF6\",\"gridcolor\":\"white\",\"gridwidth\":2,\"linecolor\":\"white\",\"showbackground\":true,\"ticks\":\"\",\"zerolinecolor\":\"white\"},\"zaxis\":{\"backgroundcolor\":\"#E5ECF6\",\"gridcolor\":\"white\",\"gridwidth\":2,\"linecolor\":\"white\",\"showbackground\":true,\"ticks\":\"\",\"zerolinecolor\":\"white\"}},\"shapedefaults\":{\"line\":{\"color\":\"#2a3f5f\"}},\"ternary\":{\"aaxis\":{\"gridcolor\":\"white\",\"linecolor\":\"white\",\"ticks\":\"\"},\"baxis\":{\"gridcolor\":\"white\",\"linecolor\":\"white\",\"ticks\":\"\"},\"bgcolor\":\"#E5ECF6\",\"caxis\":{\"gridcolor\":\"white\",\"linecolor\":\"white\",\"ticks\":\"\"}},\"title\":{\"x\":0.05},\"xaxis\":{\"automargin\":true,\"gridcolor\":\"white\",\"linecolor\":\"white\",\"ticks\":\"\",\"title\":{\"standoff\":15},\"zerolinecolor\":\"white\",\"zerolinewidth\":2},\"yaxis\":{\"automargin\":true,\"gridcolor\":\"white\",\"linecolor\":\"white\",\"ticks\":\"\",\"title\":{\"standoff\":15},\"zerolinecolor\":\"white\",\"zerolinewidth\":2}}}},                        {\"responsive\": true}                    ).then(function(){\n",
              "                            \n",
              "var gd = document.getElementById('045a2fc0-6b07-4898-89ad-931945577792');\n",
              "var x = new MutationObserver(function (mutations, observer) {{\n",
              "        var display = window.getComputedStyle(gd).display;\n",
              "        if (!display || display === 'none') {{\n",
              "            console.log([gd, 'removed!']);\n",
              "            Plotly.purge(gd);\n",
              "            observer.disconnect();\n",
              "        }}\n",
              "}});\n",
              "\n",
              "// Listen for the removal of the full notebook cells\n",
              "var notebookContainer = gd.closest('#notebook-container');\n",
              "if (notebookContainer) {{\n",
              "    x.observe(notebookContainer, {childList: true});\n",
              "}}\n",
              "\n",
              "// Listen for the clearing of the current output cell\n",
              "var outputEl = gd.closest('.output');\n",
              "if (outputEl) {{\n",
              "    x.observe(outputEl, {childList: true});\n",
              "}}\n",
              "\n",
              "                        })                };                            </script>        </div>\n",
              "</body>\n",
              "</html>"
            ]
          },
          "metadata": {}
        }
      ]
    },
    {
      "cell_type": "markdown",
      "source": [
        "##### Gru model has the lowest score"
      ],
      "metadata": {
        "id": "bp9AwPFu1mjo"
      }
    },
    {
      "cell_type": "markdown",
      "source": [
        "### LSTM"
      ],
      "metadata": {
        "id": "BV_DFjdqB8mS"
      }
    },
    {
      "cell_type": "code",
      "source": [
        "LSTM_history = json.load(open(\"/content/LSTM_history.json\", 'r'))\n",
        "model_lstm = tf.keras.models.load_model(\"/content/model_lstm.h5\")"
      ],
      "metadata": {
        "id": "Niz67TXYB5jC"
      },
      "execution_count": null,
      "outputs": []
    },
    {
      "cell_type": "code",
      "source": [
        "import plotly.graph_objects as go\n",
        "fig = go.Figure()\n",
        "fig.add_trace(go.Scatter(y=LSTM_history[\"loss\"],\n",
        "                    mode='lines',\n",
        "                    name='loss'))\n",
        "fig.add_trace(go.Scatter(y=LSTM_history[\"val_loss\"],\n",
        "                    mode='lines',\n",
        "                    name='val_loss'))\n",
        "fig.show()"
      ],
      "metadata": {
        "colab": {
          "base_uri": "https://localhost:8080/",
          "height": 542
        },
        "id": "16BcYagGCjiX",
        "outputId": "cb1c059f-4513-47d8-c797-57340afb8e7e"
      },
      "execution_count": null,
      "outputs": [
        {
          "output_type": "display_data",
          "data": {
            "text/html": [
              "<html>\n",
              "<head><meta charset=\"utf-8\" /></head>\n",
              "<body>\n",
              "    <div>            <script src=\"https://cdnjs.cloudflare.com/ajax/libs/mathjax/2.7.5/MathJax.js?config=TeX-AMS-MML_SVG\"></script><script type=\"text/javascript\">if (window.MathJax) {MathJax.Hub.Config({SVG: {font: \"STIX-Web\"}});}</script>                <script type=\"text/javascript\">window.PlotlyConfig = {MathJaxConfig: 'local'};</script>\n",
              "        <script src=\"https://cdn.plot.ly/plotly-2.8.3.min.js\"></script>                <div id=\"b2ffb4a4-a632-4255-9f61-7ae2a2d0e392\" class=\"plotly-graph-div\" style=\"height:525px; width:100%;\"></div>            <script type=\"text/javascript\">                                    window.PLOTLYENV=window.PLOTLYENV || {};                                    if (document.getElementById(\"b2ffb4a4-a632-4255-9f61-7ae2a2d0e392\")) {                    Plotly.newPlot(                        \"b2ffb4a4-a632-4255-9f61-7ae2a2d0e392\",                        [{\"mode\":\"lines\",\"name\":\"loss\",\"y\":[0.6927236914634705,0.6924216747283936,0.6923961043357849,0.6504721641540527,0.26527121663093567,0.26249247789382935,0.17478573322296143,0.16039107739925385,0.15006864070892334,0.09007307142019272,0.07339861989021301,0.06183847412467003,0.06281092762947083,0.057563308626413345,0.058166470378637314,0.06126018241047859,0.05887917801737785,0.10683125257492065,0.22490814328193665,0.2187596708536148,0.21831871569156647,0.21862733364105225,0.2187015563249588,0.21902330219745636,0.21938195824623108,0.21875940263271332,0.21883989870548248,0.2186446636915207,0.21875137090682983,0.2187202274799347,0.21890398859977722,0.21875767409801483,0.2194642275571823,0.21871480345726013,0.21877746284008026,0.21876676380634308,0.21926526725292206,0.21879826486110687,0.219070166349411,0.2187281996011734,0.21865718066692352,0.21896697580814362,0.21887849271297455,0.21852177381515503,0.21226570010185242,0.20961765944957733,0.20749804377555847,0.2059001624584198,0.20274467766284943,0.20260070264339447,0.2018653154373169,0.19835351407527924,0.19791586697101593,0.19625119864940643,0.19375506043434143,0.19244280457496643,0.19147536158561707,0.18909373879432678,0.1751180738210678,0.12040985375642776,0.09937287867069244,0.09372315555810928,0.6281988620758057,0.5650541186332703,0.3768085539340973,0.29888084530830383,0.19607092440128326,0.1988372653722763,0.19141438603401184,0.18381544947624207,0.22824539244174957,0.25740498304367065,0.25939783453941345,0.2563539743423462,0.25734880566596985,0.258122980594635,0.25633981823921204,0.2549039125442505,0.2539069354534149,0.25271809101104736,0.24657279253005981,0.24632403254508972,0.2416745126247406,0.2424318641424179,0.2431642711162567,0.2421727180480957,0.24250631034374237,0.24241462349891663,0.2421797215938568,0.23957739770412445,0.24002434313297272,0.24176299571990967,0.23789475858211517,0.23350439965724945,0.22879955172538757,0.22656236588954926,0.2270452231168747,0.22197310626506805,0.21994933485984802,0.21987862884998322],\"type\":\"scatter\"},{\"mode\":\"lines\",\"name\":\"val_loss\",\"y\":[0.6922734975814819,0.6948930621147156,0.6930537223815918,0.292680948972702,0.13974586129188538,0.1705501228570938,0.1789507120847702,0.14947986602783203,0.10938537120819092,0.1530456691980362,0.1280694603919983,0.1529621183872223,0.12901808321475983,0.13660918176174164,0.16131503880023956,0.1402742713689804,0.13944457471370697,0.5461307168006897,0.30608057975769043,0.3103911578655243,0.2937166392803192,0.30528903007507324,0.3004951775074005,0.30851423740386963,0.30505186319351196,0.3010219931602478,0.3006216287612915,0.30779147148132324,0.29701364040374756,0.3084486126899719,0.3022960126399994,0.29604509472846985,0.2929247319698334,0.3037099838256836,0.303686261177063,0.3042142391204834,0.30733203887939453,0.2981733977794647,0.30446305871009827,0.30459317564964294,0.29423949122428894,0.297286719083786,0.3035683035850525,0.2902596890926361,0.29080483317375183,0.2964845299720764,0.290219247341156,0.2947516441345215,0.2847036123275757,0.29523369669914246,0.2834513187408447,0.28900572657585144,0.2931176424026489,0.29520970582962036,0.2879711389541626,0.2902146577835083,0.2922185957431793,0.28967612981796265,0.1923140585422516,0.17266251146793365,0.14866046607494354,0.16000451147556305,0.6317371726036072,0.5089941024780273,0.44843971729278564,0.21522308886051178,0.2546669542789459,0.2569214105606079,0.251990407705307,0.2372167408466339,0.25728753209114075,0.35172978043556213,0.27908435463905334,0.2809292674064636,0.2695494592189789,0.2777453362941742,0.28130683302879333,0.295971542596817,0.27358582615852356,0.29468396306037903,0.27899253368377686,0.2739959955215454,0.2639102637767792,0.2667030990123749,0.27696582674980164,0.27255648374557495,0.27897581458091736,0.27558138966560364,0.27777495980262756,0.27758288383483887,0.273153692483902,0.276511549949646,0.2715597152709961,0.2732557952404022,0.27318525314331055,0.26947182416915894,0.27910473942756653,0.26938438415527344,0.2647635042667389,0.2696889042854309],\"type\":\"scatter\"}],                        {\"template\":{\"data\":{\"bar\":[{\"error_x\":{\"color\":\"#2a3f5f\"},\"error_y\":{\"color\":\"#2a3f5f\"},\"marker\":{\"line\":{\"color\":\"#E5ECF6\",\"width\":0.5},\"pattern\":{\"fillmode\":\"overlay\",\"size\":10,\"solidity\":0.2}},\"type\":\"bar\"}],\"barpolar\":[{\"marker\":{\"line\":{\"color\":\"#E5ECF6\",\"width\":0.5},\"pattern\":{\"fillmode\":\"overlay\",\"size\":10,\"solidity\":0.2}},\"type\":\"barpolar\"}],\"carpet\":[{\"aaxis\":{\"endlinecolor\":\"#2a3f5f\",\"gridcolor\":\"white\",\"linecolor\":\"white\",\"minorgridcolor\":\"white\",\"startlinecolor\":\"#2a3f5f\"},\"baxis\":{\"endlinecolor\":\"#2a3f5f\",\"gridcolor\":\"white\",\"linecolor\":\"white\",\"minorgridcolor\":\"white\",\"startlinecolor\":\"#2a3f5f\"},\"type\":\"carpet\"}],\"choropleth\":[{\"colorbar\":{\"outlinewidth\":0,\"ticks\":\"\"},\"type\":\"choropleth\"}],\"contour\":[{\"colorbar\":{\"outlinewidth\":0,\"ticks\":\"\"},\"colorscale\":[[0.0,\"#0d0887\"],[0.1111111111111111,\"#46039f\"],[0.2222222222222222,\"#7201a8\"],[0.3333333333333333,\"#9c179e\"],[0.4444444444444444,\"#bd3786\"],[0.5555555555555556,\"#d8576b\"],[0.6666666666666666,\"#ed7953\"],[0.7777777777777778,\"#fb9f3a\"],[0.8888888888888888,\"#fdca26\"],[1.0,\"#f0f921\"]],\"type\":\"contour\"}],\"contourcarpet\":[{\"colorbar\":{\"outlinewidth\":0,\"ticks\":\"\"},\"type\":\"contourcarpet\"}],\"heatmap\":[{\"colorbar\":{\"outlinewidth\":0,\"ticks\":\"\"},\"colorscale\":[[0.0,\"#0d0887\"],[0.1111111111111111,\"#46039f\"],[0.2222222222222222,\"#7201a8\"],[0.3333333333333333,\"#9c179e\"],[0.4444444444444444,\"#bd3786\"],[0.5555555555555556,\"#d8576b\"],[0.6666666666666666,\"#ed7953\"],[0.7777777777777778,\"#fb9f3a\"],[0.8888888888888888,\"#fdca26\"],[1.0,\"#f0f921\"]],\"type\":\"heatmap\"}],\"heatmapgl\":[{\"colorbar\":{\"outlinewidth\":0,\"ticks\":\"\"},\"colorscale\":[[0.0,\"#0d0887\"],[0.1111111111111111,\"#46039f\"],[0.2222222222222222,\"#7201a8\"],[0.3333333333333333,\"#9c179e\"],[0.4444444444444444,\"#bd3786\"],[0.5555555555555556,\"#d8576b\"],[0.6666666666666666,\"#ed7953\"],[0.7777777777777778,\"#fb9f3a\"],[0.8888888888888888,\"#fdca26\"],[1.0,\"#f0f921\"]],\"type\":\"heatmapgl\"}],\"histogram\":[{\"marker\":{\"pattern\":{\"fillmode\":\"overlay\",\"size\":10,\"solidity\":0.2}},\"type\":\"histogram\"}],\"histogram2d\":[{\"colorbar\":{\"outlinewidth\":0,\"ticks\":\"\"},\"colorscale\":[[0.0,\"#0d0887\"],[0.1111111111111111,\"#46039f\"],[0.2222222222222222,\"#7201a8\"],[0.3333333333333333,\"#9c179e\"],[0.4444444444444444,\"#bd3786\"],[0.5555555555555556,\"#d8576b\"],[0.6666666666666666,\"#ed7953\"],[0.7777777777777778,\"#fb9f3a\"],[0.8888888888888888,\"#fdca26\"],[1.0,\"#f0f921\"]],\"type\":\"histogram2d\"}],\"histogram2dcontour\":[{\"colorbar\":{\"outlinewidth\":0,\"ticks\":\"\"},\"colorscale\":[[0.0,\"#0d0887\"],[0.1111111111111111,\"#46039f\"],[0.2222222222222222,\"#7201a8\"],[0.3333333333333333,\"#9c179e\"],[0.4444444444444444,\"#bd3786\"],[0.5555555555555556,\"#d8576b\"],[0.6666666666666666,\"#ed7953\"],[0.7777777777777778,\"#fb9f3a\"],[0.8888888888888888,\"#fdca26\"],[1.0,\"#f0f921\"]],\"type\":\"histogram2dcontour\"}],\"mesh3d\":[{\"colorbar\":{\"outlinewidth\":0,\"ticks\":\"\"},\"type\":\"mesh3d\"}],\"parcoords\":[{\"line\":{\"colorbar\":{\"outlinewidth\":0,\"ticks\":\"\"}},\"type\":\"parcoords\"}],\"pie\":[{\"automargin\":true,\"type\":\"pie\"}],\"scatter\":[{\"marker\":{\"colorbar\":{\"outlinewidth\":0,\"ticks\":\"\"}},\"type\":\"scatter\"}],\"scatter3d\":[{\"line\":{\"colorbar\":{\"outlinewidth\":0,\"ticks\":\"\"}},\"marker\":{\"colorbar\":{\"outlinewidth\":0,\"ticks\":\"\"}},\"type\":\"scatter3d\"}],\"scattercarpet\":[{\"marker\":{\"colorbar\":{\"outlinewidth\":0,\"ticks\":\"\"}},\"type\":\"scattercarpet\"}],\"scattergeo\":[{\"marker\":{\"colorbar\":{\"outlinewidth\":0,\"ticks\":\"\"}},\"type\":\"scattergeo\"}],\"scattergl\":[{\"marker\":{\"colorbar\":{\"outlinewidth\":0,\"ticks\":\"\"}},\"type\":\"scattergl\"}],\"scattermapbox\":[{\"marker\":{\"colorbar\":{\"outlinewidth\":0,\"ticks\":\"\"}},\"type\":\"scattermapbox\"}],\"scatterpolar\":[{\"marker\":{\"colorbar\":{\"outlinewidth\":0,\"ticks\":\"\"}},\"type\":\"scatterpolar\"}],\"scatterpolargl\":[{\"marker\":{\"colorbar\":{\"outlinewidth\":0,\"ticks\":\"\"}},\"type\":\"scatterpolargl\"}],\"scatterternary\":[{\"marker\":{\"colorbar\":{\"outlinewidth\":0,\"ticks\":\"\"}},\"type\":\"scatterternary\"}],\"surface\":[{\"colorbar\":{\"outlinewidth\":0,\"ticks\":\"\"},\"colorscale\":[[0.0,\"#0d0887\"],[0.1111111111111111,\"#46039f\"],[0.2222222222222222,\"#7201a8\"],[0.3333333333333333,\"#9c179e\"],[0.4444444444444444,\"#bd3786\"],[0.5555555555555556,\"#d8576b\"],[0.6666666666666666,\"#ed7953\"],[0.7777777777777778,\"#fb9f3a\"],[0.8888888888888888,\"#fdca26\"],[1.0,\"#f0f921\"]],\"type\":\"surface\"}],\"table\":[{\"cells\":{\"fill\":{\"color\":\"#EBF0F8\"},\"line\":{\"color\":\"white\"}},\"header\":{\"fill\":{\"color\":\"#C8D4E3\"},\"line\":{\"color\":\"white\"}},\"type\":\"table\"}]},\"layout\":{\"annotationdefaults\":{\"arrowcolor\":\"#2a3f5f\",\"arrowhead\":0,\"arrowwidth\":1},\"autotypenumbers\":\"strict\",\"coloraxis\":{\"colorbar\":{\"outlinewidth\":0,\"ticks\":\"\"}},\"colorscale\":{\"diverging\":[[0,\"#8e0152\"],[0.1,\"#c51b7d\"],[0.2,\"#de77ae\"],[0.3,\"#f1b6da\"],[0.4,\"#fde0ef\"],[0.5,\"#f7f7f7\"],[0.6,\"#e6f5d0\"],[0.7,\"#b8e186\"],[0.8,\"#7fbc41\"],[0.9,\"#4d9221\"],[1,\"#276419\"]],\"sequential\":[[0.0,\"#0d0887\"],[0.1111111111111111,\"#46039f\"],[0.2222222222222222,\"#7201a8\"],[0.3333333333333333,\"#9c179e\"],[0.4444444444444444,\"#bd3786\"],[0.5555555555555556,\"#d8576b\"],[0.6666666666666666,\"#ed7953\"],[0.7777777777777778,\"#fb9f3a\"],[0.8888888888888888,\"#fdca26\"],[1.0,\"#f0f921\"]],\"sequentialminus\":[[0.0,\"#0d0887\"],[0.1111111111111111,\"#46039f\"],[0.2222222222222222,\"#7201a8\"],[0.3333333333333333,\"#9c179e\"],[0.4444444444444444,\"#bd3786\"],[0.5555555555555556,\"#d8576b\"],[0.6666666666666666,\"#ed7953\"],[0.7777777777777778,\"#fb9f3a\"],[0.8888888888888888,\"#fdca26\"],[1.0,\"#f0f921\"]]},\"colorway\":[\"#636efa\",\"#EF553B\",\"#00cc96\",\"#ab63fa\",\"#FFA15A\",\"#19d3f3\",\"#FF6692\",\"#B6E880\",\"#FF97FF\",\"#FECB52\"],\"font\":{\"color\":\"#2a3f5f\"},\"geo\":{\"bgcolor\":\"white\",\"lakecolor\":\"white\",\"landcolor\":\"#E5ECF6\",\"showlakes\":true,\"showland\":true,\"subunitcolor\":\"white\"},\"hoverlabel\":{\"align\":\"left\"},\"hovermode\":\"closest\",\"mapbox\":{\"style\":\"light\"},\"paper_bgcolor\":\"white\",\"plot_bgcolor\":\"#E5ECF6\",\"polar\":{\"angularaxis\":{\"gridcolor\":\"white\",\"linecolor\":\"white\",\"ticks\":\"\"},\"bgcolor\":\"#E5ECF6\",\"radialaxis\":{\"gridcolor\":\"white\",\"linecolor\":\"white\",\"ticks\":\"\"}},\"scene\":{\"xaxis\":{\"backgroundcolor\":\"#E5ECF6\",\"gridcolor\":\"white\",\"gridwidth\":2,\"linecolor\":\"white\",\"showbackground\":true,\"ticks\":\"\",\"zerolinecolor\":\"white\"},\"yaxis\":{\"backgroundcolor\":\"#E5ECF6\",\"gridcolor\":\"white\",\"gridwidth\":2,\"linecolor\":\"white\",\"showbackground\":true,\"ticks\":\"\",\"zerolinecolor\":\"white\"},\"zaxis\":{\"backgroundcolor\":\"#E5ECF6\",\"gridcolor\":\"white\",\"gridwidth\":2,\"linecolor\":\"white\",\"showbackground\":true,\"ticks\":\"\",\"zerolinecolor\":\"white\"}},\"shapedefaults\":{\"line\":{\"color\":\"#2a3f5f\"}},\"ternary\":{\"aaxis\":{\"gridcolor\":\"white\",\"linecolor\":\"white\",\"ticks\":\"\"},\"baxis\":{\"gridcolor\":\"white\",\"linecolor\":\"white\",\"ticks\":\"\"},\"bgcolor\":\"#E5ECF6\",\"caxis\":{\"gridcolor\":\"white\",\"linecolor\":\"white\",\"ticks\":\"\"}},\"title\":{\"x\":0.05},\"xaxis\":{\"automargin\":true,\"gridcolor\":\"white\",\"linecolor\":\"white\",\"ticks\":\"\",\"title\":{\"standoff\":15},\"zerolinecolor\":\"white\",\"zerolinewidth\":2},\"yaxis\":{\"automargin\":true,\"gridcolor\":\"white\",\"linecolor\":\"white\",\"ticks\":\"\",\"title\":{\"standoff\":15},\"zerolinecolor\":\"white\",\"zerolinewidth\":2}}}},                        {\"responsive\": true}                    ).then(function(){\n",
              "                            \n",
              "var gd = document.getElementById('b2ffb4a4-a632-4255-9f61-7ae2a2d0e392');\n",
              "var x = new MutationObserver(function (mutations, observer) {{\n",
              "        var display = window.getComputedStyle(gd).display;\n",
              "        if (!display || display === 'none') {{\n",
              "            console.log([gd, 'removed!']);\n",
              "            Plotly.purge(gd);\n",
              "            observer.disconnect();\n",
              "        }}\n",
              "}});\n",
              "\n",
              "// Listen for the removal of the full notebook cells\n",
              "var notebookContainer = gd.closest('#notebook-container');\n",
              "if (notebookContainer) {{\n",
              "    x.observe(notebookContainer, {childList: true});\n",
              "}}\n",
              "\n",
              "// Listen for the clearing of the current output cell\n",
              "var outputEl = gd.closest('.output');\n",
              "if (outputEl) {{\n",
              "    x.observe(outputEl, {childList: true});\n",
              "}}\n",
              "\n",
              "                        })                };                            </script>        </div>\n",
              "</body>\n",
              "</html>"
            ]
          },
          "metadata": {}
        }
      ]
    },
    {
      "cell_type": "markdown",
      "source": [
        "## LSTM Overfits rapidly too but it seems better but we can observe that the best model to use for this kind of data is Simple RNN"
      ],
      "metadata": {
        "id": "BH4ZiWiz2kxb"
      }
    },
    {
      "cell_type": "code",
      "source": [],
      "metadata": {
        "id": "mM02mpcY3EA8"
      },
      "execution_count": null,
      "outputs": []
    }
  ]
}